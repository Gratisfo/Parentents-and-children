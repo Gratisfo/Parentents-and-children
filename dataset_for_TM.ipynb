{
  "nbformat": 4,
  "nbformat_minor": 0,
  "metadata": {
    "colab": {
      "name": "dataset for TM",
      "provenance": [],
      "collapsed_sections": [],
      "authorship_tag": "ABX9TyNI3dDNXLeNTDgXIlrymYig",
      "include_colab_link": true
    },
    "kernelspec": {
      "name": "python3",
      "display_name": "Python 3"
    },
    "language_info": {
      "name": "python"
    }
  },
  "cells": [
    {
      "cell_type": "markdown",
      "metadata": {
        "id": "view-in-github",
        "colab_type": "text"
      },
      "source": [
        "<a href=\"https://colab.research.google.com/github/Gratisfo/Parentents-and-children/blob/main/dataset_for_TM.ipynb\" target=\"_parent\"><img src=\"https://colab.research.google.com/assets/colab-badge.svg\" alt=\"Open In Colab\"/></a>"
      ]
    },
    {
      "cell_type": "markdown",
      "metadata": {
        "id": "unlap6wvAAJf"
      },
      "source": [
        "# Making dataset for Topic Modeling"
      ]
    },
    {
      "cell_type": "code",
      "metadata": {
        "id": "NwBAu3o_cSX2"
      },
      "source": [
        "import json\n",
        "import requests\n",
        "import csv\n",
        "import pandas as pd\n",
        "from tqdm import tqdm\n",
        "from bs4 import BeautifulSoup\n",
        "import re"
      ],
      "execution_count": null,
      "outputs": []
    },
    {
      "cell_type": "markdown",
      "metadata": {
        "id": "C5svwRqGAPhK"
      },
      "source": [
        "# Request for corpora"
      ]
    },
    {
      "cell_type": "code",
      "metadata": {
        "id": "M72U9v9Br1bF"
      },
      "source": [
        "# get metadata from rus corpus\n",
        "r = requests.get(\"https://dracor.org/api/corpora/rus/metadata\")"
      ],
      "execution_count": null,
      "outputs": []
    },
    {
      "cell_type": "code",
      "metadata": {
        "id": "F26AqkeGr1nV",
        "colab": {
          "base_uri": "https://localhost:8080/"
        },
        "outputId": "bcbc4b83-9c60-4d0e-8657-4cb839fade42"
      },
      "source": [
        "parsedResponse = json.loads(r.text)\n",
        "# create list for the names of the playes\n",
        "play_name = [res['name'] for res in parsedResponse]\n",
        "print(len(play_name))"
      ],
      "execution_count": null,
      "outputs": [
        {
          "output_type": "stream",
          "text": [
            "211\n"
          ],
          "name": "stdout"
        }
      ]
    },
    {
      "cell_type": "markdown",
      "metadata": {
        "id": "QXA-WHsFA5Vi"
      },
      "source": [
        "# Get replicas from play"
      ]
    },
    {
      "cell_type": "code",
      "metadata": {
        "id": "_rKqLNhnBumg"
      },
      "source": [
        "def get_soup(title):\n",
        "  url = \"https://dracor.org/api/corpora/rus/play/{}/tei\".format(title)\n",
        "  download = requests.get(url)\n",
        "  soup = BeautifulSoup(download.text, 'lxml')\n",
        "  return soup"
      ],
      "execution_count": null,
      "outputs": []
    },
    {
      "cell_type": "code",
      "metadata": {
        "id": "H9H8lzneCHih"
      },
      "source": [
        "def get_family(soup):\n",
        "  ''' the dictionary is designed to determine family ties between characters. \n",
        "      the key is the character, and the value is a list of his parents or children, including himself '''\n",
        "  fams = {}\n",
        "  for rel in soup.find_all('relation'):\n",
        "    if rel['name'] == 'parent_of':\n",
        "      fam = re.findall(r\"(#.*?)\\W\", str(rel))\n",
        "      for i in fam:\n",
        "        fams[i] = fam   \n",
        "  return fams"
      ],
      "execution_count": null,
      "outputs": []
    },
    {
      "cell_type": "code",
      "metadata": {
        "id": "CaDA3nu_Gwtx"
      },
      "source": [
        "def get_text(scene, fams):\n",
        "  text = ''\n",
        "\n",
        "  # find all replicas\n",
        "  res = scene.find_all('sp')\n",
        "\n",
        "  for i, idx in enumerate(res):\n",
        "    # get speaker name\n",
        "    speaker = idx.get('who')\n",
        "\n",
        "    # check if speaker is parent or child\n",
        "    # by his/her presence in fams dict \n",
        "    if speaker in fams.keys():\n",
        "      try:\n",
        "\n",
        "        # get info about speaker' family members from dict\n",
        "        rels = fams[speaker]\n",
        "\n",
        "        #check previous and next speaker\n",
        "        prev = res[i-1].get('who')\n",
        "        next = res[i+1].get('who')\n",
        "\n",
        "        # chek if he\\she is speaker's realtive\n",
        "        if prev or next in rels:\n",
        "\n",
        "          # join family members relicas in one chunk of text\n",
        "          if soup.sp.l:\n",
        "            text += \" \" + idx.l.string\n",
        "          else:\n",
        "            text += \" \" + idx.p.string\n",
        "      except:\n",
        "        pass  \n",
        "  return text"
      ],
      "execution_count": null,
      "outputs": []
    },
    {
      "cell_type": "code",
      "metadata": {
        "id": "1Fp_X4p1PMzZ"
      },
      "source": [
        "def play_info(title, soup):\n",
        "  fams = get_family(soup)\n",
        "  scenes = soup.find_all(\"div\", {\"type\": \"scene\"})\n",
        "  date = [p['yearWritten'] for p in parsedResponse if p['playName'] == title][0]\n",
        "  author = [p['firstAuthor'] for p in parsedResponse if p['playName'] == title][0]\n",
        "  title = soup.title.string\n",
        "  texts = []\n",
        "  for scene in scenes:\n",
        "    text = get_text(scene, fams)\n",
        "    texts.append(text)\n",
        "  texts = [text.replace('\\n            ', '') for text in texts if len(text) > 1]\n",
        "  return title, author, date, texts"
      ],
      "execution_count": null,
      "outputs": []
    },
    {
      "cell_type": "code",
      "metadata": {
        "id": "LNfS0I6RuEhl"
      },
      "source": [
        "data = pd.DataFrame(columns=[\"title\", \"author\", \"date\", \"text\"])\n",
        "for name in play_name:\n",
        "  soup = get_soup(name)\n",
        "  if len(soup.find_all('relation', {\"name\": \"parent_of\"})) > 0:\n",
        "    title, author, date, texts = play_info(name, soup)\n",
        "    for text in texts:\n",
        "      data = data.append({'title': title, \"author\": author, \"date\": date, \"text\": text}, ignore_index=True)"
      ],
      "execution_count": null,
      "outputs": []
    },
    {
      "cell_type": "markdown",
      "metadata": {
        "id": "sEgonmy_vTp1"
      },
      "source": [
        "# Prerpocessing text"
      ]
    },
    {
      "cell_type": "code",
      "metadata": {
        "colab": {
          "base_uri": "https://localhost:8080/"
        },
        "id": "eAkQdCrsvWNl",
        "outputId": "0d74dcde-0a65-461b-ddbe-bfc0cd5c7641"
      },
      "source": [
        "! pip install natasha"
      ],
      "execution_count": 91,
      "outputs": [
        {
          "output_type": "stream",
          "text": [
            "Collecting natasha\n",
            "\u001b[?25l  Downloading https://files.pythonhosted.org/packages/51/8e/ab0745100be276750fb6b8858c6180a1756696572295a74eb5aea77f3bbd/natasha-1.4.0-py3-none-any.whl (34.4MB)\n",
            "\u001b[K     |████████████████████████████████| 34.4MB 111kB/s \n",
            "\u001b[?25hCollecting ipymarkup>=0.8.0\n",
            "  Downloading https://files.pythonhosted.org/packages/bf/9b/bf54c98d50735a4a7c84c71e92c5361730c878ebfe903d2c2d196ef66055/ipymarkup-0.9.0-py3-none-any.whl\n",
            "Collecting razdel>=0.5.0\n",
            "  Downloading https://files.pythonhosted.org/packages/15/2c/664223a3924aa6e70479f7d37220b3a658765b9cfe760b4af7ffdc50d38f/razdel-0.5.0-py3-none-any.whl\n",
            "Collecting slovnet>=0.3.0\n",
            "\u001b[?25l  Downloading https://files.pythonhosted.org/packages/a9/3b/f1ef495be8990004959dd0510c95f688d1b07529f6a862bc56a405770b26/slovnet-0.5.0-py3-none-any.whl (49kB)\n",
            "\u001b[K     |████████████████████████████████| 51kB 3.8MB/s \n",
            "\u001b[?25hCollecting navec>=0.9.0\n",
            "  Downloading https://files.pythonhosted.org/packages/bc/c1/771ec5565f0ce24874d7fd325b429f9caa80517a40d2e4ce5705120591f3/navec-0.10.0-py3-none-any.whl\n",
            "Collecting yargy>=0.14.0\n",
            "\u001b[?25l  Downloading https://files.pythonhosted.org/packages/d3/46/bc1a17200a55f4b0608f39ac64f1840fd4a52f9eeea462d9afecbf71246b/yargy-0.15.0-py3-none-any.whl (41kB)\n",
            "\u001b[K     |████████████████████████████████| 51kB 5.0MB/s \n",
            "\u001b[?25hCollecting pymorphy2\n",
            "\u001b[?25l  Downloading https://files.pythonhosted.org/packages/07/57/b2ff2fae3376d4f3c697b9886b64a54b476e1a332c67eee9f88e7f1ae8c9/pymorphy2-0.9.1-py3-none-any.whl (55kB)\n",
            "\u001b[K     |████████████████████████████████| 61kB 5.2MB/s \n",
            "\u001b[?25hCollecting intervaltree>=3\n",
            "  Downloading https://files.pythonhosted.org/packages/50/fb/396d568039d21344639db96d940d40eb62befe704ef849b27949ded5c3bb/intervaltree-3.1.0.tar.gz\n",
            "Requirement already satisfied: numpy in /usr/local/lib/python3.7/dist-packages (from slovnet>=0.3.0->natasha) (1.19.5)\n",
            "Collecting dawg-python>=0.7.1\n",
            "  Downloading https://files.pythonhosted.org/packages/6a/84/ff1ce2071d4c650ec85745766c0047ccc3b5036f1d03559fd46bb38b5eeb/DAWG_Python-0.7.2-py2.py3-none-any.whl\n",
            "Collecting pymorphy2-dicts-ru<3.0,>=2.4\n",
            "\u001b[?25l  Downloading https://files.pythonhosted.org/packages/3a/79/bea0021eeb7eeefde22ef9e96badf174068a2dd20264b9a378f2be1cdd9e/pymorphy2_dicts_ru-2.4.417127.4579844-py2.py3-none-any.whl (8.2MB)\n",
            "\u001b[K     |████████████████████████████████| 8.2MB 33.1MB/s \n",
            "\u001b[?25hRequirement already satisfied: docopt>=0.6 in /usr/local/lib/python3.7/dist-packages (from pymorphy2->natasha) (0.6.2)\n",
            "Requirement already satisfied: sortedcontainers<3.0,>=2.0 in /usr/local/lib/python3.7/dist-packages (from intervaltree>=3->ipymarkup>=0.8.0->natasha) (2.3.0)\n",
            "Building wheels for collected packages: intervaltree\n",
            "  Building wheel for intervaltree (setup.py) ... \u001b[?25l\u001b[?25hdone\n",
            "  Created wheel for intervaltree: filename=intervaltree-3.1.0-py2.py3-none-any.whl size=26102 sha256=07d829f5881c7ee01ca9c7674d9a82a4b8be4a387065dd04c984711472dc0943\n",
            "  Stored in directory: /root/.cache/pip/wheels/f3/f2/66/e9c30d3e9499e65ea2fa0d07c002e64de63bd0adaa49c445bf\n",
            "Successfully built intervaltree\n",
            "Installing collected packages: intervaltree, ipymarkup, razdel, navec, slovnet, dawg-python, pymorphy2-dicts-ru, pymorphy2, yargy, natasha\n",
            "  Found existing installation: intervaltree 2.1.0\n",
            "    Uninstalling intervaltree-2.1.0:\n",
            "      Successfully uninstalled intervaltree-2.1.0\n",
            "Successfully installed dawg-python-0.7.2 intervaltree-3.1.0 ipymarkup-0.9.0 natasha-1.4.0 navec-0.10.0 pymorphy2-0.9.1 pymorphy2-dicts-ru-2.4.417127.4579844 razdel-0.5.0 slovnet-0.5.0 yargy-0.15.0\n"
          ],
          "name": "stdout"
        }
      ]
    },
    {
      "cell_type": "code",
      "metadata": {
        "colab": {
          "base_uri": "https://localhost:8080/"
        },
        "id": "2uG_h55QvZNp",
        "outputId": "0ef1dea5-bc1b-45f6-a366-0ad53e72e070"
      },
      "source": [
        "!pip install razdel"
      ],
      "execution_count": 92,
      "outputs": [
        {
          "output_type": "stream",
          "text": [
            "Requirement already satisfied: razdel in /usr/local/lib/python3.7/dist-packages (0.5.0)\n"
          ],
          "name": "stdout"
        }
      ]
    },
    {
      "cell_type": "code",
      "metadata": {
        "id": "aklsxwLTva3b"
      },
      "source": [
        "from natasha import (\n",
        "    Segmenter,\n",
        "    MorphVocab,\n",
        "    Doc,\n",
        "    DatesExtractor,\n",
        "    NewsEmbedding,\n",
        "    NewsMorphTagger,\n",
        "    NewsNERTagger\n",
        ")\n",
        "\n",
        "segmenter = Segmenter()\n",
        "morph_vocab = MorphVocab()\n",
        "\n",
        "emb = NewsEmbedding()\n",
        "morph_tagger = NewsMorphTagger(emb)\n",
        "ner_tagger = NewsNERTagger(emb)"
      ],
      "execution_count": 93,
      "outputs": []
    },
    {
      "cell_type": "code",
      "metadata": {
        "colab": {
          "base_uri": "https://localhost:8080/"
        },
        "id": "_wuQ-7R2vcMK",
        "outputId": "6c7d43fd-1639-480c-d07f-fe028e01d3c5"
      },
      "source": [
        "import re\n",
        "import pymorphy2\n",
        "import nltk\n",
        "from razdel import sentenize, tokenize\n",
        "import string\n",
        "from nltk.corpus import stopwords\n",
        "nltk.download('stopwords')\n",
        "morph = pymorphy2.MorphAnalyzer()"
      ],
      "execution_count": 94,
      "outputs": [
        {
          "output_type": "stream",
          "text": [
            "[nltk_data] Downloading package stopwords to /root/nltk_data...\n",
            "[nltk_data]   Unzipping corpora/stopwords.zip.\n"
          ],
          "name": "stdout"
        }
      ]
    },
    {
      "cell_type": "code",
      "metadata": {
        "id": "Pmvmp88zvdmf"
      },
      "source": [
        "def del_ner(text):\n",
        "  doc = Doc(text)\n",
        "  doc.segment(segmenter)\n",
        "  doc.tag_ner(ner_tagger)\n",
        "  list_ner = []\n",
        "   \n",
        "  # create ner list \n",
        "  for i, elem in enumerate(doc.spans):\n",
        "      list_ner.append((list(doc.spans[i]))[3])\n",
        "\n",
        "  # del ner\n",
        "  for i in list_ner:\n",
        "      if i in text:\n",
        "          text = text.replace(i, '') \n",
        "  return text"
      ],
      "execution_count": 95,
      "outputs": []
    },
    {
      "cell_type": "code",
      "metadata": {
        "id": "ViaDTj1RvewV"
      },
      "source": [
        "def preproc_text(text):\n",
        "\n",
        "  # delete ner\n",
        "  text = del_ner(text) \n",
        "\n",
        "  # tokenize\n",
        "  tokens = [_.text for _ in list(tokenize(text))]\n",
        "  \n",
        "  # lower register\n",
        "  tokens = [w.lower() for w in tokens]\n",
        "  \n",
        "  # remove puntuation\n",
        "  table = str.maketrans('', '', string.punctuation)\n",
        "  stripped = [w.translate(table) for w in tokens]\n",
        "  \n",
        "  # remove numbers, save only letters\n",
        "  words = [word for word in stripped if word.isalpha()]\n",
        "  \n",
        "  # to normal form\n",
        "  # save only nouns\n",
        "  words = [morph.parse(w)[0].normal_form for w in words if morph.parse(w)[0].tag.POS == \"NOUN\"] \n",
        "\n",
        "  # delete stop-words\n",
        "  stop_words = stopwords.words('russian')\n",
        "  stop_words = stop_words + ['мой', 'тая', 'твой', 'ваш', 'всетаки', 'свой', 'делатьто', 'такой', 'какой', 'наш', 'который']\n",
        "  words = [w for w in words if w not in stop_words]\n",
        "  \n",
        "  return words"
      ],
      "execution_count": 96,
      "outputs": []
    },
    {
      "cell_type": "code",
      "metadata": {
        "id": "F7D8Y4wqvguN"
      },
      "source": [
        "data['clean_text'] = data['text'].apply(lambda x: preproc_text(x)) "
      ],
      "execution_count": 99,
      "outputs": []
    },
    {
      "cell_type": "code",
      "metadata": {
        "id": "F7IO6--sy9io"
      },
      "source": [
        "data.to_csv(\"data_TM.csv\")"
      ],
      "execution_count": null,
      "outputs": []
    },
    {
      "cell_type": "markdown",
      "metadata": {
        "id": "kxsN5AWLIgCm"
      },
      "source": [
        "## Ranking authors by fams realtions in text"
      ]
    },
    {
      "cell_type": "code",
      "metadata": {
        "id": "GiR-u8_tHhWZ"
      },
      "source": [
        "def play_info_rel(title, soup):\n",
        "  author = [p['firstAuthor'] for p in parsedResponse if p['playName'] == title][0]\n",
        "  fams = soup.find_all('relation', {\"name\": \"parent_of\"})\n",
        "  return  author, len(fams)"
      ],
      "execution_count": null,
      "outputs": []
    },
    {
      "cell_type": "code",
      "metadata": {
        "id": "5jXy12SFHQgd"
      },
      "source": [
        "data = pd.DataFrame(columns=[\"author\",\"amount_fams\"])\n",
        "for name in play_name:\n",
        "  soup = get_soup(name)\n",
        "  if len(soup.find_all('relation', {\"name\": \"parent_of\"})) > 0:\n",
        "    author, len_fams = play_info_rel(name, soup)\n",
        "    data = data.append({\"author\": author, \"amount_fams\": len_fams}, ignore_index=True)"
      ],
      "execution_count": null,
      "outputs": []
    },
    {
      "cell_type": "code",
      "metadata": {
        "colab": {
          "base_uri": "https://localhost:8080/",
          "height": 1000
        },
        "id": "_t3NPyveIJC2",
        "outputId": "42080fa6-0e4f-4ee0-c2d6-714fe316a4a3"
      },
      "source": [
        "aggregation_functions = {\"author\":'first', \"amount_fams\": 'sum'}\n",
        "df_new = data.groupby(data['author']).aggregate(aggregation_functions)\n",
        "df_new.sort_values('amount_fams', ascending=False)\n"
      ],
      "execution_count": null,
      "outputs": [
        {
          "output_type": "execute_result",
          "data": {
            "text/html": [
              "<div>\n",
              "<style scoped>\n",
              "    .dataframe tbody tr th:only-of-type {\n",
              "        vertical-align: middle;\n",
              "    }\n",
              "\n",
              "    .dataframe tbody tr th {\n",
              "        vertical-align: top;\n",
              "    }\n",
              "\n",
              "    .dataframe thead th {\n",
              "        text-align: right;\n",
              "    }\n",
              "</style>\n",
              "<table border=\"1\" class=\"dataframe\">\n",
              "  <thead>\n",
              "    <tr style=\"text-align: right;\">\n",
              "      <th></th>\n",
              "      <th>author</th>\n",
              "      <th>amount_fams</th>\n",
              "    </tr>\n",
              "    <tr>\n",
              "      <th>author</th>\n",
              "      <th></th>\n",
              "      <th></th>\n",
              "    </tr>\n",
              "  </thead>\n",
              "  <tbody>\n",
              "    <tr>\n",
              "      <th>Островский</th>\n",
              "      <td>Островский</td>\n",
              "      <td>29</td>\n",
              "    </tr>\n",
              "    <tr>\n",
              "      <th>Чехов</th>\n",
              "      <td>Чехов</td>\n",
              "      <td>14</td>\n",
              "    </tr>\n",
              "    <tr>\n",
              "      <th>Сумароков</th>\n",
              "      <td>Сумароков</td>\n",
              "      <td>13</td>\n",
              "    </tr>\n",
              "    <tr>\n",
              "      <th>Толстой</th>\n",
              "      <td>Толстой</td>\n",
              "      <td>8</td>\n",
              "    </tr>\n",
              "    <tr>\n",
              "      <th>Крылов</th>\n",
              "      <td>Крылов</td>\n",
              "      <td>6</td>\n",
              "    </tr>\n",
              "    <tr>\n",
              "      <th>Фонвизин</th>\n",
              "      <td>Фонвизин</td>\n",
              "      <td>6</td>\n",
              "    </tr>\n",
              "    <tr>\n",
              "      <th>Княжнин</th>\n",
              "      <td>Княжнин</td>\n",
              "      <td>5</td>\n",
              "    </tr>\n",
              "    <tr>\n",
              "      <th>Мамин-Сибиряк</th>\n",
              "      <td>Мамин-Сибиряк</td>\n",
              "      <td>5</td>\n",
              "    </tr>\n",
              "    <tr>\n",
              "      <th>Екатерина II</th>\n",
              "      <td>Екатерина II</td>\n",
              "      <td>4</td>\n",
              "    </tr>\n",
              "    <tr>\n",
              "      <th>Херасков</th>\n",
              "      <td>Херасков</td>\n",
              "      <td>4</td>\n",
              "    </tr>\n",
              "    <tr>\n",
              "      <th>Некрасов</th>\n",
              "      <td>Некрасов</td>\n",
              "      <td>3</td>\n",
              "    </tr>\n",
              "    <tr>\n",
              "      <th>Тургенев</th>\n",
              "      <td>Тургенев</td>\n",
              "      <td>3</td>\n",
              "    </tr>\n",
              "    <tr>\n",
              "      <th>Булгаков</th>\n",
              "      <td>Булгаков</td>\n",
              "      <td>3</td>\n",
              "    </tr>\n",
              "    <tr>\n",
              "      <th>Лажечников</th>\n",
              "      <td>Лажечников</td>\n",
              "      <td>3</td>\n",
              "    </tr>\n",
              "    <tr>\n",
              "      <th>Бабель</th>\n",
              "      <td>Бабель</td>\n",
              "      <td>3</td>\n",
              "    </tr>\n",
              "    <tr>\n",
              "      <th>Плавильщиков</th>\n",
              "      <td>Плавильщиков</td>\n",
              "      <td>3</td>\n",
              "    </tr>\n",
              "    <tr>\n",
              "      <th>Петров</th>\n",
              "      <td>Петров</td>\n",
              "      <td>2</td>\n",
              "    </tr>\n",
              "    <tr>\n",
              "      <th>Андреев</th>\n",
              "      <td>Андреев</td>\n",
              "      <td>2</td>\n",
              "    </tr>\n",
              "    <tr>\n",
              "      <th>Салтыков-Щедрин</th>\n",
              "      <td>Салтыков-Щедрин</td>\n",
              "      <td>2</td>\n",
              "    </tr>\n",
              "    <tr>\n",
              "      <th>Сухово-Кобылин</th>\n",
              "      <td>Сухово-Кобылин</td>\n",
              "      <td>2</td>\n",
              "    </tr>\n",
              "    <tr>\n",
              "      <th>Найдёнов</th>\n",
              "      <td>Найдёнов</td>\n",
              "      <td>2</td>\n",
              "    </tr>\n",
              "    <tr>\n",
              "      <th>Ломоносов</th>\n",
              "      <td>Ломоносов</td>\n",
              "      <td>2</td>\n",
              "    </tr>\n",
              "    <tr>\n",
              "      <th>Гоголь</th>\n",
              "      <td>Гоголь</td>\n",
              "      <td>2</td>\n",
              "    </tr>\n",
              "    <tr>\n",
              "      <th>Горький</th>\n",
              "      <td>Горький</td>\n",
              "      <td>2</td>\n",
              "    </tr>\n",
              "    <tr>\n",
              "      <th>Лермонтов</th>\n",
              "      <td>Лермонтов</td>\n",
              "      <td>2</td>\n",
              "    </tr>\n",
              "    <tr>\n",
              "      <th>Грибоедов</th>\n",
              "      <td>Грибоедов</td>\n",
              "      <td>2</td>\n",
              "    </tr>\n",
              "    <tr>\n",
              "      <th>Гумилёв</th>\n",
              "      <td>Гумилёв</td>\n",
              "      <td>2</td>\n",
              "    </tr>\n",
              "    <tr>\n",
              "      <th>Капнист</th>\n",
              "      <td>Капнист</td>\n",
              "      <td>2</td>\n",
              "    </tr>\n",
              "    <tr>\n",
              "      <th>Афиногенов</th>\n",
              "      <td>Афиногенов</td>\n",
              "      <td>1</td>\n",
              "    </tr>\n",
              "    <tr>\n",
              "      <th>Кропотов</th>\n",
              "      <td>Кропотов</td>\n",
              "      <td>1</td>\n",
              "    </tr>\n",
              "    <tr>\n",
              "      <th>Глинка</th>\n",
              "      <td>Глинка</td>\n",
              "      <td>1</td>\n",
              "    </tr>\n",
              "    <tr>\n",
              "      <th>Хмельницкий</th>\n",
              "      <td>Хмельницкий</td>\n",
              "      <td>1</td>\n",
              "    </tr>\n",
              "    <tr>\n",
              "      <th>Третьяков</th>\n",
              "      <td>Третьяков</td>\n",
              "      <td>1</td>\n",
              "    </tr>\n",
              "    <tr>\n",
              "      <th>Судовщиков</th>\n",
              "      <td>Судовщиков</td>\n",
              "      <td>1</td>\n",
              "    </tr>\n",
              "    <tr>\n",
              "      <th>Мережковский</th>\n",
              "      <td>Мережковский</td>\n",
              "      <td>1</td>\n",
              "    </tr>\n",
              "    <tr>\n",
              "      <th>Ленский</th>\n",
              "      <td>Ленский</td>\n",
              "      <td>1</td>\n",
              "    </tr>\n",
              "    <tr>\n",
              "      <th>Пушкин</th>\n",
              "      <td>Пушкин</td>\n",
              "      <td>1</td>\n",
              "    </tr>\n",
              "    <tr>\n",
              "      <th>Прутков</th>\n",
              "      <td>Прутков</td>\n",
              "      <td>1</td>\n",
              "    </tr>\n",
              "    <tr>\n",
              "      <th>Писемский</th>\n",
              "      <td>Писемский</td>\n",
              "      <td>1</td>\n",
              "    </tr>\n",
              "    <tr>\n",
              "      <th>Писарев</th>\n",
              "      <td>Писарев</td>\n",
              "      <td>1</td>\n",
              "    </tr>\n",
              "    <tr>\n",
              "      <th>Лесков</th>\n",
              "      <td>Лесков</td>\n",
              "      <td>1</td>\n",
              "    </tr>\n",
              "    <tr>\n",
              "      <th>Николев</th>\n",
              "      <td>Николев</td>\n",
              "      <td>1</td>\n",
              "    </tr>\n",
              "    <tr>\n",
              "      <th>Шаховской</th>\n",
              "      <td>Шаховской</td>\n",
              "      <td>1</td>\n",
              "    </tr>\n",
              "  </tbody>\n",
              "</table>\n",
              "</div>"
            ],
            "text/plain": [
              "                          author  amount_fams\n",
              "author                                       \n",
              "Островский            Островский           29\n",
              "Чехов                      Чехов           14\n",
              "Сумароков              Сумароков           13\n",
              "Толстой                  Толстой            8\n",
              "Крылов                    Крылов            6\n",
              "Фонвизин                Фонвизин            6\n",
              "Княжнин                  Княжнин            5\n",
              "Мамин-Сибиряк      Мамин-Сибиряк            5\n",
              "Екатерина II        Екатерина II            4\n",
              "Херасков                Херасков            4\n",
              "Некрасов                Некрасов            3\n",
              "Тургенев                Тургенев            3\n",
              "Булгаков                Булгаков            3\n",
              "Лажечников            Лажечников            3\n",
              "Бабель                    Бабель            3\n",
              "Плавильщиков        Плавильщиков            3\n",
              "Петров                    Петров            2\n",
              "Андреев                  Андреев            2\n",
              "Салтыков-Щедрин  Салтыков-Щедрин            2\n",
              "Сухово-Кобылин    Сухово-Кобылин            2\n",
              "Найдёнов                Найдёнов            2\n",
              "Ломоносов              Ломоносов            2\n",
              "Гоголь                    Гоголь            2\n",
              "Горький                  Горький            2\n",
              "Лермонтов              Лермонтов            2\n",
              "Грибоедов              Грибоедов            2\n",
              "Гумилёв                  Гумилёв            2\n",
              "Капнист                  Капнист            2\n",
              "Афиногенов            Афиногенов            1\n",
              "Кропотов                Кропотов            1\n",
              "Глинка                    Глинка            1\n",
              "Хмельницкий          Хмельницкий            1\n",
              "Третьяков              Третьяков            1\n",
              "Судовщиков            Судовщиков            1\n",
              "Мережковский        Мережковский            1\n",
              "Ленский                  Ленский            1\n",
              "Пушкин                    Пушкин            1\n",
              "Прутков                  Прутков            1\n",
              "Писемский              Писемский            1\n",
              "Писарев                  Писарев            1\n",
              "Лесков                    Лесков            1\n",
              "Николев                  Николев            1\n",
              "Шаховской              Шаховской            1"
            ]
          },
          "metadata": {
            "tags": []
          },
          "execution_count": 47
        }
      ]
    },
    {
      "cell_type": "code",
      "metadata": {
        "id": "f9pMpkSSOcEu"
      },
      "source": [
        "import matplotlib.pyplot as plt\n",
        "import seaborn as sns"
      ],
      "execution_count": null,
      "outputs": []
    },
    {
      "cell_type": "code",
      "metadata": {
        "colab": {
          "base_uri": "https://localhost:8080/",
          "height": 579
        },
        "id": "4_e2KP_LPAfB",
        "outputId": "6df3ebbd-3d36-4395-f1a2-5cd302b1eb02"
      },
      "source": [
        "import numpy as np\n",
        "plt.figure(figsize=(25, 6))\n",
        "x = list(range(1, len(df_new['amount_fams'])+1))\n",
        "y = df_new['amount_fams']\n",
        "\n",
        "ax = sns.barplot(x, y, palette=(\"gist_rainbow\"))\n",
        "ax.set_xlabel('authors')\n",
        "ax.set_ylabel('amount')\n",
        "ax.set_xticklabels(df_new['author'].tolist(),  rotation=60, fontsize=14)\n",
        "\n",
        "ax.set_title('Frequancy children_parent relation in plays', fontsize=20)\n",
        "\n",
        "plt.show()"
      ],
      "execution_count": null,
      "outputs": [
        {
          "output_type": "stream",
          "text": [
            "/usr/local/lib/python3.7/dist-packages/seaborn/_decorators.py:43: FutureWarning: Pass the following variables as keyword args: x, y. From version 0.12, the only valid positional argument will be `data`, and passing other arguments without an explicit keyword will result in an error or misinterpretation.\n",
            "  FutureWarning\n"
          ],
          "name": "stderr"
        },
        {
          "output_type": "display_data",
          "data": {
            "image/png": "[encoded data removed]",
            "text/plain": [
              "<Figure size 1800x432 with 1 Axes>"
            ]
          },
          "metadata": {
            "tags": [],
            "needs_background": "light"
          }
        }
      ]
    }
  ]
}