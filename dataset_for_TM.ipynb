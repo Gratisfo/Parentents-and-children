{
  "nbformat": 4,
  "nbformat_minor": 0,
  "metadata": {
    "colab": {
      "name": "dataset for TM",
      "provenance": [],
      "collapsed_sections": [],
      "toc_visible": true,
      "authorship_tag": "ABX9TyMxTCDYbIOwa+28hlfg4xU5",
      "include_colab_link": true
    },
    "kernelspec": {
      "name": "python3",
      "display_name": "Python 3"
    },
    "language_info": {
      "name": "python"
    }
  },
  "cells": [
    {
      "cell_type": "markdown",
      "metadata": {
        "id": "view-in-github",
        "colab_type": "text"
      },
      "source": [
        "<a href=\"https://colab.research.google.com/github/Gratisfo/Parentents-and-children/blob/main/dataset_for_TM.ipynb\" target=\"_parent\"><img src=\"https://colab.research.google.com/assets/colab-badge.svg\" alt=\"Open In Colab\"/></a>"
      ]
    },
    {
      "cell_type": "markdown",
      "metadata": {
        "id": "unlap6wvAAJf"
      },
      "source": [
        "# Making dataset for Topic Modeling"
      ]
    },
    {
      "cell_type": "code",
      "metadata": {
        "id": "NwBAu3o_cSX2"
      },
      "source": [
        "import json\n",
        "import requests\n",
        "import csv\n",
        "import pandas as pd\n",
        "from tqdm import tqdm\n",
        "from bs4 import BeautifulSoup\n",
        "import re"
      ],
      "execution_count": 2,
      "outputs": []
    },
    {
      "cell_type": "markdown",
      "metadata": {
        "id": "C5svwRqGAPhK"
      },
      "source": [
        "# Request for corpora"
      ]
    },
    {
      "cell_type": "code",
      "metadata": {
        "id": "M72U9v9Br1bF"
      },
      "source": [
        "# get metadata from rus corpus\n",
        "r = requests.get(\"https://dracor.org/api/corpora/rus/metadata\")"
      ],
      "execution_count": 3,
      "outputs": []
    },
    {
      "cell_type": "code",
      "metadata": {
        "id": "F26AqkeGr1nV",
        "colab": {
          "base_uri": "https://localhost:8080/"
        },
        "outputId": "59327046-8041-42b5-c9e9-4a7fec49e7ac"
      },
      "source": [
        "parsedResponse = json.loads(r.text)\n",
        "# create list for the names of the playes\n",
        "play_name = [res['name'] for res in parsedResponse]\n",
        "print(len(play_name))"
      ],
      "execution_count": 5,
      "outputs": [
        {
          "output_type": "stream",
          "text": [
            "211\n"
          ],
          "name": "stdout"
        }
      ]
    },
    {
      "cell_type": "markdown",
      "metadata": {
        "id": "QXA-WHsFA5Vi"
      },
      "source": [
        "# Get replicas from play"
      ]
    },
    {
      "cell_type": "code",
      "metadata": {
        "id": "_rKqLNhnBumg"
      },
      "source": [
        "def get_soup(title):\n",
        "  url = \"https://dracor.org/api/corpora/rus/play/{}/tei\".format(title)\n",
        "  download = requests.get(url)\n",
        "  soup = BeautifulSoup(download.text, 'lxml')\n",
        "  return soup"
      ],
      "execution_count": 6,
      "outputs": []
    },
    {
      "cell_type": "code",
      "metadata": {
        "id": "H9H8lzneCHih"
      },
      "source": [
        "def get_family(soup):\n",
        "  ''' the dictionary is designed to determine family ties between characters. \n",
        "      the key is the character, and the value is a list of his parents or children, including himself '''\n",
        "  fams = {}\n",
        "  for rel in soup.find_all('relation'):\n",
        "    if rel['name'] == 'parent_of':\n",
        "      fam = re.findall(r\"(#.*?)\\W\", str(rel))\n",
        "      for i in fam:\n",
        "        fams[i] = fam   \n",
        "  return fams"
      ],
      "execution_count": 7,
      "outputs": []
    },
    {
      "cell_type": "code",
      "metadata": {
        "id": "CaDA3nu_Gwtx"
      },
      "source": [
        "def get_text(scene, fams):\n",
        "  text = ''\n",
        "\n",
        "  # find all replicas\n",
        "  res = scene.find_all('sp')\n",
        "\n",
        "  for i, idx in enumerate(res):\n",
        "    # get speaker name\n",
        "    speaker = idx.get('who')\n",
        "\n",
        "    # check if speaker is parent or child\n",
        "    # by his/her presence in fams dict \n",
        "    if speaker in fams.keys():\n",
        "      try:\n",
        "\n",
        "        # get info about speaker' family members from dict\n",
        "        rels = fams[speaker]\n",
        "\n",
        "        #check previous and next speaker\n",
        "        prev = res[i-1].get('who')\n",
        "        next = res[i+1].get('who')\n",
        "\n",
        "        # chek if he\\she is speaker's realtive\n",
        "        if prev or next in rels:\n",
        "\n",
        "          # join family members relicas in one chunk of text\n",
        "          if soup.sp.l:\n",
        "            text += \" \" + idx.l.string\n",
        "          else:\n",
        "            text += \" \" + idx.p.string\n",
        "      except:\n",
        "        pass  \n",
        "  return text"
      ],
      "execution_count": 8,
      "outputs": []
    },
    {
      "cell_type": "code",
      "metadata": {
        "id": "1Fp_X4p1PMzZ"
      },
      "source": [
        "def play_info(title, soup):\n",
        "  fams = get_family(soup)\n",
        "  scenes = soup.find_all(\"div\", {\"type\": \"scene\"})\n",
        "  date = [p['yearWritten'] for p in parsedResponse if p['playName'] == title][0]\n",
        "  author = [p['firstAuthor'] for p in parsedResponse if p['playName'] == title][0]\n",
        "  title = soup.title.string\n",
        "  texts = []\n",
        "  for scene in scenes:\n",
        "    text = get_text(scene, fams)\n",
        "    texts.append(text)\n",
        "  texts = [text.replace('\\n            ', '') for text in texts if len(text) > 1]\n",
        "  return title, author, date, texts"
      ],
      "execution_count": 27,
      "outputs": []
    },
    {
      "cell_type": "code",
      "metadata": {
        "id": "LNfS0I6RuEhl"
      },
      "source": [
        "data = pd.DataFrame(columns=[\"title\", \"author\", \"date\", \"text\"])\n",
        "for name in play_name:\n",
        "  print(name)\n",
        "  soup = get_soup(name)\n",
        "  if len(soup.find_all('relation', {\"name\": \"parent_of\"})) > 0:\n",
        "    title, author, date, texts = play_info(name, soup)\n",
        "    for text in texts:\n",
        "      data = data.append({'title': title, \"author\": author, \"date\": date, \"text\": text}, ignore_index=True)"
      ],
      "execution_count": null,
      "outputs": []
    },
    {
      "cell_type": "code",
      "metadata": {
        "id": "F7IO6--sy9io"
      },
      "source": [
        "data.to_csv(\"data_TM.csv\")"
      ],
      "execution_count": 33,
      "outputs": []
    }
  ]
}