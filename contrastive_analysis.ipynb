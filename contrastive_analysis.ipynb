{
  "nbformat": 4,
  "nbformat_minor": 0,
  "metadata": {
    "colab": {
      "name": "contrastive_analysis.ipynb",
      "provenance": [],
      "authorship_tag": "ABX9TyNlX0HEeSzpm+kgSTRUPZuj",
      "include_colab_link": true
    },
    "kernelspec": {
      "name": "python3",
      "display_name": "Python 3"
    },
    "language_info": {
      "name": "python"
    },
    "widgets": {
      "application/vnd.jupyter.widget-state+json": {
        "b1b6a19b6ea04e1ab754e27e1ed7c47d": {
          "model_module": "@jupyter-widgets/controls",
          "model_name": "HBoxModel",
          "state": {
            "_view_name": "HBoxView",
            "_dom_classes": [],
            "_model_name": "HBoxModel",
            "_view_module": "@jupyter-widgets/controls",
            "_model_module_version": "1.5.0",
            "_view_count": null,
            "_view_module_version": "1.5.0",
            "box_style": "",
            "layout": "IPY_MODEL_ba13f1e96842456fa9899f8656ebdb73",
            "_model_module": "@jupyter-widgets/controls",
            "children": [
              "IPY_MODEL_1c3c5f15147c400a82c746772fc4dd34",
              "IPY_MODEL_f5b36fa7ceec45e19079c62b9e6a611c"
            ]
          }
        },
        "ba13f1e96842456fa9899f8656ebdb73": {
          "model_module": "@jupyter-widgets/base",
          "model_name": "LayoutModel",
          "state": {
            "_view_name": "LayoutView",
            "grid_template_rows": null,
            "right": null,
            "justify_content": null,
            "_view_module": "@jupyter-widgets/base",
            "overflow": null,
            "_model_module_version": "1.2.0",
            "_view_count": null,
            "flex_flow": null,
            "width": null,
            "min_width": null,
            "border": null,
            "align_items": null,
            "bottom": null,
            "_model_module": "@jupyter-widgets/base",
            "top": null,
            "grid_column": null,
            "overflow_y": null,
            "overflow_x": null,
            "grid_auto_flow": null,
            "grid_area": null,
            "grid_template_columns": null,
            "flex": null,
            "_model_name": "LayoutModel",
            "justify_items": null,
            "grid_row": null,
            "max_height": null,
            "align_content": null,
            "visibility": null,
            "align_self": null,
            "height": null,
            "min_height": null,
            "padding": null,
            "grid_auto_rows": null,
            "grid_gap": null,
            "max_width": null,
            "order": null,
            "_view_module_version": "1.2.0",
            "grid_template_areas": null,
            "object_position": null,
            "object_fit": null,
            "grid_auto_columns": null,
            "margin": null,
            "display": null,
            "left": null
          }
        },
        "1c3c5f15147c400a82c746772fc4dd34": {
          "model_module": "@jupyter-widgets/controls",
          "model_name": "FloatProgressModel",
          "state": {
            "_view_name": "ProgressView",
            "style": "IPY_MODEL_ac03d7d9d3ab4ef4bde2ed627e545b65",
            "_dom_classes": [],
            "description": "100%",
            "_model_name": "FloatProgressModel",
            "bar_style": "success",
            "max": 20302,
            "_view_module": "@jupyter-widgets/controls",
            "_model_module_version": "1.5.0",
            "value": 20302,
            "_view_count": null,
            "_view_module_version": "1.5.0",
            "orientation": "horizontal",
            "min": 0,
            "description_tooltip": null,
            "_model_module": "@jupyter-widgets/controls",
            "layout": "IPY_MODEL_23f89a4327b8409cb6c7b8bba0524885"
          }
        },
        "f5b36fa7ceec45e19079c62b9e6a611c": {
          "model_module": "@jupyter-widgets/controls",
          "model_name": "HTMLModel",
          "state": {
            "_view_name": "HTMLView",
            "style": "IPY_MODEL_02533832d0754cdbaf617a0f7bba6903",
            "_dom_classes": [],
            "description": "",
            "_model_name": "HTMLModel",
            "placeholder": "​",
            "_view_module": "@jupyter-widgets/controls",
            "_model_module_version": "1.5.0",
            "value": " 20302/20302 [05:47&lt;00:00, 58.38it/s]",
            "_view_count": null,
            "_view_module_version": "1.5.0",
            "description_tooltip": null,
            "_model_module": "@jupyter-widgets/controls",
            "layout": "IPY_MODEL_40a43c8baea44a0d94b4299fdf12cb8e"
          }
        },
        "ac03d7d9d3ab4ef4bde2ed627e545b65": {
          "model_module": "@jupyter-widgets/controls",
          "model_name": "ProgressStyleModel",
          "state": {
            "_view_name": "StyleView",
            "_model_name": "ProgressStyleModel",
            "description_width": "initial",
            "_view_module": "@jupyter-widgets/base",
            "_model_module_version": "1.5.0",
            "_view_count": null,
            "_view_module_version": "1.2.0",
            "bar_color": null,
            "_model_module": "@jupyter-widgets/controls"
          }
        },
        "23f89a4327b8409cb6c7b8bba0524885": {
          "model_module": "@jupyter-widgets/base",
          "model_name": "LayoutModel",
          "state": {
            "_view_name": "LayoutView",
            "grid_template_rows": null,
            "right": null,
            "justify_content": null,
            "_view_module": "@jupyter-widgets/base",
            "overflow": null,
            "_model_module_version": "1.2.0",
            "_view_count": null,
            "flex_flow": null,
            "width": null,
            "min_width": null,
            "border": null,
            "align_items": null,
            "bottom": null,
            "_model_module": "@jupyter-widgets/base",
            "top": null,
            "grid_column": null,
            "overflow_y": null,
            "overflow_x": null,
            "grid_auto_flow": null,
            "grid_area": null,
            "grid_template_columns": null,
            "flex": null,
            "_model_name": "LayoutModel",
            "justify_items": null,
            "grid_row": null,
            "max_height": null,
            "align_content": null,
            "visibility": null,
            "align_self": null,
            "height": null,
            "min_height": null,
            "padding": null,
            "grid_auto_rows": null,
            "grid_gap": null,
            "max_width": null,
            "order": null,
            "_view_module_version": "1.2.0",
            "grid_template_areas": null,
            "object_position": null,
            "object_fit": null,
            "grid_auto_columns": null,
            "margin": null,
            "display": null,
            "left": null
          }
        },
        "02533832d0754cdbaf617a0f7bba6903": {
          "model_module": "@jupyter-widgets/controls",
          "model_name": "DescriptionStyleModel",
          "state": {
            "_view_name": "StyleView",
            "_model_name": "DescriptionStyleModel",
            "description_width": "",
            "_view_module": "@jupyter-widgets/base",
            "_model_module_version": "1.5.0",
            "_view_count": null,
            "_view_module_version": "1.2.0",
            "_model_module": "@jupyter-widgets/controls"
          }
        },
        "40a43c8baea44a0d94b4299fdf12cb8e": {
          "model_module": "@jupyter-widgets/base",
          "model_name": "LayoutModel",
          "state": {
            "_view_name": "LayoutView",
            "grid_template_rows": null,
            "right": null,
            "justify_content": null,
            "_view_module": "@jupyter-widgets/base",
            "overflow": null,
            "_model_module_version": "1.2.0",
            "_view_count": null,
            "flex_flow": null,
            "width": null,
            "min_width": null,
            "border": null,
            "align_items": null,
            "bottom": null,
            "_model_module": "@jupyter-widgets/base",
            "top": null,
            "grid_column": null,
            "overflow_y": null,
            "overflow_x": null,
            "grid_auto_flow": null,
            "grid_area": null,
            "grid_template_columns": null,
            "flex": null,
            "_model_name": "LayoutModel",
            "justify_items": null,
            "grid_row": null,
            "max_height": null,
            "align_content": null,
            "visibility": null,
            "align_self": null,
            "height": null,
            "min_height": null,
            "padding": null,
            "grid_auto_rows": null,
            "grid_gap": null,
            "max_width": null,
            "order": null,
            "_view_module_version": "1.2.0",
            "grid_template_areas": null,
            "object_position": null,
            "object_fit": null,
            "grid_auto_columns": null,
            "margin": null,
            "display": null,
            "left": null
          }
        }
      }
    }
  },
  "cells": [
    {
      "cell_type": "markdown",
      "metadata": {
        "id": "view-in-github",
        "colab_type": "text"
      },
      "source": [
        "<a href=\"https://colab.research.google.com/github/Gratisfo/Parentents-and-children/blob/main/contrastive_analysis.ipynb\" target=\"_parent\"><img src=\"https://colab.research.google.com/assets/colab-badge.svg\" alt=\"Open In Colab\"/></a>"
      ]
    },
    {
      "cell_type": "markdown",
      "metadata": {
        "id": "qfmF4IKp6HKT"
      },
      "source": [
        "#Подготовка датасета"
      ]
    },
    {
      "cell_type": "code",
      "metadata": {
        "id": "UoldJ16D4Z56"
      },
      "source": [
        "import pandas as pd\n",
        "import matplotlib.pyplot as plt\n",
        "import seaborn as sns"
      ],
      "execution_count": null,
      "outputs": []
    },
    {
      "cell_type": "code",
      "metadata": {
        "id": "zZdI4P8C45u4"
      },
      "source": [
        "data = pd.read_csv('data.csv')"
      ],
      "execution_count": null,
      "outputs": []
    },
    {
      "cell_type": "code",
      "metadata": {
        "id": "-QvGWWoJ4-4b"
      },
      "source": [
        "data.csv.1"
      ],
      "execution_count": null,
      "outputs": []
    },
    {
      "cell_type": "code",
      "metadata": {
        "colab": {
          "base_uri": "https://localhost:8080/",
          "height": 419
        },
        "id": "C_5fZ0H_NLii",
        "outputId": "6d74e617-b755-4f64-84a3-5bd7d80805b8"
      },
      "source": [
        "data"
      ],
      "execution_count": null,
      "outputs": [
        {
          "output_type": "execute_result",
          "data": {
            "text/html": [
              "<div>\n",
              "<style scoped>\n",
              "    .dataframe tbody tr th:only-of-type {\n",
              "        vertical-align: middle;\n",
              "    }\n",
              "\n",
              "    .dataframe tbody tr th {\n",
              "        vertical-align: top;\n",
              "    }\n",
              "\n",
              "    .dataframe thead th {\n",
              "        text-align: right;\n",
              "    }\n",
              "</style>\n",
              "<table border=\"1\" class=\"dataframe\">\n",
              "  <thead>\n",
              "    <tr style=\"text-align: right;\">\n",
              "      <th></th>\n",
              "      <th>speaker</th>\n",
              "      <th>text</th>\n",
              "      <th>role</th>\n",
              "      <th>date</th>\n",
              "      <th>title</th>\n",
              "    </tr>\n",
              "  </thead>\n",
              "  <tbody>\n",
              "    <tr>\n",
              "      <th>0</th>\n",
              "      <td>#taratora</td>\n",
              "      <td>И ты еще, мошенник, смеешь мне указывать! Да з...</td>\n",
              "      <td>parent</td>\n",
              "      <td>1788</td>\n",
              "      <td>krylov-prokazniki</td>\n",
              "    </tr>\n",
              "    <tr>\n",
              "      <th>1</th>\n",
              "      <td>#taratora</td>\n",
              "      <td>То есть чего-нибудь хорошенького.</td>\n",
              "      <td>parent</td>\n",
              "      <td>1788</td>\n",
              "      <td>krylov-prokazniki</td>\n",
              "    </tr>\n",
              "    <tr>\n",
              "      <th>2</th>\n",
              "      <td>#taratora</td>\n",
              "      <td>Как, бездельник! да разве не для того он сюда ...</td>\n",
              "      <td>parent</td>\n",
              "      <td>1788</td>\n",
              "      <td>krylov-prokazniki</td>\n",
              "    </tr>\n",
              "    <tr>\n",
              "      <th>3</th>\n",
              "      <td>#taratora</td>\n",
              "      <td>Да его ль вина, бестия, что вы все здесь ходит...</td>\n",
              "      <td>parent</td>\n",
              "      <td>1788</td>\n",
              "      <td>krylov-prokazniki</td>\n",
              "    </tr>\n",
              "    <tr>\n",
              "      <th>4</th>\n",
              "      <td>#taratora</td>\n",
              "      <td>Я окончала!.. Как я рада! Элегия эта беспример...</td>\n",
              "      <td>parent</td>\n",
              "      <td>1788</td>\n",
              "      <td>krylov-prokazniki</td>\n",
              "    </tr>\n",
              "    <tr>\n",
              "      <th>...</th>\n",
              "      <td>...</td>\n",
              "      <td>...</td>\n",
              "      <td>...</td>\n",
              "      <td>...</td>\n",
              "      <td>...</td>\n",
              "    </tr>\n",
              "    <tr>\n",
              "      <th>20297</th>\n",
              "      <td>#sineus</td>\n",
              "      <td>Ты, сказывают, хотел Славян и прочие народы от...</td>\n",
              "      <td>children</td>\n",
              "      <td>1786</td>\n",
              "      <td>ekaterina-vtoraja-iz-zhizni-rjurika</td>\n",
              "    </tr>\n",
              "    <tr>\n",
              "      <th>20298</th>\n",
              "      <td>#truvor</td>\n",
              "      <td>Какие же ты имел при том намерения?</td>\n",
              "      <td>children</td>\n",
              "      <td>1786</td>\n",
              "      <td>ekaterina-vtoraja-iz-zhizni-rjurika</td>\n",
              "    </tr>\n",
              "    <tr>\n",
              "      <th>20299</th>\n",
              "      <td>#oskold</td>\n",
              "      <td>К чему прение тут, где дело само по себе ясно?</td>\n",
              "      <td>children</td>\n",
              "      <td>1786</td>\n",
              "      <td>ekaterina-vtoraja-iz-zhizni-rjurika</td>\n",
              "    </tr>\n",
              "    <tr>\n",
              "      <th>20300</th>\n",
              "      <td>#rjurik</td>\n",
              "      <td>Бодрость духа твоего, князь Вадим, не унывает;...</td>\n",
              "      <td>parent</td>\n",
              "      <td>1786</td>\n",
              "      <td>ekaterina-vtoraja-iz-zhizni-rjurika</td>\n",
              "    </tr>\n",
              "    <tr>\n",
              "      <th>20301</th>\n",
              "      <td>#rjurik</td>\n",
              "      <td>Неоспорима по крайней мере есть истина на сей ...</td>\n",
              "      <td>parent</td>\n",
              "      <td>1786</td>\n",
              "      <td>ekaterina-vtoraja-iz-zhizni-rjurika</td>\n",
              "    </tr>\n",
              "  </tbody>\n",
              "</table>\n",
              "<p>20302 rows × 5 columns</p>\n",
              "</div>"
            ],
            "text/plain": [
              "         speaker  ...                                title\n",
              "0      #taratora  ...                    krylov-prokazniki\n",
              "1      #taratora  ...                    krylov-prokazniki\n",
              "2      #taratora  ...                    krylov-prokazniki\n",
              "3      #taratora  ...                    krylov-prokazniki\n",
              "4      #taratora  ...                    krylov-prokazniki\n",
              "...          ...  ...                                  ...\n",
              "20297    #sineus  ...  ekaterina-vtoraja-iz-zhizni-rjurika\n",
              "20298    #truvor  ...  ekaterina-vtoraja-iz-zhizni-rjurika\n",
              "20299    #oskold  ...  ekaterina-vtoraja-iz-zhizni-rjurika\n",
              "20300    #rjurik  ...  ekaterina-vtoraja-iz-zhizni-rjurika\n",
              "20301    #rjurik  ...  ekaterina-vtoraja-iz-zhizni-rjurika\n",
              "\n",
              "[20302 rows x 5 columns]"
            ]
          },
          "metadata": {
            "tags": []
          },
          "execution_count": 6
        }
      ]
    },
    {
      "cell_type": "markdown",
      "metadata": {
        "id": "3oQQvSaa6N0c"
      },
      "source": [
        "#Распределение реплик родителей и детей"
      ]
    },
    {
      "cell_type": "code",
      "metadata": {
        "colab": {
          "base_uri": "https://localhost:8080/",
          "height": 437
        },
        "id": "uSrcODQ75g95",
        "outputId": "fe371c35-9092-43f1-948b-8e699726943f"
      },
      "source": [
        "sns.set(style=\"whitegrid\")\n",
        "\n",
        "\n",
        "def plot_label_dist(df, col_name, color=[\"r\",  \"b\"], kind1=\"bar\", kind2=\"pie\"):\n",
        "    fig = plt.figure(figsize=(10, 6))\n",
        "    ax1 = fig.add_subplot(121)\n",
        "    ax2 = fig.add_subplot(122)\n",
        "\n",
        "    column_values = list(df[col_name].unique())\n",
        "\n",
        "    df.groupby(col_name).size().sort_values(ascending=False).plot(\n",
        "        kind=kind1, width=0.75, title=\"Distribution of text\",\n",
        "        ax=ax1, rot=35, legend=False, color=color\n",
        "    )\n",
        "    ax1.set_xticklabels(column_values)\n",
        "\n",
        "    df.groupby(col_name).size().sort_values(ascending=False).plot(\n",
        "        kind=kind2, title=col_name, ax=ax2, autopct=\"%.2f%%\", labels=None, colors=color\n",
        "    )\n",
        "    ax2.legend(column_values)\n",
        "    ax2.axis(\"off\")\n",
        "\n",
        "    fig.tight_layout()\n",
        "\n",
        "plot_label_dist(df=data, col_name=\"role\")"
      ],
      "execution_count": null,
      "outputs": [
        {
          "output_type": "display_data",
          "data": {
            "image/png": "[encoded data removed]",
            "text/plain": [
              "<Figure size 720x432 with 2 Axes>"
            ]
          },
          "metadata": {
            "tags": []
          }
        }
      ]
    },
    {
      "cell_type": "markdown",
      "metadata": {
        "id": "w_sGtQIC55vp"
      },
      "source": [
        "#Посчет токенов и предложений"
      ]
    },
    {
      "cell_type": "code",
      "metadata": {
        "colab": {
          "base_uri": "https://localhost:8080/"
        },
        "id": "skyfoSA85qQL",
        "outputId": "79ac4751-526c-4b00-f124-285138457f88"
      },
      "source": [
        "!pip install razdel"
      ],
      "execution_count": null,
      "outputs": [
        {
          "output_type": "stream",
          "text": [
            "Requirement already satisfied: razdel in /usr/local/lib/python3.7/dist-packages (0.5.0)\n"
          ],
          "name": "stdout"
        }
      ]
    },
    {
      "cell_type": "code",
      "metadata": {
        "id": "KsQUC2855s7l"
      },
      "source": [
        "from razdel import sentenize, tokenize\n",
        "\n",
        "def get_length_sentences(text):\n",
        "    segmented_sentences = sentenize(text)\n",
        "    num_sentences = len(list(segmented_sentences))\n",
        "    return num_sentences\n",
        "\n",
        "\n",
        "def get_num_tokens(text):\n",
        "    tokenized_text = tokenize(text)\n",
        "    num_tokens = len(list(tokenized_text))\n",
        "    return num_tokens\n",
        "\n",
        "\n",
        "def get_num_sentences(text):\n",
        "    segmented_sentences = sentenize(text)\n",
        "    num_sentences = len(list(segmented_sentences))\n",
        "    return num_sentences"
      ],
      "execution_count": null,
      "outputs": []
    },
    {
      "cell_type": "code",
      "metadata": {
        "id": "v2eKlv915tyq"
      },
      "source": [
        "data[\"sent_num\"] = data[\"text\"].apply(get_num_sentences)\n",
        "data[\"token_num\"] = data[\"text\"].apply(get_num_tokens)"
      ],
      "execution_count": null,
      "outputs": []
    },
    {
      "cell_type": "code",
      "metadata": {
        "colab": {
          "base_uri": "https://localhost:8080/"
        },
        "id": "-wrTByf-5ynk",
        "outputId": "146f4562-7c03-4873-d634-b40718ffbd1c"
      },
      "source": [
        "# вычисления стандартного отклонения, медианы, минимального, среднего и максимального значений\n",
        "\n",
        "sent_num_subset = data[\"sent_num\"]\n",
        "\n",
        "print(\"Standard deviation: %d\" % sent_num_subset.std())\n",
        "print(\"Median: %d\" % sent_num_subset.median())\n",
        "print(\"Min value: %d\" % sent_num_subset.min())\n",
        "print(\"Mean value: %d\" % sent_num_subset.mean())\n",
        "print(\"Max value: %d\" % sent_num_subset.max())"
      ],
      "execution_count": null,
      "outputs": [
        {
          "output_type": "stream",
          "text": [
            "Standard deviation: 1\n",
            "Median: 1\n",
            "Min value: 1\n",
            "Mean value: 1\n",
            "Max value: 28\n"
          ],
          "name": "stdout"
        }
      ]
    },
    {
      "cell_type": "code",
      "metadata": {
        "id": "v3AnYH4t514w"
      },
      "source": [
        "def get_length_sentences(text):\n",
        "    segmented_sentences = sentenize(text)\n",
        "    sent_length = []\n",
        "    for s in list(segmented_sentences):\n",
        "      sent_length.append(len(list(tokenize(s.text))))\n",
        "    return sent_length\n",
        "\n",
        "data[\"sent_len\"] = data[\"text\"].apply(get_length_sentences)"
      ],
      "execution_count": null,
      "outputs": []
    },
    {
      "cell_type": "markdown",
      "metadata": {
        "id": "yjSLsjdz6C5P"
      },
      "source": [
        "#Распределение длин предложений родителей и детей"
      ]
    },
    {
      "cell_type": "code",
      "metadata": {
        "colab": {
          "base_uri": "https://localhost:8080/",
          "height": 437
        },
        "id": "xnyuxBoi6aXs",
        "outputId": "cf0f046c-92b1-4132-d345-713febd3fbe0"
      },
      "source": [
        "from warnings import simplefilter\n",
        "simplefilter(action='ignore', category=FutureWarning)\n",
        "\n",
        "\n",
        "def plot_len_dist(data, col_name):\n",
        "    fig, axes = plt.subplots(1, 2, figsize=(20, 6))\n",
        "\n",
        "    for i, role in enumerate(['parent', 'children']):\n",
        "      subset = []\n",
        "      role_subset = data[data[\"role\"] == role][col_name]\n",
        "      for r in role_subset:\n",
        "        subset = subset + r\n",
        "\n",
        "      sns.distplot(subset, bins=20, color=\"blue\", ax=axes[i])\n",
        "      axes[i].axvline(\n",
        "          sum(subset) / len(subset), color=\"k\", linestyle=\"dashed\", linewidth=1, label=\"mean\"\n",
        "      )\n",
        "      axes[i].axvline(\n",
        "          sum(subset) / len(subset), color=\"r\", linestyle=\"dashed\", linewidth=1, label=\"median\"\n",
        "      )\n",
        "      axes[i].legend()\n",
        "      axes[i].set(title=\"%s: %s column values\" % (role, col_name))\n",
        "    \n",
        "    fig.tight_layout()\n",
        "\n",
        "plot_len_dist(data, \"sent_len\")"
      ],
      "execution_count": null,
      "outputs": [
        {
          "output_type": "display_data",
          "data": {
            "image/png": "[encoded data removed]",
            "text/plain": [
              "<Figure size 1440x432 with 2 Axes>"
            ]
          },
          "metadata": {
            "tags": []
          }
        }
      ]
    },
    {
      "cell_type": "code",
      "metadata": {
        "id": "MyuN8TBd8y8s"
      },
      "source": [
        "from warnings import simplefilter\n",
        "simplefilter(action='ignore', category=FutureWarning)\n",
        "\n",
        "\n",
        "def plot_dist(df, col_name):\n",
        "    fig, axes = plt.subplots(1, 2, figsize=(15, 6))\n",
        "\n",
        "    for i, role in enumerate(['parent', 'children']):\n",
        "        role_subset = df[df[\"role\"] == role][col_name]\n",
        "\n",
        "        sns.distplot(role_subset, bins=20, color=\"blue\", ax=axes[i])\n",
        "        axes[i].axvline(\n",
        "            (role_subset).mean(), color=\"k\", linestyle=\"dashed\", linewidth=1, label=\"mean\"\n",
        "        )\n",
        "        axes[i].axvline(\n",
        "            (role_subset).median(), color=\"r\", linestyle=\"dashed\", linewidth=1, label=\"median\"\n",
        "        )\n",
        "        axes[i].legend()\n",
        "        axes[i].set(title=\"%s: %s column values\" % (role, col_name))\n",
        "    \n",
        "    fig.tight_layout()"
      ],
      "execution_count": null,
      "outputs": []
    },
    {
      "cell_type": "code",
      "metadata": {
        "colab": {
          "base_uri": "https://localhost:8080/",
          "height": 437
        },
        "id": "W-LuFD3E81Mb",
        "outputId": "c3d1d1a8-7c07-4396-da62-182fe4e764f3"
      },
      "source": [
        "plot_dist(data, \"sent_num\")"
      ],
      "execution_count": null,
      "outputs": [
        {
          "output_type": "display_data",
          "data": {
            "image/png": "[encoded data removed]",
            "text/plain": [
              "<Figure size 1080x432 with 2 Axes>"
            ]
          },
          "metadata": {
            "tags": []
          }
        }
      ]
    },
    {
      "cell_type": "markdown",
      "metadata": {
        "id": "yHq2BTWF9SFK"
      },
      "source": [
        "#Глубина синтаксического дерева"
      ]
    },
    {
      "cell_type": "code",
      "metadata": {
        "id": "CtESRXbS9Pq0"
      },
      "source": [
        "!pip install --quiet slovnet ipymarkup\n",
        "!pip install ufal.udpipe\n",
        "!pip install --upgrade git+https://github.com/udapi/udapi-python.git"
      ],
      "execution_count": null,
      "outputs": []
    },
    {
      "cell_type": "code",
      "metadata": {
        "id": "22vr2qdm9UhS"
      },
      "source": [
        "!wget -c https://storage.yandexcloud.net/natasha-slovnet/packs/slovnet_syntax_news_v1.tar\n",
        "!wget -c https://storage.yandexcloud.net/natasha-navec/packs/navec_news_v1_1B_250K_300d_100q.tar"
      ],
      "execution_count": null,
      "outputs": []
    },
    {
      "cell_type": "code",
      "metadata": {
        "id": "zde4iHaT9X18"
      },
      "source": [
        "from ipymarkup import show_dep_ascii_markup as show_markup\n",
        "from navec import Navec\n",
        "from slovnet import Syntax\n",
        "\n",
        "\n",
        "navec = Navec.load(\"navec_news_v1_1B_250K_300d_100q.tar\")\n",
        "syntax = Syntax.load(\"slovnet_syntax_news_v1.tar\")\n",
        "syntax.navec(navec)\n",
        "\n",
        "\n",
        "def split_into_chunks(text):\n",
        "    chunks = [\n",
        "        [token.text for token in tokenize(sentence.text)] for sentence in sentenize(text)\n",
        "    ]\n",
        "    return chunks\n",
        "\n",
        "\n",
        "def annotate_text(text, syntax=syntax):\n",
        "    chunks = split_into_chunks(text)\n",
        "    annotation = [syntax(chunk) for chunk in chunks]\n",
        "    return annotation"
      ],
      "execution_count": null,
      "outputs": []
    },
    {
      "cell_type": "code",
      "metadata": {
        "id": "CtN5KoXy9Zob"
      },
      "source": [
        "annotated_example = annotate_text(data['text'][1])"
      ],
      "execution_count": null,
      "outputs": []
    },
    {
      "cell_type": "code",
      "metadata": {
        "id": "iAKpKCRb9a6x"
      },
      "source": [
        "def convert_text_to_conllu(text, syntax=syntax):\n",
        "    text_annotation = annotate_text(text, syntax=syntax)\n",
        "    converted_sentences = []\n",
        "\n",
        "    for annotated_text in text_annotation:\n",
        "        converted_sentence = []\n",
        "        for token in annotated_text.tokens:\n",
        "            conllu_token = \"\\t\".join(\n",
        "            [\n",
        "                token.id, # id токена в предложении\n",
        "                token.text, # словоформа\n",
        "                \"_\", # лемма\n",
        "                \"_\", # частеречный тег\n",
        "                \"_\", # xpos – Language-specific part-of-speech tag.\n",
        "                \"_\", # morphosyntactic description\n",
        "                token.head_id, # head of the current word\n",
        "                token.rel, # dependency relation\n",
        "                \"_\", # deps – Enhanced dependency graph in the form of a list of head-deprel pairs.\n",
        "                \"_\", # misc – any other annotation\n",
        "            ]\n",
        "            )\n",
        "            converted_sentence.append(conllu_token)\n",
        "        converted_sentences.append(\"\\n\".join(converted_sentence))\n",
        "    return converted_sentences"
      ],
      "execution_count": null,
      "outputs": []
    },
    {
      "cell_type": "code",
      "metadata": {
        "colab": {
          "base_uri": "https://localhost:8080/"
        },
        "id": "tGWDrdEG9cw8",
        "outputId": "495dbf34-7c35-4cb0-b945-5ff908bc3139"
      },
      "source": [
        "from udapi.block.read.conllu import Conllu\n",
        "from udapi.block.write.textmodetrees import TextModeTrees\n",
        "from io import StringIO\n",
        "\n",
        "\n",
        "tree = Conllu(filehandle=StringIO(convert_text_to_conllu(data['text'][3])[0])).read_tree()\n",
        "\n",
        "writer = TextModeTrees(attributes=\"ord,form,lemma,upos,feats,deprel,parent\")\n",
        "writer.process_tree(tree)"
      ],
      "execution_count": null,
      "outputs": [
        {
          "output_type": "stream",
          "text": [
            "# sent_id = ?\n",
            "# text = Да его ль вина , бестия , что вы все здесь ходите , как слоны , и ни одного из вас чорт не придавит ?..\n",
            "─┮\n",
            " │                                          ╭─╼ \u001b[32m1\u001b[0m \u001b[33mДа\u001b[0m \u001b[36m_\u001b[0m \u001b[31m_\u001b[0m _\u001b[0m \u001b[34mdiscourse\u001b[0m <?#3, ль>\u001b[0m\n",
            " │                                          ┢─╼ \u001b[32m2\u001b[0m \u001b[33mего\u001b[0m \u001b[36m_\u001b[0m \u001b[31m_\u001b[0m _\u001b[0m \u001b[34mobj\u001b[0m <?#3, ль>\u001b[0m\n",
            " ┡──────────────────────────────────────────┾ \u001b[32m3\u001b[0m \u001b[33mль\u001b[0m \u001b[36m_\u001b[0m \u001b[31m_\u001b[0m _\u001b[0m \u001b[34mroot\u001b[0m <?, <ROOT>>\u001b[0m\n",
            " │                                          ┡─┮ \u001b[32m4\u001b[0m \u001b[33mвина\u001b[0m \u001b[36m_\u001b[0m \u001b[31m_\u001b[0m _\u001b[0m \u001b[34mnsubj\u001b[0m <?#3, ль>\u001b[0m\n",
            " │                                          │ │                                       ╭─╼ \u001b[32m5\u001b[0m \u001b[33m,\u001b[0m \u001b[36m_\u001b[0m \u001b[31m_\u001b[0m _\u001b[0m \u001b[34mpunct\u001b[0m <?#6, бестия>\u001b[0m\n",
            " │                                          │ ┡───────────────────────────────────────┾ \u001b[32m6\u001b[0m \u001b[33mбестия\u001b[0m \u001b[36m_\u001b[0m \u001b[31m_\u001b[0m _\u001b[0m \u001b[34macl\u001b[0m <?#4, вина>\u001b[0m\n",
            " │                                          │ │                                       │ ╭─╼ \u001b[32m7\u001b[0m \u001b[33m,\u001b[0m \u001b[36m_\u001b[0m \u001b[31m_\u001b[0m _\u001b[0m \u001b[34mpunct\u001b[0m <?#24, придавит>\u001b[0m\n",
            " │                                          │ │                                       │ ┢─╼ \u001b[32m8\u001b[0m \u001b[33mчто\u001b[0m \u001b[36m_\u001b[0m \u001b[31m_\u001b[0m _\u001b[0m \u001b[34mmark\u001b[0m <?#24, придавит>\u001b[0m\n",
            " │                                          │ │                                       │ ┢─╼ \u001b[32m9\u001b[0m \u001b[33mвы\u001b[0m \u001b[36m_\u001b[0m \u001b[31m_\u001b[0m _\u001b[0m \u001b[34mnsubj\u001b[0m <?#24, придавит>\u001b[0m\n",
            " │                                          │ ┡─╼ \u001b[32m10\u001b[0m \u001b[33mвсе\u001b[0m \u001b[36m_\u001b[0m \u001b[31m_\u001b[0m _\u001b[0m \u001b[34mdet\u001b[0m <?#4, вина>\u001b[0m        │ │\n",
            " │ ╭─╼ \u001b[32m11\u001b[0m \u001b[33mздесь\u001b[0m \u001b[36m_\u001b[0m \u001b[31m_\u001b[0m _\u001b[0m \u001b[34madvmod\u001b[0m <?#12, ходите>\u001b[0m │ │                                       │ │\n",
            " ╰─┾ \u001b[32m12\u001b[0m \u001b[33mходите\u001b[0m \u001b[36m_\u001b[0m \u001b[31m_\u001b[0m _\u001b[0m \u001b[34mroot\u001b[0m <?, <ROOT>>\u001b[0m       │ │                                       │ │\n",
            "   │ ╭─╼ \u001b[32m13\u001b[0m \u001b[33m,\u001b[0m \u001b[36m_\u001b[0m \u001b[31m_\u001b[0m _\u001b[0m \u001b[34mpunct\u001b[0m <?#15, слоны>\u001b[0m     │ │                                       │ │\n",
            "   │ ┢─╼ \u001b[32m14\u001b[0m \u001b[33mкак\u001b[0m \u001b[36m_\u001b[0m \u001b[31m_\u001b[0m _\u001b[0m \u001b[34mcase\u001b[0m <?#15, слоны>\u001b[0m    │ │                                       │ │\n",
            "   ╰─┶ \u001b[32m15\u001b[0m \u001b[33mслоны\u001b[0m \u001b[36m_\u001b[0m \u001b[31m_\u001b[0m _\u001b[0m \u001b[34mnsubj\u001b[0m <?#12, ходите>\u001b[0m  │ │                                       │ │\n",
            "                                            │ │ ╭─╼ \u001b[32m16\u001b[0m \u001b[33m,\u001b[0m \u001b[36m_\u001b[0m \u001b[31m_\u001b[0m _\u001b[0m \u001b[34mpunct\u001b[0m <?#19, одного>\u001b[0m   │ │\n",
            "                                            │ │ │                                     │ ┢─╼ \u001b[32m17\u001b[0m \u001b[33mи\u001b[0m \u001b[36m_\u001b[0m \u001b[31m_\u001b[0m _\u001b[0m \u001b[34mcc\u001b[0m <?#24, придавит>\u001b[0m\n",
            "                                            │ │ ┢─╼ \u001b[32m18\u001b[0m \u001b[33mни\u001b[0m \u001b[36m_\u001b[0m \u001b[31m_\u001b[0m _\u001b[0m \u001b[34madvmod\u001b[0m <?#19, одного>\u001b[0m │ │\n",
            "                                            │ ╰─┾ \u001b[32m19\u001b[0m \u001b[33mодного\u001b[0m \u001b[36m_\u001b[0m \u001b[31m_\u001b[0m _\u001b[0m \u001b[34mconj\u001b[0m <?#4, вина>\u001b[0m    │ │\n",
            "                                            │   │ ╭─╼ \u001b[32m20\u001b[0m \u001b[33mиз\u001b[0m \u001b[36m_\u001b[0m \u001b[31m_\u001b[0m _\u001b[0m \u001b[34mcase\u001b[0m <?#21, вас>\u001b[0m    │ │\n",
            "                                            │   ┡─┶ \u001b[32m21\u001b[0m \u001b[33mвас\u001b[0m \u001b[36m_\u001b[0m \u001b[31m_\u001b[0m _\u001b[0m \u001b[34mnmod\u001b[0m <?#19, одного>\u001b[0m  │ │\n",
            "                                            │   ╰─╼ \u001b[32m22\u001b[0m \u001b[33mчорт\u001b[0m \u001b[36m_\u001b[0m \u001b[31m_\u001b[0m _\u001b[0m \u001b[34mnmod\u001b[0m <?#19, одного>\u001b[0m │ │\n",
            "                                            │                                         │ ┢─╼ \u001b[32m23\u001b[0m \u001b[33mне\u001b[0m \u001b[36m_\u001b[0m \u001b[31m_\u001b[0m _\u001b[0m \u001b[34madvmod\u001b[0m <?#24, придавит>\u001b[0m\n",
            "                                            │                                         ╰─┶ \u001b[32m24\u001b[0m \u001b[33mпридавит\u001b[0m \u001b[36m_\u001b[0m \u001b[31m_\u001b[0m _\u001b[0m \u001b[34mccomp\u001b[0m <?#6, бестия>\u001b[0m\n",
            "                                            ╰─╼ \u001b[32m25\u001b[0m \u001b[33m?..\u001b[0m \u001b[36m_\u001b[0m \u001b[31m_\u001b[0m _\u001b[0m \u001b[34mpunct\u001b[0m <?#3, ль>\u001b[0m\n",
            "\n"
          ],
          "name": "stdout"
        }
      ]
    },
    {
      "cell_type": "code",
      "metadata": {
        "id": "Xgg6zieM9eiL"
      },
      "source": [
        "def tree_depth(tree):\n",
        "    depth = 0\n",
        "    stack = [tree]\n",
        "    while (len(stack)):\n",
        "        curr_node = stack[0]\n",
        "        stack.pop(0)\n",
        "        if curr_node.children:\n",
        "            depth += 1\n",
        "        for node in range(len(curr_node.children) -1, -1, -1):\n",
        "            stack.insert(0, curr_node.children[node])\n",
        "    return depth"
      ],
      "execution_count": null,
      "outputs": []
    },
    {
      "cell_type": "code",
      "metadata": {
        "colab": {
          "base_uri": "https://localhost:8080/"
        },
        "id": "2VI_FM6T9i89",
        "outputId": "404fc124-9048-46a6-a766-d50080e326c4"
      },
      "source": [
        "print(\"Tree depth of the sentence: %s\" % tree_depth(tree))"
      ],
      "execution_count": null,
      "outputs": [
        {
          "output_type": "stream",
          "text": [
            "Tree depth of the sentence: 9\n"
          ],
          "name": "stdout"
        }
      ]
    },
    {
      "cell_type": "code",
      "metadata": {
        "colab": {
          "base_uri": "https://localhost:8080/",
          "height": 66,
          "referenced_widgets": [
            "b1b6a19b6ea04e1ab754e27e1ed7c47d",
            "ba13f1e96842456fa9899f8656ebdb73",
            "1c3c5f15147c400a82c746772fc4dd34",
            "f5b36fa7ceec45e19079c62b9e6a611c",
            "ac03d7d9d3ab4ef4bde2ed627e545b65",
            "23f89a4327b8409cb6c7b8bba0524885",
            "02533832d0754cdbaf617a0f7bba6903",
            "40a43c8baea44a0d94b4299fdf12cb8e"
          ]
        },
        "id": "jxYMTRb69kRM",
        "outputId": "6ccb3a35-ed57-4694-d093-d9cae9b26f29"
      },
      "source": [
        "from tqdm.auto import tqdm\n",
        "\n",
        "\n",
        "def get_text(tree):\n",
        "    return \" \".join([node.form for node in tree.descendants])\n",
        "\n",
        "\n",
        "def convert_text_to_depth_features(text):\n",
        "    res = []\n",
        "    converted_sentences = convert_text_to_conllu(text)\n",
        "    for converted_sentence in converted_sentences:\n",
        "        try:\n",
        "            curr_sent_tree = Conllu(filehandle=StringIO(converted_sentence)).read_tree()\n",
        "            curr_sent_depth = tree_depth(curr_sent_tree)\n",
        "            res.append(\n",
        "                (get_text(curr_sent_tree), curr_sent_depth, len(curr_sent_tree.descendants)-1)\n",
        "            )\n",
        "        except Exception as e:\n",
        "            continue\n",
        "    return res\n",
        "\n",
        "results = []\n",
        "depth_data = []\n",
        "\n",
        "for i, row in tqdm(data.iterrows(), total=data.shape[0]):\n",
        "    text = row[\"text\"]\n",
        "    depth_features = convert_text_to_depth_features(text)\n",
        "    depth_data.extend(depth_features)\n",
        "    results.append(depth_features)"
      ],
      "execution_count": null,
      "outputs": [
        {
          "output_type": "display_data",
          "data": {
            "application/vnd.jupyter.widget-view+json": {
              "model_id": "b1b6a19b6ea04e1ab754e27e1ed7c47d",
              "version_minor": 0,
              "version_major": 2
            },
            "text/plain": [
              "HBox(children=(FloatProgress(value=0.0, max=20302.0), HTML(value='')))"
            ]
          },
          "metadata": {
            "tags": []
          }
        },
        {
          "output_type": "stream",
          "text": [
            "\n"
          ],
          "name": "stdout"
        }
      ]
    },
    {
      "cell_type": "code",
      "metadata": {
        "id": "xAZYb0e_9mIZ"
      },
      "source": [
        "syn_depth = []\n",
        "for res in results:\n",
        "  depth = [r[1] for r in res]\n",
        "  syn_depth.append(depth)"
      ],
      "execution_count": null,
      "outputs": []
    },
    {
      "cell_type": "code",
      "metadata": {
        "id": "6Gk3mToK9n2W"
      },
      "source": [
        " data['synt_depth'] = syn_depth"
      ],
      "execution_count": null,
      "outputs": []
    },
    {
      "cell_type": "code",
      "metadata": {
        "colab": {
          "base_uri": "https://localhost:8080/",
          "height": 437
        },
        "id": "8wLkTT4u9pBd",
        "outputId": "85a2d1b5-b5c7-4967-cd3f-ee92cb44d507"
      },
      "source": [
        " # Посмотрим на распредление глубины синтаксических деревьев родителей и детей\n",
        " plot_len_dist(data, 'synt_depth')"
      ],
      "execution_count": null,
      "outputs": [
        {
          "output_type": "display_data",
          "data": {
            "image/png": "[encoded data removed]",
            "text/plain": [
              "<Figure size 1440x432 with 2 Axes>"
            ]
          },
          "metadata": {
            "tags": []
          }
        }
      ]
    }
  ]
}