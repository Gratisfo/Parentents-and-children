{
  "nbformat": 4,
  "nbformat_minor": 0,
  "metadata": {
    "colab": {
      "name": "between parents\\children.ipynb",
      "provenance": [],
      "collapsed_sections": [],
      "authorship_tag": "ABX9TyOv2zFE3yUgBfouhynMw02y",
      "include_colab_link": true
    },
    "kernelspec": {
      "name": "python3",
      "display_name": "Python 3"
    },
    "language_info": {
      "name": "python"
    }
  },
  "cells": [
    {
      "cell_type": "markdown",
      "metadata": {
        "id": "view-in-github",
        "colab_type": "text"
      },
      "source": [
        "<a href=\"https://colab.research.google.com/github/Gratisfo/Parentents-and-children/blob/main/between_parents_children.ipynb\" target=\"_parent\"><img src=\"https://colab.research.google.com/assets/colab-badge.svg\" alt=\"Open In Colab\"/></a>"
      ]
    },
    {
      "cell_type": "code",
      "metadata": {
        "id": "NwBAu3o_cSX2"
      },
      "source": [
        "import json\n",
        "import requests\n",
        "import csv\n",
        "import pandas as pd\n",
        "from tqdm import tqdm\n",
        "from bs4 import BeautifulSoup\n",
        "import re"
      ],
      "execution_count": null,
      "outputs": []
    },
    {
      "cell_type": "code",
      "metadata": {
        "id": "qxWihldLV8Th"
      },
      "source": [
        "def get_text(title):\n",
        "  url = \"https://dracor.org/api/corpora/rus/play/{}/tei\".format(title)\n",
        "  download = requests.get(url)\n",
        "  soup = BeautifulSoup(download.text, 'lxml')\n",
        "\n",
        "  # Один список - одна семья\n",
        "  fams = {}\n",
        "  for rel in soup.find_all('relation'):\n",
        "    if rel['name'] == 'parent_of':\n",
        "      fam = re.findall(r\"(#.*?)\\W\", str(rel))\n",
        "      for i in fam:\n",
        "        fams[i] = fam   \n",
        "  \n",
        "  names = []\n",
        "  repls = []\n",
        "  res = soup.find_all('sp')\n",
        "  for i, idx in enumerate(res):\n",
        "    speaker = idx.get('who')\n",
        "    if speaker in fams.keys():\n",
        "      try:\n",
        "        rels = fams[speaker]\n",
        "        prev = res[i-1].get('who')\n",
        "        next = res[i+1].get('who')\n",
        "        if prev or next in rels:\n",
        "          names.append(speaker)\n",
        "          if soup.sp.l:\n",
        "            repls.append(idx.l.string)\n",
        "          else:\n",
        "            repls.append(idx.p.string)\n",
        "      except:\n",
        "        pass  \n",
        "  \n",
        "  texts = pd.DataFrame(columns = ['speaker', 'replica'])\n",
        "  texts['speaker'] = names\n",
        "  texts['replica'] = repls\n",
        "  texts = texts.dropna().reset_index(drop=True)\n",
        "  texts['replica'] = texts['replica'].apply(lambda x: x.replace('\\n           ', ''))\n",
        "  return list(texts.speaker), list(texts.replica)\n"
      ],
      "execution_count": null,
      "outputs": []
    },
    {
      "cell_type": "code",
      "metadata": {
        "id": "M72U9v9Br1bF"
      },
      "source": [
        "# get metadata from rus corpus\n",
        "r = requests.get(\"https://dracor.org/api/corpora/rus/metadata\")"
      ],
      "execution_count": null,
      "outputs": []
    },
    {
      "cell_type": "code",
      "metadata": {
        "id": "F26AqkeGr1nV"
      },
      "source": [
        "parsedResponse = json.loads(r.text)"
      ],
      "execution_count": null,
      "outputs": []
    },
    {
      "cell_type": "code",
      "metadata": {
        "colab": {
          "base_uri": "https://localhost:8080/"
        },
        "id": "HxDtbFhIr8PX",
        "outputId": "17071b31-dba8-46ac-e3a7-afb7bc8fff85"
      },
      "source": [
        "# create list for the names of the playes\n",
        "play_name = [res['name'] for res in parsedResponse]\n",
        "print(len(play_name))"
      ],
      "execution_count": null,
      "outputs": [
        {
          "output_type": "stream",
          "text": [
            "211\n"
          ],
          "name": "stdout"
        }
      ]
    },
    {
      "cell_type": "code",
      "metadata": {
        "id": "oKwB3sVkr9T-"
      },
      "source": [
        "# create df for parent_children relation from all plays\n",
        "relation = pd.DataFrame(columns = ['title', 'parent', 'child'])\n",
        "\n",
        "# list for plays' title where is relations as parent_of\n",
        "parents_in_play = []\n",
        "\n",
        "for name in play_name:\n",
        "  url = \"https://dracor.org/api/corpora/rus/play/{}/relations/csv\".format(name)\n",
        "  download = requests.get(url)\n",
        "  decoded_content = download.content.decode('utf-8')\n",
        "  cr = csv.reader(decoded_content.splitlines(), delimiter=',')\n",
        "\n",
        "  for row in list(cr):\n",
        "    if row[3] == 'parent_of':\n",
        "      relation.loc[len(relation)] = [name, row[0], row[2]] # append to df title of play, parent, children\n",
        "      parents_in_play.append(name)        "
      ],
      "execution_count": null,
      "outputs": []
    },
    {
      "cell_type": "code",
      "metadata": {
        "colab": {
          "base_uri": "https://localhost:8080/",
          "height": 436
        },
        "id": "kFp5HeeIsH7J",
        "outputId": "645e6f0f-9e03-49cc-93e8-fd82cdebc068"
      },
      "source": [
        "# save only unique titles\n",
        "titles_play = list(set(parents_in_play))\n",
        "print(len(titles_play))\n",
        "relation\n"
      ],
      "execution_count": null,
      "outputs": [
        {
          "output_type": "stream",
          "text": [
            "111\n"
          ],
          "name": "stdout"
        },
        {
          "output_type": "execute_result",
          "data": {
            "text/html": [
              "<div>\n",
              "<style scoped>\n",
              "    .dataframe tbody tr th:only-of-type {\n",
              "        vertical-align: middle;\n",
              "    }\n",
              "\n",
              "    .dataframe tbody tr th {\n",
              "        vertical-align: top;\n",
              "    }\n",
              "\n",
              "    .dataframe thead th {\n",
              "        text-align: right;\n",
              "    }\n",
              "</style>\n",
              "<table border=\"1\" class=\"dataframe\">\n",
              "  <thead>\n",
              "    <tr style=\"text-align: right;\">\n",
              "      <th></th>\n",
              "      <th>title</th>\n",
              "      <th>parent</th>\n",
              "      <th>child</th>\n",
              "    </tr>\n",
              "  </thead>\n",
              "  <tbody>\n",
              "    <tr>\n",
              "      <th>0</th>\n",
              "      <td>afinogenov-mashenka</td>\n",
              "      <td>tumanskij</td>\n",
              "      <td>viktor</td>\n",
              "    </tr>\n",
              "    <tr>\n",
              "      <th>1</th>\n",
              "      <td>andreyev-k-zvezdam</td>\n",
              "      <td>sergej_nikolaevich</td>\n",
              "      <td>petja</td>\n",
              "    </tr>\n",
              "    <tr>\n",
              "      <th>2</th>\n",
              "      <td>andreyev-k-zvezdam</td>\n",
              "      <td>sergej_nikolaevich</td>\n",
              "      <td>anna</td>\n",
              "    </tr>\n",
              "    <tr>\n",
              "      <th>3</th>\n",
              "      <td>andreyev-k-zvezdam</td>\n",
              "      <td>inna_aleksandrovna</td>\n",
              "      <td>petja</td>\n",
              "    </tr>\n",
              "    <tr>\n",
              "      <th>4</th>\n",
              "      <td>andreyev-k-zvezdam</td>\n",
              "      <td>inna_aleksandrovna</td>\n",
              "      <td>anna</td>\n",
              "    </tr>\n",
              "    <tr>\n",
              "      <th>...</th>\n",
              "      <td>...</td>\n",
              "      <td>...</td>\n",
              "      <td>...</td>\n",
              "    </tr>\n",
              "    <tr>\n",
              "      <th>225</th>\n",
              "      <td>tretyakov-protivogazy</td>\n",
              "      <td>direktor</td>\n",
              "      <td>petya</td>\n",
              "    </tr>\n",
              "    <tr>\n",
              "      <th>226</th>\n",
              "      <td>turgenev-gde-tonko-tam-i-rvetsja</td>\n",
              "      <td>gospozha_libanova</td>\n",
              "      <td>vera</td>\n",
              "    </tr>\n",
              "    <tr>\n",
              "      <th>227</th>\n",
              "      <td>turgenev-mesjats-v-derevne</td>\n",
              "      <td>anna_semenovna</td>\n",
              "      <td>islaev</td>\n",
              "    </tr>\n",
              "    <tr>\n",
              "      <th>228</th>\n",
              "      <td>turgenev-mesjats-v-derevne</td>\n",
              "      <td>natalja_petrovna</td>\n",
              "      <td>kolja</td>\n",
              "    </tr>\n",
              "    <tr>\n",
              "      <th>229</th>\n",
              "      <td>turgenev-mesjats-v-derevne</td>\n",
              "      <td>islaev</td>\n",
              "      <td>kolja</td>\n",
              "    </tr>\n",
              "  </tbody>\n",
              "</table>\n",
              "<p>230 rows × 3 columns</p>\n",
              "</div>"
            ],
            "text/plain": [
              "                                title              parent   child\n",
              "0                 afinogenov-mashenka           tumanskij  viktor\n",
              "1                  andreyev-k-zvezdam  sergej_nikolaevich   petja\n",
              "2                  andreyev-k-zvezdam  sergej_nikolaevich    anna\n",
              "3                  andreyev-k-zvezdam  inna_aleksandrovna   petja\n",
              "4                  andreyev-k-zvezdam  inna_aleksandrovna    anna\n",
              "..                                ...                 ...     ...\n",
              "225             tretyakov-protivogazy            direktor   petya\n",
              "226  turgenev-gde-tonko-tam-i-rvetsja   gospozha_libanova    vera\n",
              "227        turgenev-mesjats-v-derevne      anna_semenovna  islaev\n",
              "228        turgenev-mesjats-v-derevne    natalja_petrovna   kolja\n",
              "229        turgenev-mesjats-v-derevne              islaev   kolja\n",
              "\n",
              "[230 rows x 3 columns]"
            ]
          },
          "metadata": {
            "tags": []
          },
          "execution_count": 43
        }
      ]
    },
    {
      "cell_type": "code",
      "metadata": {
        "id": "Uqv8GSaHsM4_"
      },
      "source": [
        "class Play:\n",
        "    def __init__(self):     \n",
        "      self.title = \"\" \n",
        "      self.author = \"\" \n",
        "      self.date = \"\" \n",
        "      self.parents = \"\" \n",
        "      self.children = \"\" \n",
        "      self.texts = \"\""
      ],
      "execution_count": null,
      "outputs": []
    },
    {
      "cell_type": "code",
      "metadata": {
        "id": "eQKz_U7PsO-g"
      },
      "source": [
        "def fill_df(title):\n",
        "  play = Play()\n",
        "\n",
        "  # meta\n",
        "  play.title = title\n",
        "  play.date = [p['yearWritten'] for p in parsedResponse if p['playName'] == title][0]\n",
        "  play.author = [p['firstAuthor'] for p in parsedResponse \n",
        "                                                        if p['playName'] == title][0]\n",
        "  \n",
        "  # parents\\children characters\n",
        "  play.parents = list(set(relation[relation['title'] == title].parent))\n",
        "  play.children = list(set(relation[relation['title'] == title].child))\n",
        "\n",
        "  # speakers, replicas\n",
        "  speakers, replicas = get_text(play.title)\n",
        "\n",
        "  def role(name):\n",
        "    name = name.replace('#', '')\n",
        "    if name in play.parents:\n",
        "      return 'parent'\n",
        "    else:\n",
        "      return 'children'\n",
        "\n",
        "  df_play = pd.DataFrame()\n",
        "  df_play['speaker'] = speakers\n",
        "  df_play['text'] = replicas\n",
        "  df_play['role'] = df_play['speaker'].apply(lambda x: role(x))\n",
        "  df_play['date'] = [play.date for i in range(len(speakers))]\n",
        "  df_play['title'] = [play.title for i in range(len(speakers))]\n",
        "  return df_play"
      ],
      "execution_count": null,
      "outputs": []
    },
    {
      "cell_type": "code",
      "metadata": {
        "id": "yqahFtdOsX3f"
      },
      "source": [
        "data = pd.DataFrame(columns = ['speaker', 'text', 'role', 'date', 'title'])\n",
        "for title in titles_play:\n",
        "  try:\n",
        "    df_play = fill_df(title)\n",
        "    data = pd.concat([data, df_play])\n",
        "  except:\n",
        "    pass"
      ],
      "execution_count": null,
      "outputs": []
    },
    {
      "cell_type": "code",
      "metadata": {
        "colab": {
          "base_uri": "https://localhost:8080/",
          "height": 419
        },
        "id": "1Joik4b6Fn4S",
        "outputId": "a749f654-7c97-455a-ef2f-eae959f55870"
      },
      "source": [
        "data"
      ],
      "execution_count": null,
      "outputs": [
        {
          "output_type": "execute_result",
          "data": {
            "text/html": [
              "<div>\n",
              "<style scoped>\n",
              "    .dataframe tbody tr th:only-of-type {\n",
              "        vertical-align: middle;\n",
              "    }\n",
              "\n",
              "    .dataframe tbody tr th {\n",
              "        vertical-align: top;\n",
              "    }\n",
              "\n",
              "    .dataframe thead th {\n",
              "        text-align: right;\n",
              "    }\n",
              "</style>\n",
              "<table border=\"1\" class=\"dataframe\">\n",
              "  <thead>\n",
              "    <tr style=\"text-align: right;\">\n",
              "      <th></th>\n",
              "      <th>speaker</th>\n",
              "      <th>text</th>\n",
              "      <th>role</th>\n",
              "      <th>date</th>\n",
              "      <th>title</th>\n",
              "    </tr>\n",
              "  </thead>\n",
              "  <tbody>\n",
              "    <tr>\n",
              "      <th>0</th>\n",
              "      <td>#taratora</td>\n",
              "      <td>И ты еще, мошенник, смеешь мне указывать! Да з...</td>\n",
              "      <td>parent</td>\n",
              "      <td>1788</td>\n",
              "      <td>krylov-prokazniki</td>\n",
              "    </tr>\n",
              "    <tr>\n",
              "      <th>1</th>\n",
              "      <td>#taratora</td>\n",
              "      <td>То есть чего-нибудь хорошенького.</td>\n",
              "      <td>parent</td>\n",
              "      <td>1788</td>\n",
              "      <td>krylov-prokazniki</td>\n",
              "    </tr>\n",
              "    <tr>\n",
              "      <th>2</th>\n",
              "      <td>#taratora</td>\n",
              "      <td>Как, бездельник! да разве не для того он сюда ...</td>\n",
              "      <td>parent</td>\n",
              "      <td>1788</td>\n",
              "      <td>krylov-prokazniki</td>\n",
              "    </tr>\n",
              "    <tr>\n",
              "      <th>3</th>\n",
              "      <td>#taratora</td>\n",
              "      <td>Да его ль вина, бестия, что вы все здесь ходит...</td>\n",
              "      <td>parent</td>\n",
              "      <td>1788</td>\n",
              "      <td>krylov-prokazniki</td>\n",
              "    </tr>\n",
              "    <tr>\n",
              "      <th>4</th>\n",
              "      <td>#taratora</td>\n",
              "      <td>Я окончала!.. Как я рада! Элегия эта беспример...</td>\n",
              "      <td>parent</td>\n",
              "      <td>1788</td>\n",
              "      <td>krylov-prokazniki</td>\n",
              "    </tr>\n",
              "    <tr>\n",
              "      <th>...</th>\n",
              "      <td>...</td>\n",
              "      <td>...</td>\n",
              "      <td>...</td>\n",
              "      <td>...</td>\n",
              "      <td>...</td>\n",
              "    </tr>\n",
              "    <tr>\n",
              "      <th>95</th>\n",
              "      <td>#sineus</td>\n",
              "      <td>Ты, сказывают, хотел Славян и прочие народы от...</td>\n",
              "      <td>children</td>\n",
              "      <td>1786</td>\n",
              "      <td>ekaterina-vtoraja-iz-zhizni-rjurika</td>\n",
              "    </tr>\n",
              "    <tr>\n",
              "      <th>96</th>\n",
              "      <td>#truvor</td>\n",
              "      <td>Какие же ты имел при том намерения?</td>\n",
              "      <td>children</td>\n",
              "      <td>1786</td>\n",
              "      <td>ekaterina-vtoraja-iz-zhizni-rjurika</td>\n",
              "    </tr>\n",
              "    <tr>\n",
              "      <th>97</th>\n",
              "      <td>#oskold</td>\n",
              "      <td>К чему прение тут, где дело само по себе ясно?</td>\n",
              "      <td>children</td>\n",
              "      <td>1786</td>\n",
              "      <td>ekaterina-vtoraja-iz-zhizni-rjurika</td>\n",
              "    </tr>\n",
              "    <tr>\n",
              "      <th>98</th>\n",
              "      <td>#rjurik</td>\n",
              "      <td>Бодрость духа твоего, князь Вадим, не унывает;...</td>\n",
              "      <td>parent</td>\n",
              "      <td>1786</td>\n",
              "      <td>ekaterina-vtoraja-iz-zhizni-rjurika</td>\n",
              "    </tr>\n",
              "    <tr>\n",
              "      <th>99</th>\n",
              "      <td>#rjurik</td>\n",
              "      <td>Неоспорима по крайней мере есть истина на сей ...</td>\n",
              "      <td>parent</td>\n",
              "      <td>1786</td>\n",
              "      <td>ekaterina-vtoraja-iz-zhizni-rjurika</td>\n",
              "    </tr>\n",
              "  </tbody>\n",
              "</table>\n",
              "<p>20302 rows × 5 columns</p>\n",
              "</div>"
            ],
            "text/plain": [
              "      speaker  ...                                title\n",
              "0   #taratora  ...                    krylov-prokazniki\n",
              "1   #taratora  ...                    krylov-prokazniki\n",
              "2   #taratora  ...                    krylov-prokazniki\n",
              "3   #taratora  ...                    krylov-prokazniki\n",
              "4   #taratora  ...                    krylov-prokazniki\n",
              "..        ...  ...                                  ...\n",
              "95    #sineus  ...  ekaterina-vtoraja-iz-zhizni-rjurika\n",
              "96    #truvor  ...  ekaterina-vtoraja-iz-zhizni-rjurika\n",
              "97    #oskold  ...  ekaterina-vtoraja-iz-zhizni-rjurika\n",
              "98    #rjurik  ...  ekaterina-vtoraja-iz-zhizni-rjurika\n",
              "99    #rjurik  ...  ekaterina-vtoraja-iz-zhizni-rjurika\n",
              "\n",
              "[20302 rows x 5 columns]"
            ]
          },
          "metadata": {
            "tags": []
          },
          "execution_count": 96
        }
      ]
    },
    {
      "cell_type": "code",
      "metadata": {
        "id": "oubLpIN1HDf8"
      },
      "source": [
        "data.to_csv('data.csv')"
      ],
      "execution_count": null,
      "outputs": []
    }
  ]
}