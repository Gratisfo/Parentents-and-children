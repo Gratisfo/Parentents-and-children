{
  "nbformat": 4,
  "nbformat_minor": 0,
  "metadata": {
    "colab": {
      "name": "Contrastive analysis_RusDraCor.ipynb",
      "provenance": [],
      "collapsed_sections": [],
      "include_colab_link": true
    },
    "kernelspec": {
      "name": "python3",
      "display_name": "Python 3"
    },
    "widgets": {
      "application/vnd.jupyter.widget-state+json": {
        "a9b83639710a451d9494772eea461969": {
          "model_module": "@jupyter-widgets/controls",
          "model_name": "HBoxModel",
          "state": {
            "_view_name": "HBoxView",
            "_dom_classes": [],
            "_model_name": "HBoxModel",
            "_view_module": "@jupyter-widgets/controls",
            "_model_module_version": "1.5.0",
            "_view_count": null,
            "_view_module_version": "1.5.0",
            "box_style": "",
            "layout": "IPY_MODEL_6edef6399931455187e22c13c9545773",
            "_model_module": "@jupyter-widgets/controls",
            "children": [
              "IPY_MODEL_e117d1e7842e4ee88acebeca6dbb8b37",
              "IPY_MODEL_00f7fbe9998249d886246446179a5507"
            ]
          }
        },
        "6edef6399931455187e22c13c9545773": {
          "model_module": "@jupyter-widgets/base",
          "model_name": "LayoutModel",
          "state": {
            "_view_name": "LayoutView",
            "grid_template_rows": null,
            "right": null,
            "justify_content": null,
            "_view_module": "@jupyter-widgets/base",
            "overflow": null,
            "_model_module_version": "1.2.0",
            "_view_count": null,
            "flex_flow": null,
            "width": null,
            "min_width": null,
            "border": null,
            "align_items": null,
            "bottom": null,
            "_model_module": "@jupyter-widgets/base",
            "top": null,
            "grid_column": null,
            "overflow_y": null,
            "overflow_x": null,
            "grid_auto_flow": null,
            "grid_area": null,
            "grid_template_columns": null,
            "flex": null,
            "_model_name": "LayoutModel",
            "justify_items": null,
            "grid_row": null,
            "max_height": null,
            "align_content": null,
            "visibility": null,
            "align_self": null,
            "height": null,
            "min_height": null,
            "padding": null,
            "grid_auto_rows": null,
            "grid_gap": null,
            "max_width": null,
            "order": null,
            "_view_module_version": "1.2.0",
            "grid_template_areas": null,
            "object_position": null,
            "object_fit": null,
            "grid_auto_columns": null,
            "margin": null,
            "display": null,
            "left": null
          }
        },
        "e117d1e7842e4ee88acebeca6dbb8b37": {
          "model_module": "@jupyter-widgets/controls",
          "model_name": "FloatProgressModel",
          "state": {
            "_view_name": "ProgressView",
            "style": "IPY_MODEL_d0ff6985121d43c78c6a784001fc502c",
            "_dom_classes": [],
            "description": "100%",
            "_model_name": "FloatProgressModel",
            "bar_style": "success",
            "max": 307,
            "_view_module": "@jupyter-widgets/controls",
            "_model_module_version": "1.5.0",
            "value": 307,
            "_view_count": null,
            "_view_module_version": "1.5.0",
            "orientation": "horizontal",
            "min": 0,
            "description_tooltip": null,
            "_model_module": "@jupyter-widgets/controls",
            "layout": "IPY_MODEL_3608d25e1d7a4e3794a054326930e068"
          }
        },
        "00f7fbe9998249d886246446179a5507": {
          "model_module": "@jupyter-widgets/controls",
          "model_name": "HTMLModel",
          "state": {
            "_view_name": "HTMLView",
            "style": "IPY_MODEL_f4d43f505a5d4e1ebbf3ec17ea32741a",
            "_dom_classes": [],
            "description": "",
            "_model_name": "HTMLModel",
            "placeholder": "​",
            "_view_module": "@jupyter-widgets/controls",
            "_model_module_version": "1.5.0",
            "value": " 307/307 [00:27&lt;00:00, 11.24it/s]",
            "_view_count": null,
            "_view_module_version": "1.5.0",
            "description_tooltip": null,
            "_model_module": "@jupyter-widgets/controls",
            "layout": "IPY_MODEL_7d0dbc6e81af43de8763f53442706c3e"
          }
        },
        "d0ff6985121d43c78c6a784001fc502c": {
          "model_module": "@jupyter-widgets/controls",
          "model_name": "ProgressStyleModel",
          "state": {
            "_view_name": "StyleView",
            "_model_name": "ProgressStyleModel",
            "description_width": "initial",
            "_view_module": "@jupyter-widgets/base",
            "_model_module_version": "1.5.0",
            "_view_count": null,
            "_view_module_version": "1.2.0",
            "bar_color": null,
            "_model_module": "@jupyter-widgets/controls"
          }
        },
        "3608d25e1d7a4e3794a054326930e068": {
          "model_module": "@jupyter-widgets/base",
          "model_name": "LayoutModel",
          "state": {
            "_view_name": "LayoutView",
            "grid_template_rows": null,
            "right": null,
            "justify_content": null,
            "_view_module": "@jupyter-widgets/base",
            "overflow": null,
            "_model_module_version": "1.2.0",
            "_view_count": null,
            "flex_flow": null,
            "width": null,
            "min_width": null,
            "border": null,
            "align_items": null,
            "bottom": null,
            "_model_module": "@jupyter-widgets/base",
            "top": null,
            "grid_column": null,
            "overflow_y": null,
            "overflow_x": null,
            "grid_auto_flow": null,
            "grid_area": null,
            "grid_template_columns": null,
            "flex": null,
            "_model_name": "LayoutModel",
            "justify_items": null,
            "grid_row": null,
            "max_height": null,
            "align_content": null,
            "visibility": null,
            "align_self": null,
            "height": null,
            "min_height": null,
            "padding": null,
            "grid_auto_rows": null,
            "grid_gap": null,
            "max_width": null,
            "order": null,
            "_view_module_version": "1.2.0",
            "grid_template_areas": null,
            "object_position": null,
            "object_fit": null,
            "grid_auto_columns": null,
            "margin": null,
            "display": null,
            "left": null
          }
        },
        "f4d43f505a5d4e1ebbf3ec17ea32741a": {
          "model_module": "@jupyter-widgets/controls",
          "model_name": "DescriptionStyleModel",
          "state": {
            "_view_name": "StyleView",
            "_model_name": "DescriptionStyleModel",
            "description_width": "",
            "_view_module": "@jupyter-widgets/base",
            "_model_module_version": "1.5.0",
            "_view_count": null,
            "_view_module_version": "1.2.0",
            "_model_module": "@jupyter-widgets/controls"
          }
        },
        "7d0dbc6e81af43de8763f53442706c3e": {
          "model_module": "@jupyter-widgets/base",
          "model_name": "LayoutModel",
          "state": {
            "_view_name": "LayoutView",
            "grid_template_rows": null,
            "right": null,
            "justify_content": null,
            "_view_module": "@jupyter-widgets/base",
            "overflow": null,
            "_model_module_version": "1.2.0",
            "_view_count": null,
            "flex_flow": null,
            "width": null,
            "min_width": null,
            "border": null,
            "align_items": null,
            "bottom": null,
            "_model_module": "@jupyter-widgets/base",
            "top": null,
            "grid_column": null,
            "overflow_y": null,
            "overflow_x": null,
            "grid_auto_flow": null,
            "grid_area": null,
            "grid_template_columns": null,
            "flex": null,
            "_model_name": "LayoutModel",
            "justify_items": null,
            "grid_row": null,
            "max_height": null,
            "align_content": null,
            "visibility": null,
            "align_self": null,
            "height": null,
            "min_height": null,
            "padding": null,
            "grid_auto_rows": null,
            "grid_gap": null,
            "max_width": null,
            "order": null,
            "_view_module_version": "1.2.0",
            "grid_template_areas": null,
            "object_position": null,
            "object_fit": null,
            "grid_auto_columns": null,
            "margin": null,
            "display": null,
            "left": null
          }
        },
        "8ada8780c2a640a4aafc16c45d6afe1d": {
          "model_module": "@jupyter-widgets/controls",
          "model_name": "HBoxModel",
          "state": {
            "_view_name": "HBoxView",
            "_dom_classes": [],
            "_model_name": "HBoxModel",
            "_view_module": "@jupyter-widgets/controls",
            "_model_module_version": "1.5.0",
            "_view_count": null,
            "_view_module_version": "1.5.0",
            "box_style": "",
            "layout": "IPY_MODEL_96184842c60a4f8092fac95c9de1e2f2",
            "_model_module": "@jupyter-widgets/controls",
            "children": [
              "IPY_MODEL_a88e532fbc194ca9ae0636a7808f8420",
              "IPY_MODEL_8524e9e7a80b49d5b7fbde53bee98b14"
            ]
          }
        },
        "96184842c60a4f8092fac95c9de1e2f2": {
          "model_module": "@jupyter-widgets/base",
          "model_name": "LayoutModel",
          "state": {
            "_view_name": "LayoutView",
            "grid_template_rows": null,
            "right": null,
            "justify_content": null,
            "_view_module": "@jupyter-widgets/base",
            "overflow": null,
            "_model_module_version": "1.2.0",
            "_view_count": null,
            "flex_flow": null,
            "width": null,
            "min_width": null,
            "border": null,
            "align_items": null,
            "bottom": null,
            "_model_module": "@jupyter-widgets/base",
            "top": null,
            "grid_column": null,
            "overflow_y": null,
            "overflow_x": null,
            "grid_auto_flow": null,
            "grid_area": null,
            "grid_template_columns": null,
            "flex": null,
            "_model_name": "LayoutModel",
            "justify_items": null,
            "grid_row": null,
            "max_height": null,
            "align_content": null,
            "visibility": null,
            "align_self": null,
            "height": null,
            "min_height": null,
            "padding": null,
            "grid_auto_rows": null,
            "grid_gap": null,
            "max_width": null,
            "order": null,
            "_view_module_version": "1.2.0",
            "grid_template_areas": null,
            "object_position": null,
            "object_fit": null,
            "grid_auto_columns": null,
            "margin": null,
            "display": null,
            "left": null
          }
        },
        "a88e532fbc194ca9ae0636a7808f8420": {
          "model_module": "@jupyter-widgets/controls",
          "model_name": "FloatProgressModel",
          "state": {
            "_view_name": "ProgressView",
            "style": "IPY_MODEL_c0a67add6b45400392f763265289cc28",
            "_dom_classes": [],
            "description": "",
            "_model_name": "FloatProgressModel",
            "bar_style": "success",
            "max": 1,
            "_view_module": "@jupyter-widgets/controls",
            "_model_module_version": "1.5.0",
            "value": 1,
            "_view_count": null,
            "_view_module_version": "1.5.0",
            "orientation": "horizontal",
            "min": 0,
            "description_tooltip": null,
            "_model_module": "@jupyter-widgets/controls",
            "layout": "IPY_MODEL_d84ce48dc27b45ffa339ff3febdd7878"
          }
        },
        "8524e9e7a80b49d5b7fbde53bee98b14": {
          "model_module": "@jupyter-widgets/controls",
          "model_name": "HTMLModel",
          "state": {
            "_view_name": "HTMLView",
            "style": "IPY_MODEL_6701b89c26264eff90fd354d9984c34e",
            "_dom_classes": [],
            "description": "",
            "_model_name": "HTMLModel",
            "placeholder": "​",
            "_view_module": "@jupyter-widgets/controls",
            "_model_module_version": "1.5.0",
            "value": " 307/? [00:00&lt;00:00, 714.02it/s]",
            "_view_count": null,
            "_view_module_version": "1.5.0",
            "description_tooltip": null,
            "_model_module": "@jupyter-widgets/controls",
            "layout": "IPY_MODEL_4df587d5e8dd4ff7881ec9a56847434f"
          }
        },
        "c0a67add6b45400392f763265289cc28": {
          "model_module": "@jupyter-widgets/controls",
          "model_name": "ProgressStyleModel",
          "state": {
            "_view_name": "StyleView",
            "_model_name": "ProgressStyleModel",
            "description_width": "initial",
            "_view_module": "@jupyter-widgets/base",
            "_model_module_version": "1.5.0",
            "_view_count": null,
            "_view_module_version": "1.2.0",
            "bar_color": null,
            "_model_module": "@jupyter-widgets/controls"
          }
        },
        "d84ce48dc27b45ffa339ff3febdd7878": {
          "model_module": "@jupyter-widgets/base",
          "model_name": "LayoutModel",
          "state": {
            "_view_name": "LayoutView",
            "grid_template_rows": null,
            "right": null,
            "justify_content": null,
            "_view_module": "@jupyter-widgets/base",
            "overflow": null,
            "_model_module_version": "1.2.0",
            "_view_count": null,
            "flex_flow": null,
            "width": null,
            "min_width": null,
            "border": null,
            "align_items": null,
            "bottom": null,
            "_model_module": "@jupyter-widgets/base",
            "top": null,
            "grid_column": null,
            "overflow_y": null,
            "overflow_x": null,
            "grid_auto_flow": null,
            "grid_area": null,
            "grid_template_columns": null,
            "flex": null,
            "_model_name": "LayoutModel",
            "justify_items": null,
            "grid_row": null,
            "max_height": null,
            "align_content": null,
            "visibility": null,
            "align_self": null,
            "height": null,
            "min_height": null,
            "padding": null,
            "grid_auto_rows": null,
            "grid_gap": null,
            "max_width": null,
            "order": null,
            "_view_module_version": "1.2.0",
            "grid_template_areas": null,
            "object_position": null,
            "object_fit": null,
            "grid_auto_columns": null,
            "margin": null,
            "display": null,
            "left": null
          }
        },
        "6701b89c26264eff90fd354d9984c34e": {
          "model_module": "@jupyter-widgets/controls",
          "model_name": "DescriptionStyleModel",
          "state": {
            "_view_name": "StyleView",
            "_model_name": "DescriptionStyleModel",
            "description_width": "",
            "_view_module": "@jupyter-widgets/base",
            "_model_module_version": "1.5.0",
            "_view_count": null,
            "_view_module_version": "1.2.0",
            "_model_module": "@jupyter-widgets/controls"
          }
        },
        "4df587d5e8dd4ff7881ec9a56847434f": {
          "model_module": "@jupyter-widgets/base",
          "model_name": "LayoutModel",
          "state": {
            "_view_name": "LayoutView",
            "grid_template_rows": null,
            "right": null,
            "justify_content": null,
            "_view_module": "@jupyter-widgets/base",
            "overflow": null,
            "_model_module_version": "1.2.0",
            "_view_count": null,
            "flex_flow": null,
            "width": null,
            "min_width": null,
            "border": null,
            "align_items": null,
            "bottom": null,
            "_model_module": "@jupyter-widgets/base",
            "top": null,
            "grid_column": null,
            "overflow_y": null,
            "overflow_x": null,
            "grid_auto_flow": null,
            "grid_area": null,
            "grid_template_columns": null,
            "flex": null,
            "_model_name": "LayoutModel",
            "justify_items": null,
            "grid_row": null,
            "max_height": null,
            "align_content": null,
            "visibility": null,
            "align_self": null,
            "height": null,
            "min_height": null,
            "padding": null,
            "grid_auto_rows": null,
            "grid_gap": null,
            "max_width": null,
            "order": null,
            "_view_module_version": "1.2.0",
            "grid_template_areas": null,
            "object_position": null,
            "object_fit": null,
            "grid_auto_columns": null,
            "margin": null,
            "display": null,
            "left": null
          }
        }
      }
    }
  },
  "cells": [
    {
      "cell_type": "markdown",
      "metadata": {
        "id": "view-in-github",
        "colab_type": "text"
      },
      "source": [
        "<a href=\"https://colab.research.google.com/github/Gratisfo/Parentents-and-children/blob/main/Contrastive_analysis_RusDraCor.ipynb\" target=\"_parent\"><img src=\"https://colab.research.google.com/assets/colab-badge.svg\" alt=\"Open In Colab\"/></a>"
      ]
    },
    {
      "cell_type": "markdown",
      "metadata": {
        "id": "RhI1_gZFYenr"
      },
      "source": [
        "# Подготовка для выкачивания текстов Островского"
      ]
    },
    {
      "cell_type": "code",
      "metadata": {
        "id": "DCgVmlHPjrIJ"
      },
      "source": [
        "import json\n",
        "import requests\n",
        "import csv\n",
        "import pandas as pd\n",
        "from tqdm import tqdm"
      ],
      "execution_count": 1,
      "outputs": []
    },
    {
      "cell_type": "code",
      "metadata": {
        "id": "ff-89umVj3mY"
      },
      "source": [
        "# get metadata from rus corpus\n",
        "r = requests.get(\"https://dracor.org/api/corpora/rus/metadata\")"
      ],
      "execution_count": 2,
      "outputs": []
    },
    {
      "cell_type": "code",
      "metadata": {
        "id": "FU8UFUKzp0qK"
      },
      "source": [
        "parsedResponse = json.loads(r.text)"
      ],
      "execution_count": 3,
      "outputs": []
    },
    {
      "cell_type": "code",
      "metadata": {
        "colab": {
          "base_uri": "https://localhost:8080/"
        },
        "id": "hIXDQZMkp5Au",
        "outputId": "4604998c-0967-4089-9605-af62c3fb9b21"
      },
      "source": [
        "# create list for the names of the playes\n",
        "play_name = [res['name'] for res in parsedResponse]\n",
        "print(len(play_name))"
      ],
      "execution_count": 4,
      "outputs": [
        {
          "output_type": "stream",
          "text": [
            "211\n"
          ],
          "name": "stdout"
        }
      ]
    },
    {
      "cell_type": "code",
      "metadata": {
        "id": "1xlwyf3VfRrd"
      },
      "source": [
        "# create df for parent_children relation from all plays\n",
        "df = pd.DataFrame(columns = ['title', 'parent', 'child'])\n",
        "\n",
        "# list for plays' title where is relations as parent_of\n",
        "parents_in_play = []\n",
        "\n",
        "for name in play_name:\n",
        "  if 'ostrovsky' in name:  \n",
        "    url = \"https://dracor.org/api/corpora/rus/play/{}/relations/csv\".format(name)\n",
        "    download = requests.get(url)\n",
        "    decoded_content = download.content.decode('utf-8')\n",
        "    cr = csv.reader(decoded_content.splitlines(), delimiter=',')\n",
        "\n",
        "    for row in list(cr):\n",
        "      if row[3] == 'parent_of':\n",
        "        df.loc[len(df)] = [name, row[0], row[2]] # append to df title of play, parent, children\n",
        "        parents_in_play.append(name)     "
      ],
      "execution_count": 5,
      "outputs": []
    },
    {
      "cell_type": "code",
      "metadata": {
        "id": "V2Q1WBy0_i_I",
        "colab": {
          "base_uri": "https://localhost:8080/"
        },
        "outputId": "57a0fc29-fbfa-47f4-973b-cadf126c5546"
      },
      "source": [
        "# save only unique titles\n",
        "titles_play = list(set(parents_in_play))\n",
        "titles_play"
      ],
      "execution_count": 6,
      "outputs": [
        {
          "output_type": "execute_result",
          "data": {
            "text/plain": [
              "['ostrovsky-goryachee-serdce',\n",
              " 'ostrovsky-na-vsyakogo-mudreca-dovolno-prostoty',\n",
              " 'ostrovsky-staryj-drug-luchshe-novyh-dvuh',\n",
              " 'ostrovsky-za-chem-pojdesh-to-i-najdesh',\n",
              " 'ostrovsky-bednaja-nevesta',\n",
              " 'ostrovsky-vospitannica',\n",
              " 'ostrovsky-bednost-ne-porok',\n",
              " 'ostrovsky-svoi-sobaki-gryzutsya-chuzhaya-ne-pristavaj',\n",
              " 'ostrovsky-shutniki',\n",
              " 'ostrovsky-beshenye-dengi',\n",
              " 'ostrovsky-bogatye-nevesty',\n",
              " 'ostrovsky-semejnaya-kartina',\n",
              " 'ostrovsky-ne-v-svoi-sani-ne-sadis',\n",
              " 'ostrovsky-ne-tak-zhivi-kak-hochetsya',\n",
              " 'ostrovsky-pozdnyaya-lyubov',\n",
              " 'ostrovsky-svoi-ljudi',\n",
              " 'ostrovsky-groza',\n",
              " 'ostrovsky-les',\n",
              " 'ostrovsky-ne-soshlis-harakterami',\n",
              " 'ostrovsky-puchina',\n",
              " 'ostrovsky-v-chuzhom-piru-pohmelje',\n",
              " 'ostrovsky-prazdnichnyj-son-do-obeda',\n",
              " 'ostrovsky-bespridannitsa']"
            ]
          },
          "metadata": {
            "tags": []
          },
          "execution_count": 6
        }
      ]
    },
    {
      "cell_type": "code",
      "metadata": {
        "id": "_6nNVDmBbnp8",
        "colab": {
          "base_uri": "https://localhost:8080/",
          "height": 1000
        },
        "outputId": "b1c0346a-f104-4da9-e198-e7aa2630a6f2"
      },
      "source": [
        "df"
      ],
      "execution_count": 7,
      "outputs": [
        {
          "output_type": "execute_result",
          "data": {
            "text/html": [
              "<div>\n",
              "<style scoped>\n",
              "    .dataframe tbody tr th:only-of-type {\n",
              "        vertical-align: middle;\n",
              "    }\n",
              "\n",
              "    .dataframe tbody tr th {\n",
              "        vertical-align: top;\n",
              "    }\n",
              "\n",
              "    .dataframe thead th {\n",
              "        text-align: right;\n",
              "    }\n",
              "</style>\n",
              "<table border=\"1\" class=\"dataframe\">\n",
              "  <thead>\n",
              "    <tr style=\"text-align: right;\">\n",
              "      <th></th>\n",
              "      <th>title</th>\n",
              "      <th>parent</th>\n",
              "      <th>child</th>\n",
              "    </tr>\n",
              "  </thead>\n",
              "  <tbody>\n",
              "    <tr>\n",
              "      <th>0</th>\n",
              "      <td>ostrovsky-bednaja-nevesta</td>\n",
              "      <td>anna_petrovna</td>\n",
              "      <td>marja_andreevna</td>\n",
              "    </tr>\n",
              "    <tr>\n",
              "      <th>1</th>\n",
              "      <td>ostrovsky-bednaja-nevesta</td>\n",
              "      <td>horkova</td>\n",
              "      <td>horkov</td>\n",
              "    </tr>\n",
              "    <tr>\n",
              "      <th>2</th>\n",
              "      <td>ostrovsky-bednost-ne-porok</td>\n",
              "      <td>GordejKarpych</td>\n",
              "      <td>LjubovGordeevna</td>\n",
              "    </tr>\n",
              "    <tr>\n",
              "      <th>3</th>\n",
              "      <td>ostrovsky-bednost-ne-porok</td>\n",
              "      <td>PelagejaEgorovna</td>\n",
              "      <td>LjubovGordeevna</td>\n",
              "    </tr>\n",
              "    <tr>\n",
              "      <th>4</th>\n",
              "      <td>ostrovsky-beshenye-dengi</td>\n",
              "      <td>nadezhda_antonovna</td>\n",
              "      <td>lidiya</td>\n",
              "    </tr>\n",
              "    <tr>\n",
              "      <th>5</th>\n",
              "      <td>ostrovsky-bespridannitsa</td>\n",
              "      <td>Ogudalova</td>\n",
              "      <td>Larisa</td>\n",
              "    </tr>\n",
              "    <tr>\n",
              "      <th>6</th>\n",
              "      <td>ostrovsky-bogatye-nevesty</td>\n",
              "      <td>cyplunova</td>\n",
              "      <td>cyplunov</td>\n",
              "    </tr>\n",
              "    <tr>\n",
              "      <th>7</th>\n",
              "      <td>ostrovsky-goryachee-serdce</td>\n",
              "      <td>kuroslepov</td>\n",
              "      <td>parasha</td>\n",
              "    </tr>\n",
              "    <tr>\n",
              "      <th>8</th>\n",
              "      <td>ostrovsky-groza</td>\n",
              "      <td>kabanova</td>\n",
              "      <td>kabanov</td>\n",
              "    </tr>\n",
              "    <tr>\n",
              "      <th>9</th>\n",
              "      <td>ostrovsky-les</td>\n",
              "      <td>vosmibratov</td>\n",
              "      <td>petr</td>\n",
              "    </tr>\n",
              "    <tr>\n",
              "      <th>10</th>\n",
              "      <td>ostrovsky-na-vsyakogo-mudreca-dovolno-prostoty</td>\n",
              "      <td>glumova</td>\n",
              "      <td>glumov</td>\n",
              "    </tr>\n",
              "    <tr>\n",
              "      <th>11</th>\n",
              "      <td>ostrovsky-ne-soshlis-harakterami</td>\n",
              "      <td>prezhnev</td>\n",
              "      <td>pol</td>\n",
              "    </tr>\n",
              "    <tr>\n",
              "      <th>12</th>\n",
              "      <td>ostrovsky-ne-soshlis-harakterami</td>\n",
              "      <td>prezhneva</td>\n",
              "      <td>pol</td>\n",
              "    </tr>\n",
              "    <tr>\n",
              "      <th>13</th>\n",
              "      <td>ostrovsky-ne-tak-zhivi-kak-hochetsya</td>\n",
              "      <td>ilya</td>\n",
              "      <td>petr</td>\n",
              "    </tr>\n",
              "    <tr>\n",
              "      <th>14</th>\n",
              "      <td>ostrovsky-ne-tak-zhivi-kak-hochetsya</td>\n",
              "      <td>spiridonovna</td>\n",
              "      <td>grusha</td>\n",
              "    </tr>\n",
              "    <tr>\n",
              "      <th>15</th>\n",
              "      <td>ostrovsky-ne-v-svoi-sani-ne-sadis</td>\n",
              "      <td>rusakov</td>\n",
              "      <td>avdotya_maksimovna</td>\n",
              "    </tr>\n",
              "    <tr>\n",
              "      <th>16</th>\n",
              "      <td>ostrovsky-pozdnyaya-lyubov</td>\n",
              "      <td>margaritov</td>\n",
              "      <td>lyudmila</td>\n",
              "    </tr>\n",
              "    <tr>\n",
              "      <th>17</th>\n",
              "      <td>ostrovsky-pozdnyaya-lyubov</td>\n",
              "      <td>shablova</td>\n",
              "      <td>dormedont</td>\n",
              "    </tr>\n",
              "    <tr>\n",
              "      <th>18</th>\n",
              "      <td>ostrovsky-prazdnichnyj-son-do-obeda</td>\n",
              "      <td>balzaminova</td>\n",
              "      <td>balzaminov</td>\n",
              "    </tr>\n",
              "    <tr>\n",
              "      <th>19</th>\n",
              "      <td>ostrovsky-prazdnichnyj-son-do-obeda</td>\n",
              "      <td>nichkina</td>\n",
              "      <td>kapochka</td>\n",
              "    </tr>\n",
              "    <tr>\n",
              "      <th>20</th>\n",
              "      <td>ostrovsky-prazdnichnyj-son-do-obeda</td>\n",
              "      <td>neuedenov</td>\n",
              "      <td>yusha</td>\n",
              "    </tr>\n",
              "    <tr>\n",
              "      <th>21</th>\n",
              "      <td>ostrovsky-puchina</td>\n",
              "      <td>borovcov</td>\n",
              "      <td>glafira</td>\n",
              "    </tr>\n",
              "    <tr>\n",
              "      <th>22</th>\n",
              "      <td>ostrovsky-puchina</td>\n",
              "      <td>borovcova</td>\n",
              "      <td>glafira</td>\n",
              "    </tr>\n",
              "    <tr>\n",
              "      <th>23</th>\n",
              "      <td>ostrovsky-semejnaya-kartina</td>\n",
              "      <td>stepanida_trofimovna</td>\n",
              "      <td>antip_antipych</td>\n",
              "    </tr>\n",
              "    <tr>\n",
              "      <th>24</th>\n",
              "      <td>ostrovsky-shutniki</td>\n",
              "      <td>obroshenov</td>\n",
              "      <td>anna_pavlovna</td>\n",
              "    </tr>\n",
              "    <tr>\n",
              "      <th>25</th>\n",
              "      <td>ostrovsky-shutniki</td>\n",
              "      <td>obroshenov</td>\n",
              "      <td>verochka</td>\n",
              "    </tr>\n",
              "    <tr>\n",
              "      <th>26</th>\n",
              "      <td>ostrovsky-staryj-drug-luchshe-novyh-dvuh</td>\n",
              "      <td>tatyana_nikonovna</td>\n",
              "      <td>olenka</td>\n",
              "    </tr>\n",
              "    <tr>\n",
              "      <th>27</th>\n",
              "      <td>ostrovsky-svoi-ljudi</td>\n",
              "      <td>agrafena_kondratevna</td>\n",
              "      <td>lipochka</td>\n",
              "    </tr>\n",
              "    <tr>\n",
              "      <th>28</th>\n",
              "      <td>ostrovsky-svoi-ljudi</td>\n",
              "      <td>bolshov</td>\n",
              "      <td>lipochka</td>\n",
              "    </tr>\n",
              "    <tr>\n",
              "      <th>29</th>\n",
              "      <td>ostrovsky-svoi-sobaki-gryzutsya-chuzhaya-ne-pr...</td>\n",
              "      <td>balzaminova</td>\n",
              "      <td>balzaminov</td>\n",
              "    </tr>\n",
              "    <tr>\n",
              "      <th>30</th>\n",
              "      <td>ostrovsky-v-chuzhom-piru-pohmelje</td>\n",
              "      <td>ivan_ksenofontych</td>\n",
              "      <td>lizaveta_ivanovna</td>\n",
              "    </tr>\n",
              "    <tr>\n",
              "      <th>31</th>\n",
              "      <td>ostrovsky-v-chuzhom-piru-pohmelje</td>\n",
              "      <td>tit_titych</td>\n",
              "      <td>andrej_titych</td>\n",
              "    </tr>\n",
              "    <tr>\n",
              "      <th>32</th>\n",
              "      <td>ostrovsky-vospitannica</td>\n",
              "      <td>ulanbekova</td>\n",
              "      <td>leonid</td>\n",
              "    </tr>\n",
              "    <tr>\n",
              "      <th>33</th>\n",
              "      <td>ostrovsky-za-chem-pojdesh-to-i-najdesh</td>\n",
              "      <td>balzaminova</td>\n",
              "      <td>balzaminov</td>\n",
              "    </tr>\n",
              "  </tbody>\n",
              "</table>\n",
              "</div>"
            ],
            "text/plain": [
              "                                                title  ...               child\n",
              "0                           ostrovsky-bednaja-nevesta  ...     marja_andreevna\n",
              "1                           ostrovsky-bednaja-nevesta  ...              horkov\n",
              "2                          ostrovsky-bednost-ne-porok  ...     LjubovGordeevna\n",
              "3                          ostrovsky-bednost-ne-porok  ...     LjubovGordeevna\n",
              "4                            ostrovsky-beshenye-dengi  ...              lidiya\n",
              "5                            ostrovsky-bespridannitsa  ...              Larisa\n",
              "6                           ostrovsky-bogatye-nevesty  ...            cyplunov\n",
              "7                          ostrovsky-goryachee-serdce  ...             parasha\n",
              "8                                     ostrovsky-groza  ...             kabanov\n",
              "9                                       ostrovsky-les  ...                petr\n",
              "10     ostrovsky-na-vsyakogo-mudreca-dovolno-prostoty  ...              glumov\n",
              "11                   ostrovsky-ne-soshlis-harakterami  ...                 pol\n",
              "12                   ostrovsky-ne-soshlis-harakterami  ...                 pol\n",
              "13               ostrovsky-ne-tak-zhivi-kak-hochetsya  ...                petr\n",
              "14               ostrovsky-ne-tak-zhivi-kak-hochetsya  ...              grusha\n",
              "15                  ostrovsky-ne-v-svoi-sani-ne-sadis  ...  avdotya_maksimovna\n",
              "16                         ostrovsky-pozdnyaya-lyubov  ...            lyudmila\n",
              "17                         ostrovsky-pozdnyaya-lyubov  ...           dormedont\n",
              "18                ostrovsky-prazdnichnyj-son-do-obeda  ...          balzaminov\n",
              "19                ostrovsky-prazdnichnyj-son-do-obeda  ...            kapochka\n",
              "20                ostrovsky-prazdnichnyj-son-do-obeda  ...               yusha\n",
              "21                                  ostrovsky-puchina  ...             glafira\n",
              "22                                  ostrovsky-puchina  ...             glafira\n",
              "23                        ostrovsky-semejnaya-kartina  ...      antip_antipych\n",
              "24                                 ostrovsky-shutniki  ...       anna_pavlovna\n",
              "25                                 ostrovsky-shutniki  ...            verochka\n",
              "26           ostrovsky-staryj-drug-luchshe-novyh-dvuh  ...              olenka\n",
              "27                               ostrovsky-svoi-ljudi  ...            lipochka\n",
              "28                               ostrovsky-svoi-ljudi  ...            lipochka\n",
              "29  ostrovsky-svoi-sobaki-gryzutsya-chuzhaya-ne-pr...  ...          balzaminov\n",
              "30                  ostrovsky-v-chuzhom-piru-pohmelje  ...   lizaveta_ivanovna\n",
              "31                  ostrovsky-v-chuzhom-piru-pohmelje  ...       andrej_titych\n",
              "32                             ostrovsky-vospitannica  ...              leonid\n",
              "33             ostrovsky-za-chem-pojdesh-to-i-najdesh  ...          balzaminov\n",
              "\n",
              "[34 rows x 3 columns]"
            ]
          },
          "metadata": {
            "tags": []
          },
          "execution_count": 7
        }
      ]
    },
    {
      "cell_type": "code",
      "metadata": {
        "id": "fFq0yQbffU2b"
      },
      "source": [
        "class Play:\n",
        "    def __init__(self):     \n",
        "      self.title = \"\" \n",
        "      self.author = \"\" \n",
        "      self.date = \"\" \n",
        "      self.parents = \"\" \n",
        "      self.children = \"\" \n",
        "      self.texts = \"\"\n",
        "      self.parents_text = \"\"\n",
        "      self.childrens_text = \"\""
      ],
      "execution_count": 8,
      "outputs": []
    },
    {
      "cell_type": "code",
      "metadata": {
        "id": "0DCjscvukI4E"
      },
      "source": [
        "def get_play(title):\n",
        "  play = Play()\n",
        "\n",
        "  # meta\n",
        "  play.title = title\n",
        "  play.date = [p['yearWritten'] for p in parsedResponse if p['playName'] == title][0]\n",
        "  play.author = [p['firstAuthor'] for p in parsedResponse \n",
        "                                                        if p['playName'] == title][0]\n",
        "  \n",
        "  # parents\\children characters\n",
        "  play.parents = list(set(df[df['title'] == title].parent))\n",
        "  play.children = list(set(df[df['title'] == title].child))\n",
        "\n",
        "  # parent\\children texts\n",
        "  url = \"https://dracor.org/api/corpora/rus/play/{}/spoken-text-by-character\".format(title)\n",
        "  req = requests.get(url)\n",
        "  play.texts = json.loads(req.text)\n",
        "\n",
        "  def text_char(name):\n",
        "    for text in play.texts: \n",
        "      if text['id'] == name:\n",
        "        text_char = text['text']\n",
        "    return text_char\n",
        "\n",
        "  play.parents_text = {name: text_char(name) for name in play.parents}\n",
        "  play.children_text = {name: text_char(name) for name in play.children}\n",
        "  return play\n",
        "\n"
      ],
      "execution_count": 9,
      "outputs": []
    },
    {
      "cell_type": "markdown",
      "metadata": {
        "id": "G4BnuKNXvCjY"
      },
      "source": [
        "# Заполняем df"
      ]
    },
    {
      "cell_type": "code",
      "metadata": {
        "id": "feoJyuuBvMFn"
      },
      "source": [
        "parent_text = []\n",
        "children_text = []\n",
        "for t in titles_play[:1]:\n",
        "  play = get_play(t)  \n",
        "  for i in play.parents_text:\n",
        "    for repl in play.parents_text[i]:\n",
        "      parent_text.append(repl)\n",
        "  for name in play.children_text:\n",
        "    for repl in play.children_text[name]:\n",
        "      children_text.append(repl)"
      ],
      "execution_count": 10,
      "outputs": []
    },
    {
      "cell_type": "code",
      "metadata": {
        "colab": {
          "base_uri": "https://localhost:8080/"
        },
        "id": "5g_2uaCdZ5ZQ",
        "outputId": "c1966f14-4d67-4d55-d8e9-82972840a7a2"
      },
      "source": [
        "len(children_text)"
      ],
      "execution_count": 13,
      "outputs": [
        {
          "output_type": "execute_result",
          "data": {
            "text/plain": [
              "129"
            ]
          },
          "metadata": {
            "tags": []
          },
          "execution_count": 13
        }
      ]
    },
    {
      "cell_type": "code",
      "metadata": {
        "colab": {
          "base_uri": "https://localhost:8080/",
          "height": 419
        },
        "id": "g5bDhuViysha",
        "outputId": "4e57adf3-22b0-4f24-a7e8-b82b9c12191c"
      },
      "source": [
        "data = pd.DataFrame()\n",
        "data['text'] = parent_text + children_text\n",
        "data['role'] = ['parent' for i in range(len(parent_text))] + ['child' for i in range(len(children_text))] \n",
        "data[data['role'] == 'child']"
      ],
      "execution_count": 18,
      "outputs": [
        {
          "output_type": "execute_result",
          "data": {
            "text/html": [
              "<div>\n",
              "<style scoped>\n",
              "    .dataframe tbody tr th:only-of-type {\n",
              "        vertical-align: middle;\n",
              "    }\n",
              "\n",
              "    .dataframe tbody tr th {\n",
              "        vertical-align: top;\n",
              "    }\n",
              "\n",
              "    .dataframe thead th {\n",
              "        text-align: right;\n",
              "    }\n",
              "</style>\n",
              "<table border=\"1\" class=\"dataframe\">\n",
              "  <thead>\n",
              "    <tr style=\"text-align: right;\">\n",
              "      <th></th>\n",
              "      <th>text</th>\n",
              "      <th>role</th>\n",
              "    </tr>\n",
              "  </thead>\n",
              "  <tbody>\n",
              "    <tr>\n",
              "      <th>178</th>\n",
              "      <td>Захотела смеяться и смеюсь.</td>\n",
              "      <td>child</td>\n",
              "    </tr>\n",
              "    <tr>\n",
              "      <th>179</th>\n",
              "      <td>Не подходи лучше, нехорошо тебе будет.</td>\n",
              "      <td>child</td>\n",
              "    </tr>\n",
              "    <tr>\n",
              "      <th>180</th>\n",
              "      <td>Нет, не весь, много у нас с тобой разговору бу...</td>\n",
              "      <td>child</td>\n",
              "    </tr>\n",
              "    <tr>\n",
              "      <th>181</th>\n",
              "      <td>Иди скорей, батюшка зовет.</td>\n",
              "      <td>child</td>\n",
              "    </tr>\n",
              "    <tr>\n",
              "      <th>182</th>\n",
              "      <td>Я не барабанщик, впереди тебя ходить.</td>\n",
              "      <td>child</td>\n",
              "    </tr>\n",
              "    <tr>\n",
              "      <th>...</th>\n",
              "      <td>...</td>\n",
              "      <td>...</td>\n",
              "    </tr>\n",
              "    <tr>\n",
              "      <th>302</th>\n",
              "      <td>Курослепов, Ты уж меня и не спрашиваешь.</td>\n",
              "      <td>child</td>\n",
              "    </tr>\n",
              "    <tr>\n",
              "      <th>303</th>\n",
              "      <td>Чего не знаю, так спрошу, а что сама знаю, так...</td>\n",
              "      <td>child</td>\n",
              "    </tr>\n",
              "    <tr>\n",
              "      <th>304</th>\n",
              "      <td>Ну, гости дорогие, отцу, я вижу, спать пора, у...</td>\n",
              "      <td>child</td>\n",
              "    </tr>\n",
              "    <tr>\n",
              "      <th>305</th>\n",
              "      <td>А вот позвольте нам убраться немного, мы пригл...</td>\n",
              "      <td>child</td>\n",
              "    </tr>\n",
              "    <tr>\n",
              "      <th>306</th>\n",
              "      <td>Ну, прощай, батюшка! Спи, господь с тобой! А я...</td>\n",
              "      <td>child</td>\n",
              "    </tr>\n",
              "  </tbody>\n",
              "</table>\n",
              "<p>129 rows × 2 columns</p>\n",
              "</div>"
            ],
            "text/plain": [
              "                                                  text   role\n",
              "178                        Захотела смеяться и смеюсь.  child\n",
              "179             Не подходи лучше, нехорошо тебе будет.  child\n",
              "180  Нет, не весь, много у нас с тобой разговору бу...  child\n",
              "181                         Иди скорей, батюшка зовет.  child\n",
              "182              Я не барабанщик, впереди тебя ходить.  child\n",
              "..                                                 ...    ...\n",
              "302           Курослепов, Ты уж меня и не спрашиваешь.  child\n",
              "303  Чего не знаю, так спрошу, а что сама знаю, так...  child\n",
              "304  Ну, гости дорогие, отцу, я вижу, спать пора, у...  child\n",
              "305  А вот позвольте нам убраться немного, мы пригл...  child\n",
              "306  Ну, прощай, батюшка! Спи, господь с тобой! А я...  child\n",
              "\n",
              "[129 rows x 2 columns]"
            ]
          },
          "metadata": {
            "tags": []
          },
          "execution_count": 18
        }
      ]
    },
    {
      "cell_type": "markdown",
      "metadata": {
        "id": "39iVO6CK1H9r"
      },
      "source": [
        "# Распределение реплик\n",
        "\n",
        "\n",
        "\n"
      ]
    },
    {
      "cell_type": "code",
      "metadata": {
        "colab": {
          "base_uri": "https://localhost:8080/",
          "height": 437
        },
        "id": "clnPs9rQ1GsT",
        "outputId": "3199941f-682c-4435-a398-3112e9c8b3a0"
      },
      "source": [
        "import matplotlib.pyplot as plt\n",
        "import seaborn as sns\n",
        "sns.set(style=\"whitegrid\")\n",
        "\n",
        "\n",
        "def plot_label_dist(df, col_name, color=[\"r\",  \"b\"], kind1=\"bar\", kind2=\"pie\"):\n",
        "    fig = plt.figure(figsize=(10, 6))\n",
        "    ax1 = fig.add_subplot(121)\n",
        "    ax2 = fig.add_subplot(122)\n",
        "\n",
        "    column_values = list(df[col_name].unique())\n",
        "\n",
        "    df.groupby(col_name).size().sort_values(ascending=False).plot(\n",
        "        kind=kind1, width=0.75, title=\"Distribution of text\",\n",
        "        ax=ax1, rot=35, legend=False, color=color\n",
        "    )\n",
        "    ax1.set_xticklabels(column_values)\n",
        "\n",
        "    df.groupby(col_name).size().sort_values(ascending=False).plot(\n",
        "        kind=kind2, title=col_name, ax=ax2, autopct=\"%.2f%%\", labels=None, colors=color\n",
        "    )\n",
        "    ax2.legend(column_values)\n",
        "    ax2.axis(\"off\")\n",
        "\n",
        "    fig.tight_layout()\n",
        "\n",
        "plot_label_dist(df=data, col_name=\"role\")"
      ],
      "execution_count": 20,
      "outputs": [
        {
          "output_type": "display_data",
          "data": {
            "image/png": "[encoded data removed]",
            "text/plain": [
              "<Figure size 720x432 with 2 Axes>"
            ]
          },
          "metadata": {
            "tags": []
          }
        }
      ]
    },
    {
      "cell_type": "markdown",
      "metadata": {
        "id": "Db761MuIY4ae"
      },
      "source": [
        "# Посчет токенов и предложений"
      ]
    },
    {
      "cell_type": "code",
      "metadata": {
        "id": "WXrqT67RKZ5Y",
        "colab": {
          "base_uri": "https://localhost:8080/"
        },
        "outputId": "911ab284-6690-4458-c623-0fad4e8b60a4"
      },
      "source": [
        "!pip install razdel"
      ],
      "execution_count": 21,
      "outputs": [
        {
          "output_type": "stream",
          "text": [
            "Collecting razdel\n",
            "  Downloading https://files.pythonhosted.org/packages/15/2c/664223a3924aa6e70479f7d37220b3a658765b9cfe760b4af7ffdc50d38f/razdel-0.5.0-py3-none-any.whl\n",
            "Installing collected packages: razdel\n",
            "Successfully installed razdel-0.5.0\n"
          ],
          "name": "stdout"
        }
      ]
    },
    {
      "cell_type": "code",
      "metadata": {
        "id": "XxtQ96cA2Rpo"
      },
      "source": [
        "from razdel import sentenize, tokenize\n",
        "\n",
        "def get_length_sentences(text):\n",
        "    segmented_sentences = sentenize(text)\n",
        "    num_sentences = len(list(segmented_sentences))\n",
        "    return num_sentences\n",
        "\n",
        "\n",
        "def get_num_tokens(text):\n",
        "    tokenized_text = tokenize(text)\n",
        "    num_tokens = len(list(tokenized_text))\n",
        "    return num_tokens\n",
        "\n",
        "\n",
        "def get_num_sentences(text):\n",
        "    segmented_sentences = sentenize(text)\n",
        "    num_sentences = len(list(segmented_sentences))\n",
        "    return num_sentences"
      ],
      "execution_count": 22,
      "outputs": []
    },
    {
      "cell_type": "code",
      "metadata": {
        "id": "BH6HyrsB-N6B"
      },
      "source": [
        "data[\"sent_num\"] = data[\"text\"].apply(get_num_sentences)\n",
        "data[\"token_num\"] = data[\"text\"].apply(get_num_tokens)"
      ],
      "execution_count": 23,
      "outputs": []
    },
    {
      "cell_type": "code",
      "metadata": {
        "colab": {
          "base_uri": "https://localhost:8080/"
        },
        "id": "G2bCrsSD-Oqg",
        "outputId": "d6d91682-e2fe-47c1-d71c-c511d063b31a"
      },
      "source": [
        "# вычисления стандартного отклонения, медианы, минимального, среднего и максимального значений\n",
        "\n",
        "sent_num_subset = data[\"sent_num\"]\n",
        "\n",
        "print(\"Standard deviation: %d\" % sent_num_subset.std())\n",
        "print(\"Median: %d\" % sent_num_subset.median())\n",
        "print(\"Min value: %d\" % sent_num_subset.min())\n",
        "print(\"Mean value: %d\" % sent_num_subset.mean())\n",
        "print(\"Max value: %d\" % sent_num_subset.max())"
      ],
      "execution_count": 24,
      "outputs": [
        {
          "output_type": "stream",
          "text": [
            "Standard deviation: 2\n",
            "Median: 1\n",
            "Min value: 1\n",
            "Mean value: 2\n",
            "Max value: 25\n"
          ],
          "name": "stdout"
        }
      ]
    },
    {
      "cell_type": "code",
      "metadata": {
        "id": "7hRTLiUdDXIK"
      },
      "source": [
        "def get_length_sentences(text):\n",
        "    segmented_sentences = sentenize(text)\n",
        "    sent_length = []\n",
        "    for s in list(segmented_sentences):\n",
        "      sent_length.append(len(list(tokenize(s.text))))\n",
        "    return sent_length\n",
        "\n",
        "data[\"sent_len\"] = data[\"text\"].apply(get_length_sentences)"
      ],
      "execution_count": 25,
      "outputs": []
    },
    {
      "cell_type": "markdown",
      "metadata": {
        "id": "yiZTLxFR2o0C"
      },
      "source": [
        "# Распределение длин предложений родителей и детей"
      ]
    },
    {
      "cell_type": "code",
      "metadata": {
        "colab": {
          "base_uri": "https://localhost:8080/",
          "height": 263
        },
        "id": "soUo-iAA2mOF",
        "outputId": "18bb5182-b83a-4806-8c17-45b5e06ba8b2"
      },
      "source": [
        "from warnings import simplefilter\n",
        "simplefilter(action='ignore', category=FutureWarning)\n",
        "\n",
        "\n",
        "def plot_len_dist(data, col_name):\n",
        "    fig, axes = plt.subplots(1, 2, figsize=(20, 6))\n",
        "\n",
        "    for i, role in enumerate(['parent', 'child']):\n",
        "      subset = []\n",
        "      role_subset = data[data[\"role\"] == role][col_name]\n",
        "      for r in role_subset:\n",
        "        subset = subset + r\n",
        "\n",
        "      sns.distplot(subset, bins=20, color=\"blue\", ax=axes[i])\n",
        "      axes[i].axvline(\n",
        "          sum(subset) / len(subset), color=\"k\", linestyle=\"dashed\", linewidth=1, label=\"mean\"\n",
        "      )\n",
        "      axes[i].axvline(\n",
        "          sum(subset) / len(subset), color=\"r\", linestyle=\"dashed\", linewidth=1, label=\"median\"\n",
        "      )\n",
        "      axes[i].legend()\n",
        "      axes[i].set(title=\"%s: %s column values\" % (role, col_name))\n",
        "    \n",
        "    fig.tight_layout()\n",
        "\n",
        "plot_len_dist(data, \"sent_len\")"
      ],
      "execution_count": 26,
      "outputs": [
        {
          "output_type": "display_data",
          "data": {
            "image/png": "[encoded data removed]",
            "text/plain": [
              "<Figure size 1440x432 with 2 Axes>"
            ]
          },
          "metadata": {
            "tags": []
          }
        }
      ]
    },
    {
      "cell_type": "code",
      "metadata": {
        "id": "DUptGKRYExkj"
      },
      "source": [
        "from warnings import simplefilter\n",
        "simplefilter(action='ignore', category=FutureWarning)\n",
        "\n",
        "\n",
        "def plot_dist(df, col_name):\n",
        "    fig, axes = plt.subplots(1, 2, figsize=(20, 6))\n",
        "\n",
        "    for i, role in enumerate(['parent', 'child']):\n",
        "        role_subset = df[df[\"role\"] == role][col_name]\n",
        "\n",
        "        sns.distplot(role_subset, bins=20, color=\"blue\", ax=axes[i])\n",
        "        axes[i].axvline(\n",
        "            (role_subset).mean(), color=\"k\", linestyle=\"dashed\", linewidth=1, label=\"mean\"\n",
        "        )\n",
        "        axes[i].axvline(\n",
        "            (role_subset).median(), color=\"r\", linestyle=\"dashed\", linewidth=1, label=\"median\"\n",
        "        )\n",
        "        axes[i].legend()\n",
        "        axes[i].set(title=\"%s: %s column values\" % (role, col_name))\n",
        "    \n",
        "    fig.tight_layout()"
      ],
      "execution_count": 27,
      "outputs": []
    },
    {
      "cell_type": "code",
      "metadata": {
        "colab": {
          "base_uri": "https://localhost:8080/",
          "height": 263
        },
        "id": "asAVKzNFEskE",
        "outputId": "93401be1-ed76-4c1f-f198-7fa0ea918666"
      },
      "source": [
        "plot_dist(data, \"sent_num\")"
      ],
      "execution_count": 28,
      "outputs": [
        {
          "output_type": "display_data",
          "data": {
            "image/png": "[encoded data removed]",
            "text/plain": [
              "<Figure size 1440x432 with 2 Axes>"
            ]
          },
          "metadata": {
            "tags": []
          }
        }
      ]
    },
    {
      "cell_type": "code",
      "metadata": {
        "colab": {
          "base_uri": "https://localhost:8080/",
          "height": 263
        },
        "id": "xOd3KGZmFNWp",
        "outputId": "c8d9fc2d-9f8d-408b-e745-4f02b9dedcd6"
      },
      "source": [
        "plot_dist(data, \"token_num\")"
      ],
      "execution_count": 29,
      "outputs": [
        {
          "output_type": "display_data",
          "data": {
            "image/png": "[encoded data removed]",
            "text/plain": [
              "<Figure size 1440x432 with 2 Axes>"
            ]
          },
          "metadata": {
            "tags": []
          }
        }
      ]
    },
    {
      "cell_type": "markdown",
      "metadata": {
        "id": "069dlyToD4Fd"
      },
      "source": [
        "#Глубина синтаксического дерева"
      ]
    },
    {
      "cell_type": "code",
      "metadata": {
        "id": "cJ4S2_L0D8xj",
        "colab": {
          "base_uri": "https://localhost:8080/"
        },
        "outputId": "4dc86683-94c7-438c-f942-871266be34b9"
      },
      "source": [
        "!pip install --quiet slovnet ipymarkup\n",
        "!pip install ufal.udpipe\n",
        "!pip install --upgrade git+https://github.com/udapi/udapi-python.git"
      ],
      "execution_count": 30,
      "outputs": [
        {
          "output_type": "stream",
          "text": [
            "\u001b[?25l\r\u001b[K     |██████▋                         | 10kB 15.4MB/s eta 0:00:01\r\u001b[K     |█████████████▎                  | 20kB 14.7MB/s eta 0:00:01\r\u001b[K     |████████████████████            | 30kB 6.9MB/s eta 0:00:01\r\u001b[K     |██████████████████████████▌     | 40kB 3.0MB/s eta 0:00:01\r\u001b[K     |████████████████████████████████| 51kB 2.2MB/s \n",
            "\u001b[?25h  Building wheel for intervaltree (setup.py) ... \u001b[?25l\u001b[?25hdone\n",
            "Collecting ufal.udpipe\n",
            "\u001b[?25l  Downloading https://files.pythonhosted.org/packages/e5/72/2b8b9dc7c80017c790bb3308bbad34b57accfed2ac2f1f4ab252ff4e9cb2/ufal.udpipe-1.2.0.3.tar.gz (304kB)\n",
            "\u001b[K     |████████████████████████████████| 307kB 5.8MB/s \n",
            "\u001b[?25hBuilding wheels for collected packages: ufal.udpipe\n",
            "  Building wheel for ufal.udpipe (setup.py) ... \u001b[?25l\u001b[?25hdone\n",
            "  Created wheel for ufal.udpipe: filename=ufal.udpipe-1.2.0.3-cp37-cp37m-linux_x86_64.whl size=5626624 sha256=fd7d967bea27e49ba398e4b18c457336dcd75a76a41ff6c6a2872f63318d8d07\n",
            "  Stored in directory: /root/.cache/pip/wheels/0c/9d/db/6d3404c33da5b7adb6c6972853efb6a27649d3ba15f7e9bebb\n",
            "Successfully built ufal.udpipe\n",
            "Installing collected packages: ufal.udpipe\n",
            "Successfully installed ufal.udpipe-1.2.0.3\n",
            "Collecting git+https://github.com/udapi/udapi-python.git\n",
            "  Cloning https://github.com/udapi/udapi-python.git to /tmp/pip-req-build-txu63fpy\n",
            "  Running command git clone -q https://github.com/udapi/udapi-python.git /tmp/pip-req-build-txu63fpy\n",
            "  Installing build dependencies ... \u001b[?25l\u001b[?25hdone\n",
            "  Getting requirements to build wheel ... \u001b[?25l\u001b[?25hdone\n",
            "    Preparing wheel metadata ... \u001b[?25l\u001b[?25hdone\n",
            "Requirement already satisfied, skipping upgrade: termcolor in /usr/local/lib/python3.7/dist-packages (from udapi==0.2.3) (1.1.0)\n",
            "Collecting colorama\n",
            "  Downloading https://files.pythonhosted.org/packages/44/98/5b86278fbbf250d239ae0ecb724f8572af1c91f4a11edf4d36a206189440/colorama-0.4.4-py2.py3-none-any.whl\n",
            "Building wheels for collected packages: udapi\n",
            "  Building wheel for udapi (PEP 517) ... \u001b[?25l\u001b[?25hdone\n",
            "  Created wheel for udapi: filename=udapi-0.2.3-cp37-none-any.whl size=213921 sha256=93d919e8f48914fc3f42429c26f07eeb18b41f9f530396f3374f17a49b556b45\n",
            "  Stored in directory: /tmp/pip-ephem-wheel-cache-o9qq8vu3/wheels/00/9d/bb/01c57eb464d26cb753c4db9e81cd61f98fc4df73e8266d5303\n",
            "Successfully built udapi\n",
            "Installing collected packages: colorama, udapi\n",
            "Successfully installed colorama-0.4.4 udapi-0.2.3\n"
          ],
          "name": "stdout"
        }
      ]
    },
    {
      "cell_type": "code",
      "metadata": {
        "id": "zgE_EgN3EFYP",
        "colab": {
          "base_uri": "https://localhost:8080/"
        },
        "outputId": "600848d3-2397-493b-dfc5-9f1b5e7978a4"
      },
      "source": [
        "!wget -c https://storage.yandexcloud.net/natasha-slovnet/packs/slovnet_syntax_news_v1.tar\n",
        "!wget -c https://storage.yandexcloud.net/natasha-navec/packs/navec_news_v1_1B_250K_300d_100q.tar"
      ],
      "execution_count": 31,
      "outputs": [
        {
          "output_type": "stream",
          "text": [
            "--2021-04-01 07:51:52--  https://storage.yandexcloud.net/natasha-slovnet/packs/slovnet_syntax_news_v1.tar\n",
            "Resolving storage.yandexcloud.net (storage.yandexcloud.net)... 213.180.193.243, 2a02:6b8::1d9\n",
            "Connecting to storage.yandexcloud.net (storage.yandexcloud.net)|213.180.193.243|:443... connected.\n",
            "HTTP request sent, awaiting response... 200 OK\n",
            "Length: 2611200 (2.5M) [application/octet-stream]\n",
            "Saving to: ‘slovnet_syntax_news_v1.tar’\n",
            "\n",
            "slovnet_syntax_news 100%[===================>]   2.49M  1.12MB/s    in 2.2s    \n",
            "\n",
            "2021-04-01 07:51:56 (1.12 MB/s) - ‘slovnet_syntax_news_v1.tar’ saved [2611200/2611200]\n",
            "\n",
            "--2021-04-01 07:51:56--  https://storage.yandexcloud.net/natasha-navec/packs/navec_news_v1_1B_250K_300d_100q.tar\n",
            "Resolving storage.yandexcloud.net (storage.yandexcloud.net)... 213.180.193.243, 2a02:6b8::1d9\n",
            "Connecting to storage.yandexcloud.net (storage.yandexcloud.net)|213.180.193.243|:443... connected.\n",
            "HTTP request sent, awaiting response... 200 OK\n",
            "Length: 26634240 (25M) [application/x-tar]\n",
            "Saving to: ‘navec_news_v1_1B_250K_300d_100q.tar’\n",
            "\n",
            "navec_news_v1_1B_25 100%[===================>]  25.40M  7.93MB/s    in 4.5s    \n",
            "\n",
            "2021-04-01 07:52:02 (5.59 MB/s) - ‘navec_news_v1_1B_250K_300d_100q.tar’ saved [26634240/26634240]\n",
            "\n"
          ],
          "name": "stdout"
        }
      ]
    },
    {
      "cell_type": "code",
      "metadata": {
        "id": "h9DuB0bGELEK"
      },
      "source": [
        "from ipymarkup import show_dep_ascii_markup as show_markup\n",
        "from navec import Navec\n",
        "from slovnet import Syntax\n",
        "\n",
        "\n",
        "navec = Navec.load(\"navec_news_v1_1B_250K_300d_100q.tar\")\n",
        "syntax = Syntax.load(\"slovnet_syntax_news_v1.tar\")\n",
        "syntax.navec(navec)\n",
        "\n",
        "\n",
        "def split_into_chunks(text):\n",
        "    chunks = [\n",
        "        [token.text for token in tokenize(sentence.text)] for sentence in sentenize(text)\n",
        "    ]\n",
        "    return chunks\n",
        "\n",
        "\n",
        "def annotate_text(text, syntax=syntax):\n",
        "    chunks = split_into_chunks(text)\n",
        "    annotation = [syntax(chunk) for chunk in chunks]\n",
        "    return annotation"
      ],
      "execution_count": 32,
      "outputs": []
    },
    {
      "cell_type": "code",
      "metadata": {
        "colab": {
          "base_uri": "https://localhost:8080/"
        },
        "id": "0H9jtpIfIQ-y",
        "outputId": "d8cb6a83-f7c0-4b5d-c881-1005931c3838"
      },
      "source": [
        "annotated_example = annotate_text(data['text'][1])\n",
        "annotated_example[0]"
      ],
      "execution_count": 33,
      "outputs": [
        {
          "output_type": "execute_result",
          "data": {
            "text/plain": [
              "SyntaxMarkup(\n",
              "    tokens=[SyntaxToken(\n",
              "         id='1',\n",
              "         text='Раз',\n",
              "         head_id='0',\n",
              "         rel='root'\n",
              "     ), SyntaxToken(\n",
              "         id='2',\n",
              "         text=',',\n",
              "         head_id='15',\n",
              "         rel='punct'\n",
              "     ), SyntaxToken(\n",
              "         id='3',\n",
              "         text='два',\n",
              "         head_id='1',\n",
              "         rel='conj'\n",
              "     ), SyntaxToken(\n",
              "         id='4',\n",
              "         text=',',\n",
              "         head_id='7',\n",
              "         rel='punct'\n",
              "     ), SyntaxToken(\n",
              "         id='5',\n",
              "         text='три',\n",
              "         head_id='1',\n",
              "         rel='conj'\n",
              "     ), SyntaxToken(\n",
              "         id='6',\n",
              "         text=',',\n",
              "         head_id='9',\n",
              "         rel='punct'\n",
              "     ), SyntaxToken(\n",
              "         id='7',\n",
              "         text='четыре',\n",
              "         head_id='1',\n",
              "         rel='conj'\n",
              "     ), SyntaxToken(\n",
              "         id='8',\n",
              "         text=',',\n",
              "         head_id='9',\n",
              "         rel='punct'\n",
              "     ), SyntaxToken(\n",
              "         id='9',\n",
              "         text='пять',\n",
              "         head_id='1',\n",
              "         rel='conj'\n",
              "     ), SyntaxToken(\n",
              "         id='10',\n",
              "         text=',',\n",
              "         head_id='9',\n",
              "         rel='punct'\n",
              "     ), SyntaxToken(\n",
              "         id='11',\n",
              "         text='шесть',\n",
              "         head_id='1',\n",
              "         rel='conj'\n",
              "     ), SyntaxToken(\n",
              "         id='12',\n",
              "         text=',',\n",
              "         head_id='9',\n",
              "         rel='punct'\n",
              "     ), SyntaxToken(\n",
              "         id='13',\n",
              "         text='семь',\n",
              "         head_id='1',\n",
              "         rel='conj'\n",
              "     ), SyntaxToken(\n",
              "         id='14',\n",
              "         text=',',\n",
              "         head_id='9',\n",
              "         rel='punct'\n",
              "     ), SyntaxToken(\n",
              "         id='15',\n",
              "         text='восемь',\n",
              "         head_id='1',\n",
              "         rel='conj'\n",
              "     ), SyntaxToken(\n",
              "         id='16',\n",
              "         text=',',\n",
              "         head_id='15',\n",
              "         rel='punct'\n",
              "     ), SyntaxToken(\n",
              "         id='17',\n",
              "         text='девять',\n",
              "         head_id='1',\n",
              "         rel='conj'\n",
              "     ), SyntaxToken(\n",
              "         id='18',\n",
              "         text=',',\n",
              "         head_id='15',\n",
              "         rel='punct'\n",
              "     ), SyntaxToken(\n",
              "         id='19',\n",
              "         text='десять',\n",
              "         head_id='1',\n",
              "         rel='conj'\n",
              "     ), SyntaxToken(\n",
              "         id='20',\n",
              "         text=',',\n",
              "         head_id='19',\n",
              "         rel='punct'\n",
              "     ), SyntaxToken(\n",
              "         id='21',\n",
              "         text='одиннадцать',\n",
              "         head_id='1',\n",
              "         rel='conj'\n",
              "     ), SyntaxToken(\n",
              "         id='22',\n",
              "         text=',',\n",
              "         head_id='15',\n",
              "         rel='punct'\n",
              "     ), SyntaxToken(\n",
              "         id='23',\n",
              "         text='двенадцать',\n",
              "         head_id='1',\n",
              "         rel='conj'\n",
              "     ), SyntaxToken(\n",
              "         id='24',\n",
              "         text=',',\n",
              "         head_id='25',\n",
              "         rel='punct'\n",
              "     ), SyntaxToken(\n",
              "         id='25',\n",
              "         text='тринадцать',\n",
              "         head_id='1',\n",
              "         rel='conj'\n",
              "     ), SyntaxToken(\n",
              "         id='26',\n",
              "         text=',',\n",
              "         head_id='25',\n",
              "         rel='punct'\n",
              "     ), SyntaxToken(\n",
              "         id='27',\n",
              "         text='четырнадцать',\n",
              "         head_id='1',\n",
              "         rel='conj'\n",
              "     ), SyntaxToken(\n",
              "         id='28',\n",
              "         text=',',\n",
              "         head_id='15',\n",
              "         rel='punct'\n",
              "     ), SyntaxToken(\n",
              "         id='29',\n",
              "         text='пятнадцать',\n",
              "         head_id='1',\n",
              "         rel='conj'\n",
              "     ), SyntaxToken(\n",
              "         id='30',\n",
              "         text='.',\n",
              "         head_id='1',\n",
              "         rel='punct'\n",
              "     )]\n",
              ")"
            ]
          },
          "metadata": {
            "tags": []
          },
          "execution_count": 33
        }
      ]
    },
    {
      "cell_type": "code",
      "metadata": {
        "id": "DyKJVf6JHdCJ"
      },
      "source": [
        "def convert_text_to_conllu(text, syntax=syntax):\n",
        "    text_annotation = annotate_text(text, syntax=syntax)\n",
        "    converted_sentences = []\n",
        "\n",
        "    for annotated_text in text_annotation:\n",
        "        converted_sentence = []\n",
        "        for token in annotated_text.tokens:\n",
        "            conllu_token = \"\\t\".join(\n",
        "            [\n",
        "                token.id, # id токена в предложении\n",
        "                token.text, # словоформа\n",
        "                \"_\", # лемма\n",
        "                \"_\", # частеречный тег\n",
        "                \"_\", # xpos – Language-specific part-of-speech tag.\n",
        "                \"_\", # morphosyntactic description\n",
        "                token.head_id, # head of the current word\n",
        "                token.rel, # dependency relation\n",
        "                \"_\", # deps – Enhanced dependency graph in the form of a list of head-deprel pairs.\n",
        "                \"_\", # misc – any other annotation\n",
        "            ]\n",
        "            )\n",
        "            converted_sentence.append(conllu_token)\n",
        "        converted_sentences.append(\"\\n\".join(converted_sentence))\n",
        "    return converted_sentences\n"
      ],
      "execution_count": 34,
      "outputs": []
    },
    {
      "cell_type": "code",
      "metadata": {
        "colab": {
          "base_uri": "https://localhost:8080/"
        },
        "id": "n7VvOZj2IX_0",
        "outputId": "312f628e-6e3e-4968-faf6-aebac263bdb5"
      },
      "source": [
        "from udapi.block.read.conllu import Conllu\n",
        "from udapi.block.write.textmodetrees import TextModeTrees\n",
        "from io import StringIO\n",
        "\n",
        "\n",
        "tree = Conllu(filehandle=StringIO(convert_text_to_conllu(data['text'][1])[0])).read_tree()\n",
        "\n",
        "writer = TextModeTrees(attributes=\"ord,form,lemma,upos,feats,deprel,parent\")\n",
        "writer.process_tree(tree)"
      ],
      "execution_count": 37,
      "outputs": [
        {
          "output_type": "stream",
          "text": [
            "# sent_id = ?\n",
            "# text = Раз , два , три , четыре , пять , шесть , семь , восемь , девять , десять , одиннадцать , двенадцать , тринадцать , четырнадцать , пятнадцать .\n",
            "─┮\n",
            " ╰─┮ \u001b[32m1\u001b[0m \u001b[33mРаз\u001b[0m \u001b[36m_\u001b[0m \u001b[31m_\u001b[0m _\u001b[0m \u001b[34mroot\u001b[0m <?, <ROOT>>\u001b[0m\n",
            "   │                                                                                                 ╭─╼ \u001b[32m2\u001b[0m \u001b[33m,\u001b[0m \u001b[36m_\u001b[0m \u001b[31m_\u001b[0m _\u001b[0m \u001b[34mpunct\u001b[0m <?#15, восемь>\u001b[0m\n",
            "   ┡─╼ \u001b[32m3\u001b[0m \u001b[33mдва\u001b[0m \u001b[36m_\u001b[0m \u001b[31m_\u001b[0m _\u001b[0m \u001b[34mconj\u001b[0m <?#1, Раз>\u001b[0m                                                                   │\n",
            "   │                               ╭─╼ \u001b[32m4\u001b[0m \u001b[33m,\u001b[0m \u001b[36m_\u001b[0m \u001b[31m_\u001b[0m _\u001b[0m \u001b[34mpunct\u001b[0m <?#7, четыре>\u001b[0m                                 │\n",
            "   ┡─╼ \u001b[32m5\u001b[0m \u001b[33mтри\u001b[0m \u001b[36m_\u001b[0m \u001b[31m_\u001b[0m _\u001b[0m \u001b[34mconj\u001b[0m <?#1, Раз>\u001b[0m │                                                                 │\n",
            "   │                               │                                ╭─╼ \u001b[32m6\u001b[0m \u001b[33m,\u001b[0m \u001b[36m_\u001b[0m \u001b[31m_\u001b[0m _\u001b[0m \u001b[34mpunct\u001b[0m <?#9, пять>\u001b[0m  │\n",
            "   ┡───────────────────────────────┶ \u001b[32m7\u001b[0m \u001b[33mчетыре\u001b[0m \u001b[36m_\u001b[0m \u001b[31m_\u001b[0m _\u001b[0m \u001b[34mconj\u001b[0m <?#1, Раз>\u001b[0m │                                │\n",
            "   │                                                                ┢─╼ \u001b[32m8\u001b[0m \u001b[33m,\u001b[0m \u001b[36m_\u001b[0m \u001b[31m_\u001b[0m _\u001b[0m \u001b[34mpunct\u001b[0m <?#9, пять>\u001b[0m  │\n",
            "   ┡────────────────────────────────────────────────────────────────┾ \u001b[32m9\u001b[0m \u001b[33mпять\u001b[0m \u001b[36m_\u001b[0m \u001b[31m_\u001b[0m _\u001b[0m \u001b[34mconj\u001b[0m <?#1, Раз>\u001b[0m   │\n",
            "   │                                                                ┡─╼ \u001b[32m10\u001b[0m \u001b[33m,\u001b[0m \u001b[36m_\u001b[0m \u001b[31m_\u001b[0m _\u001b[0m \u001b[34mpunct\u001b[0m <?#9, пять>\u001b[0m │\n",
            "   ┡─╼ \u001b[32m11\u001b[0m \u001b[33mшесть\u001b[0m \u001b[36m_\u001b[0m \u001b[31m_\u001b[0m _\u001b[0m \u001b[34mconj\u001b[0m <?#1, Раз>\u001b[0m                               │                                │\n",
            "   │                                                                ┡─╼ \u001b[32m12\u001b[0m \u001b[33m,\u001b[0m \u001b[36m_\u001b[0m \u001b[31m_\u001b[0m _\u001b[0m \u001b[34mpunct\u001b[0m <?#9, пять>\u001b[0m │\n",
            "   ┡─╼ \u001b[32m13\u001b[0m \u001b[33mсемь\u001b[0m \u001b[36m_\u001b[0m \u001b[31m_\u001b[0m _\u001b[0m \u001b[34mconj\u001b[0m <?#1, Раз>\u001b[0m                                │                                │\n",
            "   │                                                                ╰─╼ \u001b[32m14\u001b[0m \u001b[33m,\u001b[0m \u001b[36m_\u001b[0m \u001b[31m_\u001b[0m _\u001b[0m \u001b[34mpunct\u001b[0m <?#9, пять>\u001b[0m │\n",
            "   ┡─────────────────────────────────────────────────────────────────────────────────────────────────┾ \u001b[32m15\u001b[0m \u001b[33mвосемь\u001b[0m \u001b[36m_\u001b[0m \u001b[31m_\u001b[0m _\u001b[0m \u001b[34mconj\u001b[0m <?#1, Раз>\u001b[0m\n",
            "   │                                                                                                 ┡─╼ \u001b[32m16\u001b[0m \u001b[33m,\u001b[0m \u001b[36m_\u001b[0m \u001b[31m_\u001b[0m _\u001b[0m \u001b[34mpunct\u001b[0m <?#15, восемь>\u001b[0m\n",
            "   ┡─╼ \u001b[32m17\u001b[0m \u001b[33mдевять\u001b[0m \u001b[36m_\u001b[0m \u001b[31m_\u001b[0m _\u001b[0m \u001b[34mconj\u001b[0m <?#1, Раз>\u001b[0m                                                               │\n",
            "   │                                                                                                 ┡─╼ \u001b[32m18\u001b[0m \u001b[33m,\u001b[0m \u001b[36m_\u001b[0m \u001b[31m_\u001b[0m _\u001b[0m \u001b[34mpunct\u001b[0m <?#15, восемь>\u001b[0m\n",
            "   ┡─┮ \u001b[32m19\u001b[0m \u001b[33mдесять\u001b[0m \u001b[36m_\u001b[0m \u001b[31m_\u001b[0m _\u001b[0m \u001b[34mconj\u001b[0m <?#1, Раз>\u001b[0m                                                               │\n",
            "   │ ╰─╼ \u001b[32m20\u001b[0m \u001b[33m,\u001b[0m \u001b[36m_\u001b[0m \u001b[31m_\u001b[0m _\u001b[0m \u001b[34mpunct\u001b[0m <?#19, десять>\u001b[0m                                                             │\n",
            "   ┡─╼ \u001b[32m21\u001b[0m \u001b[33mодиннадцать\u001b[0m \u001b[36m_\u001b[0m \u001b[31m_\u001b[0m _\u001b[0m \u001b[34mconj\u001b[0m <?#1, Раз>\u001b[0m                                                          │\n",
            "   │                                                                                                 ┡─╼ \u001b[32m22\u001b[0m \u001b[33m,\u001b[0m \u001b[36m_\u001b[0m \u001b[31m_\u001b[0m _\u001b[0m \u001b[34mpunct\u001b[0m <?#15, восемь>\u001b[0m\n",
            "   ┡─╼ \u001b[32m23\u001b[0m \u001b[33mдвенадцать\u001b[0m \u001b[36m_\u001b[0m \u001b[31m_\u001b[0m _\u001b[0m \u001b[34mconj\u001b[0m <?#1, Раз>\u001b[0m                                                           │\n",
            "   │ ╭─╼ \u001b[32m24\u001b[0m \u001b[33m,\u001b[0m \u001b[36m_\u001b[0m \u001b[31m_\u001b[0m _\u001b[0m \u001b[34mpunct\u001b[0m <?#25, тринадцать>\u001b[0m                                                         │\n",
            "   ┡─┾ \u001b[32m25\u001b[0m \u001b[33mтринадцать\u001b[0m \u001b[36m_\u001b[0m \u001b[31m_\u001b[0m _\u001b[0m \u001b[34mconj\u001b[0m <?#1, Раз>\u001b[0m                                                           │\n",
            "   │ ╰─╼ \u001b[32m26\u001b[0m \u001b[33m,\u001b[0m \u001b[36m_\u001b[0m \u001b[31m_\u001b[0m _\u001b[0m \u001b[34mpunct\u001b[0m <?#25, тринадцать>\u001b[0m                                                         │\n",
            "   ┡─╼ \u001b[32m27\u001b[0m \u001b[33mчетырнадцать\u001b[0m \u001b[36m_\u001b[0m \u001b[31m_\u001b[0m _\u001b[0m \u001b[34mconj\u001b[0m <?#1, Раз>\u001b[0m                                                         │\n",
            "   │                                                                                                 ╰─╼ \u001b[32m28\u001b[0m \u001b[33m,\u001b[0m \u001b[36m_\u001b[0m \u001b[31m_\u001b[0m _\u001b[0m \u001b[34mpunct\u001b[0m <?#15, восемь>\u001b[0m\n",
            "   ┡─╼ \u001b[32m29\u001b[0m \u001b[33mпятнадцать\u001b[0m \u001b[36m_\u001b[0m \u001b[31m_\u001b[0m _\u001b[0m \u001b[34mconj\u001b[0m <?#1, Раз>\u001b[0m\n",
            "   ╰─╼ \u001b[32m30\u001b[0m \u001b[33m.\u001b[0m \u001b[36m_\u001b[0m \u001b[31m_\u001b[0m _\u001b[0m \u001b[34mpunct\u001b[0m <?#1, Раз>\u001b[0m\n",
            "\n"
          ],
          "name": "stdout"
        }
      ]
    },
    {
      "cell_type": "code",
      "metadata": {
        "id": "y_rl4L39Ij7R"
      },
      "source": [
        "def tree_depth(tree):\n",
        "    depth = 0\n",
        "    stack = [tree]\n",
        "    while (len(stack)):\n",
        "        curr_node = stack[0]\n",
        "        stack.pop(0)\n",
        "        if curr_node.children:\n",
        "            depth += 1\n",
        "        for node in range(len(curr_node.children) -1, -1, -1):\n",
        "            stack.insert(0, curr_node.children[node])\n",
        "    return depth"
      ],
      "execution_count": 38,
      "outputs": []
    },
    {
      "cell_type": "code",
      "metadata": {
        "colab": {
          "base_uri": "https://localhost:8080/"
        },
        "id": "s0pLLqtWInAe",
        "outputId": "441e621d-5bda-40f5-ca0f-bbd25daf14f2"
      },
      "source": [
        "print(\"Tree depth of the sentence: %s\" % tree_depth(tree))"
      ],
      "execution_count": 39,
      "outputs": [
        {
          "output_type": "stream",
          "text": [
            "Tree depth of the sentence: 7\n"
          ],
          "name": "stdout"
        }
      ]
    },
    {
      "cell_type": "code",
      "metadata": {
        "id": "RoioTReJFvNn",
        "colab": {
          "base_uri": "https://localhost:8080/",
          "height": 66,
          "referenced_widgets": [
            "a9b83639710a451d9494772eea461969",
            "6edef6399931455187e22c13c9545773",
            "e117d1e7842e4ee88acebeca6dbb8b37",
            "00f7fbe9998249d886246446179a5507",
            "d0ff6985121d43c78c6a784001fc502c",
            "3608d25e1d7a4e3794a054326930e068",
            "f4d43f505a5d4e1ebbf3ec17ea32741a",
            "7d0dbc6e81af43de8763f53442706c3e"
          ]
        },
        "outputId": "69021f5c-d964-4bb9-b980-2fe7c3850b82"
      },
      "source": [
        "from tqdm.auto import tqdm\n",
        "\n",
        "\n",
        "def get_text(tree):\n",
        "    return \" \".join([node.form for node in tree.descendants])\n",
        "\n",
        "\n",
        "def convert_text_to_depth_features(text):\n",
        "    res = []\n",
        "    converted_sentences = convert_text_to_conllu(text)\n",
        "    for converted_sentence in converted_sentences:\n",
        "        try:\n",
        "            curr_sent_tree = Conllu(filehandle=StringIO(converted_sentence)).read_tree()\n",
        "            curr_sent_depth = tree_depth(curr_sent_tree)\n",
        "            res.append(\n",
        "                (get_text(curr_sent_tree), curr_sent_depth, len(curr_sent_tree.descendants)-1)\n",
        "            )\n",
        "        except Exception as e:\n",
        "            continue\n",
        "    return res\n",
        "\n",
        "results = []\n",
        "depth_data = []\n",
        "\n",
        "for i, row in tqdm(data.iterrows(), total=data.shape[0]):\n",
        "    text = row[\"text\"]\n",
        "    depth_features = convert_text_to_depth_features(text)\n",
        "    depth_data.extend(depth_features)\n",
        "    results.append(depth_features)"
      ],
      "execution_count": 40,
      "outputs": [
        {
          "output_type": "display_data",
          "data": {
            "application/vnd.jupyter.widget-view+json": {
              "model_id": "a9b83639710a451d9494772eea461969",
              "version_minor": 0,
              "version_major": 2
            },
            "text/plain": [
              "HBox(children=(FloatProgress(value=0.0, max=307.0), HTML(value='')))"
            ]
          },
          "metadata": {
            "tags": []
          }
        },
        {
          "output_type": "stream",
          "text": [
            "\n"
          ],
          "name": "stdout"
        }
      ]
    },
    {
      "cell_type": "code",
      "metadata": {
        "id": "LOhXktthKkMz"
      },
      "source": [
        "syn_depth = []\n",
        "for res in results:\n",
        "  depth = [r[1] for r in res]\n",
        "  syn_depth.append(depth)"
      ],
      "execution_count": 41,
      "outputs": []
    },
    {
      "cell_type": "code",
      "metadata": {
        "id": "CGIt27CaJIki"
      },
      "source": [
        " data['synt_depth'] = syn_depth"
      ],
      "execution_count": 42,
      "outputs": []
    },
    {
      "cell_type": "code",
      "metadata": {
        "colab": {
          "base_uri": "https://localhost:8080/",
          "height": 263
        },
        "id": "IROkAkJCMGL6",
        "outputId": "c9719f29-0c29-49d7-d101-4a27a1d68510"
      },
      "source": [
        " # Посмотрим на распредление глубины синтаксических деревьев родителей и детей\n",
        " plot_len_dist(data, 'synt_depth')"
      ],
      "execution_count": 43,
      "outputs": [
        {
          "output_type": "display_data",
          "data": {
            "image/png": "[encoded data removed]",
            "text/plain": [
              "<Figure size 1440x432 with 2 Axes>"
            ]
          },
          "metadata": {
            "tags": []
          }
        }
      ]
    },
    {
      "cell_type": "markdown",
      "metadata": {
        "id": "1ESD5YgkQyyn"
      },
      "source": [
        ""
      ]
    },
    {
      "cell_type": "markdown",
      "metadata": {
        "id": "ysANIn-uFYu0"
      },
      "source": [
        "# Препроцессинг"
      ]
    },
    {
      "cell_type": "code",
      "metadata": {
        "id": "Ozv783El-hMT",
        "colab": {
          "base_uri": "https://localhost:8080/"
        },
        "outputId": "0cd29548-e313-4039-c72b-8f64ca9542b9"
      },
      "source": [
        "!pip install pymorphy2[fast]"
      ],
      "execution_count": 44,
      "outputs": [
        {
          "output_type": "stream",
          "text": [
            "Collecting pymorphy2[fast]\n",
            "\u001b[?25l  Downloading https://files.pythonhosted.org/packages/07/57/b2ff2fae3376d4f3c697b9886b64a54b476e1a332c67eee9f88e7f1ae8c9/pymorphy2-0.9.1-py3-none-any.whl (55kB)\n",
            "\u001b[K     |████████████████████████████████| 61kB 2.9MB/s \n",
            "\u001b[?25hCollecting pymorphy2-dicts-ru<3.0,>=2.4\n",
            "\u001b[?25l  Downloading https://files.pythonhosted.org/packages/3a/79/bea0021eeb7eeefde22ef9e96badf174068a2dd20264b9a378f2be1cdd9e/pymorphy2_dicts_ru-2.4.417127.4579844-py2.py3-none-any.whl (8.2MB)\n",
            "\u001b[K     |████████████████████████████████| 8.2MB 5.6MB/s \n",
            "\u001b[?25hCollecting dawg-python>=0.7.1\n",
            "  Downloading https://files.pythonhosted.org/packages/6a/84/ff1ce2071d4c650ec85745766c0047ccc3b5036f1d03559fd46bb38b5eeb/DAWG_Python-0.7.2-py2.py3-none-any.whl\n",
            "Requirement already satisfied: docopt>=0.6 in /usr/local/lib/python3.7/dist-packages (from pymorphy2[fast]) (0.6.2)\n",
            "Collecting DAWG>=0.8; extra == \"fast\"\n",
            "\u001b[?25l  Downloading https://files.pythonhosted.org/packages/b8/ef/91b619a399685f7a0a95a03628006ba814d96293bbbbed234ee66fbdefd9/DAWG-0.8.0.tar.gz (371kB)\n",
            "\u001b[K     |████████████████████████████████| 378kB 23.8MB/s \n",
            "\u001b[?25hBuilding wheels for collected packages: DAWG\n",
            "  Building wheel for DAWG (setup.py) ... \u001b[?25l\u001b[?25hdone\n",
            "  Created wheel for DAWG: filename=DAWG-0.8.0-cp37-cp37m-linux_x86_64.whl size=870168 sha256=6fe4bb1035a2aee53172a9d2e5e809de0aebba06e48cb5825e02ea275a656598\n",
            "  Stored in directory: /root/.cache/pip/wheels/3d/1f/f0/a5b1f9d02e193c997d252c33d215f24dfd7a448bc0166b2a12\n",
            "Successfully built DAWG\n",
            "Installing collected packages: pymorphy2-dicts-ru, dawg-python, DAWG, pymorphy2\n",
            "Successfully installed DAWG-0.8.0 dawg-python-0.7.2 pymorphy2-0.9.1 pymorphy2-dicts-ru-2.4.417127.4579844\n"
          ],
          "name": "stdout"
        }
      ]
    },
    {
      "cell_type": "code",
      "metadata": {
        "id": "I5wAbFS1LEXd",
        "colab": {
          "base_uri": "https://localhost:8080/"
        },
        "outputId": "5913d645-41e8-4e00-bf0d-377ba68b8a6e"
      },
      "source": [
        "import re\n",
        "import pymorphy2\n",
        "import nltk\n",
        "import string\n",
        "from nltk.corpus import stopwords\n",
        "nltk.download('stopwords')\n",
        "morph = pymorphy2.MorphAnalyzer()"
      ],
      "execution_count": 45,
      "outputs": [
        {
          "output_type": "stream",
          "text": [
            "[nltk_data] Downloading package stopwords to /root/nltk_data...\n",
            "[nltk_data]   Unzipping corpora/stopwords.zip.\n"
          ],
          "name": "stdout"
        }
      ]
    },
    {
      "cell_type": "code",
      "metadata": {
        "id": "aX9h_B9GJWh3"
      },
      "source": [
        "def preproc_text(text):\n",
        "    # токенизируем\n",
        "    tokens = [_.text for _ in list(tokenize(text))]\n",
        "    \n",
        "    # приводим к нижнему регистру\n",
        "    tokens = [w.lower() for w in tokens]\n",
        "    \n",
        "    # убираем пунктуацию\n",
        "    table = str.maketrans('', '', string.punctuation)\n",
        "    stripped = [w.translate(table) for w in tokens]\n",
        "    \n",
        "    # убираем числа и оставлем только кирилицу\n",
        "    words = [word for word in stripped if word.isalpha()]\n",
        "    \n",
        "    # удаляем стоп-слова\n",
        "    stop_words = set(stopwords.words('russian'))\n",
        "    words = [w for w in words if not w in stop_words]\n",
        "    text = \" \".join(words)\n",
        "  \n",
        "    # приводим к начальной форме\n",
        "    lemmas = [morph.parse(w)[0].normal_form for w in words] \n",
        "    pos = [morph.parse(w)[0].tag.POS for w in words]\n",
        "    return text, lemmas, pos"
      ],
      "execution_count": 46,
      "outputs": []
    },
    {
      "cell_type": "code",
      "metadata": {
        "colab": {
          "base_uri": "https://localhost:8080/",
          "height": 66,
          "referenced_widgets": [
            "8ada8780c2a640a4aafc16c45d6afe1d",
            "96184842c60a4f8092fac95c9de1e2f2",
            "a88e532fbc194ca9ae0636a7808f8420",
            "8524e9e7a80b49d5b7fbde53bee98b14",
            "c0a67add6b45400392f763265289cc28",
            "d84ce48dc27b45ffa339ff3febdd7878",
            "6701b89c26264eff90fd354d9984c34e",
            "4df587d5e8dd4ff7881ec9a56847434f"
          ]
        },
        "id": "XxjKrjQ5Q0_0",
        "outputId": "5e0817c3-06ae-475d-a60f-ecc232f0dd04"
      },
      "source": [
        "lemmas = []\n",
        "poses = []\n",
        "prep_text = []\n",
        "for i, row in tqdm(data.iterrows()):\n",
        "  text, lemm, pos = preproc_text(row['text'])\n",
        "  lemmas.append(lemm)\n",
        "  poses.append(pos)\n",
        "  prep_text.append(text)"
      ],
      "execution_count": 47,
      "outputs": [
        {
          "output_type": "display_data",
          "data": {
            "application/vnd.jupyter.widget-view+json": {
              "model_id": "8ada8780c2a640a4aafc16c45d6afe1d",
              "version_minor": 0,
              "version_major": 2
            },
            "text/plain": [
              "HBox(children=(FloatProgress(value=1.0, bar_style='info', max=1.0), HTML(value='')))"
            ]
          },
          "metadata": {
            "tags": []
          }
        },
        {
          "output_type": "stream",
          "text": [
            "\n"
          ],
          "name": "stdout"
        }
      ]
    },
    {
      "cell_type": "code",
      "metadata": {
        "id": "FhTrUERuReLB"
      },
      "source": [
        "data['lemmas'] = lemmas\n",
        "data['speech_parts'] = poses\n",
        "data['prep_text'] = prep_text"
      ],
      "execution_count": 48,
      "outputs": []
    },
    {
      "cell_type": "code",
      "metadata": {
        "id": "dAnEknxMSecF"
      },
      "source": [
        "def build_pos_dict(corpus):\n",
        "    text = ' '.join(corpus)\n",
        "    text, lemmas, pos = preproc_text(text)\n",
        "    pos_dict = {}\n",
        "    for i in pos:\n",
        "        if i in pos_dict:\n",
        "            pos_dict[i] += 1\n",
        "        else:\n",
        "            pos_dict[i] = 1\n",
        "    return dict(sorted(pos_dict.items(), key=lambda kv: kv[1], reverse=True))"
      ],
      "execution_count": 49,
      "outputs": []
    },
    {
      "cell_type": "markdown",
      "metadata": {
        "id": "vCW5UZAWSiK_"
      },
      "source": [
        "# Распределение частеричных тегов"
      ]
    },
    {
      "cell_type": "code",
      "metadata": {
        "colab": {
          "base_uri": "https://localhost:8080/"
        },
        "id": "CaEbY4S_TJzP",
        "outputId": "96a091c6-3edf-4dca-853f-9e3b1101ed58"
      },
      "source": [
        "parent_corp = list(data[data['role']=='parent'].text)\n",
        "dict_p = build_pos_dict(parent_corp)\n",
        "\n",
        "children_corp = list(data[data['role']=='child'].text)\n",
        "dict_c = build_pos_dict(children_corp)\n",
        "\n",
        "print(dict_c)\n",
        "print(dict_p)"
      ],
      "execution_count": 53,
      "outputs": [
        {
          "output_type": "stream",
          "text": [
            "{'NOUN': 408, 'VERB': 371, 'ADJF': 139, 'INFN': 74, 'ADVB': 67, 'NPRO': 63, 'CONJ': 30, 'ADJS': 27, 'PRCL': 24, 'PRTS': 23, 'INTJ': 18, 'COMP': 7, 'PREP': 4, 'PRED': 3, 'GRND': 2, None: 1, 'PRTF': 1, 'NUMR': 1}\n",
            "{'NOUN': 328, 'VERB': 259, 'ADJF': 99, 'ADVB': 75, 'INFN': 49, 'NPRO': 47, 'PRCL': 31, 'ADJS': 28, 'CONJ': 26, 'NUMR': 22, 'INTJ': 20, 'PRTS': 18, 'COMP': 7, 'PREP': 6, 'PRED': 2, 'PRTF': 1, None: 1, 'GRND': 1}\n"
          ],
          "name": "stdout"
        }
      ]
    },
    {
      "cell_type": "code",
      "metadata": {
        "id": "L0YdpHlZN9IY"
      },
      "source": [
        "pos = pd.DataFrame(columns = list(dict_p.keys()))\n",
        "pos.loc[0] = list(dict_p.values())\n",
        "pos.loc[1] = list(dict_c.values())\n",
        "pos['role'] = ['parent', 'children']"
      ],
      "execution_count": 54,
      "outputs": []
    },
    {
      "cell_type": "code",
      "metadata": {
        "colab": {
          "base_uri": "https://localhost:8080/",
          "height": 131
        },
        "id": "jLoncVkuPofN",
        "outputId": "7ee4579a-383d-4d83-e273-6c7395399914"
      },
      "source": [
        "pos"
      ],
      "execution_count": 56,
      "outputs": [
        {
          "output_type": "execute_result",
          "data": {
            "text/html": [
              "<div>\n",
              "<style scoped>\n",
              "    .dataframe tbody tr th:only-of-type {\n",
              "        vertical-align: middle;\n",
              "    }\n",
              "\n",
              "    .dataframe tbody tr th {\n",
              "        vertical-align: top;\n",
              "    }\n",
              "\n",
              "    .dataframe thead th {\n",
              "        text-align: right;\n",
              "    }\n",
              "</style>\n",
              "<table border=\"1\" class=\"dataframe\">\n",
              "  <thead>\n",
              "    <tr style=\"text-align: right;\">\n",
              "      <th></th>\n",
              "      <th>NOUN</th>\n",
              "      <th>VERB</th>\n",
              "      <th>ADJF</th>\n",
              "      <th>ADVB</th>\n",
              "      <th>INFN</th>\n",
              "      <th>NPRO</th>\n",
              "      <th>PRCL</th>\n",
              "      <th>ADJS</th>\n",
              "      <th>CONJ</th>\n",
              "      <th>NUMR</th>\n",
              "      <th>INTJ</th>\n",
              "      <th>PRTS</th>\n",
              "      <th>COMP</th>\n",
              "      <th>PREP</th>\n",
              "      <th>PRED</th>\n",
              "      <th>PRTF</th>\n",
              "      <th>NaN</th>\n",
              "      <th>GRND</th>\n",
              "      <th>role</th>\n",
              "    </tr>\n",
              "  </thead>\n",
              "  <tbody>\n",
              "    <tr>\n",
              "      <th>0</th>\n",
              "      <td>328</td>\n",
              "      <td>259</td>\n",
              "      <td>99</td>\n",
              "      <td>75</td>\n",
              "      <td>49</td>\n",
              "      <td>47</td>\n",
              "      <td>31</td>\n",
              "      <td>28</td>\n",
              "      <td>26</td>\n",
              "      <td>22</td>\n",
              "      <td>20</td>\n",
              "      <td>18</td>\n",
              "      <td>7</td>\n",
              "      <td>6</td>\n",
              "      <td>2</td>\n",
              "      <td>1</td>\n",
              "      <td>1</td>\n",
              "      <td>1</td>\n",
              "      <td>parent</td>\n",
              "    </tr>\n",
              "    <tr>\n",
              "      <th>1</th>\n",
              "      <td>408</td>\n",
              "      <td>371</td>\n",
              "      <td>139</td>\n",
              "      <td>74</td>\n",
              "      <td>67</td>\n",
              "      <td>63</td>\n",
              "      <td>30</td>\n",
              "      <td>27</td>\n",
              "      <td>24</td>\n",
              "      <td>23</td>\n",
              "      <td>18</td>\n",
              "      <td>7</td>\n",
              "      <td>4</td>\n",
              "      <td>3</td>\n",
              "      <td>2</td>\n",
              "      <td>1</td>\n",
              "      <td>1</td>\n",
              "      <td>1</td>\n",
              "      <td>children</td>\n",
              "    </tr>\n",
              "  </tbody>\n",
              "</table>\n",
              "</div>"
            ],
            "text/plain": [
              "  NOUN VERB ADJF ADVB INFN NPRO PRCL  ... COMP PREP PRED PRTF NaN GRND      role\n",
              "0  328  259   99   75   49   47   31  ...    7    6    2    1   1    1    parent\n",
              "1  408  371  139   74   67   63   30  ...    4    3    2    1   1    1  children\n",
              "\n",
              "[2 rows x 19 columns]"
            ]
          },
          "metadata": {
            "tags": []
          },
          "execution_count": 56
        }
      ]
    },
    {
      "cell_type": "markdown",
      "metadata": {
        "id": "-VFuF76-gncF"
      },
      "source": [
        "# Классификация текстов"
      ]
    },
    {
      "cell_type": "code",
      "metadata": {
        "id": "fG5eQZm3qZ-l"
      },
      "source": [
        "def change(x):\n",
        "  if x =='parent':\n",
        "    return 1\n",
        "  else:\n",
        "    return 0\n",
        "data['role'] = data['role'].apply(change) "
      ],
      "execution_count": 57,
      "outputs": []
    },
    {
      "cell_type": "markdown",
      "metadata": {
        "id": "SGOfqo1gDLVN"
      },
      "source": [
        "## Попробуем на необработаных текстах"
      ]
    },
    {
      "cell_type": "code",
      "metadata": {
        "id": "xBbmz0sJpxPE"
      },
      "source": [
        "from sklearn.model_selection import train_test_split\n",
        "\n",
        "text_train, text_test, y_train, y_test = train_test_split(data['text'], data['role'], test_size=0.25, random_state=42)"
      ],
      "execution_count": 58,
      "outputs": []
    },
    {
      "cell_type": "code",
      "metadata": {
        "colab": {
          "base_uri": "https://localhost:8080/"
        },
        "id": "pM6SfWMrjkVa",
        "outputId": "8479b656-a9db-4d4a-9aa2-d785dc675dcc"
      },
      "source": [
        "from sklearn.feature_extraction.text import CountVectorizer\n",
        "count_vect = CountVectorizer()\n",
        "X_train_counts = count_vect.fit_transform(text_train) \n",
        "X_train_counts.shape"
      ],
      "execution_count": 59,
      "outputs": [
        {
          "output_type": "execute_result",
          "data": {
            "text/plain": [
              "(230, 1255)"
            ]
          },
          "metadata": {
            "tags": []
          },
          "execution_count": 59
        }
      ]
    },
    {
      "cell_type": "code",
      "metadata": {
        "colab": {
          "base_uri": "https://localhost:8080/"
        },
        "id": "YViXNIm8rbin",
        "outputId": "d9e2d14b-0937-4d23-babb-0d0ddfb6109f"
      },
      "source": [
        "from sklearn.feature_extraction.text import TfidfTransformer\n",
        "tfidf_transformer = TfidfTransformer()\n",
        "X_train_tfidf = tfidf_transformer.fit_transform(X_train_counts)\n",
        "X_train_tfidf.shape"
      ],
      "execution_count": 60,
      "outputs": [
        {
          "output_type": "execute_result",
          "data": {
            "text/plain": [
              "(230, 1255)"
            ]
          },
          "metadata": {
            "tags": []
          },
          "execution_count": 60
        }
      ]
    },
    {
      "cell_type": "markdown",
      "metadata": {
        "id": "cAKqQFNIDVR2"
      },
      "source": [
        "### MultinomialNB"
      ]
    },
    {
      "cell_type": "code",
      "metadata": {
        "id": "JcRolCaYrfwR"
      },
      "source": [
        "from sklearn.naive_bayes import MultinomialNB\n",
        "clf = MultinomialNB().fit(X_train_tfidf, y_train)"
      ],
      "execution_count": 61,
      "outputs": []
    },
    {
      "cell_type": "code",
      "metadata": {
        "id": "rKSuYJ9jrle8"
      },
      "source": [
        "from sklearn.pipeline import Pipeline\n",
        "text_clf = Pipeline([('vect', CountVectorizer()),\n",
        "                     ('tfidf', TfidfTransformer()),\n",
        "                      ('clf', MultinomialNB())])\n",
        "text_clf = text_clf.fit(text_train, y_train)"
      ],
      "execution_count": 62,
      "outputs": []
    },
    {
      "cell_type": "code",
      "metadata": {
        "colab": {
          "base_uri": "https://localhost:8080/"
        },
        "id": "7HQnUG5dr0-p",
        "outputId": "048cf506-2c0a-48e2-888e-ad5e9cbb8092"
      },
      "source": [
        "from sklearn.metrics import *\n",
        "predicted = text_clf.predict(text_test)\n",
        "print(accuracy_score(y_test, predicted))"
      ],
      "execution_count": 63,
      "outputs": [
        {
          "output_type": "stream",
          "text": [
            "0.7402597402597403\n"
          ],
          "name": "stdout"
        }
      ]
    },
    {
      "cell_type": "code",
      "metadata": {
        "colab": {
          "base_uri": "https://localhost:8080/"
        },
        "id": "UHxF2outuFSg",
        "outputId": "1ef35133-92c2-46ee-bffe-c3b94b19a82b"
      },
      "source": [
        "from sklearn.model_selection import GridSearchCV\n",
        "parameters = {'vect__ngram_range': [(1, 1), (1, 2)],\n",
        "              'tfidf__use_idf': (True, False),\n",
        "              'clf__alpha': (1e-2, 1e-3)}\n",
        "gs_clf = GridSearchCV(text_clf, parameters, n_jobs=-1)\n",
        "gs_clf = gs_clf.fit(text_train, y_train)\n",
        "gs_clf.best_score_\n",
        "gs_clf.best_params_"
      ],
      "execution_count": 64,
      "outputs": [
        {
          "output_type": "execute_result",
          "data": {
            "text/plain": [
              "{'clf__alpha': 0.01, 'tfidf__use_idf': True, 'vect__ngram_range': (1, 2)}"
            ]
          },
          "metadata": {
            "tags": []
          },
          "execution_count": 64
        }
      ]
    },
    {
      "cell_type": "code",
      "metadata": {
        "colab": {
          "base_uri": "https://localhost:8080/"
        },
        "id": "mLsvJRL0DnBU",
        "outputId": "9ee81d75-7389-451d-febd-b108ab4547e8"
      },
      "source": [
        "text_clf = Pipeline([('vect', CountVectorizer(ngram_range=(1, 1))),\n",
        "                     ('tfidf', TfidfTransformer()),\n",
        "                      ('clf', MultinomialNB(alpha=0.01))])\n",
        "text_clf = text_clf.fit(text_train, y_train)\n",
        "predicted = text_clf.predict(text_test)\n",
        "print(accuracy_score(y_test, predicted))"
      ],
      "execution_count": 65,
      "outputs": [
        {
          "output_type": "stream",
          "text": [
            "0.7272727272727273\n"
          ],
          "name": "stdout"
        }
      ]
    },
    {
      "cell_type": "markdown",
      "metadata": {
        "id": "8VDdjRHWDdpZ"
      },
      "source": [
        "### SGDClassifier"
      ]
    },
    {
      "cell_type": "code",
      "metadata": {
        "colab": {
          "base_uri": "https://localhost:8080/"
        },
        "id": "yevwZFTstI9t",
        "outputId": "9b2cfe14-457b-4888-d710-847ad7de2dd7"
      },
      "source": [
        "from sklearn.linear_model import SGDClassifier\n",
        "text_clf_svm = Pipeline([('vect', CountVectorizer()),\n",
        "                         ('tfidf', TfidfTransformer()),\n",
        "                         ('clf-svm', SGDClassifier(loss='hinge', penalty='l2',alpha=1e-3,n_iter_no_change=5, random_state=42))])\n",
        "\n",
        "_ = text_clf_svm.fit(text_train, y_train)\n",
        "\n",
        "predicted_svm = text_clf_svm.predict(text_test)\n",
        "accuracy_score(predicted_svm, y_test)"
      ],
      "execution_count": 66,
      "outputs": [
        {
          "output_type": "execute_result",
          "data": {
            "text/plain": [
              "0.7272727272727273"
            ]
          },
          "metadata": {
            "tags": []
          },
          "execution_count": 66
        }
      ]
    },
    {
      "cell_type": "code",
      "metadata": {
        "colab": {
          "base_uri": "https://localhost:8080/"
        },
        "id": "QkCIM6xWwJ_F",
        "outputId": "c0ece796-23fc-4e8b-81bd-03222ffa931d"
      },
      "source": [
        "parameters_svm = {'vect__ngram_range': [(1, 1), (1, 2)],\n",
        "               'tfidf__use_idf': (True, False),\n",
        "               'clf-svm__alpha': (1e-2, 1e-3)}\n",
        "\n",
        "gs_clf_svm = GridSearchCV(text_clf_svm, parameters_svm, n_jobs=-1)\n",
        "gs_clf_svm = gs_clf_svm.fit(text_train, y_train)\n",
        "gs_clf_svm.best_score_\n",
        "gs_clf_svm.best_params_"
      ],
      "execution_count": 67,
      "outputs": [
        {
          "output_type": "execute_result",
          "data": {
            "text/plain": [
              "{'clf-svm__alpha': 0.01, 'tfidf__use_idf': True, 'vect__ngram_range': (1, 1)}"
            ]
          },
          "metadata": {
            "tags": []
          },
          "execution_count": 67
        }
      ]
    },
    {
      "cell_type": "code",
      "metadata": {
        "colab": {
          "base_uri": "https://localhost:8080/"
        },
        "id": "3wRVw5QlwfST",
        "outputId": "eb73f5c9-ae80-4278-aec3-5df1f5b8acb7"
      },
      "source": [
        "from sklearn.linear_model import SGDClassifier\n",
        "text_clf_svm = Pipeline([('vect', CountVectorizer(ngram_range=(1, 1))),\n",
        "                         ('tfidf', TfidfTransformer()),\n",
        "                         ('clf-svm', SGDClassifier(alpha=0.001))])\n",
        "\n",
        "_ = text_clf_svm.fit(text_train, y_train)\n",
        "\n",
        "predicted_svm = text_clf_svm.predict(text_test)\n",
        "accuracy_score(predicted_svm, y_test)"
      ],
      "execution_count": 68,
      "outputs": [
        {
          "output_type": "execute_result",
          "data": {
            "text/plain": [
              "0.7662337662337663"
            ]
          },
          "metadata": {
            "tags": []
          },
          "execution_count": 68
        }
      ]
    },
    {
      "cell_type": "markdown",
      "metadata": {
        "id": "wR9yPB-xEod7"
      },
      "source": [
        "### LogisticRegression"
      ]
    },
    {
      "cell_type": "code",
      "metadata": {
        "colab": {
          "base_uri": "https://localhost:8080/"
        },
        "id": "n7Kt7dKTyKaD",
        "outputId": "e743c556-a3fc-41da-8a2d-d7733b1e2b65"
      },
      "source": [
        "from sklearn.linear_model import LogisticRegression\n",
        "text_clf = Pipeline([('vect', CountVectorizer()),\n",
        "                     ('tfidf', TfidfTransformer()),\n",
        "                      ('clf', LogisticRegression())])\n",
        "text_clf = text_clf.fit(text_train, y_train)\n",
        "\n",
        "predicted = text_clf.predict(text_test)\n",
        "print(accuracy_score(y_test, predicted))"
      ],
      "execution_count": 69,
      "outputs": [
        {
          "output_type": "stream",
          "text": [
            "0.7532467532467533\n"
          ],
          "name": "stdout"
        }
      ]
    },
    {
      "cell_type": "code",
      "metadata": {
        "colab": {
          "base_uri": "https://localhost:8080/"
        },
        "id": "PN1eWM775FoH",
        "outputId": "a570f6d0-ee40-447d-c355-82b0322596fe"
      },
      "source": [
        "parameters_svm = {'vect__ngram_range': [(1, 1), (1, 2)],\n",
        "               'tfidf__use_idf': (True, False),\n",
        "               'clf__max_iter': (100, 1000)}\n",
        "\n",
        "gs_clf_svm = GridSearchCV(text_clf, parameters_svm, n_jobs=-1)\n",
        "gs_clf_svm = gs_clf_svm.fit(text_train, y_train)\n",
        "gs_clf_svm.best_score_\n",
        "gs_clf_svm.best_params_"
      ],
      "execution_count": 70,
      "outputs": [
        {
          "output_type": "execute_result",
          "data": {
            "text/plain": [
              "{'clf__max_iter': 100, 'tfidf__use_idf': True, 'vect__ngram_range': (1, 1)}"
            ]
          },
          "metadata": {
            "tags": []
          },
          "execution_count": 70
        }
      ]
    },
    {
      "cell_type": "code",
      "metadata": {
        "colab": {
          "base_uri": "https://localhost:8080/"
        },
        "id": "U2kC00r3EwdZ",
        "outputId": "6d687b82-f226-4f8a-e42d-4a3ba31ec254"
      },
      "source": [
        "text_clf = Pipeline([('vect', CountVectorizer(ngram_range=(1, 1))),\n",
        "                     ('tfidf', TfidfTransformer()),\n",
        "                      ('clf', LogisticRegression(max_iter=100))])\n",
        "text_clf = text_clf.fit(text_train, y_train)\n",
        "\n",
        "predicted = text_clf.predict(text_test)\n",
        "print(accuracy_score(y_test, predicted))"
      ],
      "execution_count": 71,
      "outputs": [
        {
          "output_type": "stream",
          "text": [
            "0.7532467532467533\n"
          ],
          "name": "stdout"
        }
      ]
    },
    {
      "cell_type": "markdown",
      "metadata": {
        "id": "vW17IEJVE-uJ"
      },
      "source": [
        "### KNeighborsClassifier"
      ]
    },
    {
      "cell_type": "code",
      "metadata": {
        "colab": {
          "base_uri": "https://localhost:8080/"
        },
        "id": "lllAZ9mR5nwg",
        "outputId": "c7fa3d8e-e3f9-4125-a763-17d3c7e0e0b2"
      },
      "source": [
        "from sklearn.neighbors import KNeighborsClassifier\n",
        "text_clf = Pipeline([('vect', CountVectorizer()),\n",
        "                     ('tfidf', TfidfTransformer()),\n",
        "                      ('clf', KNeighborsClassifier())])\n",
        "text_clf = text_clf.fit(text_train, y_train)\n",
        "\n",
        "predicted = text_clf.predict(text_test)\n",
        "print(accuracy_score(y_test, predicted))"
      ],
      "execution_count": 72,
      "outputs": [
        {
          "output_type": "stream",
          "text": [
            "0.6623376623376623\n"
          ],
          "name": "stdout"
        }
      ]
    },
    {
      "cell_type": "code",
      "metadata": {
        "colab": {
          "base_uri": "https://localhost:8080/"
        },
        "id": "NunxkbWS50ln",
        "outputId": "9661b167-3581-4078-c005-ef8a248e1ca1"
      },
      "source": [
        "parameters = {'vect__ngram_range': [(1, 1), (1, 2)],\n",
        "               'tfidf__use_idf': (True, False),\n",
        "               'clf__n_neighbors': [3,5,1,19]}\n",
        "\n",
        "gs_clf = GridSearchCV(text_clf, parameters, n_jobs=-1)\n",
        "gs_clf = gs_clf.fit(text_train, y_train)\n",
        "gs_clf.best_score_\n",
        "gs_clf.best_params_"
      ],
      "execution_count": 77,
      "outputs": [
        {
          "output_type": "execute_result",
          "data": {
            "text/plain": [
              "{'clf__n_neighbors': 1, 'tfidf__use_idf': True, 'vect__ngram_range': (1, 2)}"
            ]
          },
          "metadata": {
            "tags": []
          },
          "execution_count": 77
        }
      ]
    },
    {
      "cell_type": "code",
      "metadata": {
        "colab": {
          "base_uri": "https://localhost:8080/"
        },
        "id": "w684crkh6cey",
        "outputId": "10bb249e-9b2f-46c4-abae-c6964d8aab82"
      },
      "source": [
        "text_clf = Pipeline([('vect', CountVectorizer(ngram_range=(1, 2))),\n",
        "                     ('tfidf', TfidfTransformer()),\n",
        "                      ('clf', KNeighborsClassifier(n_neighbors=1))])\n",
        "text_clf = text_clf.fit(text_train, y_train)\n",
        "\n",
        "predicted = text_clf.predict(text_test)\n",
        "print(accuracy_score(y_test, predicted))"
      ],
      "execution_count": 78,
      "outputs": [
        {
          "output_type": "stream",
          "text": [
            "0.6233766233766234\n"
          ],
          "name": "stdout"
        }
      ]
    },
    {
      "cell_type": "markdown",
      "metadata": {
        "id": "XGUVm_r-GVQK"
      },
      "source": [
        "## Попробуем на обработаных текстах"
      ]
    },
    {
      "cell_type": "code",
      "metadata": {
        "id": "pX9CaoIXGVQL"
      },
      "source": [
        "from sklearn.model_selection import train_test_split\n",
        "\n",
        "text_train, text_test, y_train, y_test = train_test_split(data['prep_text'], data['role'], test_size=0.25, random_state=42)"
      ],
      "execution_count": 79,
      "outputs": []
    },
    {
      "cell_type": "code",
      "metadata": {
        "colab": {
          "base_uri": "https://localhost:8080/"
        },
        "id": "omgpDAqXGVQM",
        "outputId": "3ccd2876-eb20-4d4e-aa1f-f8c303594456"
      },
      "source": [
        "from sklearn.feature_extraction.text import CountVectorizer\n",
        "count_vect = CountVectorizer()\n",
        "X_train_counts = count_vect.fit_transform(text_train) \n",
        "X_train_counts.shape"
      ],
      "execution_count": 80,
      "outputs": [
        {
          "output_type": "execute_result",
          "data": {
            "text/plain": [
              "(230, 1170)"
            ]
          },
          "metadata": {
            "tags": []
          },
          "execution_count": 80
        }
      ]
    },
    {
      "cell_type": "code",
      "metadata": {
        "colab": {
          "base_uri": "https://localhost:8080/"
        },
        "id": "-cRl7PMEGVQO",
        "outputId": "114d6ec0-d588-44c3-83c3-5b8aa51bfc79"
      },
      "source": [
        "from sklearn.feature_extraction.text import TfidfTransformer\n",
        "tfidf_transformer = TfidfTransformer()\n",
        "X_train_tfidf = tfidf_transformer.fit_transform(X_train_counts)\n",
        "X_train_tfidf.shape"
      ],
      "execution_count": 81,
      "outputs": [
        {
          "output_type": "execute_result",
          "data": {
            "text/plain": [
              "(230, 1170)"
            ]
          },
          "metadata": {
            "tags": []
          },
          "execution_count": 81
        }
      ]
    },
    {
      "cell_type": "markdown",
      "metadata": {
        "id": "1_LDzcIYGVQO"
      },
      "source": [
        "### MultinomialNB"
      ]
    },
    {
      "cell_type": "code",
      "metadata": {
        "id": "Ft3FeUuwGVQP"
      },
      "source": [
        "from sklearn.naive_bayes import MultinomialNB\n",
        "clf = MultinomialNB().fit(X_train_tfidf, y_train)"
      ],
      "execution_count": 82,
      "outputs": []
    },
    {
      "cell_type": "code",
      "metadata": {
        "id": "SkgQgkAhGVQP"
      },
      "source": [
        "from sklearn.pipeline import Pipeline\n",
        "text_clf = Pipeline([('vect', CountVectorizer()),\n",
        "                     ('tfidf', TfidfTransformer()),\n",
        "                      ('clf', MultinomialNB())])\n",
        "text_clf = text_clf.fit(text_train, y_train)"
      ],
      "execution_count": 83,
      "outputs": []
    },
    {
      "cell_type": "code",
      "metadata": {
        "colab": {
          "base_uri": "https://localhost:8080/"
        },
        "id": "t85eEohTGVQQ",
        "outputId": "a4accb01-23e9-4710-8bcf-659fb27a2f03"
      },
      "source": [
        "from sklearn.metrics import *\n",
        "predicted = text_clf.predict(text_test)\n",
        "print(accuracy_score(y_test, predicted))"
      ],
      "execution_count": 84,
      "outputs": [
        {
          "output_type": "stream",
          "text": [
            "0.7272727272727273\n"
          ],
          "name": "stdout"
        }
      ]
    },
    {
      "cell_type": "code",
      "metadata": {
        "colab": {
          "base_uri": "https://localhost:8080/"
        },
        "id": "FIGbruVAGVQQ",
        "outputId": "47712056-83d7-4b13-c7f6-c3f473e5ba85"
      },
      "source": [
        "from sklearn.model_selection import GridSearchCV\n",
        "parameters = {'vect__ngram_range': [(1, 1), (1, 2)],\n",
        "              'tfidf__use_idf': (True, False),\n",
        "              'clf__alpha': (1e-2, 1e-3)}\n",
        "gs_clf = GridSearchCV(text_clf, parameters, n_jobs=-1)\n",
        "gs_clf = gs_clf.fit(text_train, y_train)\n",
        "gs_clf.best_score_\n",
        "gs_clf.best_params_"
      ],
      "execution_count": 85,
      "outputs": [
        {
          "output_type": "execute_result",
          "data": {
            "text/plain": [
              "{'clf__alpha': 0.01, 'tfidf__use_idf': True, 'vect__ngram_range': (1, 1)}"
            ]
          },
          "metadata": {
            "tags": []
          },
          "execution_count": 85
        }
      ]
    },
    {
      "cell_type": "code",
      "metadata": {
        "colab": {
          "base_uri": "https://localhost:8080/"
        },
        "id": "KP-intl7GVQR",
        "outputId": "35e9bf02-e0e1-431e-dba3-f2332cfe9971"
      },
      "source": [
        "text_clf = Pipeline([('vect', CountVectorizer(ngram_range=(1, 1))),\n",
        "                     ('tfidf', TfidfTransformer()),\n",
        "                      ('clf', MultinomialNB(alpha=0.01))])\n",
        "text_clf = text_clf.fit(text_train, y_train)\n",
        "predicted = text_clf.predict(text_test)\n",
        "print(accuracy_score(y_test, predicted))"
      ],
      "execution_count": 86,
      "outputs": [
        {
          "output_type": "stream",
          "text": [
            "0.6883116883116883\n"
          ],
          "name": "stdout"
        }
      ]
    },
    {
      "cell_type": "markdown",
      "metadata": {
        "id": "D-bRtJbiGVQR"
      },
      "source": [
        "### SGDClassifier"
      ]
    },
    {
      "cell_type": "code",
      "metadata": {
        "colab": {
          "base_uri": "https://localhost:8080/"
        },
        "id": "UgbBP39qGVQS",
        "outputId": "8a2cb765-35a6-481a-dcb2-37e23870ba63"
      },
      "source": [
        "from sklearn.linear_model import SGDClassifier\n",
        "text_clf_svm = Pipeline([('vect', CountVectorizer()),\n",
        "                         ('tfidf', TfidfTransformer()),\n",
        "                         ('clf-svm', SGDClassifier(loss='hinge', penalty='l2',alpha=1e-3,n_iter_no_change=5, random_state=42))])\n",
        "\n",
        "_ = text_clf_svm.fit(text_train, y_train)\n",
        "\n",
        "predicted_svm = text_clf_svm.predict(text_test)\n",
        "accuracy_score(predicted_svm, y_test)"
      ],
      "execution_count": 87,
      "outputs": [
        {
          "output_type": "execute_result",
          "data": {
            "text/plain": [
              "0.7532467532467533"
            ]
          },
          "metadata": {
            "tags": []
          },
          "execution_count": 87
        }
      ]
    },
    {
      "cell_type": "markdown",
      "metadata": {
        "id": "8B_DNl1WGVQT"
      },
      "source": [
        "### LogisticRegression"
      ]
    },
    {
      "cell_type": "code",
      "metadata": {
        "colab": {
          "base_uri": "https://localhost:8080/"
        },
        "id": "JHkZU2WEGVQT",
        "outputId": "348e279e-b460-4796-98e9-1753ac2c7389"
      },
      "source": [
        "from sklearn.linear_model import LogisticRegression\n",
        "text_clf = Pipeline([('vect', CountVectorizer()),\n",
        "                     ('tfidf', TfidfTransformer()),\n",
        "                      ('clf', LogisticRegression())])\n",
        "text_clf = text_clf.fit(text_train, y_train)\n",
        "\n",
        "predicted = text_clf.predict(text_test)\n",
        "print(accuracy_score(y_test, predicted))"
      ],
      "execution_count": 88,
      "outputs": [
        {
          "output_type": "stream",
          "text": [
            "0.6883116883116883\n"
          ],
          "name": "stdout"
        }
      ]
    },
    {
      "cell_type": "markdown",
      "metadata": {
        "id": "aSR9ZX2sGVQU"
      },
      "source": [
        "### KNeighborsClassifier"
      ]
    },
    {
      "cell_type": "code",
      "metadata": {
        "colab": {
          "base_uri": "https://localhost:8080/"
        },
        "id": "ivGjwZqwGVQV",
        "outputId": "25439ea5-8516-4d0f-fe25-a17ff336d1f1"
      },
      "source": [
        "from sklearn.neighbors import KNeighborsClassifier\n",
        "text_clf = Pipeline([('vect', CountVectorizer()),\n",
        "                     ('tfidf', TfidfTransformer()),\n",
        "                      ('clf', KNeighborsClassifier())])\n",
        "text_clf = text_clf.fit(text_train, y_train)\n",
        "\n",
        "predicted = text_clf.predict(text_test)\n",
        "print(accuracy_score(y_test, predicted))"
      ],
      "execution_count": 89,
      "outputs": [
        {
          "output_type": "stream",
          "text": [
            "0.6363636363636364\n"
          ],
          "name": "stdout"
        }
      ]
    }
  ]
}
