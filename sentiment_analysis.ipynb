{
  "nbformat": 4,
  "nbformat_minor": 0,
  "metadata": {
    "colab": {
      "name": "sentiment_analysis.ipynb",
      "provenance": [],
      "authorship_tag": "ABX9TyPVUqUEyT8yyTTIoS+Enb7O",
      "include_colab_link": true
    },
    "kernelspec": {
      "name": "python3",
      "display_name": "Python 3"
    },
    "language_info": {
      "name": "python"
    }
  },
  "cells": [
    {
      "cell_type": "markdown",
      "metadata": {
        "id": "view-in-github",
        "colab_type": "text"
      },
      "source": [
        "<a href=\"https://colab.research.google.com/github/Gratisfo/Parentents-and-children/blob/main/sentiment_analysis.ipynb\" target=\"_parent\"><img src=\"https://colab.research.google.com/assets/colab-badge.svg\" alt=\"Open In Colab\"/></a>"
      ]
    },
    {
      "cell_type": "markdown",
      "metadata": {
        "id": "SIm346hXJ38X"
      },
      "source": [
        "inspires by this article https://towardsdatascience.com/unsupervised-sentiment-analysis-a38bf1906483"
      ]
    },
    {
      "cell_type": "code",
      "metadata": {
        "colab": {
          "base_uri": "https://localhost:8080/",
          "height": 419
        },
        "id": "DyvIcYstxsW_",
        "outputId": "160cdca5-ef2b-47d0-9090-85c3ae0394ff"
      },
      "source": [
        "import pandas as pd\n",
        "data = pd.read_csv('data.csv')\n",
        "del data['Unnamed: 0']\n",
        "data = data.dropna().reset_index(drop=True)\n",
        "data"
      ],
      "execution_count": 98,
      "outputs": [
        {
          "output_type": "execute_result",
          "data": {
            "text/html": [
              "<div>\n",
              "<style scoped>\n",
              "    .dataframe tbody tr th:only-of-type {\n",
              "        vertical-align: middle;\n",
              "    }\n",
              "\n",
              "    .dataframe tbody tr th {\n",
              "        vertical-align: top;\n",
              "    }\n",
              "\n",
              "    .dataframe thead th {\n",
              "        text-align: right;\n",
              "    }\n",
              "</style>\n",
              "<table border=\"1\" class=\"dataframe\">\n",
              "  <thead>\n",
              "    <tr style=\"text-align: right;\">\n",
              "      <th></th>\n",
              "      <th>speaker</th>\n",
              "      <th>text</th>\n",
              "      <th>role</th>\n",
              "      <th>date</th>\n",
              "      <th>title</th>\n",
              "    </tr>\n",
              "  </thead>\n",
              "  <tbody>\n",
              "    <tr>\n",
              "      <th>0</th>\n",
              "      <td>#taratora</td>\n",
              "      <td>И ты еще, мошенник, смеешь мне указывать! Да з...</td>\n",
              "      <td>parent</td>\n",
              "      <td>1788</td>\n",
              "      <td>krylov-prokazniki</td>\n",
              "    </tr>\n",
              "    <tr>\n",
              "      <th>1</th>\n",
              "      <td>#taratora</td>\n",
              "      <td>То есть чего-нибудь хорошенького.</td>\n",
              "      <td>parent</td>\n",
              "      <td>1788</td>\n",
              "      <td>krylov-prokazniki</td>\n",
              "    </tr>\n",
              "    <tr>\n",
              "      <th>2</th>\n",
              "      <td>#taratora</td>\n",
              "      <td>Как, бездельник! да разве не для того он сюда ...</td>\n",
              "      <td>parent</td>\n",
              "      <td>1788</td>\n",
              "      <td>krylov-prokazniki</td>\n",
              "    </tr>\n",
              "    <tr>\n",
              "      <th>3</th>\n",
              "      <td>#taratora</td>\n",
              "      <td>Да его ль вина, бестия, что вы все здесь ходит...</td>\n",
              "      <td>parent</td>\n",
              "      <td>1788</td>\n",
              "      <td>krylov-prokazniki</td>\n",
              "    </tr>\n",
              "    <tr>\n",
              "      <th>4</th>\n",
              "      <td>#taratora</td>\n",
              "      <td>Я окончала!.. Как я рада! Элегия эта беспример...</td>\n",
              "      <td>parent</td>\n",
              "      <td>1788</td>\n",
              "      <td>krylov-prokazniki</td>\n",
              "    </tr>\n",
              "    <tr>\n",
              "      <th>...</th>\n",
              "      <td>...</td>\n",
              "      <td>...</td>\n",
              "      <td>...</td>\n",
              "      <td>...</td>\n",
              "      <td>...</td>\n",
              "    </tr>\n",
              "    <tr>\n",
              "      <th>17059</th>\n",
              "      <td>#sineus</td>\n",
              "      <td>Ты, сказывают, хотел Славян и прочие народы от...</td>\n",
              "      <td>children</td>\n",
              "      <td>1786</td>\n",
              "      <td>ekaterina-vtoraja-iz-zhizni-rjurika</td>\n",
              "    </tr>\n",
              "    <tr>\n",
              "      <th>17060</th>\n",
              "      <td>#truvor</td>\n",
              "      <td>Какие же ты имел при том намерения?</td>\n",
              "      <td>children</td>\n",
              "      <td>1786</td>\n",
              "      <td>ekaterina-vtoraja-iz-zhizni-rjurika</td>\n",
              "    </tr>\n",
              "    <tr>\n",
              "      <th>17061</th>\n",
              "      <td>#oskold</td>\n",
              "      <td>К чему прение тут, где дело само по себе ясно?</td>\n",
              "      <td>children</td>\n",
              "      <td>1786</td>\n",
              "      <td>ekaterina-vtoraja-iz-zhizni-rjurika</td>\n",
              "    </tr>\n",
              "    <tr>\n",
              "      <th>17062</th>\n",
              "      <td>#rjurik</td>\n",
              "      <td>Бодрость духа твоего, князь Вадим, не унывает;...</td>\n",
              "      <td>parent</td>\n",
              "      <td>1786</td>\n",
              "      <td>ekaterina-vtoraja-iz-zhizni-rjurika</td>\n",
              "    </tr>\n",
              "    <tr>\n",
              "      <th>17063</th>\n",
              "      <td>#rjurik</td>\n",
              "      <td>Неоспорима по крайней мере есть истина на сей ...</td>\n",
              "      <td>parent</td>\n",
              "      <td>1786</td>\n",
              "      <td>ekaterina-vtoraja-iz-zhizni-rjurika</td>\n",
              "    </tr>\n",
              "  </tbody>\n",
              "</table>\n",
              "<p>17064 rows × 5 columns</p>\n",
              "</div>"
            ],
            "text/plain": [
              "         speaker  ...                                title\n",
              "0      #taratora  ...                    krylov-prokazniki\n",
              "1      #taratora  ...                    krylov-prokazniki\n",
              "2      #taratora  ...                    krylov-prokazniki\n",
              "3      #taratora  ...                    krylov-prokazniki\n",
              "4      #taratora  ...                    krylov-prokazniki\n",
              "...          ...  ...                                  ...\n",
              "17059    #sineus  ...  ekaterina-vtoraja-iz-zhizni-rjurika\n",
              "17060    #truvor  ...  ekaterina-vtoraja-iz-zhizni-rjurika\n",
              "17061    #oskold  ...  ekaterina-vtoraja-iz-zhizni-rjurika\n",
              "17062    #rjurik  ...  ekaterina-vtoraja-iz-zhizni-rjurika\n",
              "17063    #rjurik  ...  ekaterina-vtoraja-iz-zhizni-rjurika\n",
              "\n",
              "[17064 rows x 5 columns]"
            ]
          },
          "metadata": {
            "tags": []
          },
          "execution_count": 98
        }
      ]
    },
    {
      "cell_type": "code",
      "metadata": {
        "id": "61eT2sx8AIiD"
      },
      "source": [
        "!pip install razdel"
      ],
      "execution_count": null,
      "outputs": []
    },
    {
      "cell_type": "code",
      "metadata": {
        "id": "m_40sZh3APNq"
      },
      "source": [
        "!pip install pymorphy2[fast]"
      ],
      "execution_count": null,
      "outputs": []
    },
    {
      "cell_type": "code",
      "metadata": {
        "id": "KCVgZzkBx8ks"
      },
      "source": [
        "import re\n",
        "import pymorphy2\n",
        "import nltk\n",
        "from razdel import sentenize, tokenize\n",
        "import string"
      ],
      "execution_count": 6,
      "outputs": []
    },
    {
      "cell_type": "code",
      "metadata": {
        "id": "am5OyU5yASu6"
      },
      "source": [
        "def preproc_text(text):\n",
        "  # tokenize\n",
        "  tokens = [_.text for _ in list(tokenize(text))]\n",
        "  \n",
        "  # lower register\n",
        "  tokens = [w.lower() for w in tokens]\n",
        "  \n",
        "  # remove puntuation\n",
        "  table = str.maketrans('', '', string.punctuation)\n",
        "  stripped = [w.translate(table) for w in tokens]\n",
        "  \n",
        "  # remove numbers, save only letters\n",
        "  words = [word for word in stripped if word.isalpha()]\n",
        "  \n",
        "  return words"
      ],
      "execution_count": 7,
      "outputs": []
    },
    {
      "cell_type": "code",
      "metadata": {
        "id": "Bm_w2XBYAaVc"
      },
      "source": [
        "data['clean_text'] = data['text'].apply(lambda x: preproc_text(x))\n",
        "\n",
        "# retaining all rows with sentences with a length of at least 3 words.\n",
        "data = data[data['clean_text'].map(len) > 2]"
      ],
      "execution_count": 99,
      "outputs": []
    },
    {
      "cell_type": "code",
      "metadata": {
        "id": "kKormMXMQVoJ"
      },
      "source": [
        "file_model = data.copy()\n",
        "file_model = file_model[file_model.clean_text.str.len()>1]"
      ],
      "execution_count": 100,
      "outputs": []
    },
    {
      "cell_type": "code",
      "metadata": {
        "id": "vOLlgVpzbMdX"
      },
      "source": [
        "del file_model['speaker'] \n",
        "del file_model['text'] \n",
        "del file_model['role'] \n",
        "del file_model['date'] \n",
        "del file_model['title'] "
      ],
      "execution_count": 102,
      "outputs": []
    },
    {
      "cell_type": "code",
      "metadata": {
        "id": "oNY76sW5bdHn"
      },
      "source": [
        "file_model = file_model.rename(columns={'clean_text':'text_list'}).reset_index(drop=True)"
      ],
      "execution_count": 105,
      "outputs": []
    },
    {
      "cell_type": "code",
      "metadata": {
        "id": "QU9J7rmGDUFv"
      },
      "source": [
        "sent = [row for row in file_model.text_list]\n",
        "phrases = Phrases(sent, min_count=1, progress_per=50000)\n",
        "bigram = Phraser(phrases)\n",
        "sentences = bigram[sent]\n",
        "sentences[1]"
      ],
      "execution_count": null,
      "outputs": []
    },
    {
      "cell_type": "code",
      "metadata": {
        "id": "q1V6i_f2C6mi"
      },
      "source": [
        "import multiprocessing\n",
        "\n",
        "from gensim.models.phrases import Phrases, Phraser\n",
        "from gensim.models import Word2Vec\n",
        "from gensim.test.utils import get_tmpfile\n",
        "from gensim.models import KeyedVectors\n",
        "\n",
        "\n",
        "from time import time \n",
        "from collections import defaultdict\n",
        "\n",
        "import logging  # Setting up the loggings to monitor gensim\n",
        "logging.basicConfig(format=\"%(levelname)s - %(asctime)s: %(message)s\", datefmt= '%H:%M:%S', level=logging.INFO)"
      ],
      "execution_count": 16,
      "outputs": []
    },
    {
      "cell_type": "code",
      "metadata": {
        "id": "pkTihh7pAjx1"
      },
      "source": [
        "w2v_model = Word2Vec(min_count=3,\n",
        "                     window=4,\n",
        "                     size=300,\n",
        "                     sample=1e-5, \n",
        "                     alpha=0.03, \n",
        "                     min_alpha=0.0007, \n",
        "                     negative=20,\n",
        "                     workers=multiprocessing.cpu_count()-1)\n",
        "\n",
        "start = time()\n",
        "\n",
        "w2v_model.build_vocab(sentences, progress_per=50000)\n",
        "\n",
        "print('Time to build vocab: {} mins'.format(round((time() - start) / 60, 2)))"
      ],
      "execution_count": null,
      "outputs": []
    },
    {
      "cell_type": "code",
      "metadata": {
        "id": "pmG0HjNpD2Dy"
      },
      "source": [
        "start = time()\n",
        "\n",
        "w2v_model.train(sentences, total_examples=w2v_model.corpus_count, epochs=30, report_delay=1)\n",
        "\n",
        "print('Time to train the model: {} mins'.format(round((time() - start) / 60, 2)))\n",
        "\n",
        "w2v_model.init_sims(replace=True)"
      ],
      "execution_count": null,
      "outputs": []
    },
    {
      "cell_type": "code",
      "metadata": {
        "id": "GvC0wEBrD7CC"
      },
      "source": [
        "w2v_model.save(\"word2vec.model\")"
      ],
      "execution_count": null,
      "outputs": []
    },
    {
      "cell_type": "code",
      "metadata": {
        "id": "p9KVMMHSQwr8"
      },
      "source": [
        "final_file = file_model.copy()\n",
        "final_file['text'] = final_file.text_list\n",
        "final_file.text = final_file.text.str.join(' ')\n",
        "final_file['text_bi'] = final_file.text_list.apply(lambda x: ' '.join(bigram[x]))"
      ],
      "execution_count": 127,
      "outputs": []
    },
    {
      "cell_type": "code",
      "metadata": {
        "colab": {
          "base_uri": "https://localhost:8080/",
          "height": 589
        },
        "id": "AekyK5L8egv9",
        "outputId": "9b33b1a0-d6fb-4326-87af-dcd73a40eb0c"
      },
      "source": [
        "final_file"
      ],
      "execution_count": 128,
      "outputs": [
        {
          "output_type": "execute_result",
          "data": {
            "text/html": [
              "<div>\n",
              "<style scoped>\n",
              "    .dataframe tbody tr th:only-of-type {\n",
              "        vertical-align: middle;\n",
              "    }\n",
              "\n",
              "    .dataframe tbody tr th {\n",
              "        vertical-align: top;\n",
              "    }\n",
              "\n",
              "    .dataframe thead th {\n",
              "        text-align: right;\n",
              "    }\n",
              "</style>\n",
              "<table border=\"1\" class=\"dataframe\">\n",
              "  <thead>\n",
              "    <tr style=\"text-align: right;\">\n",
              "      <th></th>\n",
              "      <th>text_list</th>\n",
              "      <th>text</th>\n",
              "      <th>text_bi</th>\n",
              "    </tr>\n",
              "  </thead>\n",
              "  <tbody>\n",
              "    <tr>\n",
              "      <th>0</th>\n",
              "      <td>[и, ты, еще, мошенник, смеешь, мне, указывать,...</td>\n",
              "      <td>и ты еще мошенник смеешь мне указывать да знае...</td>\n",
              "      <td>и ты еще мошенник смеешь мне указывать да знае...</td>\n",
              "    </tr>\n",
              "    <tr>\n",
              "      <th>1</th>\n",
              "      <td>[то, есть, чегонибудь, хорошенького]</td>\n",
              "      <td>то есть чегонибудь хорошенького</td>\n",
              "      <td>то_есть чегонибудь хорошенького</td>\n",
              "    </tr>\n",
              "    <tr>\n",
              "      <th>2</th>\n",
              "      <td>[как, бездельник, да, разве, не, для, того, он...</td>\n",
              "      <td>как бездельник да разве не для того он сюда вх...</td>\n",
              "      <td>как бездельник да разве не для_того он сюда вх...</td>\n",
              "    </tr>\n",
              "    <tr>\n",
              "      <th>3</th>\n",
              "      <td>[да, его, ль, вина, бестия, что, вы, все, здес...</td>\n",
              "      <td>да его ль вина бестия что вы все здесь ходите ...</td>\n",
              "      <td>да его ль вина бестия что вы все здесь ходите ...</td>\n",
              "    </tr>\n",
              "    <tr>\n",
              "      <th>4</th>\n",
              "      <td>[я, окончала, как, я, рада, элегия, эта, беспр...</td>\n",
              "      <td>я окончала как я рада элегия эта беспримерна а...</td>\n",
              "      <td>я окончала как я рада элегия эта беспримерна а...</td>\n",
              "    </tr>\n",
              "    <tr>\n",
              "      <th>...</th>\n",
              "      <td>...</td>\n",
              "      <td>...</td>\n",
              "      <td>...</td>\n",
              "    </tr>\n",
              "    <tr>\n",
              "      <th>14883</th>\n",
              "      <td>[ты, сказывают, хотел, славян, и, прочие, наро...</td>\n",
              "      <td>ты сказывают хотел славян и прочие народы отвл...</td>\n",
              "      <td>ты сказывают хотел славян и прочие народы отвл...</td>\n",
              "    </tr>\n",
              "    <tr>\n",
              "      <th>14884</th>\n",
              "      <td>[какие, же, ты, имел, при, том, намерения]</td>\n",
              "      <td>какие же ты имел при том намерения</td>\n",
              "      <td>какие же ты имел при_том намерения</td>\n",
              "    </tr>\n",
              "    <tr>\n",
              "      <th>14885</th>\n",
              "      <td>[к, чему, прение, тут, где, дело, само, по, се...</td>\n",
              "      <td>к чему прение тут где дело само по себе ясно</td>\n",
              "      <td>к_чему прение тут где дело само_по себе ясно</td>\n",
              "    </tr>\n",
              "    <tr>\n",
              "      <th>14886</th>\n",
              "      <td>[бодрость, духа, твоего, князь, вадим, не, уны...</td>\n",
              "      <td>бодрость духа твоего князь вадим не унывает он...</td>\n",
              "      <td>бодрость_духа твоего_князь вадим не унывает он...</td>\n",
              "    </tr>\n",
              "    <tr>\n",
              "      <th>14887</th>\n",
              "      <td>[неоспорима, по, крайней, мере, есть, истина, ...</td>\n",
              "      <td>неоспорима по крайней мере есть истина на сей ...</td>\n",
              "      <td>неоспорима по_крайней мере_есть истина на сей_...</td>\n",
              "    </tr>\n",
              "  </tbody>\n",
              "</table>\n",
              "<p>14888 rows × 3 columns</p>\n",
              "</div>"
            ],
            "text/plain": [
              "                                               text_list  ...                                            text_bi\n",
              "0      [и, ты, еще, мошенник, смеешь, мне, указывать,...  ...  и ты еще мошенник смеешь мне указывать да знае...\n",
              "1                   [то, есть, чегонибудь, хорошенького]  ...                    то_есть чегонибудь хорошенького\n",
              "2      [как, бездельник, да, разве, не, для, того, он...  ...  как бездельник да разве не для_того он сюда вх...\n",
              "3      [да, его, ль, вина, бестия, что, вы, все, здес...  ...  да его ль вина бестия что вы все здесь ходите ...\n",
              "4      [я, окончала, как, я, рада, элегия, эта, беспр...  ...  я окончала как я рада элегия эта беспримерна а...\n",
              "...                                                  ...  ...                                                ...\n",
              "14883  [ты, сказывают, хотел, славян, и, прочие, наро...  ...  ты сказывают хотел славян и прочие народы отвл...\n",
              "14884         [какие, же, ты, имел, при, том, намерения]  ...                 какие же ты имел при_том намерения\n",
              "14885  [к, чему, прение, тут, где, дело, само, по, се...  ...       к_чему прение тут где дело само_по себе ясно\n",
              "14886  [бодрость, духа, твоего, князь, вадим, не, уны...  ...  бодрость_духа твоего_князь вадим не унывает он...\n",
              "14887  [неоспорима, по, крайней, мере, есть, истина, ...  ...  неоспорима по_крайней мере_есть истина на сей_...\n",
              "\n",
              "[14888 rows x 3 columns]"
            ]
          },
          "metadata": {
            "tags": []
          },
          "execution_count": 128
        }
      ]
    },
    {
      "cell_type": "code",
      "metadata": {
        "colab": {
          "base_uri": "https://localhost:8080/"
        },
        "id": "9Wr_GvSzEq5u",
        "outputId": "f54db0b2-093d-4329-b2c1-50e59f9f27ce"
      },
      "source": [
        "word_vectors = Word2Vec.load(\"word2vec.model\").wv"
      ],
      "execution_count": 114,
      "outputs": [
        {
          "output_type": "stream",
          "text": [
            "INFO - 17:38:28: loading Word2Vec object from word2vec.model\n",
            "INFO - 17:38:28: loading wv recursively from word2vec.model.wv.* with mmap=None\n",
            "INFO - 17:38:28: setting ignored attribute vectors_norm to None\n",
            "INFO - 17:38:28: loading vocabulary recursively from word2vec.model.vocabulary.* with mmap=None\n",
            "INFO - 17:38:28: loading trainables recursively from word2vec.model.trainables.* with mmap=None\n",
            "INFO - 17:38:28: setting ignored attribute cum_table to None\n",
            "INFO - 17:38:28: loaded word2vec.model\n"
          ],
          "name": "stderr"
        }
      ]
    },
    {
      "cell_type": "code",
      "metadata": {
        "id": "6fRSUw-iEcI5"
      },
      "source": [
        "from sklearn.cluster import KMeans"
      ],
      "execution_count": 22,
      "outputs": []
    },
    {
      "cell_type": "code",
      "metadata": {
        "id": "77g6wINMEivL"
      },
      "source": [
        "model = KMeans(n_clusters=2, max_iter=1000, random_state=True, n_init=50).fit(X=word_vectors.vectors.astype('double'))"
      ],
      "execution_count": 115,
      "outputs": []
    },
    {
      "cell_type": "code",
      "metadata": {
        "colab": {
          "base_uri": "https://localhost:8080/"
        },
        "id": "x0BCI9kfEyMQ",
        "outputId": "8462c616-e000-4493-eb28-4ebe0d41be00"
      },
      "source": [
        "word_vectors.similar_by_vector(model.cluster_centers_[1], topn=10, restrict_vocab=None)"
      ],
      "execution_count": 116,
      "outputs": [
        {
          "output_type": "stream",
          "text": [
            "INFO - 17:38:55: precomputing L2-norms of word weight vectors\n"
          ],
          "name": "stderr"
        },
        {
          "output_type": "execute_result",
          "data": {
            "text/plain": [
              "[('своею', 0.9999736547470093),\n",
              " ('чужих_руках', 0.9999713897705078),\n",
              " ('никаких', 0.9999709129333496),\n",
              " ('глаза', 0.9999700784683228),\n",
              " ('надо_было', 0.9999697208404541),\n",
              " ('квартиру', 0.999969482421875),\n",
              " ('с_отцом', 0.9999693632125854),\n",
              " ('ято', 0.9999693632125854),\n",
              " ('этим', 0.9999693036079407),\n",
              " ('добрым', 0.9999691247940063)]"
            ]
          },
          "metadata": {
            "tags": []
          },
          "execution_count": 116
        }
      ]
    },
    {
      "cell_type": "code",
      "metadata": {
        "id": "6TozlZ8BE7eX"
      },
      "source": [
        "positive_cluster_index = 1\n",
        "positive_cluster_center = model.cluster_centers_[positive_cluster_index]\n",
        "negative_cluster_center = model.cluster_centers_[1-positive_cluster_index]"
      ],
      "execution_count": 117,
      "outputs": []
    },
    {
      "cell_type": "code",
      "metadata": {
        "id": "krmQpXvfFAy2"
      },
      "source": [
        "import numpy as np\n",
        "words = pd.DataFrame(word_vectors.vocab.keys())\n",
        "words.columns = ['words']\n",
        "words['vectors'] = words.words.apply(lambda x: word_vectors[f'{x}'])\n",
        "words['cluster'] = words.vectors.apply(lambda x: model.predict([np.array(x)]))\n",
        "words.cluster = words.cluster.apply(lambda x: x[0])"
      ],
      "execution_count": 118,
      "outputs": []
    },
    {
      "cell_type": "code",
      "metadata": {
        "id": "YjLkDgcVFGrc"
      },
      "source": [
        "words['cluster_value'] = [1 if i==positive_cluster_index else -1 for i in words.cluster]\n",
        "words['closeness_score'] = words.apply(lambda x: 1/(model.transform([x.vectors]).min()), axis=1)\n",
        "words['sentiment_coeff'] = words.closeness_score * words.cluster_value"
      ],
      "execution_count": 78,
      "outputs": []
    },
    {
      "cell_type": "code",
      "metadata": {
        "colab": {
          "base_uri": "https://localhost:8080/",
          "height": 1000
        },
        "id": "8_AdcKGNFI54",
        "outputId": "980b0d32-1466-4784-c765-fa354cce1f28"
      },
      "source": [
        "words.head(10)"
      ],
      "execution_count": 79,
      "outputs": [
        {
          "output_type": "execute_result",
          "data": {
            "text/html": [
              "<div>\n",
              "<style scoped>\n",
              "    .dataframe tbody tr th:only-of-type {\n",
              "        vertical-align: middle;\n",
              "    }\n",
              "\n",
              "    .dataframe tbody tr th {\n",
              "        vertical-align: top;\n",
              "    }\n",
              "\n",
              "    .dataframe thead th {\n",
              "        text-align: right;\n",
              "    }\n",
              "</style>\n",
              "<table border=\"1\" class=\"dataframe\">\n",
              "  <thead>\n",
              "    <tr style=\"text-align: right;\">\n",
              "      <th></th>\n",
              "      <th>words</th>\n",
              "      <th>vectors</th>\n",
              "      <th>cluster</th>\n",
              "      <th>cluster_value</th>\n",
              "      <th>closeness_score</th>\n",
              "      <th>sentiment_coeff</th>\n",
              "    </tr>\n",
              "  </thead>\n",
              "  <tbody>\n",
              "    <tr>\n",
              "      <th>0</th>\n",
              "      <td>и</td>\n",
              "      <td>[-0.08439547, 0.03545999, 0.0011736394, -0.024...</td>\n",
              "      <td>1</td>\n",
              "      <td>1</td>\n",
              "      <td>104.930127</td>\n",
              "      <td>104.930127</td>\n",
              "    </tr>\n",
              "    <tr>\n",
              "      <th>1</th>\n",
              "      <td>ты</td>\n",
              "      <td>[-0.085728966, 0.03549873, 0.0010065425, -0.02...</td>\n",
              "      <td>1</td>\n",
              "      <td>1</td>\n",
              "      <td>107.373913</td>\n",
              "      <td>107.373913</td>\n",
              "    </tr>\n",
              "    <tr>\n",
              "      <th>2</th>\n",
              "      <td>еще</td>\n",
              "      <td>[-0.08435217, 0.034467123, 0.00089435134, -0.0...</td>\n",
              "      <td>1</td>\n",
              "      <td>1</td>\n",
              "      <td>114.833415</td>\n",
              "      <td>114.833415</td>\n",
              "    </tr>\n",
              "    <tr>\n",
              "      <th>3</th>\n",
              "      <td>мошенник</td>\n",
              "      <td>[-0.08540243, 0.035111163, 0.00021683254, -0.0...</td>\n",
              "      <td>1</td>\n",
              "      <td>1</td>\n",
              "      <td>102.986599</td>\n",
              "      <td>102.986599</td>\n",
              "    </tr>\n",
              "    <tr>\n",
              "      <th>4</th>\n",
              "      <td>смеешь</td>\n",
              "      <td>[-0.08515904, 0.034387264, 0.0013560787, -0.02...</td>\n",
              "      <td>1</td>\n",
              "      <td>1</td>\n",
              "      <td>111.957265</td>\n",
              "      <td>111.957265</td>\n",
              "    </tr>\n",
              "    <tr>\n",
              "      <th>5</th>\n",
              "      <td>мне</td>\n",
              "      <td>[-0.08463823, 0.03444994, 0.00067324465, -0.02...</td>\n",
              "      <td>1</td>\n",
              "      <td>1</td>\n",
              "      <td>109.610189</td>\n",
              "      <td>109.610189</td>\n",
              "    </tr>\n",
              "    <tr>\n",
              "      <th>6</th>\n",
              "      <td>да</td>\n",
              "      <td>[-0.085733086, 0.03511489, 0.00018543078, -0.0...</td>\n",
              "      <td>1</td>\n",
              "      <td>1</td>\n",
              "      <td>105.372887</td>\n",
              "      <td>105.372887</td>\n",
              "    </tr>\n",
              "    <tr>\n",
              "      <th>7</th>\n",
              "      <td>знаешь_ли</td>\n",
              "      <td>[-0.08511629, 0.0339389, 0.00036508343, -0.024...</td>\n",
              "      <td>1</td>\n",
              "      <td>1</td>\n",
              "      <td>118.670505</td>\n",
              "      <td>118.670505</td>\n",
              "    </tr>\n",
              "    <tr>\n",
              "      <th>8</th>\n",
              "      <td>что</td>\n",
              "      <td>[-0.08511542, 0.03439768, 0.00023882299, -0.02...</td>\n",
              "      <td>0</td>\n",
              "      <td>-1</td>\n",
              "      <td>105.699109</td>\n",
              "      <td>-105.699109</td>\n",
              "    </tr>\n",
              "    <tr>\n",
              "      <th>9</th>\n",
              "      <td>я</td>\n",
              "      <td>[-0.084758684, 0.035062984, 0.0007075275, -0.0...</td>\n",
              "      <td>1</td>\n",
              "      <td>1</td>\n",
              "      <td>98.800546</td>\n",
              "      <td>98.800546</td>\n",
              "    </tr>\n",
              "    <tr>\n",
              "      <th>10</th>\n",
              "      <td>дух</td>\n",
              "      <td>[-0.085102804, 0.034304097, -0.00027652262, -0...</td>\n",
              "      <td>0</td>\n",
              "      <td>-1</td>\n",
              "      <td>114.441228</td>\n",
              "      <td>-114.441228</td>\n",
              "    </tr>\n",
              "    <tr>\n",
              "      <th>11</th>\n",
              "      <td>из</td>\n",
              "      <td>[-0.08465892, 0.034511503, 1.3104479e-05, -0.0...</td>\n",
              "      <td>1</td>\n",
              "      <td>1</td>\n",
              "      <td>111.092135</td>\n",
              "      <td>111.092135</td>\n",
              "    </tr>\n",
              "    <tr>\n",
              "      <th>12</th>\n",
              "      <td>тебя</td>\n",
              "      <td>[-0.08522375, 0.03411793, 0.00063457194, -0.02...</td>\n",
              "      <td>1</td>\n",
              "      <td>1</td>\n",
              "      <td>110.577352</td>\n",
              "      <td>110.577352</td>\n",
              "    </tr>\n",
              "    <tr>\n",
              "      <th>13</th>\n",
              "      <td>твое_дело</td>\n",
              "      <td>[-0.08421358, 0.033892635, 0.00046163515, -0.0...</td>\n",
              "      <td>0</td>\n",
              "      <td>-1</td>\n",
              "      <td>116.667699</td>\n",
              "      <td>-116.667699</td>\n",
              "    </tr>\n",
              "    <tr>\n",
              "      <th>14</th>\n",
              "      <td>бездельник</td>\n",
              "      <td>[-0.08589868, 0.035146706, 0.0010229319, -0.02...</td>\n",
              "      <td>0</td>\n",
              "      <td>-1</td>\n",
              "      <td>112.090331</td>\n",
              "      <td>-112.090331</td>\n",
              "    </tr>\n",
              "    <tr>\n",
              "      <th>15</th>\n",
              "      <td>голову</td>\n",
              "      <td>[-0.084928595, 0.034782115, 0.0006728619, -0.0...</td>\n",
              "      <td>0</td>\n",
              "      <td>-1</td>\n",
              "      <td>116.486675</td>\n",
              "      <td>-116.486675</td>\n",
              "    </tr>\n",
              "    <tr>\n",
              "      <th>16</th>\n",
              "      <td>то_есть</td>\n",
              "      <td>[-0.085615925, 0.03450476, -0.0004045308, -0.0...</td>\n",
              "      <td>0</td>\n",
              "      <td>-1</td>\n",
              "      <td>118.383013</td>\n",
              "      <td>-118.383013</td>\n",
              "    </tr>\n",
              "    <tr>\n",
              "      <th>17</th>\n",
              "      <td>чегонибудь</td>\n",
              "      <td>[-0.08426095, 0.033994872, 0.0006019703, -0.02...</td>\n",
              "      <td>1</td>\n",
              "      <td>1</td>\n",
              "      <td>118.693803</td>\n",
              "      <td>118.693803</td>\n",
              "    </tr>\n",
              "    <tr>\n",
              "      <th>18</th>\n",
              "      <td>как</td>\n",
              "      <td>[-0.084856585, 0.03546445, 1.0670635e-05, -0.0...</td>\n",
              "      <td>1</td>\n",
              "      <td>1</td>\n",
              "      <td>106.397853</td>\n",
              "      <td>106.397853</td>\n",
              "    </tr>\n",
              "    <tr>\n",
              "      <th>19</th>\n",
              "      <td>разве</td>\n",
              "      <td>[-0.08580167, 0.034792118, 0.00028967846, -0.0...</td>\n",
              "      <td>1</td>\n",
              "      <td>1</td>\n",
              "      <td>116.254065</td>\n",
              "      <td>116.254065</td>\n",
              "    </tr>\n",
              "  </tbody>\n",
              "</table>\n",
              "</div>"
            ],
            "text/plain": [
              "         words  ... sentiment_coeff\n",
              "0            и  ...      104.930127\n",
              "1           ты  ...      107.373913\n",
              "2          еще  ...      114.833415\n",
              "3     мошенник  ...      102.986599\n",
              "4       смеешь  ...      111.957265\n",
              "5          мне  ...      109.610189\n",
              "6           да  ...      105.372887\n",
              "7    знаешь_ли  ...      118.670505\n",
              "8          что  ...     -105.699109\n",
              "9            я  ...       98.800546\n",
              "10         дух  ...     -114.441228\n",
              "11          из  ...      111.092135\n",
              "12        тебя  ...      110.577352\n",
              "13   твое_дело  ...     -116.667699\n",
              "14  бездельник  ...     -112.090331\n",
              "15      голову  ...     -116.486675\n",
              "16     то_есть  ...     -118.383013\n",
              "17  чегонибудь  ...      118.693803\n",
              "18         как  ...      106.397853\n",
              "19       разве  ...      116.254065\n",
              "\n",
              "[20 rows x 6 columns]"
            ]
          },
          "metadata": {
            "tags": []
          },
          "execution_count": 79
        }
      ]
    },
    {
      "cell_type": "code",
      "metadata": {
        "id": "TP_wbreqFRrg"
      },
      "source": [
        "words[['words', 'sentiment_coeff']].to_csv('sentiment_dictionary.csv', index=False)"
      ],
      "execution_count": 80,
      "outputs": []
    },
    {
      "cell_type": "code",
      "metadata": {
        "id": "6T5LbpFAFXGz"
      },
      "source": [
        "from sklearn.feature_extraction.text import TfidfVectorizer\n",
        "from sklearn.metrics import accuracy_score, confusion_matrix, precision_score, recall_score, f1_score\n",
        "from IPython.display import display"
      ],
      "execution_count": 34,
      "outputs": []
    },
    {
      "cell_type": "code",
      "metadata": {
        "id": "naAH7xQUFZXc"
      },
      "source": [
        "sentiment_map = pd.read_csv('sentiment_dictionary.csv')\n",
        "sentiment_dict = dict(zip(sentiment_map.words.values, sentiment_map.sentiment_coeff.values))"
      ],
      "execution_count": 122,
      "outputs": []
    },
    {
      "cell_type": "code",
      "metadata": {
        "colab": {
          "base_uri": "https://localhost:8080/",
          "height": 419
        },
        "id": "rlUGNCceebDG",
        "outputId": "724fa246-4115-49b9-e5de-9eec7cd6bd9a"
      },
      "source": [
        "file_weighting"
      ],
      "execution_count": 124,
      "outputs": [
        {
          "output_type": "execute_result",
          "data": {
            "text/html": [
              "<div>\n",
              "<style scoped>\n",
              "    .dataframe tbody tr th:only-of-type {\n",
              "        vertical-align: middle;\n",
              "    }\n",
              "\n",
              "    .dataframe tbody tr th {\n",
              "        vertical-align: top;\n",
              "    }\n",
              "\n",
              "    .dataframe thead th {\n",
              "        text-align: right;\n",
              "    }\n",
              "</style>\n",
              "<table border=\"1\" class=\"dataframe\">\n",
              "  <thead>\n",
              "    <tr style=\"text-align: right;\">\n",
              "      <th></th>\n",
              "      <th>text_list</th>\n",
              "      <th>text</th>\n",
              "    </tr>\n",
              "  </thead>\n",
              "  <tbody>\n",
              "    <tr>\n",
              "      <th>0</th>\n",
              "      <td>[и, ты, еще, мошенник, смеешь, мне, указывать,...</td>\n",
              "      <td>и ты еще мошенник смеешь мне указывать да знае...</td>\n",
              "    </tr>\n",
              "    <tr>\n",
              "      <th>1</th>\n",
              "      <td>[то, есть, чегонибудь, хорошенького]</td>\n",
              "      <td>то есть чегонибудь хорошенького</td>\n",
              "    </tr>\n",
              "    <tr>\n",
              "      <th>2</th>\n",
              "      <td>[как, бездельник, да, разве, не, для, того, он...</td>\n",
              "      <td>как бездельник да разве не для того он сюда вх...</td>\n",
              "    </tr>\n",
              "    <tr>\n",
              "      <th>3</th>\n",
              "      <td>[да, его, ль, вина, бестия, что, вы, все, здес...</td>\n",
              "      <td>да его ль вина бестия что вы все здесь ходите ...</td>\n",
              "    </tr>\n",
              "    <tr>\n",
              "      <th>4</th>\n",
              "      <td>[я, окончала, как, я, рада, элегия, эта, беспр...</td>\n",
              "      <td>я окончала как я рада элегия эта беспримерна а...</td>\n",
              "    </tr>\n",
              "    <tr>\n",
              "      <th>...</th>\n",
              "      <td>...</td>\n",
              "      <td>...</td>\n",
              "    </tr>\n",
              "    <tr>\n",
              "      <th>14883</th>\n",
              "      <td>[ты, сказывают, хотел, славян, и, прочие, наро...</td>\n",
              "      <td>ты сказывают хотел славян и прочие народы отвл...</td>\n",
              "    </tr>\n",
              "    <tr>\n",
              "      <th>14884</th>\n",
              "      <td>[какие, же, ты, имел, при, том, намерения]</td>\n",
              "      <td>какие же ты имел при том намерения</td>\n",
              "    </tr>\n",
              "    <tr>\n",
              "      <th>14885</th>\n",
              "      <td>[к, чему, прение, тут, где, дело, само, по, се...</td>\n",
              "      <td>к чему прение тут где дело само по себе ясно</td>\n",
              "    </tr>\n",
              "    <tr>\n",
              "      <th>14886</th>\n",
              "      <td>[бодрость, духа, твоего, князь, вадим, не, уны...</td>\n",
              "      <td>бодрость духа твоего князь вадим не унывает он...</td>\n",
              "    </tr>\n",
              "    <tr>\n",
              "      <th>14887</th>\n",
              "      <td>[неоспорима, по, крайней, мере, есть, истина, ...</td>\n",
              "      <td>неоспорима по крайней мере есть истина на сей ...</td>\n",
              "    </tr>\n",
              "  </tbody>\n",
              "</table>\n",
              "<p>14888 rows × 2 columns</p>\n",
              "</div>"
            ],
            "text/plain": [
              "                                               text_list                                               text\n",
              "0      [и, ты, еще, мошенник, смеешь, мне, указывать,...  и ты еще мошенник смеешь мне указывать да знае...\n",
              "1                   [то, есть, чегонибудь, хорошенького]                    то есть чегонибудь хорошенького\n",
              "2      [как, бездельник, да, разве, не, для, того, он...  как бездельник да разве не для того он сюда вх...\n",
              "3      [да, его, ль, вина, бестия, что, вы, все, здес...  да его ль вина бестия что вы все здесь ходите ...\n",
              "4      [я, окончала, как, я, рада, элегия, эта, беспр...  я окончала как я рада элегия эта беспримерна а...\n",
              "...                                                  ...                                                ...\n",
              "14883  [ты, сказывают, хотел, славян, и, прочие, наро...  ты сказывают хотел славян и прочие народы отвл...\n",
              "14884         [какие, же, ты, имел, при, том, намерения]                 какие же ты имел при том намерения\n",
              "14885  [к, чему, прение, тут, где, дело, само, по, се...       к чему прение тут где дело само по себе ясно\n",
              "14886  [бодрость, духа, твоего, князь, вадим, не, уны...  бодрость духа твоего князь вадим не унывает он...\n",
              "14887  [неоспорима, по, крайней, мере, есть, истина, ...  неоспорима по крайней мере есть истина на сей ...\n",
              "\n",
              "[14888 rows x 2 columns]"
            ]
          },
          "metadata": {
            "tags": []
          },
          "execution_count": 124
        }
      ]
    },
    {
      "cell_type": "code",
      "metadata": {
        "id": "icq_EoW_IeEs"
      },
      "source": [
        "file_weighting = final_file.copy()"
      ],
      "execution_count": 129,
      "outputs": []
    },
    {
      "cell_type": "code",
      "metadata": {
        "colab": {
          "base_uri": "https://localhost:8080/"
        },
        "id": "BkRXURPIFpy-",
        "outputId": "e8247e4b-dea6-4bfa-ebec-423f33c45834"
      },
      "source": [
        "tfidf = TfidfVectorizer(tokenizer=lambda y: y.split(), norm=None)\n",
        "tfidf.fit(file_weighting.text_bi)\n",
        "features = pd.Series(tfidf.get_feature_names())\n",
        "transformed = tfidf.transform(file_weighting.text_bi)"
      ],
      "execution_count": 130,
      "outputs": [
        {
          "output_type": "stream",
          "text": [
            "/usr/local/lib/python3.7/dist-packages/sklearn/feature_extraction/text.py:507: UserWarning: The parameter 'token_pattern' will not be used since 'tokenizer' is not None'\n",
            "  warnings.warn(\"The parameter 'token_pattern' will not be used\"\n"
          ],
          "name": "stderr"
        }
      ]
    },
    {
      "cell_type": "code",
      "metadata": {
        "id": "1dmxbDPfGxRK"
      },
      "source": [
        "def create_tfidf_dictionary(x, transformed_file, features):\n",
        "    '''\n",
        "    create dictionary for each input sentence x, where each word has assigned its tfidf score\n",
        "    \n",
        "    inspired  by function from this wonderful article: \n",
        "    https://medium.com/analytics-vidhya/automated-keyword-extraction-from-articles-using-nlp-bfd864f41b34\n",
        "    \n",
        "    x - row of dataframe, containing sentences, and their indexes,\n",
        "    transformed_file - all sentences transformed with TfidfVectorizer\n",
        "    features - names of all words in corpus used in TfidfVectorizer\n",
        "\n",
        "    '''\n",
        "    vector_coo = transformed_file[x.name].tocoo()\n",
        "    vector_coo.col = features.iloc[vector_coo.col].values\n",
        "    dict_from_coo = dict(zip(vector_coo.col, vector_coo.data))\n",
        "    return dict_from_coo\n",
        "\n",
        "def replace_tfidf_words(x, transformed_file, features):\n",
        "    '''\n",
        "    replacing each word with it's calculated tfidf dictionary with scores of each word\n",
        "    x - row of dataframe, containing sentences, and their indexes,\n",
        "    transformed_file - all sentences transformed with TfidfVectorizer\n",
        "    features - names of all words in corpus used in TfidfVectorizer\n",
        "    '''\n",
        "    dictionary = create_tfidf_dictionary(x, transformed_file, features)  \n",
        "    return list(map(lambda y:dictionary[f'{y}'], x.text_bi.split()))"
      ],
      "execution_count": 134,
      "outputs": []
    },
    {
      "cell_type": "code",
      "metadata": {
        "id": "4BclxzThG_6K"
      },
      "source": [
        "replaced_tfidf_scores = file_weighting.apply(lambda x: replace_tfidf_words(x, transformed, features), axis=1)#this step takes around 3-4 minutes minutes to calculate"
      ],
      "execution_count": 135,
      "outputs": []
    },
    {
      "cell_type": "code",
      "metadata": {
        "id": "fCgThT9TV-mf"
      },
      "source": [
        "def replace_sentiment_words(word, sentiment_dict):\n",
        "    '''\n",
        "    replacing each word with its associated sentiment score from sentiment dict\n",
        "    '''\n",
        "    try:\n",
        "        out = sentiment_dict[word]\n",
        "    except KeyError:\n",
        "        out = 0\n",
        "    return out"
      ],
      "execution_count": 136,
      "outputs": []
    },
    {
      "cell_type": "code",
      "metadata": {
        "id": "RnDw8kNCKuXX"
      },
      "source": [
        "replaced_closeness_scores = file_weighting.text_bi.apply(lambda x: list(map(lambda y: replace_sentiment_words(y, sentiment_dict), x.split())))"
      ],
      "execution_count": 137,
      "outputs": []
    },
    {
      "cell_type": "code",
      "metadata": {
        "colab": {
          "base_uri": "https://localhost:8080/",
          "height": 759
        },
        "id": "yMAAgfyrgjLa",
        "outputId": "6e772d4a-8bbb-4b88-9f86-4007c50c03c2"
      },
      "source": [
        "replacement_df = pd.DataFrame(data=[replaced_closeness_scores, replaced_tfidf_scores, file_weighting.text_bi]).T\n",
        "replacement_df.columns = ['sentiment_coeff', 'tfidf_scores', 'sentence']\n",
        "replacement_df['sentiment_rate'] = replacement_df.apply(lambda x: np.array(x.loc['sentiment_coeff']) @ np.array(x.loc['tfidf_scores']), axis=1)\n",
        "replacement_df['prediction'] = (replacement_df.sentiment_rate>0).astype('int8')\n",
        "replacement_df"
      ],
      "execution_count": 144,
      "outputs": [
        {
          "output_type": "execute_result",
          "data": {
            "text/html": [
              "<div>\n",
              "<style scoped>\n",
              "    .dataframe tbody tr th:only-of-type {\n",
              "        vertical-align: middle;\n",
              "    }\n",
              "\n",
              "    .dataframe tbody tr th {\n",
              "        vertical-align: top;\n",
              "    }\n",
              "\n",
              "    .dataframe thead th {\n",
              "        text-align: right;\n",
              "    }\n",
              "</style>\n",
              "<table border=\"1\" class=\"dataframe\">\n",
              "  <thead>\n",
              "    <tr style=\"text-align: right;\">\n",
              "      <th></th>\n",
              "      <th>sentiment_coeff</th>\n",
              "      <th>tfidf_scores</th>\n",
              "      <th>sentence</th>\n",
              "      <th>sentiment_rate</th>\n",
              "      <th>prediction</th>\n",
              "    </tr>\n",
              "  </thead>\n",
              "  <tbody>\n",
              "    <tr>\n",
              "      <th>0</th>\n",
              "      <td>[104.93012701207613, 107.37391317356463, 114.8...</td>\n",
              "      <td>[2.547837917716911, 5.7546496404968455, 4.3449...</td>\n",
              "      <td>и ты еще мошенник смеешь мне указывать да знае...</td>\n",
              "      <td>4238.441608</td>\n",
              "      <td>1</td>\n",
              "    </tr>\n",
              "    <tr>\n",
              "      <th>1</th>\n",
              "      <td>[-118.38301328192786, 118.6938030104928, 0]</td>\n",
              "      <td>[6.970791804529164, 7.90032776315334, 9.915230...</td>\n",
              "      <td>то_есть чегонибудь хорошенького</td>\n",
              "      <td>112.496608</td>\n",
              "      <td>1</td>\n",
              "    </tr>\n",
              "    <tr>\n",
              "      <th>2</th>\n",
              "      <td>[106.39785302470594, -112.09033058321751, 105....</td>\n",
              "      <td>[3.224388506277042, 8.043428606794013, 3.05038...</td>\n",
              "      <td>как бездельник да разве не для_того он сюда вх...</td>\n",
              "      <td>4476.113469</td>\n",
              "      <td>1</td>\n",
              "    </tr>\n",
              "    <tr>\n",
              "      <th>3</th>\n",
              "      <td>[105.37288671469678, -116.25481289667304, 115....</td>\n",
              "      <td>[3.0503830057247447, 4.178658486216413, 6.1540...</td>\n",
              "      <td>да его ль вина бестия что вы все здесь ходите ...</td>\n",
              "      <td>2406.694493</td>\n",
              "      <td>1</td>\n",
              "    </tr>\n",
              "    <tr>\n",
              "      <th>4</th>\n",
              "      <td>[98.80054649396841, 0, 106.39785302470594, 98....</td>\n",
              "      <td>[4.669062062942085, 9.915230783695606, 3.22438...</td>\n",
              "      <td>я окончала как я рада элегия эта беспримерна а...</td>\n",
              "      <td>2459.471943</td>\n",
              "      <td>1</td>\n",
              "    </tr>\n",
              "    <tr>\n",
              "      <th>...</th>\n",
              "      <td>...</td>\n",
              "      <td>...</td>\n",
              "      <td>...</td>\n",
              "      <td>...</td>\n",
              "      <td>...</td>\n",
              "    </tr>\n",
              "    <tr>\n",
              "      <th>14883</th>\n",
              "      <td>[107.37391317356463, 106.0646671703799, 114.51...</td>\n",
              "      <td>[2.8773248202484227, 8.528936422575715, 6.5140...</td>\n",
              "      <td>ты сказывают хотел славян и прочие народы отвл...</td>\n",
              "      <td>3711.014760</td>\n",
              "      <td>1</td>\n",
              "    </tr>\n",
              "    <tr>\n",
              "      <th>14884</th>\n",
              "      <td>[-115.03061095297777, -107.84247409154423, 107...</td>\n",
              "      <td>[6.044029772787714, 3.739363513589844, 2.87732...</td>\n",
              "      <td>какие же ты имел при_том намерения</td>\n",
              "      <td>-2598.738160</td>\n",
              "      <td>0</td>\n",
              "    </tr>\n",
              "    <tr>\n",
              "      <th>14885</th>\n",
              "      <td>[-118.52083611659828, 0, 114.3917382177896, -1...</td>\n",
              "      <td>[6.894805897551243, 9.915230783695606, 5.12773...</td>\n",
              "      <td>к_чему прение тут где дело само_по себе ясно</td>\n",
              "      <td>-748.904986</td>\n",
              "      <td>0</td>\n",
              "    </tr>\n",
              "    <tr>\n",
              "      <th>14886</th>\n",
              "      <td>[0, 0, 0, -106.42144309214964, 0, 106.56049622...</td>\n",
              "      <td>[9.50976567558744, 9.50976567558744, 9.9152307...</td>\n",
              "      <td>бодрость_духа твоего_князь вадим не унывает он...</td>\n",
              "      <td>3374.781878</td>\n",
              "      <td>1</td>\n",
              "    </tr>\n",
              "    <tr>\n",
              "      <th>14887</th>\n",
              "      <td>[0, 96.2117243598966, 0, 98.41825670373964, -1...</td>\n",
              "      <td>[9.915230783695606, 6.847177848561988, 9.50976...</td>\n",
              "      <td>неоспорима по_крайней мере_есть истина на сей_...</td>\n",
              "      <td>6506.925468</td>\n",
              "      <td>1</td>\n",
              "    </tr>\n",
              "  </tbody>\n",
              "</table>\n",
              "<p>14888 rows × 5 columns</p>\n",
              "</div>"
            ],
            "text/plain": [
              "                                         sentiment_coeff  ... prediction\n",
              "0      [104.93012701207613, 107.37391317356463, 114.8...  ...          1\n",
              "1            [-118.38301328192786, 118.6938030104928, 0]  ...          1\n",
              "2      [106.39785302470594, -112.09033058321751, 105....  ...          1\n",
              "3      [105.37288671469678, -116.25481289667304, 115....  ...          1\n",
              "4      [98.80054649396841, 0, 106.39785302470594, 98....  ...          1\n",
              "...                                                  ...  ...        ...\n",
              "14883  [107.37391317356463, 106.0646671703799, 114.51...  ...          1\n",
              "14884  [-115.03061095297777, -107.84247409154423, 107...  ...          0\n",
              "14885  [-118.52083611659828, 0, 114.3917382177896, -1...  ...          0\n",
              "14886  [0, 0, 0, -106.42144309214964, 0, 106.56049622...  ...          1\n",
              "14887  [0, 96.2117243598966, 0, 98.41825670373964, -1...  ...          1\n",
              "\n",
              "[14888 rows x 5 columns]"
            ]
          },
          "metadata": {
            "tags": []
          },
          "execution_count": 144
        }
      ]
    }
  ]
}