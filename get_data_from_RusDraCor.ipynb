{
  "nbformat": 4,
  "nbformat_minor": 0,
  "metadata": {
    "colab": {
      "name": "get_data_from_RusDraCor.ipynb",
      "provenance": [],
      "authorship_tag": "ABX9TyMjrWGYblWOD6eK0/KLAPbK",
      "include_colab_link": true
    },
    "kernelspec": {
      "name": "python3",
      "display_name": "Python 3"
    }
  },
  "cells": [
    {
      "cell_type": "markdown",
      "metadata": {
        "id": "view-in-github",
        "colab_type": "text"
      },
      "source": [
        "<a href=\"https://colab.research.google.com/github/Gratisfo/Parentents-and-children/blob/main/get_data_from_RusDraCor.ipynb\" target=\"_parent\"><img src=\"https://colab.research.google.com/assets/colab-badge.svg\" alt=\"Open In Colab\"/></a>"
      ]
    },
    {
      "cell_type": "code",
      "metadata": {
        "id": "ff-89umVj3mY"
      },
      "source": [
        "# https://dracor.org/api\r\n",
        "\r\n",
        "# get metadata from rus corpus\r\n",
        "import requests\r\n",
        "r = requests.get(\"https://dracor.org/api/corpora/rus/metadata\")"
      ],
      "execution_count": 1,
      "outputs": []
    },
    {
      "cell_type": "code",
      "metadata": {
        "id": "FU8UFUKzp0qK"
      },
      "source": [
        "import json\r\n",
        "parsedResponse = json.loads(r.text)"
      ],
      "execution_count": null,
      "outputs": []
    },
    {
      "cell_type": "code",
      "metadata": {
        "colab": {
          "base_uri": "https://localhost:8080/"
        },
        "id": "hIXDQZMkp5Au",
        "outputId": "dc2f412c-601f-4603-d82f-f7e05986a466"
      },
      "source": [
        "# create list for the names of the playes\r\n",
        "play_name = [res['name'] for res in parsedResponse]\r\n",
        "print(len(play_name))"
      ],
      "execution_count": 3,
      "outputs": [
        {
          "output_type": "stream",
          "text": [
            "211\n"
          ],
          "name": "stdout"
        }
      ]
    },
    {
      "cell_type": "code",
      "metadata": {
        "id": "0bRL1R60SHEN"
      },
      "source": [
        ""
      ],
      "execution_count": 4,
      "outputs": []
    },
    {
      "cell_type": "code",
      "metadata": {
        "id": "TuG3AQzO_Iud"
      },
      "source": [
        "import csv\r\n",
        "import pandas as pd\r\n",
        "\r\n",
        "# create df for parent_children relation from all plays\r\n",
        "df = pd.DataFrame(columns = ['title', 'parent', 'child'])\r\n",
        "\r\n",
        "# list for plays' title where is relations as parent_of\r\n",
        "parents_in_play = []\r\n",
        "\r\n",
        "for name in play_name:\r\n",
        "  url = \"https://dracor.org/api/corpora/rus/play/{}/relations/csv\".format(name)\r\n",
        "  download = requests.get(url)\r\n",
        "  decoded_content = download.content.decode('utf-8')\r\n",
        "  cr = csv.reader(decoded_content.splitlines(), delimiter=',')\r\n",
        "\r\n",
        "  for row in list(cr):\r\n",
        "    if row[3] == 'parent_of':\r\n",
        "      df.loc[len(df)] = [name, row[0], row[2]] # append to df title of play, parent, children\r\n",
        "      parents_in_play.append(name)        "
      ],
      "execution_count": 5,
      "outputs": []
    },
    {
      "cell_type": "code",
      "metadata": {
        "colab": {
          "base_uri": "https://localhost:8080/"
        },
        "id": "V2Q1WBy0_i_I",
        "outputId": "5bce651a-1dbb-405f-ac6b-d374f34f81b6"
      },
      "source": [
        "# save only unique names\r\n",
        "parents_in_play = list(set(parents_in_play))\r\n",
        "print(len(parents_in_play))"
      ],
      "execution_count": 6,
      "outputs": [
        {
          "output_type": "stream",
          "text": [
            "111\n"
          ],
          "name": "stdout"
        }
      ]
    },
    {
      "cell_type": "code",
      "metadata": {
        "colab": {
          "base_uri": "https://localhost:8080/",
          "height": 399
        },
        "id": "_6nNVDmBbnp8",
        "outputId": "be4de90e-c483-4e9b-ffdf-42cbd5b53804"
      },
      "source": [
        "df"
      ],
      "execution_count": 7,
      "outputs": [
        {
          "output_type": "execute_result",
          "data": {
            "text/html": [
              "<div>\n",
              "<style scoped>\n",
              "    .dataframe tbody tr th:only-of-type {\n",
              "        vertical-align: middle;\n",
              "    }\n",
              "\n",
              "    .dataframe tbody tr th {\n",
              "        vertical-align: top;\n",
              "    }\n",
              "\n",
              "    .dataframe thead th {\n",
              "        text-align: right;\n",
              "    }\n",
              "</style>\n",
              "<table border=\"1\" class=\"dataframe\">\n",
              "  <thead>\n",
              "    <tr style=\"text-align: right;\">\n",
              "      <th></th>\n",
              "      <th>title</th>\n",
              "      <th>parent</th>\n",
              "      <th>child</th>\n",
              "    </tr>\n",
              "  </thead>\n",
              "  <tbody>\n",
              "    <tr>\n",
              "      <th>0</th>\n",
              "      <td>afinogenov-mashenka</td>\n",
              "      <td>tumanskij</td>\n",
              "      <td>viktor</td>\n",
              "    </tr>\n",
              "    <tr>\n",
              "      <th>1</th>\n",
              "      <td>andreyev-k-zvezdam</td>\n",
              "      <td>sergej_nikolaevich</td>\n",
              "      <td>petja</td>\n",
              "    </tr>\n",
              "    <tr>\n",
              "      <th>2</th>\n",
              "      <td>andreyev-k-zvezdam</td>\n",
              "      <td>sergej_nikolaevich</td>\n",
              "      <td>anna</td>\n",
              "    </tr>\n",
              "    <tr>\n",
              "      <th>3</th>\n",
              "      <td>andreyev-k-zvezdam</td>\n",
              "      <td>inna_aleksandrovna</td>\n",
              "      <td>petja</td>\n",
              "    </tr>\n",
              "    <tr>\n",
              "      <th>4</th>\n",
              "      <td>andreyev-k-zvezdam</td>\n",
              "      <td>inna_aleksandrovna</td>\n",
              "      <td>anna</td>\n",
              "    </tr>\n",
              "    <tr>\n",
              "      <th>...</th>\n",
              "      <td>...</td>\n",
              "      <td>...</td>\n",
              "      <td>...</td>\n",
              "    </tr>\n",
              "    <tr>\n",
              "      <th>225</th>\n",
              "      <td>tretyakov-protivogazy</td>\n",
              "      <td>direktor</td>\n",
              "      <td>petya</td>\n",
              "    </tr>\n",
              "    <tr>\n",
              "      <th>226</th>\n",
              "      <td>turgenev-gde-tonko-tam-i-rvetsja</td>\n",
              "      <td>gospozha_libanova</td>\n",
              "      <td>vera</td>\n",
              "    </tr>\n",
              "    <tr>\n",
              "      <th>227</th>\n",
              "      <td>turgenev-mesjats-v-derevne</td>\n",
              "      <td>anna_semenovna</td>\n",
              "      <td>islaev</td>\n",
              "    </tr>\n",
              "    <tr>\n",
              "      <th>228</th>\n",
              "      <td>turgenev-mesjats-v-derevne</td>\n",
              "      <td>natalja_petrovna</td>\n",
              "      <td>kolja</td>\n",
              "    </tr>\n",
              "    <tr>\n",
              "      <th>229</th>\n",
              "      <td>turgenev-mesjats-v-derevne</td>\n",
              "      <td>islaev</td>\n",
              "      <td>kolja</td>\n",
              "    </tr>\n",
              "  </tbody>\n",
              "</table>\n",
              "<p>230 rows × 3 columns</p>\n",
              "</div>"
            ],
            "text/plain": [
              "                                title              parent   child\n",
              "0                 afinogenov-mashenka           tumanskij  viktor\n",
              "1                  andreyev-k-zvezdam  sergej_nikolaevich   petja\n",
              "2                  andreyev-k-zvezdam  sergej_nikolaevich    anna\n",
              "3                  andreyev-k-zvezdam  inna_aleksandrovna   petja\n",
              "4                  andreyev-k-zvezdam  inna_aleksandrovna    anna\n",
              "..                                ...                 ...     ...\n",
              "225             tretyakov-protivogazy            direktor   petya\n",
              "226  turgenev-gde-tonko-tam-i-rvetsja   gospozha_libanova    vera\n",
              "227        turgenev-mesjats-v-derevne      anna_semenovna  islaev\n",
              "228        turgenev-mesjats-v-derevne    natalja_petrovna   kolja\n",
              "229        turgenev-mesjats-v-derevne              islaev   kolja\n",
              "\n",
              "[230 rows x 3 columns]"
            ]
          },
          "metadata": {
            "tags": []
          },
          "execution_count": 7
        }
      ]
    },
    {
      "cell_type": "code",
      "metadata": {
        "id": "sOW9e69EY1MX"
      },
      "source": [
        "from bs4 import BeautifulSoup\r\n",
        "import json\r\n",
        "\r\n",
        "# get tei doc from corpus and load it in BF\r\n",
        "def get_tei(title):\r\n",
        "  url = \"https://dracor.org/api/corpora/rus/play/{}/tei\".format(title)\r\n",
        "  play = requests.get(url).text\r\n",
        "  soup = BeautifulSoup(play, 'lxml')\r\n",
        "  return soup\r\n",
        "\r\n",
        "\r\n",
        "# get meta info for play as title, author and date\r\n",
        "def get_meta(soup):\r\n",
        "  meta = {}\r\n",
        "  play_title = soup.title.getText(separator=' ', strip=True)\r\n",
        "  meta['title'] = play_title\r\n",
        "  play_date = soup.date['when']\r\n",
        "  meta['date'] = play_date\r\n",
        "  play_author = soup.persname.getText(separator=' ', strip=True)\r\n",
        "  meta['author'] = play_author\r\n",
        "  return meta\r\n",
        "\r\n",
        "# from our df get parent_children relation\r\n",
        "def get_parent(title):\r\n",
        "  parents = list(set(df[df['title'] == title].parent)) \r\n",
        "  children = list(set(df[df['title'] ==title].child)) \r\n",
        "  return parents, children\r\n",
        "\r\n",
        "# get all replics for characters from tei doc\r\n",
        "def get_text(soup, parents, children):  \r\n",
        "  p_text = [] # parent texts\r\n",
        "  for name in parents:\r\n",
        "    name = '#' + name\r\n",
        "    sp = {}\r\n",
        "    speaker = soup.findAll('sp', attrs={'who': name})\r\n",
        "    try:\r\n",
        "      texts = []\r\n",
        "      for repl in speaker:\r\n",
        "        texts.appen(repl.p.text)\r\n",
        "    except:\r\n",
        "      pass\r\n",
        "    sp[name] = texts\r\n",
        "    p_text.append(sp)\r\n",
        "  \r\n",
        "  ch_text = [] # children texts\r\n",
        "  for name in children:\r\n",
        "    name = '#' + name\r\n",
        "    sp = {}\r\n",
        "    speaker = soup.findAll('sp', attrs={'who': name})\r\n",
        "    try:\r\n",
        "      texts = []\r\n",
        "      for repl in speaker:\r\n",
        "        texts.appen(repl.p.text)\r\n",
        "    except:\r\n",
        "      pass\r\n",
        "    sp[name] = texts\r\n",
        "    ch_text.append(sp)\r\n",
        "  return p_text, ch_text\r\n",
        "\r\n",
        "# collect all info in one json per play\r\n",
        "# structure\r\n",
        "# {\"title\": \"Машенька\", \r\n",
        "#  \"date\": \"1941\",\r\n",
        "#  \"author\": \"Александр Николаевич Афиногенов\", \r\n",
        "#  \"parents\": [\r\n",
        "#              {\"name\": \"tumanskij\",\r\n",
        "#               \"childrens\": [\"viktor\"], \r\n",
        "#               \"text\": ['текст1', 'текст2']},\r\n",
        "              \r\n",
        "#               {\"name\": \"some_name\",\r\n",
        "#               \"childrens\": [\"c, s, d\"], \r\n",
        "#               \"text\": ['текст1', 'текст2']}],\r\n",
        " \r\n",
        "#  \"childrens\": [\r\n",
        "#                {\"name\": \"viktor\", \r\n",
        "#                 \"parents\": [\"tumanskij\"],\r\n",
        "#                 \"text\": ['текст1', 'текст2']}\r\n",
        "#                ]\r\n",
        "#  }\r\n",
        "def get_json(play_title):\r\n",
        "  soup = get_tei(play_title)\r\n",
        "  meta = get_meta(soup)\r\n",
        "  parents, children = get_parent(play_title)\r\n",
        "  p_text, ch_text = get_text(soup, parents, children)    \r\n",
        "  all_ = {}\r\n",
        "  pparents = []\r\n",
        "\r\n",
        "  for parent in parents:\r\n",
        "    parent_d = {}\r\n",
        "    parent_d['name'] = parent\r\n",
        "    parent_d['childrens'] = list(df[df['parent']==parent].child)\r\n",
        "    for ttext in p_text:\r\n",
        "      try:\r\n",
        "        parent_d['text'] = ttext['#' + parent]\r\n",
        "      except:\r\n",
        "        pass\r\n",
        "    pparents.append(parent_d)\r\n",
        "  \r\n",
        "  cchildren = []\r\n",
        "  for child in children:\r\n",
        "    child_d = {}\r\n",
        "    child_d['name'] = child\r\n",
        "    child_d['parents'] = list(df[df['child']==child].parent)\r\n",
        "    for ttext in ch_text:\r\n",
        "      try:\r\n",
        "        child_d['text'] = ttext['#' + child]\r\n",
        "      except:\r\n",
        "        pass\r\n",
        "    cchildren.append(child_d)\r\n",
        "\r\n",
        "    all_['parents'] = pparents\r\n",
        "    all_['childrens'] = cchildren\r\n",
        "    meta.update(all_) \r\n",
        "    return meta\r\n",
        "\r\n",
        "\r\n",
        "def save_json(title):\r\n",
        "  json_file = get_json(title)\r\n",
        "  filename = title + '.txt'\r\n",
        "  with open(filename, 'w',  encoding='utf-8') as outfile:\r\n",
        "    json.dump(json_file, outfile, ensure_ascii=False)\r\n"
      ],
      "execution_count": 8,
      "outputs": []
    },
    {
      "cell_type": "code",
      "metadata": {
        "id": "qzs17eZahKNz",
        "colab": {
          "base_uri": "https://localhost:8080/"
        },
        "outputId": "3541da7a-0604-4cbc-830f-8cf117b4acac"
      },
      "source": [
        "from tqdm import tqdm\r\n",
        "error = []\r\n",
        "for title in tqdm(parents_in_play):\r\n",
        "  try:\r\n",
        "    save_json(title)\r\n",
        "  except:\r\n",
        "    error.append(title)\r\n",
        "    pass"
      ],
      "execution_count": 11,
      "outputs": [
        {
          "output_type": "stream",
          "text": [
            "100%|██████████| 111/111 [01:34<00:00,  1.18it/s]\n"
          ],
          "name": "stderr"
        }
      ]
    },
    {
      "cell_type": "code",
      "metadata": {
        "colab": {
          "base_uri": "https://localhost:8080/"
        },
        "id": "aKYsNOKoOZfy",
        "outputId": "ad6f8008-2e77-46b9-e776-1aabdc796660"
      },
      "source": [
        "len(error)"
      ],
      "execution_count": 14,
      "outputs": [
        {
          "output_type": "execute_result",
          "data": {
            "text/plain": [
              "8"
            ]
          },
          "metadata": {
            "tags": []
          },
          "execution_count": 14
        }
      ]
    },
    {
      "cell_type": "code",
      "metadata": {
        "id": "8j3iA9rtJBj3"
      },
      "source": [
        "{\"title\": \"Машенька\", \r\n",
        " \"date\": \"1941\",\r\n",
        " \"author\": \"Александр Николаевич Афиногенов\", \r\n",
        " \"parents\": [\r\n",
        "             {\"name\": \"tumanskij\",\r\n",
        "              \"childrens\": [\"viktor\"], \r\n",
        "              \"text\": ['текст1', 'текст2']},\r\n",
        "              \r\n",
        "              {\"name\": \"some_name\",\r\n",
        "              \"childrens\": [\"c, s, d\"], \r\n",
        "              \"text\": ['текст1', 'текст2']}],\r\n",
        " \r\n",
        " \"childrens\": [\r\n",
        "               {\"name\": \"viktor\", \r\n",
        "                \"parents\": [\"tumanskij\"],\r\n",
        "                \"text\": ['текст1', 'текст2']}\r\n",
        "               ]\r\n",
        " }"
      ],
      "execution_count": null,
      "outputs": []
    }
  ]
}