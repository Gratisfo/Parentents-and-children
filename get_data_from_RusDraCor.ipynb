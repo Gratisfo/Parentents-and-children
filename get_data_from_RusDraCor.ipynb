{
  "nbformat": 4,
  "nbformat_minor": 0,
  "metadata": {
    "colab": {
      "name": "get_data_from_RusDraCor.ipynb",
      "provenance": [],
      "authorship_tag": "ABX9TyN/wnLpeVvAKue/Y5PzDxm1",
      "include_colab_link": true
    },
    "kernelspec": {
      "name": "python3",
      "display_name": "Python 3"
    }
  },
  "cells": [
    {
      "cell_type": "markdown",
      "metadata": {
        "id": "view-in-github",
        "colab_type": "text"
      },
      "source": [
        "<a href=\"https://colab.research.google.com/github/Gratisfo/Parentents-and-children/blob/main/get_data_from_RusDraCor.ipynb\" target=\"_parent\"><img src=\"https://colab.research.google.com/assets/colab-badge.svg\" alt=\"Open In Colab\"/></a>"
      ]
    },
    {
      "cell_type": "code",
      "metadata": {
        "id": "ff-89umVj3mY"
      },
      "source": [
        "# https://dracor.org/api\r\n",
        "\r\n",
        "# get metadata from rus corpus\r\n",
        "import requests\r\n",
        "r = requests.get(\"https://dracor.org/api/corpora/rus/metadata\")"
      ],
      "execution_count": 1,
      "outputs": []
    },
    {
      "cell_type": "code",
      "metadata": {
        "id": "FU8UFUKzp0qK"
      },
      "source": [
        "import json\r\n",
        "parsedResponse = json.loads(r.text)\r\n",
        "parsedResponse"
      ],
      "execution_count": null,
      "outputs": []
    },
    {
      "cell_type": "code",
      "metadata": {
        "colab": {
          "base_uri": "https://localhost:8080/"
        },
        "id": "hIXDQZMkp5Au",
        "outputId": "ef514979-033e-49bc-8324-cf09a60e535f"
      },
      "source": [
        "# create list for the names of the playes\r\n",
        "play_name = [res['name'] for res in parsedResponse]\r\n",
        "print(len(play_name))"
      ],
      "execution_count": 3,
      "outputs": [
        {
          "output_type": "stream",
          "text": [
            "211\n"
          ],
          "name": "stdout"
        }
      ]
    },
    {
      "cell_type": "code",
      "metadata": {
        "id": "0bRL1R60SHEN"
      },
      "source": [
        "import pandas as pd\r\n",
        "df = pd.DataFrame(columns = ['title', 'parent', 'child'])"
      ],
      "execution_count": null,
      "outputs": []
    },
    {
      "cell_type": "code",
      "metadata": {
        "id": "TuG3AQzO_Iud"
      },
      "source": [
        "import csv\r\n",
        "\r\n",
        "parents_in_play = []\r\n",
        "\r\n",
        "for name in play_name:\r\n",
        "  url = \"https://dracor.org/api/corpora/rus/play/{}/relations/csv\".format(name)\r\n",
        "  download = requests.get(url)\r\n",
        "  decoded_content = download.content.decode('utf-8')\r\n",
        "  cr = csv.reader(decoded_content.splitlines(), delimiter=',')\r\n",
        "\r\n",
        "  for row in list(cr):\r\n",
        "    if row[3] == 'parent_of':\r\n",
        "      df.loc[len(df)] = [name, row[0], row[2]] # append to df title of play, parent, children\r\n",
        "      parents_in_play.append(name)        "
      ],
      "execution_count": 10,
      "outputs": []
    },
    {
      "cell_type": "code",
      "metadata": {
        "colab": {
          "base_uri": "https://localhost:8080/"
        },
        "id": "V2Q1WBy0_i_I",
        "outputId": "919bdaad-f4c8-460a-db54-8a1ede7af3b9"
      },
      "source": [
        "# save only unique names\r\n",
        "parents_in_play = list(set(parents_in_play))\r\n",
        "print(len(parents_in_play))"
      ],
      "execution_count": 12,
      "outputs": [
        {
          "output_type": "stream",
          "text": [
            "111\n"
          ],
          "name": "stdout"
        }
      ]
    },
    {
      "cell_type": "code",
      "metadata": {
        "colab": {
          "base_uri": "https://localhost:8080/",
          "height": 399
        },
        "id": "_6nNVDmBbnp8",
        "outputId": "1b277da6-1bfe-4e88-b45e-12f35c8d16f8"
      },
      "source": [
        "df"
      ],
      "execution_count": 83,
      "outputs": [
        {
          "output_type": "execute_result",
          "data": {
            "text/html": [
              "<div>\n",
              "<style scoped>\n",
              "    .dataframe tbody tr th:only-of-type {\n",
              "        vertical-align: middle;\n",
              "    }\n",
              "\n",
              "    .dataframe tbody tr th {\n",
              "        vertical-align: top;\n",
              "    }\n",
              "\n",
              "    .dataframe thead th {\n",
              "        text-align: right;\n",
              "    }\n",
              "</style>\n",
              "<table border=\"1\" class=\"dataframe\">\n",
              "  <thead>\n",
              "    <tr style=\"text-align: right;\">\n",
              "      <th></th>\n",
              "      <th>title</th>\n",
              "      <th>parent</th>\n",
              "      <th>child</th>\n",
              "    </tr>\n",
              "  </thead>\n",
              "  <tbody>\n",
              "    <tr>\n",
              "      <th>0</th>\n",
              "      <td>afinogenov-mashenka</td>\n",
              "      <td>tumanskij</td>\n",
              "      <td>viktor</td>\n",
              "    </tr>\n",
              "    <tr>\n",
              "      <th>1</th>\n",
              "      <td>andreyev-k-zvezdam</td>\n",
              "      <td>sergej_nikolaevich</td>\n",
              "      <td>petja</td>\n",
              "    </tr>\n",
              "    <tr>\n",
              "      <th>2</th>\n",
              "      <td>andreyev-k-zvezdam</td>\n",
              "      <td>sergej_nikolaevich</td>\n",
              "      <td>anna</td>\n",
              "    </tr>\n",
              "    <tr>\n",
              "      <th>3</th>\n",
              "      <td>andreyev-k-zvezdam</td>\n",
              "      <td>inna_aleksandrovna</td>\n",
              "      <td>petja</td>\n",
              "    </tr>\n",
              "    <tr>\n",
              "      <th>4</th>\n",
              "      <td>andreyev-k-zvezdam</td>\n",
              "      <td>inna_aleksandrovna</td>\n",
              "      <td>anna</td>\n",
              "    </tr>\n",
              "    <tr>\n",
              "      <th>...</th>\n",
              "      <td>...</td>\n",
              "      <td>...</td>\n",
              "      <td>...</td>\n",
              "    </tr>\n",
              "    <tr>\n",
              "      <th>225</th>\n",
              "      <td>tretyakov-protivogazy</td>\n",
              "      <td>direktor</td>\n",
              "      <td>petya</td>\n",
              "    </tr>\n",
              "    <tr>\n",
              "      <th>226</th>\n",
              "      <td>turgenev-gde-tonko-tam-i-rvetsja</td>\n",
              "      <td>gospozha_libanova</td>\n",
              "      <td>vera</td>\n",
              "    </tr>\n",
              "    <tr>\n",
              "      <th>227</th>\n",
              "      <td>turgenev-mesjats-v-derevne</td>\n",
              "      <td>anna_semenovna</td>\n",
              "      <td>islaev</td>\n",
              "    </tr>\n",
              "    <tr>\n",
              "      <th>228</th>\n",
              "      <td>turgenev-mesjats-v-derevne</td>\n",
              "      <td>natalja_petrovna</td>\n",
              "      <td>kolja</td>\n",
              "    </tr>\n",
              "    <tr>\n",
              "      <th>229</th>\n",
              "      <td>turgenev-mesjats-v-derevne</td>\n",
              "      <td>islaev</td>\n",
              "      <td>kolja</td>\n",
              "    </tr>\n",
              "  </tbody>\n",
              "</table>\n",
              "<p>230 rows × 3 columns</p>\n",
              "</div>"
            ],
            "text/plain": [
              "                                title              parent   child\n",
              "0                 afinogenov-mashenka           tumanskij  viktor\n",
              "1                  andreyev-k-zvezdam  sergej_nikolaevich   petja\n",
              "2                  andreyev-k-zvezdam  sergej_nikolaevich    anna\n",
              "3                  andreyev-k-zvezdam  inna_aleksandrovna   petja\n",
              "4                  andreyev-k-zvezdam  inna_aleksandrovna    anna\n",
              "..                                ...                 ...     ...\n",
              "225             tretyakov-protivogazy            direktor   petya\n",
              "226  turgenev-gde-tonko-tam-i-rvetsja   gospozha_libanova    vera\n",
              "227        turgenev-mesjats-v-derevne      anna_semenovna  islaev\n",
              "228        turgenev-mesjats-v-derevne    natalja_petrovna   kolja\n",
              "229        turgenev-mesjats-v-derevne              islaev   kolja\n",
              "\n",
              "[230 rows x 3 columns]"
            ]
          },
          "metadata": {
            "tags": []
          },
          "execution_count": 83
        }
      ]
    },
    {
      "cell_type": "code",
      "metadata": {
        "id": "sOW9e69EY1MX"
      },
      "source": [
        "# first try to get parent and children speech from one play\r\n",
        "from bs4 import BeautifulSoup\r\n",
        "import json\r\n",
        "\r\n",
        "def get_tei(title):\r\n",
        "  url = \"https://dracor.org/api/corpora/rus/play/{}/tei\".format(title)\r\n",
        "  play = requests.get(url).text\r\n",
        "  soup = BeautifulSoup(play, 'lxml')\r\n",
        "  return soup\r\n",
        "\r\n",
        "\r\n",
        "def get_meta(soup):\r\n",
        "  meta = {}\r\n",
        "  play_title = soup.title.getText(separator=' ', strip=True)\r\n",
        "  meta['title'] = play_title\r\n",
        "  play_date = soup.date['when']\r\n",
        "  meta['date'] = play_date\r\n",
        "  play_author = soup.persname.getText(separator=' ', strip=True)\r\n",
        "  meta['author'] = play_author\r\n",
        "  return meta\r\n",
        "\r\n",
        "\r\n",
        "def get_parent(title):\r\n",
        "  parents = list(set(df[df['title'] == title].parent)) \r\n",
        "  children = list(set(df[df['title'] ==title].child)) \r\n",
        "  return parents, children\r\n",
        "\r\n",
        "\r\n",
        "def get_text(soup, parents, children):  \r\n",
        "  p_text = []\r\n",
        "  for name in parents:\r\n",
        "    name = '#' + name\r\n",
        "    sp = {}\r\n",
        "    speaker = soup.findAll('sp', attrs={'who': name})\r\n",
        "    # texts = [repl.p.text for repl in speaker]\r\n",
        "    try:\r\n",
        "      texts = []\r\n",
        "      for repl in speaker:\r\n",
        "        texts.appen(repl.p.text)\r\n",
        "    except:\r\n",
        "      pass\r\n",
        "    sp[name] = texts\r\n",
        "    p_text.append(sp)\r\n",
        "  \r\n",
        "  ch_text = []\r\n",
        "  for name in children:\r\n",
        "    name = '#' + name\r\n",
        "    sp = {}\r\n",
        "    speaker = soup.findAll('sp', attrs={'who': name})\r\n",
        "    try:\r\n",
        "      texts = []\r\n",
        "      for repl in speaker:\r\n",
        "        texts.appen(repl.p.text)\r\n",
        "    except:\r\n",
        "      pass\r\n",
        "    sp[name] = texts\r\n",
        "    ch_text.append(sp)\r\n",
        "  return p_text, ch_text\r\n",
        "\r\n",
        "def get_json(play_title):\r\n",
        "  soup = get_tei(play_title)\r\n",
        "  meta = get_meta(soup)\r\n",
        "  parents, children = get_parent(play_title)\r\n",
        "  p_text, ch_text = get_text(soup, parents, children)    \r\n",
        "  all_ = {}\r\n",
        "  pparents = []\r\n",
        "\r\n",
        "  for parent in parents:\r\n",
        "    parent_d = {}\r\n",
        "    parent_d['name'] = parent\r\n",
        "    parent_d['childrens'] = list(df[df['parent']==parent].child)\r\n",
        "    for ttext in p_text:\r\n",
        "      try:\r\n",
        "        parent_d['text'] = ttext['#' + parent]\r\n",
        "      except:\r\n",
        "        pass\r\n",
        "    pparents.append(parent_d)\r\n",
        "  \r\n",
        "  cchildren = []\r\n",
        "  for child in children:\r\n",
        "    child_d = {}\r\n",
        "    child_d['name'] = child\r\n",
        "    child_d['parents'] = list(df[df['child']==child].parent)\r\n",
        "    for ttext in ch_text:\r\n",
        "      try:\r\n",
        "        child_d['text'] = ttext['#' + child]\r\n",
        "      except:\r\n",
        "        pass\r\n",
        "    cchildren.append(child_d)\r\n",
        "\r\n",
        "    all_['parents'] = pparents\r\n",
        "    all_['childrens'] = cchildren\r\n",
        "    meta.update(all_) \r\n",
        "    return meta\r\n",
        "\r\n",
        "\r\n",
        "def save_json(title):\r\n",
        "  json_file = get_json(title)\r\n",
        "  filename = title + '.txt'\r\n",
        "  with open(filename, 'w',  encoding='utf-8') as outfile:\r\n",
        "    json.dump(json_file, outfile, ensure_ascii=False)\r\n"
      ],
      "execution_count": null,
      "outputs": []
    },
    {
      "cell_type": "code",
      "metadata": {
        "id": "qzs17eZahKNz"
      },
      "source": [
        "from tqdm import tqdm\r\n",
        "for title in tqdm(parents_in_play):\r\n",
        "  try:\r\n",
        "    get_json(title)\r\n",
        "  except:\r\n",
        "    print(title)\r\n",
        "    pass"
      ],
      "execution_count": null,
      "outputs": []
    }
  ]
}