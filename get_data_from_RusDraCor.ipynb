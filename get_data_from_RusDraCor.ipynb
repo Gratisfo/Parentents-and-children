{
  "nbformat": 4,
  "nbformat_minor": 0,
  "metadata": {
    "colab": {
      "name": "get_data_from_RusDraCor.ipynb",
      "provenance": [],
      "authorship_tag": "ABX9TyOwwltIFUfr6s8B6qGF/ovY",
      "include_colab_link": true
    },
    "kernelspec": {
      "name": "python3",
      "display_name": "Python 3"
    }
  },
  "cells": [
    {
      "cell_type": "markdown",
      "metadata": {
        "id": "view-in-github",
        "colab_type": "text"
      },
      "source": [
        "<a href=\"https://colab.research.google.com/github/Gratisfo/Parentents-and-children/blob/main/get_data_from_RusDraCor.ipynb\" target=\"_parent\"><img src=\"https://colab.research.google.com/assets/colab-badge.svg\" alt=\"Open In Colab\"/></a>"
      ]
    },
    {
      "cell_type": "code",
      "metadata": {
        "id": "DCgVmlHPjrIJ"
      },
      "source": [
        "from bs4 import BeautifulSoup\r\n",
        "import json\r\n",
        "import requests\r\n",
        "import csv\r\n",
        "import pandas as pd\r\n",
        "from tqdm import tqdm"
      ],
      "execution_count": 28,
      "outputs": []
    },
    {
      "cell_type": "code",
      "metadata": {
        "id": "ff-89umVj3mY"
      },
      "source": [
        "# https://dracor.org/api\r\n",
        "\r\n",
        "# get metadata from rus corpus\r\n",
        "r = requests.get(\"https://dracor.org/api/corpora/rus/metadata\")"
      ],
      "execution_count": null,
      "outputs": []
    },
    {
      "cell_type": "code",
      "metadata": {
        "id": "FU8UFUKzp0qK"
      },
      "source": [
        "parsedResponse = json.loads(r.text)"
      ],
      "execution_count": null,
      "outputs": []
    },
    {
      "cell_type": "code",
      "metadata": {
        "colab": {
          "base_uri": "https://localhost:8080/"
        },
        "id": "hIXDQZMkp5Au",
        "outputId": "dc2f412c-601f-4603-d82f-f7e05986a466"
      },
      "source": [
        "# create list for the names of the playes\r\n",
        "play_name = [res['name'] for res in parsedResponse]\r\n",
        "print(len(play_name))"
      ],
      "execution_count": null,
      "outputs": [
        {
          "output_type": "stream",
          "text": [
            "211\n"
          ],
          "name": "stdout"
        }
      ]
    },
    {
      "cell_type": "code",
      "metadata": {
        "id": "TuG3AQzO_Iud"
      },
      "source": [
        "# create df for parent_children relation from all plays\r\n",
        "df = pd.DataFrame(columns = ['title', 'parent', 'child'])\r\n",
        "\r\n",
        "# list for plays' title where is relations as parent_of\r\n",
        "parents_in_play = []\r\n",
        "\r\n",
        "for name in play_name:\r\n",
        "  url = \"https://dracor.org/api/corpora/rus/play/{}/relations/csv\".format(name)\r\n",
        "  download = requests.get(url)\r\n",
        "  decoded_content = download.content.decode('utf-8')\r\n",
        "  cr = csv.reader(decoded_content.splitlines(), delimiter=',')\r\n",
        "\r\n",
        "  for row in list(cr):\r\n",
        "    if row[3] == 'parent_of':\r\n",
        "      df.loc[len(df)] = [name, row[0], row[2]] # append to df title of play, parent, children\r\n",
        "      parents_in_play.append(name)        "
      ],
      "execution_count": null,
      "outputs": []
    },
    {
      "cell_type": "code",
      "metadata": {
        "colab": {
          "base_uri": "https://localhost:8080/"
        },
        "id": "V2Q1WBy0_i_I",
        "outputId": "5bce651a-1dbb-405f-ac6b-d374f34f81b6"
      },
      "source": [
        "# save only unique names\r\n",
        "parents_in_play = list(set(parents_in_play))\r\n",
        "print(len(parents_in_play))"
      ],
      "execution_count": null,
      "outputs": [
        {
          "output_type": "stream",
          "text": [
            "111\n"
          ],
          "name": "stdout"
        }
      ]
    },
    {
      "cell_type": "code",
      "metadata": {
        "id": "lxqJyjSnDB2X"
      },
      "source": [
        "parents_in_play"
      ],
      "execution_count": null,
      "outputs": []
    },
    {
      "cell_type": "code",
      "metadata": {
        "colab": {
          "base_uri": "https://localhost:8080/",
          "height": 399
        },
        "id": "_6nNVDmBbnp8",
        "outputId": "be4de90e-c483-4e9b-ffdf-42cbd5b53804"
      },
      "source": [
        "df"
      ],
      "execution_count": null,
      "outputs": [
        {
          "output_type": "execute_result",
          "data": {
            "text/html": [
              "<div>\n",
              "<style scoped>\n",
              "    .dataframe tbody tr th:only-of-type {\n",
              "        vertical-align: middle;\n",
              "    }\n",
              "\n",
              "    .dataframe tbody tr th {\n",
              "        vertical-align: top;\n",
              "    }\n",
              "\n",
              "    .dataframe thead th {\n",
              "        text-align: right;\n",
              "    }\n",
              "</style>\n",
              "<table border=\"1\" class=\"dataframe\">\n",
              "  <thead>\n",
              "    <tr style=\"text-align: right;\">\n",
              "      <th></th>\n",
              "      <th>title</th>\n",
              "      <th>parent</th>\n",
              "      <th>child</th>\n",
              "    </tr>\n",
              "  </thead>\n",
              "  <tbody>\n",
              "    <tr>\n",
              "      <th>0</th>\n",
              "      <td>afinogenov-mashenka</td>\n",
              "      <td>tumanskij</td>\n",
              "      <td>viktor</td>\n",
              "    </tr>\n",
              "    <tr>\n",
              "      <th>1</th>\n",
              "      <td>andreyev-k-zvezdam</td>\n",
              "      <td>sergej_nikolaevich</td>\n",
              "      <td>petja</td>\n",
              "    </tr>\n",
              "    <tr>\n",
              "      <th>2</th>\n",
              "      <td>andreyev-k-zvezdam</td>\n",
              "      <td>sergej_nikolaevich</td>\n",
              "      <td>anna</td>\n",
              "    </tr>\n",
              "    <tr>\n",
              "      <th>3</th>\n",
              "      <td>andreyev-k-zvezdam</td>\n",
              "      <td>inna_aleksandrovna</td>\n",
              "      <td>petja</td>\n",
              "    </tr>\n",
              "    <tr>\n",
              "      <th>4</th>\n",
              "      <td>andreyev-k-zvezdam</td>\n",
              "      <td>inna_aleksandrovna</td>\n",
              "      <td>anna</td>\n",
              "    </tr>\n",
              "    <tr>\n",
              "      <th>...</th>\n",
              "      <td>...</td>\n",
              "      <td>...</td>\n",
              "      <td>...</td>\n",
              "    </tr>\n",
              "    <tr>\n",
              "      <th>225</th>\n",
              "      <td>tretyakov-protivogazy</td>\n",
              "      <td>direktor</td>\n",
              "      <td>petya</td>\n",
              "    </tr>\n",
              "    <tr>\n",
              "      <th>226</th>\n",
              "      <td>turgenev-gde-tonko-tam-i-rvetsja</td>\n",
              "      <td>gospozha_libanova</td>\n",
              "      <td>vera</td>\n",
              "    </tr>\n",
              "    <tr>\n",
              "      <th>227</th>\n",
              "      <td>turgenev-mesjats-v-derevne</td>\n",
              "      <td>anna_semenovna</td>\n",
              "      <td>islaev</td>\n",
              "    </tr>\n",
              "    <tr>\n",
              "      <th>228</th>\n",
              "      <td>turgenev-mesjats-v-derevne</td>\n",
              "      <td>natalja_petrovna</td>\n",
              "      <td>kolja</td>\n",
              "    </tr>\n",
              "    <tr>\n",
              "      <th>229</th>\n",
              "      <td>turgenev-mesjats-v-derevne</td>\n",
              "      <td>islaev</td>\n",
              "      <td>kolja</td>\n",
              "    </tr>\n",
              "  </tbody>\n",
              "</table>\n",
              "<p>230 rows × 3 columns</p>\n",
              "</div>"
            ],
            "text/plain": [
              "                                title              parent   child\n",
              "0                 afinogenov-mashenka           tumanskij  viktor\n",
              "1                  andreyev-k-zvezdam  sergej_nikolaevich   petja\n",
              "2                  andreyev-k-zvezdam  sergej_nikolaevich    anna\n",
              "3                  andreyev-k-zvezdam  inna_aleksandrovna   petja\n",
              "4                  andreyev-k-zvezdam  inna_aleksandrovna    anna\n",
              "..                                ...                 ...     ...\n",
              "225             tretyakov-protivogazy            direktor   petya\n",
              "226  turgenev-gde-tonko-tam-i-rvetsja   gospozha_libanova    vera\n",
              "227        turgenev-mesjats-v-derevne      anna_semenovna  islaev\n",
              "228        turgenev-mesjats-v-derevne    natalja_petrovna   kolja\n",
              "229        turgenev-mesjats-v-derevne              islaev   kolja\n",
              "\n",
              "[230 rows x 3 columns]"
            ]
          },
          "metadata": {
            "tags": []
          },
          "execution_count": 7
        }
      ]
    },
    {
      "cell_type": "code",
      "metadata": {
        "id": "fFq0yQbffU2b"
      },
      "source": [
        "class Play:\r\n",
        "    def __init__(self):     \r\n",
        "      self.title = \"\" \r\n",
        "      self.author = \"\" \r\n",
        "      self.date = \"\" \r\n",
        "      self.parents = \"\" \r\n",
        "      self.children = \"\" \r\n",
        "      self.parents_texts = \"\"\r\n",
        "      self.childrens_texts = \"\""
      ],
      "execution_count": 27,
      "outputs": []
    },
    {
      "cell_type": "code",
      "metadata": {
        "id": "5ZnwINxjjpbv"
      },
      "source": [
        "# get tei doc from corpus and load it in BF\r\n",
        "def get_tei(title):\r\n",
        "  play = Play()\r\n",
        "  url = \"https://dracor.org/api/corpora/rus/play/{}/tei\".format(title)\r\n",
        "  play = requests.get(url).text\r\n",
        "  soup = BeautifulSoup(play, 'lxml')\r\n",
        "  return soup"
      ],
      "execution_count": null,
      "outputs": []
    },
    {
      "cell_type": "code",
      "metadata": {
        "id": "12HkOzvz_vg6"
      },
      "source": [
        "def clean(text):\r\n",
        "  for i in ['   ', '             ', '       ',  '\\n', '\\xa0',]:\r\n",
        "    text = text.replace(i, ' ')\r\n",
        "  return text"
      ],
      "execution_count": 104,
      "outputs": []
    },
    {
      "cell_type": "code",
      "metadata": {
        "id": "AzJ1MlbimFrM"
      },
      "source": [
        "def get_text(soup, characters):\r\n",
        "  text = [] \r\n",
        "  for name in characters:\r\n",
        "    name_ = '#' + name\r\n",
        "    sp = {}\r\n",
        "    speaker = soup.findAll('sp', attrs={'who': name_})\r\n",
        "    texts = []\r\n",
        "    \r\n",
        "    for repl in speaker:\r\n",
        "      try:\r\n",
        "        t = clean(repl.p.text)\r\n",
        "        texts.append(t)\r\n",
        "      except:\r\n",
        "        pass\r\n",
        "    \r\n",
        "    sp[name] = texts\r\n",
        "    text.append(sp)\r\n",
        "  return text"
      ],
      "execution_count": 110,
      "outputs": []
    },
    {
      "cell_type": "code",
      "metadata": {
        "id": "0DCjscvukI4E"
      },
      "source": [
        "def create_json(title):\r\n",
        "  play = Play()\r\n",
        "  play.soup = get_tei(title)\r\n",
        "\r\n",
        "  # meta\r\n",
        "  play.title = play.soup.title.getText(separator=' ', strip=True)\r\n",
        "  play.date = play.soup.date['when']\r\n",
        "  play.author = play.soup.persname.getText(separator=' ', strip=True)\r\n",
        "\r\n",
        "  # parents\\children characters\r\n",
        "  play.parents = list(set(df[df['title'] == title].parent))\r\n",
        "  play.children = list(set(df[df['title'] == title].child))\r\n",
        "\r\n",
        "  # parent\\children texts\r\n",
        "  play.parent_texts = get_text(play.soup, play.parents)\r\n",
        "  play.children_texts = get_text(play.soup, play.children)\r\n",
        "\r\n",
        "  # create json \r\n",
        "  json_file = {'title': play.title, 'author': play.author, 'date': play.date,\r\n",
        "               'parents': [{'name': name, \r\n",
        "                            'children': list(df[df['parent'] == name].child),\r\n",
        "                            'texts': text[name]} for name, text in zip(play.parents, play.parent_texts)],\r\n",
        "               'childrens': [{'name': name, \r\n",
        "                            'parents': list(df[df['child'] == name].parent),\r\n",
        "                            'texts': text[name]} for name, text in zip(play.children, play.children_texts)]\r\n",
        "               }\r\n",
        "  \r\n",
        "  return json_file"
      ],
      "execution_count": null,
      "outputs": []
    },
    {
      "cell_type": "code",
      "metadata": {
        "id": "NzLY1Yvae0WT"
      },
      "source": [
        "def save_json(title):\r\n",
        "  json_file = create_json(title)\r\n",
        "  filename = title + '.txt'\r\n",
        "  with open(filename, 'w',  encoding='utf-8') as outfile: \r\n",
        "    json.dump(json_file, outfile, ensure_ascii=False)"
      ],
      "execution_count": 125,
      "outputs": []
    },
    {
      "cell_type": "code",
      "metadata": {
        "id": "qzs17eZahKNz",
        "colab": {
          "base_uri": "https://localhost:8080/"
        },
        "outputId": "b11aed2f-b904-4b89-f57e-6fe14e331958"
      },
      "source": [
        "for title in tqdm(parents_in_play):\r\n",
        "  try:\r\n",
        "    save_json(title)\r\n",
        "  except:\r\n",
        "    pass"
      ],
      "execution_count": 126,
      "outputs": [
        {
          "output_type": "stream",
          "text": [
            "100%|██████████| 111/111 [01:34<00:00,  1.17it/s]\n"
          ],
          "name": "stderr"
        }
      ]
    }
  ]
}