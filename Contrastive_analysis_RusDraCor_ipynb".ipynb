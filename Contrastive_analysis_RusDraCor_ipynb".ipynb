{
  "nbformat": 4,
  "nbformat_minor": 0,
  "metadata": {
    "colab": {
      "name": "Contrastive analysis_RusDraCor.ipynb\"",
      "provenance": [],
      "collapsed_sections": [],
      "include_colab_link": true
    },
    "kernelspec": {
      "name": "python3",
      "display_name": "Python 3"
    },
    "widgets": {
      "application/vnd.jupyter.widget-state+json": {
        "a08e7fa16771414c92895d84a91b3194": {
          "model_module": "@jupyter-widgets/controls",
          "model_name": "HBoxModel",
          "state": {
            "_view_name": "HBoxView",
            "_dom_classes": [],
            "_model_name": "HBoxModel",
            "_view_module": "@jupyter-widgets/controls",
            "_model_module_version": "1.5.0",
            "_view_count": null,
            "_view_module_version": "1.5.0",
            "box_style": "",
            "layout": "IPY_MODEL_7b9ac5dd911942cd89db645e7b56ee41",
            "_model_module": "@jupyter-widgets/controls",
            "children": [
              "IPY_MODEL_9b980e69a922494ca6494bda13b656ea",
              "IPY_MODEL_a7fcd981c12c4e7fac99954197fc8549"
            ]
          }
        },
        "7b9ac5dd911942cd89db645e7b56ee41": {
          "model_module": "@jupyter-widgets/base",
          "model_name": "LayoutModel",
          "state": {
            "_view_name": "LayoutView",
            "grid_template_rows": null,
            "right": null,
            "justify_content": null,
            "_view_module": "@jupyter-widgets/base",
            "overflow": null,
            "_model_module_version": "1.2.0",
            "_view_count": null,
            "flex_flow": null,
            "width": null,
            "min_width": null,
            "border": null,
            "align_items": null,
            "bottom": null,
            "_model_module": "@jupyter-widgets/base",
            "top": null,
            "grid_column": null,
            "overflow_y": null,
            "overflow_x": null,
            "grid_auto_flow": null,
            "grid_area": null,
            "grid_template_columns": null,
            "flex": null,
            "_model_name": "LayoutModel",
            "justify_items": null,
            "grid_row": null,
            "max_height": null,
            "align_content": null,
            "visibility": null,
            "align_self": null,
            "height": null,
            "min_height": null,
            "padding": null,
            "grid_auto_rows": null,
            "grid_gap": null,
            "max_width": null,
            "order": null,
            "_view_module_version": "1.2.0",
            "grid_template_areas": null,
            "object_position": null,
            "object_fit": null,
            "grid_auto_columns": null,
            "margin": null,
            "display": null,
            "left": null
          }
        },
        "9b980e69a922494ca6494bda13b656ea": {
          "model_module": "@jupyter-widgets/controls",
          "model_name": "FloatProgressModel",
          "state": {
            "_view_name": "ProgressView",
            "style": "IPY_MODEL_12bcfa5970d14c56a8a887477e78e497",
            "_dom_classes": [],
            "description": "",
            "_model_name": "FloatProgressModel",
            "bar_style": "success",
            "max": 1,
            "_view_module": "@jupyter-widgets/controls",
            "_model_module_version": "1.5.0",
            "value": 1,
            "_view_count": null,
            "_view_module_version": "1.5.0",
            "orientation": "horizontal",
            "min": 0,
            "description_tooltip": null,
            "_model_module": "@jupyter-widgets/controls",
            "layout": "IPY_MODEL_7badf67aaf704487bbe1749b55c3a878"
          }
        },
        "a7fcd981c12c4e7fac99954197fc8549": {
          "model_module": "@jupyter-widgets/controls",
          "model_name": "HTMLModel",
          "state": {
            "_view_name": "HTMLView",
            "style": "IPY_MODEL_4867df5f27ca4169b25b2828b92f8a64",
            "_dom_classes": [],
            "description": "",
            "_model_name": "HTMLModel",
            "placeholder": "​",
            "_view_module": "@jupyter-widgets/controls",
            "_model_module_version": "1.5.0",
            "value": " 373/? [11:48&lt;00:00,  1.90s/it]",
            "_view_count": null,
            "_view_module_version": "1.5.0",
            "description_tooltip": null,
            "_model_module": "@jupyter-widgets/controls",
            "layout": "IPY_MODEL_23dc42038daf4b7d9ecbabbeea699bfc"
          }
        },
        "12bcfa5970d14c56a8a887477e78e497": {
          "model_module": "@jupyter-widgets/controls",
          "model_name": "ProgressStyleModel",
          "state": {
            "_view_name": "StyleView",
            "_model_name": "ProgressStyleModel",
            "description_width": "initial",
            "_view_module": "@jupyter-widgets/base",
            "_model_module_version": "1.5.0",
            "_view_count": null,
            "_view_module_version": "1.2.0",
            "bar_color": null,
            "_model_module": "@jupyter-widgets/controls"
          }
        },
        "7badf67aaf704487bbe1749b55c3a878": {
          "model_module": "@jupyter-widgets/base",
          "model_name": "LayoutModel",
          "state": {
            "_view_name": "LayoutView",
            "grid_template_rows": null,
            "right": null,
            "justify_content": null,
            "_view_module": "@jupyter-widgets/base",
            "overflow": null,
            "_model_module_version": "1.2.0",
            "_view_count": null,
            "flex_flow": null,
            "width": null,
            "min_width": null,
            "border": null,
            "align_items": null,
            "bottom": null,
            "_model_module": "@jupyter-widgets/base",
            "top": null,
            "grid_column": null,
            "overflow_y": null,
            "overflow_x": null,
            "grid_auto_flow": null,
            "grid_area": null,
            "grid_template_columns": null,
            "flex": null,
            "_model_name": "LayoutModel",
            "justify_items": null,
            "grid_row": null,
            "max_height": null,
            "align_content": null,
            "visibility": null,
            "align_self": null,
            "height": null,
            "min_height": null,
            "padding": null,
            "grid_auto_rows": null,
            "grid_gap": null,
            "max_width": null,
            "order": null,
            "_view_module_version": "1.2.0",
            "grid_template_areas": null,
            "object_position": null,
            "object_fit": null,
            "grid_auto_columns": null,
            "margin": null,
            "display": null,
            "left": null
          }
        },
        "4867df5f27ca4169b25b2828b92f8a64": {
          "model_module": "@jupyter-widgets/controls",
          "model_name": "DescriptionStyleModel",
          "state": {
            "_view_name": "StyleView",
            "_model_name": "DescriptionStyleModel",
            "description_width": "",
            "_view_module": "@jupyter-widgets/base",
            "_model_module_version": "1.5.0",
            "_view_count": null,
            "_view_module_version": "1.2.0",
            "_model_module": "@jupyter-widgets/controls"
          }
        },
        "23dc42038daf4b7d9ecbabbeea699bfc": {
          "model_module": "@jupyter-widgets/base",
          "model_name": "LayoutModel",
          "state": {
            "_view_name": "LayoutView",
            "grid_template_rows": null,
            "right": null,
            "justify_content": null,
            "_view_module": "@jupyter-widgets/base",
            "overflow": null,
            "_model_module_version": "1.2.0",
            "_view_count": null,
            "flex_flow": null,
            "width": null,
            "min_width": null,
            "border": null,
            "align_items": null,
            "bottom": null,
            "_model_module": "@jupyter-widgets/base",
            "top": null,
            "grid_column": null,
            "overflow_y": null,
            "overflow_x": null,
            "grid_auto_flow": null,
            "grid_area": null,
            "grid_template_columns": null,
            "flex": null,
            "_model_name": "LayoutModel",
            "justify_items": null,
            "grid_row": null,
            "max_height": null,
            "align_content": null,
            "visibility": null,
            "align_self": null,
            "height": null,
            "min_height": null,
            "padding": null,
            "grid_auto_rows": null,
            "grid_gap": null,
            "max_width": null,
            "order": null,
            "_view_module_version": "1.2.0",
            "grid_template_areas": null,
            "object_position": null,
            "object_fit": null,
            "grid_auto_columns": null,
            "margin": null,
            "display": null,
            "left": null
          }
        }
      }
    }
  },
  "cells": [
    {
      "cell_type": "markdown",
      "metadata": {
        "id": "view-in-github",
        "colab_type": "text"
      },
      "source": [
        "<a href=\"https://colab.research.google.com/github/Gratisfo/Parentents-and-children/blob/main/Contrastive_analysis_RusDraCor_ipynb%22.ipynb\" target=\"_parent\"><img src=\"https://colab.research.google.com/assets/colab-badge.svg\" alt=\"Open In Colab\"/></a>"
      ]
    },
    {
      "cell_type": "markdown",
      "metadata": {
        "id": "RhI1_gZFYenr"
      },
      "source": [
        "# Подготовка для выкачивания текстов Островского"
      ]
    },
    {
      "cell_type": "code",
      "metadata": {
        "id": "DCgVmlHPjrIJ"
      },
      "source": [
        "import json\n",
        "import requests\n",
        "import csv\n",
        "import pandas as pd\n",
        "from tqdm import tqdm"
      ],
      "execution_count": 1,
      "outputs": []
    },
    {
      "cell_type": "code",
      "metadata": {
        "id": "ff-89umVj3mY"
      },
      "source": [
        "# get metadata from rus corpus\n",
        "r = requests.get(\"https://dracor.org/api/corpora/rus/metadata\")"
      ],
      "execution_count": 2,
      "outputs": []
    },
    {
      "cell_type": "code",
      "metadata": {
        "id": "FU8UFUKzp0qK"
      },
      "source": [
        "parsedResponse = json.loads(r.text)"
      ],
      "execution_count": 3,
      "outputs": []
    },
    {
      "cell_type": "code",
      "metadata": {
        "colab": {
          "base_uri": "https://localhost:8080/"
        },
        "id": "hIXDQZMkp5Au",
        "outputId": "bf82b69e-8d2f-4714-f930-01fe5579ff37"
      },
      "source": [
        "# create list for the names of the playes\n",
        "play_name = [res['name'] for res in parsedResponse]\n",
        "print(len(play_name))"
      ],
      "execution_count": 4,
      "outputs": [
        {
          "output_type": "stream",
          "text": [
            "211\n"
          ],
          "name": "stdout"
        }
      ]
    },
    {
      "cell_type": "code",
      "metadata": {
        "id": "1xlwyf3VfRrd"
      },
      "source": [
        "# create df for parent_children relation from all plays\n",
        "df = pd.DataFrame(columns = ['title', 'parent', 'child'])\n",
        "\n",
        "# list for plays' title where is relations as parent_of\n",
        "parents_in_play = []\n",
        "\n",
        "for name in play_name:\n",
        "  if 'ostrovsky' in name:  \n",
        "    url = \"https://dracor.org/api/corpora/rus/play/{}/relations/csv\".format(name)\n",
        "    download = requests.get(url)\n",
        "    decoded_content = download.content.decode('utf-8')\n",
        "    cr = csv.reader(decoded_content.splitlines(), delimiter=',')\n",
        "\n",
        "    for row in list(cr):\n",
        "      if row[3] == 'parent_of':\n",
        "        df.loc[len(df)] = [name, row[0], row[2]] # append to df title of play, parent, children\n",
        "        parents_in_play.append(name)     "
      ],
      "execution_count": 5,
      "outputs": []
    },
    {
      "cell_type": "code",
      "metadata": {
        "id": "V2Q1WBy0_i_I",
        "colab": {
          "base_uri": "https://localhost:8080/"
        },
        "outputId": "c37940ea-ccaa-47f7-a59e-ee412c3aa3a1"
      },
      "source": [
        "# save only unique titles\n",
        "titles_play = list(set(parents_in_play))\n",
        "titles_play"
      ],
      "execution_count": 6,
      "outputs": [
        {
          "output_type": "execute_result",
          "data": {
            "text/plain": [
              "['ostrovsky-na-vsyakogo-mudreca-dovolno-prostoty',\n",
              " 'ostrovsky-prazdnichnyj-son-do-obeda',\n",
              " 'ostrovsky-groza',\n",
              " 'ostrovsky-shutniki',\n",
              " 'ostrovsky-ne-v-svoi-sani-ne-sadis',\n",
              " 'ostrovsky-bednaja-nevesta',\n",
              " 'ostrovsky-v-chuzhom-piru-pohmelje',\n",
              " 'ostrovsky-goryachee-serdce',\n",
              " 'ostrovsky-beshenye-dengi',\n",
              " 'ostrovsky-bednost-ne-porok',\n",
              " 'ostrovsky-puchina',\n",
              " 'ostrovsky-ne-soshlis-harakterami',\n",
              " 'ostrovsky-svoi-sobaki-gryzutsya-chuzhaya-ne-pristavaj',\n",
              " 'ostrovsky-svoi-ljudi',\n",
              " 'ostrovsky-staryj-drug-luchshe-novyh-dvuh',\n",
              " 'ostrovsky-les',\n",
              " 'ostrovsky-ne-tak-zhivi-kak-hochetsya',\n",
              " 'ostrovsky-vospitannica',\n",
              " 'ostrovsky-pozdnyaya-lyubov',\n",
              " 'ostrovsky-semejnaya-kartina',\n",
              " 'ostrovsky-bespridannitsa',\n",
              " 'ostrovsky-bogatye-nevesty',\n",
              " 'ostrovsky-za-chem-pojdesh-to-i-najdesh']"
            ]
          },
          "metadata": {
            "tags": []
          },
          "execution_count": 6
        }
      ]
    },
    {
      "cell_type": "code",
      "metadata": {
        "id": "_6nNVDmBbnp8",
        "colab": {
          "base_uri": "https://localhost:8080/",
          "height": 1000
        },
        "outputId": "38abf3a0-b443-43be-aa81-3852f51c28de"
      },
      "source": [
        "df"
      ],
      "execution_count": 7,
      "outputs": [
        {
          "output_type": "execute_result",
          "data": {
            "text/html": [
              "<div>\n",
              "<style scoped>\n",
              "    .dataframe tbody tr th:only-of-type {\n",
              "        vertical-align: middle;\n",
              "    }\n",
              "\n",
              "    .dataframe tbody tr th {\n",
              "        vertical-align: top;\n",
              "    }\n",
              "\n",
              "    .dataframe thead th {\n",
              "        text-align: right;\n",
              "    }\n",
              "</style>\n",
              "<table border=\"1\" class=\"dataframe\">\n",
              "  <thead>\n",
              "    <tr style=\"text-align: right;\">\n",
              "      <th></th>\n",
              "      <th>title</th>\n",
              "      <th>parent</th>\n",
              "      <th>child</th>\n",
              "    </tr>\n",
              "  </thead>\n",
              "  <tbody>\n",
              "    <tr>\n",
              "      <th>0</th>\n",
              "      <td>ostrovsky-bednaja-nevesta</td>\n",
              "      <td>anna_petrovna</td>\n",
              "      <td>marja_andreevna</td>\n",
              "    </tr>\n",
              "    <tr>\n",
              "      <th>1</th>\n",
              "      <td>ostrovsky-bednaja-nevesta</td>\n",
              "      <td>horkova</td>\n",
              "      <td>horkov</td>\n",
              "    </tr>\n",
              "    <tr>\n",
              "      <th>2</th>\n",
              "      <td>ostrovsky-bednost-ne-porok</td>\n",
              "      <td>GordejKarpych</td>\n",
              "      <td>LjubovGordeevna</td>\n",
              "    </tr>\n",
              "    <tr>\n",
              "      <th>3</th>\n",
              "      <td>ostrovsky-bednost-ne-porok</td>\n",
              "      <td>PelagejaEgorovna</td>\n",
              "      <td>LjubovGordeevna</td>\n",
              "    </tr>\n",
              "    <tr>\n",
              "      <th>4</th>\n",
              "      <td>ostrovsky-beshenye-dengi</td>\n",
              "      <td>nadezhda_antonovna</td>\n",
              "      <td>lidiya</td>\n",
              "    </tr>\n",
              "    <tr>\n",
              "      <th>5</th>\n",
              "      <td>ostrovsky-bespridannitsa</td>\n",
              "      <td>Ogudalova</td>\n",
              "      <td>Larisa</td>\n",
              "    </tr>\n",
              "    <tr>\n",
              "      <th>6</th>\n",
              "      <td>ostrovsky-bogatye-nevesty</td>\n",
              "      <td>cyplunova</td>\n",
              "      <td>cyplunov</td>\n",
              "    </tr>\n",
              "    <tr>\n",
              "      <th>7</th>\n",
              "      <td>ostrovsky-goryachee-serdce</td>\n",
              "      <td>kuroslepov</td>\n",
              "      <td>parasha</td>\n",
              "    </tr>\n",
              "    <tr>\n",
              "      <th>8</th>\n",
              "      <td>ostrovsky-groza</td>\n",
              "      <td>kabanova</td>\n",
              "      <td>kabanov</td>\n",
              "    </tr>\n",
              "    <tr>\n",
              "      <th>9</th>\n",
              "      <td>ostrovsky-les</td>\n",
              "      <td>vosmibratov</td>\n",
              "      <td>petr</td>\n",
              "    </tr>\n",
              "    <tr>\n",
              "      <th>10</th>\n",
              "      <td>ostrovsky-na-vsyakogo-mudreca-dovolno-prostoty</td>\n",
              "      <td>glumova</td>\n",
              "      <td>glumov</td>\n",
              "    </tr>\n",
              "    <tr>\n",
              "      <th>11</th>\n",
              "      <td>ostrovsky-ne-soshlis-harakterami</td>\n",
              "      <td>prezhnev</td>\n",
              "      <td>pol</td>\n",
              "    </tr>\n",
              "    <tr>\n",
              "      <th>12</th>\n",
              "      <td>ostrovsky-ne-soshlis-harakterami</td>\n",
              "      <td>prezhneva</td>\n",
              "      <td>pol</td>\n",
              "    </tr>\n",
              "    <tr>\n",
              "      <th>13</th>\n",
              "      <td>ostrovsky-ne-tak-zhivi-kak-hochetsya</td>\n",
              "      <td>ilya</td>\n",
              "      <td>petr</td>\n",
              "    </tr>\n",
              "    <tr>\n",
              "      <th>14</th>\n",
              "      <td>ostrovsky-ne-tak-zhivi-kak-hochetsya</td>\n",
              "      <td>spiridonovna</td>\n",
              "      <td>grusha</td>\n",
              "    </tr>\n",
              "    <tr>\n",
              "      <th>15</th>\n",
              "      <td>ostrovsky-ne-v-svoi-sani-ne-sadis</td>\n",
              "      <td>rusakov</td>\n",
              "      <td>avdotya_maksimovna</td>\n",
              "    </tr>\n",
              "    <tr>\n",
              "      <th>16</th>\n",
              "      <td>ostrovsky-pozdnyaya-lyubov</td>\n",
              "      <td>margaritov</td>\n",
              "      <td>lyudmila</td>\n",
              "    </tr>\n",
              "    <tr>\n",
              "      <th>17</th>\n",
              "      <td>ostrovsky-pozdnyaya-lyubov</td>\n",
              "      <td>shablova</td>\n",
              "      <td>dormedont</td>\n",
              "    </tr>\n",
              "    <tr>\n",
              "      <th>18</th>\n",
              "      <td>ostrovsky-prazdnichnyj-son-do-obeda</td>\n",
              "      <td>balzaminova</td>\n",
              "      <td>balzaminov</td>\n",
              "    </tr>\n",
              "    <tr>\n",
              "      <th>19</th>\n",
              "      <td>ostrovsky-prazdnichnyj-son-do-obeda</td>\n",
              "      <td>nichkina</td>\n",
              "      <td>kapochka</td>\n",
              "    </tr>\n",
              "    <tr>\n",
              "      <th>20</th>\n",
              "      <td>ostrovsky-prazdnichnyj-son-do-obeda</td>\n",
              "      <td>neuedenov</td>\n",
              "      <td>yusha</td>\n",
              "    </tr>\n",
              "    <tr>\n",
              "      <th>21</th>\n",
              "      <td>ostrovsky-puchina</td>\n",
              "      <td>borovcov</td>\n",
              "      <td>glafira</td>\n",
              "    </tr>\n",
              "    <tr>\n",
              "      <th>22</th>\n",
              "      <td>ostrovsky-puchina</td>\n",
              "      <td>borovcova</td>\n",
              "      <td>glafira</td>\n",
              "    </tr>\n",
              "    <tr>\n",
              "      <th>23</th>\n",
              "      <td>ostrovsky-semejnaya-kartina</td>\n",
              "      <td>stepanida_trofimovna</td>\n",
              "      <td>antip_antipych</td>\n",
              "    </tr>\n",
              "    <tr>\n",
              "      <th>24</th>\n",
              "      <td>ostrovsky-shutniki</td>\n",
              "      <td>obroshenov</td>\n",
              "      <td>anna_pavlovna</td>\n",
              "    </tr>\n",
              "    <tr>\n",
              "      <th>25</th>\n",
              "      <td>ostrovsky-shutniki</td>\n",
              "      <td>obroshenov</td>\n",
              "      <td>verochka</td>\n",
              "    </tr>\n",
              "    <tr>\n",
              "      <th>26</th>\n",
              "      <td>ostrovsky-staryj-drug-luchshe-novyh-dvuh</td>\n",
              "      <td>tatyana_nikonovna</td>\n",
              "      <td>olenka</td>\n",
              "    </tr>\n",
              "    <tr>\n",
              "      <th>27</th>\n",
              "      <td>ostrovsky-svoi-ljudi</td>\n",
              "      <td>agrafena_kondratevna</td>\n",
              "      <td>lipochka</td>\n",
              "    </tr>\n",
              "    <tr>\n",
              "      <th>28</th>\n",
              "      <td>ostrovsky-svoi-ljudi</td>\n",
              "      <td>bolshov</td>\n",
              "      <td>lipochka</td>\n",
              "    </tr>\n",
              "    <tr>\n",
              "      <th>29</th>\n",
              "      <td>ostrovsky-svoi-sobaki-gryzutsya-chuzhaya-ne-pr...</td>\n",
              "      <td>balzaminova</td>\n",
              "      <td>balzaminov</td>\n",
              "    </tr>\n",
              "    <tr>\n",
              "      <th>30</th>\n",
              "      <td>ostrovsky-v-chuzhom-piru-pohmelje</td>\n",
              "      <td>ivan_ksenofontych</td>\n",
              "      <td>lizaveta_ivanovna</td>\n",
              "    </tr>\n",
              "    <tr>\n",
              "      <th>31</th>\n",
              "      <td>ostrovsky-v-chuzhom-piru-pohmelje</td>\n",
              "      <td>tit_titych</td>\n",
              "      <td>andrej_titych</td>\n",
              "    </tr>\n",
              "    <tr>\n",
              "      <th>32</th>\n",
              "      <td>ostrovsky-vospitannica</td>\n",
              "      <td>ulanbekova</td>\n",
              "      <td>leonid</td>\n",
              "    </tr>\n",
              "    <tr>\n",
              "      <th>33</th>\n",
              "      <td>ostrovsky-za-chem-pojdesh-to-i-najdesh</td>\n",
              "      <td>balzaminova</td>\n",
              "      <td>balzaminov</td>\n",
              "    </tr>\n",
              "  </tbody>\n",
              "</table>\n",
              "</div>"
            ],
            "text/plain": [
              "                                                title  ...               child\n",
              "0                           ostrovsky-bednaja-nevesta  ...     marja_andreevna\n",
              "1                           ostrovsky-bednaja-nevesta  ...              horkov\n",
              "2                          ostrovsky-bednost-ne-porok  ...     LjubovGordeevna\n",
              "3                          ostrovsky-bednost-ne-porok  ...     LjubovGordeevna\n",
              "4                            ostrovsky-beshenye-dengi  ...              lidiya\n",
              "5                            ostrovsky-bespridannitsa  ...              Larisa\n",
              "6                           ostrovsky-bogatye-nevesty  ...            cyplunov\n",
              "7                          ostrovsky-goryachee-serdce  ...             parasha\n",
              "8                                     ostrovsky-groza  ...             kabanov\n",
              "9                                       ostrovsky-les  ...                petr\n",
              "10     ostrovsky-na-vsyakogo-mudreca-dovolno-prostoty  ...              glumov\n",
              "11                   ostrovsky-ne-soshlis-harakterami  ...                 pol\n",
              "12                   ostrovsky-ne-soshlis-harakterami  ...                 pol\n",
              "13               ostrovsky-ne-tak-zhivi-kak-hochetsya  ...                petr\n",
              "14               ostrovsky-ne-tak-zhivi-kak-hochetsya  ...              grusha\n",
              "15                  ostrovsky-ne-v-svoi-sani-ne-sadis  ...  avdotya_maksimovna\n",
              "16                         ostrovsky-pozdnyaya-lyubov  ...            lyudmila\n",
              "17                         ostrovsky-pozdnyaya-lyubov  ...           dormedont\n",
              "18                ostrovsky-prazdnichnyj-son-do-obeda  ...          balzaminov\n",
              "19                ostrovsky-prazdnichnyj-son-do-obeda  ...            kapochka\n",
              "20                ostrovsky-prazdnichnyj-son-do-obeda  ...               yusha\n",
              "21                                  ostrovsky-puchina  ...             glafira\n",
              "22                                  ostrovsky-puchina  ...             glafira\n",
              "23                        ostrovsky-semejnaya-kartina  ...      antip_antipych\n",
              "24                                 ostrovsky-shutniki  ...       anna_pavlovna\n",
              "25                                 ostrovsky-shutniki  ...            verochka\n",
              "26           ostrovsky-staryj-drug-luchshe-novyh-dvuh  ...              olenka\n",
              "27                               ostrovsky-svoi-ljudi  ...            lipochka\n",
              "28                               ostrovsky-svoi-ljudi  ...            lipochka\n",
              "29  ostrovsky-svoi-sobaki-gryzutsya-chuzhaya-ne-pr...  ...          balzaminov\n",
              "30                  ostrovsky-v-chuzhom-piru-pohmelje  ...   lizaveta_ivanovna\n",
              "31                  ostrovsky-v-chuzhom-piru-pohmelje  ...       andrej_titych\n",
              "32                             ostrovsky-vospitannica  ...              leonid\n",
              "33             ostrovsky-za-chem-pojdesh-to-i-najdesh  ...          balzaminov\n",
              "\n",
              "[34 rows x 3 columns]"
            ]
          },
          "metadata": {
            "tags": []
          },
          "execution_count": 7
        }
      ]
    },
    {
      "cell_type": "code",
      "metadata": {
        "id": "fFq0yQbffU2b"
      },
      "source": [
        "class Play:\n",
        "    def __init__(self):     \n",
        "      self.title = \"\" \n",
        "      self.author = \"\" \n",
        "      self.date = \"\" \n",
        "      self.parents = \"\" \n",
        "      self.children = \"\" \n",
        "      self.texts = \"\""
      ],
      "execution_count": 8,
      "outputs": []
    },
    {
      "cell_type": "code",
      "metadata": {
        "id": "0DCjscvukI4E"
      },
      "source": [
        "def get_play(title):\n",
        "  play = Play()\n",
        "\n",
        "  # meta\n",
        "  play.title = title\n",
        "  play.date = [p['yearWritten'] for p in parsedResponse if p['playName'] == title][0]\n",
        "  play.author = [p['firstAuthor'] for p in parsedResponse \n",
        "                                                        if p['playName'] == title][0]\n",
        "  \n",
        "  # parents\\children characters\n",
        "  play.parents = list(set(df[df['title'] == title].parent))\n",
        "  play.children = list(set(df[df['title'] == title].child))\n",
        "\n",
        "  # parent\\children texts\n",
        "  url = \"https://dracor.org/api/corpora/rus/play/{}/spoken-text-by-character\".format(title)\n",
        "  req = requests.get(url)\n",
        "  play.texts = json.loads(req.text)\n",
        "\n",
        "  def text_char(name):\n",
        "    for text in play.texts: \n",
        "      if text['id'] == name:\n",
        "        text_char = text['text']\n",
        "    return text_char\n",
        "\n",
        "  play.parents_text = {name: text_char(name) for name in play.parents}\n",
        "  play.children_text = {name: text_char(name) for name in play.children}\n",
        "  return play\n",
        "\n"
      ],
      "execution_count": 9,
      "outputs": []
    },
    {
      "cell_type": "markdown",
      "metadata": {
        "id": "G4BnuKNXvCjY"
      },
      "source": [
        "# Заполняем df"
      ]
    },
    {
      "cell_type": "code",
      "metadata": {
        "id": "feoJyuuBvMFn"
      },
      "source": [
        "parent_text = []\n",
        "children_text = []\n",
        "for t in titles_play[:1]:\n",
        "  play = get_play(t)  \n",
        "  for i in play.parents_text:\n",
        "    for repl in play.parents_text[i]:\n",
        "      parent_text.append(repl)\n",
        "  for name in play.children_text:\n",
        "    for repl in play.children_text[name]:\n",
        "      children_text.append(repl)"
      ],
      "execution_count": 10,
      "outputs": []
    },
    {
      "cell_type": "code",
      "metadata": {
        "colab": {
          "base_uri": "https://localhost:8080/",
          "height": 419
        },
        "id": "g5bDhuViysha",
        "outputId": "30e333cf-9f38-42e7-d5f3-5f48be8864dd"
      },
      "source": [
        "data = pd.DataFrame()\n",
        "data['text'] = parent_text + children_text\n",
        "data['role'] = ['parent' for i in range(len(parent_text))] + ['child' for i in range(len(children_text))] \n",
        "data"
      ],
      "execution_count": 11,
      "outputs": [
        {
          "output_type": "execute_result",
          "data": {
            "text/html": [
              "<div>\n",
              "<style scoped>\n",
              "    .dataframe tbody tr th:only-of-type {\n",
              "        vertical-align: middle;\n",
              "    }\n",
              "\n",
              "    .dataframe tbody tr th {\n",
              "        vertical-align: top;\n",
              "    }\n",
              "\n",
              "    .dataframe thead th {\n",
              "        text-align: right;\n",
              "    }\n",
              "</style>\n",
              "<table border=\"1\" class=\"dataframe\">\n",
              "  <thead>\n",
              "    <tr style=\"text-align: right;\">\n",
              "      <th></th>\n",
              "      <th>text</th>\n",
              "      <th>role</th>\n",
              "    </tr>\n",
              "  </thead>\n",
              "  <tbody>\n",
              "    <tr>\n",
              "      <th>0</th>\n",
              "      <td>Зачем ты заставляешь меня писать эти письма! П...</td>\n",
              "      <td>parent</td>\n",
              "    </tr>\n",
              "    <tr>\n",
              "      <th>1</th>\n",
              "      <td>Да что толку? Ведь за тебя не отдадут. У Турус...</td>\n",
              "      <td>parent</td>\n",
              "    </tr>\n",
              "    <tr>\n",
              "      <th>2</th>\n",
              "      <td>Да если бы польза была!</td>\n",
              "      <td>parent</td>\n",
              "    </tr>\n",
              "    <tr>\n",
              "      <th>3</th>\n",
              "      <td>Имеешь ли ты хоть какую-нибудь надежду?</td>\n",
              "      <td>parent</td>\n",
              "    </tr>\n",
              "    <tr>\n",
              "      <th>4</th>\n",
              "      <td>Помоги тебе Бог!</td>\n",
              "      <td>parent</td>\n",
              "    </tr>\n",
              "    <tr>\n",
              "      <th>...</th>\n",
              "      <td>...</td>\n",
              "      <td>...</td>\n",
              "    </tr>\n",
              "    <tr>\n",
              "      <th>368</th>\n",
              "      <td>Понимаю. И вам, Иван Иваныч, я нужен.</td>\n",
              "      <td>child</td>\n",
              "    </tr>\n",
              "    <tr>\n",
              "      <th>369</th>\n",
              "      <td>И умных фраз позаимствоваться для спича...</td>\n",
              "      <td>child</td>\n",
              "    </tr>\n",
              "    <tr>\n",
              "      <th>370</th>\n",
              "      <td>И критику вместе написать.</td>\n",
              "      <td>child</td>\n",
              "    </tr>\n",
              "    <tr>\n",
              "      <th>371</th>\n",
              "      <td>И вам, тетушка, нужен.</td>\n",
              "      <td>child</td>\n",
              "    </tr>\n",
              "    <tr>\n",
              "      <th>372</th>\n",
              "      <td>Ничего вы не заметили. Вас возмутил мой дневни...</td>\n",
              "      <td>child</td>\n",
              "    </tr>\n",
              "  </tbody>\n",
              "</table>\n",
              "<p>373 rows × 2 columns</p>\n",
              "</div>"
            ],
            "text/plain": [
              "                                                  text    role\n",
              "0    Зачем ты заставляешь меня писать эти письма! П...  parent\n",
              "1    Да что толку? Ведь за тебя не отдадут. У Турус...  parent\n",
              "2                              Да если бы польза была!  parent\n",
              "3              Имеешь ли ты хоть какую-нибудь надежду?  parent\n",
              "4                                     Помоги тебе Бог!  parent\n",
              "..                                                 ...     ...\n",
              "368              Понимаю. И вам, Иван Иваныч, я нужен.   child\n",
              "369         И умных фраз позаимствоваться для спича...   child\n",
              "370                         И критику вместе написать.   child\n",
              "371                             И вам, тетушка, нужен.   child\n",
              "372  Ничего вы не заметили. Вас возмутил мой дневни...   child\n",
              "\n",
              "[373 rows x 2 columns]"
            ]
          },
          "metadata": {
            "tags": []
          },
          "execution_count": 11
        }
      ]
    },
    {
      "cell_type": "markdown",
      "metadata": {
        "id": "39iVO6CK1H9r"
      },
      "source": [
        "# Распределение реплик\n",
        "\n",
        "\n",
        "\n"
      ]
    },
    {
      "cell_type": "code",
      "metadata": {
        "colab": {
          "base_uri": "https://localhost:8080/",
          "height": 437
        },
        "id": "clnPs9rQ1GsT",
        "outputId": "e7039269-66ed-44ca-8a5d-2fc97663c002"
      },
      "source": [
        "import matplotlib.pyplot as plt\n",
        "import seaborn as sns\n",
        "sns.set(style=\"whitegrid\")\n",
        "\n",
        "\n",
        "def plot_label_dist(df, col_name, color=[\"r\",  \"b\"], kind1=\"bar\", kind2=\"pie\"):\n",
        "    fig = plt.figure(figsize=(10, 6))\n",
        "    ax1 = fig.add_subplot(121)\n",
        "    ax2 = fig.add_subplot(122)\n",
        "\n",
        "    column_values = list(df[col_name].unique())\n",
        "\n",
        "    df.groupby(col_name).size().sort_values(ascending=False).plot(\n",
        "        kind=kind1, width=0.75, title=\"Distribution of text\",\n",
        "        ax=ax1, rot=35, legend=False, color=color\n",
        "    )\n",
        "    ax1.set_xticklabels(column_values)\n",
        "\n",
        "    df.groupby(col_name).size().sort_values(ascending=False).plot(\n",
        "        kind=kind2, title=col_name, ax=ax2, autopct=\"%.2f%%\", labels=None, colors=color\n",
        "    )\n",
        "    ax2.legend(column_values)\n",
        "    ax2.axis(\"off\")\n",
        "\n",
        "    fig.tight_layout()\n",
        "\n",
        "plot_label_dist(df=data, col_name=\"role\")"
      ],
      "execution_count": 17,
      "outputs": [
        {
          "output_type": "display_data",
          "data": {
            "image/png": "[encoded data removed]",
            "text/plain": [
              "<Figure size 720x432 with 2 Axes>"
            ]
          },
          "metadata": {
            "tags": []
          }
        }
      ]
    },
    {
      "cell_type": "markdown",
      "metadata": {
        "id": "Db761MuIY4ae"
      },
      "source": [
        "# Посчет токенов и предложений"
      ]
    },
    {
      "cell_type": "code",
      "metadata": {
        "id": "WXrqT67RKZ5Y",
        "colab": {
          "base_uri": "https://localhost:8080/"
        },
        "outputId": "b7610680-64ab-4ba4-b182-c0ec3f42dd79"
      },
      "source": [
        "!pip install razdel"
      ],
      "execution_count": 18,
      "outputs": [
        {
          "output_type": "stream",
          "text": [
            "Requirement already satisfied: razdel in /usr/local/lib/python3.7/dist-packages (0.5.0)\n"
          ],
          "name": "stdout"
        }
      ]
    },
    {
      "cell_type": "code",
      "metadata": {
        "id": "XxtQ96cA2Rpo"
      },
      "source": [
        "from razdel import sentenize, tokenize\n",
        "\n",
        "def get_length_sentences(text):\n",
        "    segmented_sentences = sentenize(text)\n",
        "    num_sentences = len(list(segmented_sentences))\n",
        "    return num_sentences\n",
        "\n",
        "\n",
        "def get_num_tokens(text):\n",
        "    tokenized_text = tokenize(text)\n",
        "    num_tokens = len(list(tokenized_text))\n",
        "    return num_tokens\n",
        "\n",
        "\n",
        "def get_num_sentences(text):\n",
        "    segmented_sentences = sentenize(text)\n",
        "    num_sentences = len(list(segmented_sentences))\n",
        "    return num_sentences"
      ],
      "execution_count": 20,
      "outputs": []
    },
    {
      "cell_type": "code",
      "metadata": {
        "id": "BH6HyrsB-N6B"
      },
      "source": [
        "data[\"sent_num\"] = data[\"text\"].apply(get_num_sentences)\n",
        "data[\"token_num\"] = data[\"text\"].apply(get_num_tokens)"
      ],
      "execution_count": 21,
      "outputs": []
    },
    {
      "cell_type": "code",
      "metadata": {
        "colab": {
          "base_uri": "https://localhost:8080/"
        },
        "id": "G2bCrsSD-Oqg",
        "outputId": "5c8506b2-41db-4cf0-f4bc-517a64dde14d"
      },
      "source": [
        "# вычисления стандартного отклонения, медианы, минимального, среднего и максимального значений\n",
        "\n",
        "sent_num_subset = data[\"sent_num\"]\n",
        "\n",
        "print(\"Standard deviation: %d\" % sent_num_subset.std())\n",
        "print(\"Median: %d\" % sent_num_subset.median())\n",
        "print(\"Min value: %d\" % sent_num_subset.min())\n",
        "print(\"Mean value: %d\" % sent_num_subset.mean())\n",
        "print(\"Max value: %d\" % sent_num_subset.max())"
      ],
      "execution_count": 22,
      "outputs": [
        {
          "output_type": "stream",
          "text": [
            "Standard deviation: 3\n",
            "Median: 1\n",
            "Min value: 1\n",
            "Mean value: 2\n",
            "Max value: 50\n"
          ],
          "name": "stdout"
        }
      ]
    },
    {
      "cell_type": "code",
      "metadata": {
        "id": "7hRTLiUdDXIK"
      },
      "source": [
        "def get_length_sentences(text):\n",
        "    segmented_sentences = sentenize(text)\n",
        "    sent_length = []\n",
        "    for s in list(segmented_sentences):\n",
        "      sent_length.append(len(list(tokenize(s.text))))\n",
        "    return sent_length\n",
        "\n",
        "data[\"sent_len\"] = data[\"text\"].apply(get_length_sentences)"
      ],
      "execution_count": 23,
      "outputs": []
    },
    {
      "cell_type": "markdown",
      "metadata": {
        "id": "yiZTLxFR2o0C"
      },
      "source": [
        "# Распределение длин предложений родителей и детей"
      ]
    },
    {
      "cell_type": "code",
      "metadata": {
        "colab": {
          "base_uri": "https://localhost:8080/",
          "height": 263
        },
        "id": "soUo-iAA2mOF",
        "outputId": "8cc71e7f-0718-4de9-ddba-73c138b872db"
      },
      "source": [
        "from warnings import simplefilter\n",
        "simplefilter(action='ignore', category=FutureWarning)\n",
        "\n",
        "\n",
        "def plot_len_dist(data, col_name):\n",
        "    fig, axes = plt.subplots(1, 2, figsize=(20, 6))\n",
        "\n",
        "    for i, role in enumerate(['parent', 'child']):\n",
        "      subset = []\n",
        "      role_subset = data[data[\"role\"] == role][col_name]\n",
        "      for r in role_subset:\n",
        "        subset = subset + r\n",
        "\n",
        "      sns.distplot(subset, bins=20, color=\"blue\", ax=axes[i])\n",
        "      axes[i].axvline(\n",
        "          sum(subset) / len(subset), color=\"k\", linestyle=\"dashed\", linewidth=1, label=\"mean\"\n",
        "      )\n",
        "      axes[i].axvline(\n",
        "          sum(subset) / len(subset), color=\"r\", linestyle=\"dashed\", linewidth=1, label=\"median\"\n",
        "      )\n",
        "      axes[i].legend()\n",
        "      axes[i].set(title=\"%s: %s column values\" % (role, col_name))\n",
        "    \n",
        "    fig.tight_layout()\n",
        "\n",
        "plot_len_dist(data, \"sent_len\")"
      ],
      "execution_count": 24,
      "outputs": [
        {
          "output_type": "display_data",
          "data": {
            "image/png": "[encoded data removed]",
            "text/plain": [
              "<Figure size 1440x432 with 2 Axes>"
            ]
          },
          "metadata": {
            "tags": []
          }
        }
      ]
    },
    {
      "cell_type": "code",
      "metadata": {
        "id": "DUptGKRYExkj"
      },
      "source": [
        "from warnings import simplefilter\n",
        "simplefilter(action='ignore', category=FutureWarning)\n",
        "\n",
        "\n",
        "def plot_dist(df, col_name):\n",
        "    fig, axes = plt.subplots(1, 2, figsize=(20, 6))\n",
        "\n",
        "    for i, role in enumerate(['parent', 'child']):\n",
        "        role_subset = df[df[\"role\"] == role][col_name]\n",
        "\n",
        "        sns.distplot(role_subset, bins=20, color=\"blue\", ax=axes[i])\n",
        "        axes[i].axvline(\n",
        "            (role_subset).mean(), color=\"k\", linestyle=\"dashed\", linewidth=1, label=\"mean\"\n",
        "        )\n",
        "        axes[i].axvline(\n",
        "            (role_subset).median(), color=\"r\", linestyle=\"dashed\", linewidth=1, label=\"median\"\n",
        "        )\n",
        "        axes[i].legend()\n",
        "        axes[i].set(title=\"%s: %s column values\" % (role, col_name))\n",
        "    \n",
        "    fig.tight_layout()"
      ],
      "execution_count": 25,
      "outputs": []
    },
    {
      "cell_type": "code",
      "metadata": {
        "colab": {
          "base_uri": "https://localhost:8080/",
          "height": 263
        },
        "id": "asAVKzNFEskE",
        "outputId": "b26f7466-8b0c-443b-e6cd-84335406c8ad"
      },
      "source": [
        "plot_dist(data, \"sent_num\")"
      ],
      "execution_count": 26,
      "outputs": [
        {
          "output_type": "display_data",
          "data": {
            "image/png": "[encoded data removed]",
            "text/plain": [
              "<Figure size 1440x432 with 2 Axes>"
            ]
          },
          "metadata": {
            "tags": []
          }
        }
      ]
    },
    {
      "cell_type": "code",
      "metadata": {
        "colab": {
          "base_uri": "https://localhost:8080/",
          "height": 263
        },
        "id": "xOd3KGZmFNWp",
        "outputId": "f3422e4d-0599-4fd0-d928-065ea186a1da"
      },
      "source": [
        "plot_dist(data, \"token_num\")"
      ],
      "execution_count": 27,
      "outputs": [
        {
          "output_type": "display_data",
          "data": {
            "image/png": "[encoded data removed]",
            "text/plain": [
              "<Figure size 1440x432 with 2 Axes>"
            ]
          },
          "metadata": {
            "tags": []
          }
        }
      ]
    },
    {
      "cell_type": "markdown",
      "metadata": {
        "id": "069dlyToD4Fd"
      },
      "source": [
        "#Глубина синтаксического дерева"
      ]
    },
    {
      "cell_type": "code",
      "metadata": {
        "id": "cJ4S2_L0D8xj"
      },
      "source": [
        "!pip install --quiet slovnet ipymarkup\n",
        "!pip install ufal.udpipe\n",
        "!pip install --upgrade git+https://github.com/udapi/udapi-python.git"
      ],
      "execution_count": null,
      "outputs": []
    },
    {
      "cell_type": "code",
      "metadata": {
        "id": "zgE_EgN3EFYP"
      },
      "source": [
        "!wget -c https://storage.yandexcloud.net/natasha-slovnet/packs/slovnet_syntax_news_v1.tar\n",
        "!wget -c https://storage.yandexcloud.net/natasha-navec/packs/navec_news_v1_1B_250K_300d_100q.tar"
      ],
      "execution_count": null,
      "outputs": []
    },
    {
      "cell_type": "code",
      "metadata": {
        "id": "h9DuB0bGELEK"
      },
      "source": [
        "from ipymarkup import show_dep_ascii_markup as show_markup\n",
        "from navec import Navec\n",
        "from slovnet import Syntax\n",
        "\n",
        "\n",
        "navec = Navec.load(\"navec_news_v1_1B_250K_300d_100q.tar\")\n",
        "syntax = Syntax.load(\"slovnet_syntax_news_v1.tar\")\n",
        "syntax.navec(navec)\n",
        "\n",
        "\n",
        "def split_into_chunks(text):\n",
        "    chunks = [\n",
        "        [token.text for token in tokenize(sentence.text)] for sentence in sentenize(text)\n",
        "    ]\n",
        "    return chunks\n",
        "\n",
        "\n",
        "def annotate_text(text, syntax=syntax):\n",
        "    chunks = split_into_chunks(text)\n",
        "    annotation = [syntax(chunk) for chunk in chunks]\n",
        "    return annotation"
      ],
      "execution_count": 30,
      "outputs": []
    },
    {
      "cell_type": "code",
      "metadata": {
        "colab": {
          "base_uri": "https://localhost:8080/"
        },
        "id": "0H9jtpIfIQ-y",
        "outputId": "4c1807de-4da3-4776-d583-315b2b28a522"
      },
      "source": [
        "annotated_example = annotate_text(data['text'][1])\n",
        "annotated_example[0]"
      ],
      "execution_count": 31,
      "outputs": [
        {
          "output_type": "execute_result",
          "data": {
            "text/plain": [
              "SyntaxMarkup(\n",
              "    tokens=[SyntaxToken(\n",
              "         id='1',\n",
              "         text='Да',\n",
              "         head_id='2',\n",
              "         rel='cc'\n",
              "     ), SyntaxToken(\n",
              "         id='2',\n",
              "         text='что',\n",
              "         head_id='3',\n",
              "         rel='nsubj'\n",
              "     ), SyntaxToken(\n",
              "         id='3',\n",
              "         text='толку',\n",
              "         head_id='3',\n",
              "         rel='advmod'\n",
              "     ), SyntaxToken(\n",
              "         id='4',\n",
              "         text='?',\n",
              "         head_id='2',\n",
              "         rel='punct'\n",
              "     )]\n",
              ")"
            ]
          },
          "metadata": {
            "tags": []
          },
          "execution_count": 31
        }
      ]
    },
    {
      "cell_type": "code",
      "metadata": {
        "id": "DyKJVf6JHdCJ"
      },
      "source": [
        "def convert_text_to_conllu(text, syntax=syntax):\n",
        "    text_annotation = annotate_text(text, syntax=syntax)\n",
        "    converted_sentences = []\n",
        "\n",
        "    for annotated_text in text_annotation:\n",
        "        converted_sentence = []\n",
        "        for token in annotated_text.tokens:\n",
        "            conllu_token = \"\\t\".join(\n",
        "            [\n",
        "                token.id, # id токена в предложении\n",
        "                token.text, # словоформа\n",
        "                \"_\", # лемма\n",
        "                \"_\", # частеречный тег\n",
        "                \"_\", # xpos – Language-specific part-of-speech tag.\n",
        "                \"_\", # morphosyntactic description\n",
        "                token.head_id, # head of the current word\n",
        "                token.rel, # dependency relation\n",
        "                \"_\", # deps – Enhanced dependency graph in the form of a list of head-deprel pairs.\n",
        "                \"_\", # misc – any other annotation\n",
        "            ]\n",
        "            )\n",
        "            converted_sentence.append(conllu_token)\n",
        "        converted_sentences.append(\"\\n\".join(converted_sentence))\n",
        "    return converted_sentences\n"
      ],
      "execution_count": 32,
      "outputs": []
    },
    {
      "cell_type": "code",
      "metadata": {
        "colab": {
          "base_uri": "https://localhost:8080/"
        },
        "id": "ntYrcSlRID-F",
        "outputId": "f5880249-76cd-4be6-8669-2af6c78bc492"
      },
      "source": [
        "print(convert_text_to_conllu(data['text'][1])[1])"
      ],
      "execution_count": 34,
      "outputs": [
        {
          "output_type": "stream",
          "text": [
            "1\tВедь\t_\t_\t_\t_\t5\tadvmod\t_\t_\n",
            "2\tза\t_\t_\t_\t_\t3\tcase\t_\t_\n",
            "3\tтебя\t_\t_\t_\t_\t5\tobl\t_\t_\n",
            "4\tне\t_\t_\t_\t_\t5\tadvmod\t_\t_\n",
            "5\tотдадут\t_\t_\t_\t_\t0\troot\t_\t_\n",
            "6\t.\t_\t_\t_\t_\t5\tpunct\t_\t_\n"
          ],
          "name": "stdout"
        }
      ]
    },
    {
      "cell_type": "code",
      "metadata": {
        "colab": {
          "base_uri": "https://localhost:8080/"
        },
        "id": "n7VvOZj2IX_0",
        "outputId": "62c0b547-1396-4c1b-e677-201907bbb2dd"
      },
      "source": [
        "from udapi.block.read.conllu import Conllu\n",
        "from udapi.block.write.textmodetrees import TextModeTrees\n",
        "from io import StringIO\n",
        "\n",
        "\n",
        "tree = Conllu(filehandle=StringIO(convert_text_to_conllu(data['text'][1])[1])).read_tree()\n",
        "\n",
        "writer = TextModeTrees(attributes=\"ord,form,lemma,upos,feats,deprel,parent\")\n",
        "writer.process_tree(tree)"
      ],
      "execution_count": 35,
      "outputs": [
        {
          "output_type": "stream",
          "text": [
            "# sent_id = ?\n",
            "# text = Ведь за тебя не отдадут .\n",
            "─┮\n",
            " │ ╭─╼ \u001b[32m1\u001b[0m \u001b[33mВедь\u001b[0m \u001b[36m_\u001b[0m \u001b[31m_\u001b[0m _\u001b[0m \u001b[34madvmod\u001b[0m <?#5, отдадут>\u001b[0m\n",
            " │ │ ╭─╼ \u001b[32m2\u001b[0m \u001b[33mза\u001b[0m \u001b[36m_\u001b[0m \u001b[31m_\u001b[0m _\u001b[0m \u001b[34mcase\u001b[0m <?#3, тебя>\u001b[0m\n",
            " │ ┢─┶ \u001b[32m3\u001b[0m \u001b[33mтебя\u001b[0m \u001b[36m_\u001b[0m \u001b[31m_\u001b[0m _\u001b[0m \u001b[34mobl\u001b[0m <?#5, отдадут>\u001b[0m\n",
            " │ ┢─╼ \u001b[32m4\u001b[0m \u001b[33mне\u001b[0m \u001b[36m_\u001b[0m \u001b[31m_\u001b[0m _\u001b[0m \u001b[34madvmod\u001b[0m <?#5, отдадут>\u001b[0m\n",
            " ╰─┾ \u001b[32m5\u001b[0m \u001b[33mотдадут\u001b[0m \u001b[36m_\u001b[0m \u001b[31m_\u001b[0m _\u001b[0m \u001b[34mroot\u001b[0m <?, <ROOT>>\u001b[0m\n",
            "   ╰─╼ \u001b[32m6\u001b[0m \u001b[33m.\u001b[0m \u001b[36m_\u001b[0m \u001b[31m_\u001b[0m _\u001b[0m \u001b[34mpunct\u001b[0m <?#5, отдадут>\u001b[0m\n",
            "\n"
          ],
          "name": "stdout"
        }
      ]
    },
    {
      "cell_type": "code",
      "metadata": {
        "id": "y_rl4L39Ij7R"
      },
      "source": [
        "def tree_depth(tree):\n",
        "    depth = 0\n",
        "    stack = [tree]\n",
        "    while (len(stack)):\n",
        "        curr_node = stack[0]\n",
        "        stack.pop(0)\n",
        "        if curr_node.children:\n",
        "            depth += 1\n",
        "        for node in range(len(curr_node.children) -1, -1, -1):\n",
        "            stack.insert(0, curr_node.children[node])\n",
        "    return depth"
      ],
      "execution_count": 36,
      "outputs": []
    },
    {
      "cell_type": "code",
      "metadata": {
        "colab": {
          "base_uri": "https://localhost:8080/"
        },
        "id": "s0pLLqtWInAe",
        "outputId": "1b8b9712-52f7-4dac-b40e-ce4dc71541eb"
      },
      "source": [
        "print(\"Tree depth of the sentence: %s\" % tree_depth(tree))"
      ],
      "execution_count": 37,
      "outputs": [
        {
          "output_type": "stream",
          "text": [
            "Tree depth of the sentence: 3\n"
          ],
          "name": "stdout"
        }
      ]
    },
    {
      "cell_type": "code",
      "metadata": {
        "id": "RoioTReJFvNn"
      },
      "source": [
        "from tqdm.auto import tqdm\n",
        "\n",
        "\n",
        "def get_text(tree):\n",
        "    return \" \".join([node.form for node in tree.descendants])\n",
        "\n",
        "\n",
        "def convert_text_to_depth_features(text):\n",
        "    res = []\n",
        "    converted_sentences = convert_text_to_conllu(text)\n",
        "    for converted_sentence in converted_sentences:\n",
        "        try:\n",
        "            curr_sent_tree = Conllu(filehandle=StringIO(converted_sentence)).read_tree()\n",
        "            curr_sent_depth = tree_depth(curr_sent_tree)\n",
        "            res.append(\n",
        "                (get_text(curr_sent_tree), curr_sent_depth, len(curr_sent_tree.descendants)-1)\n",
        "            )\n",
        "        except Exception as e:\n",
        "            continue\n",
        "    return res\n",
        "\n",
        "results = []\n",
        "depth_data = []\n",
        "\n",
        "for i, row in tqdm(data.iterrows(), total=data.shape[0]):\n",
        "    text = row[\"text\"]\n",
        "    depth_features = convert_text_to_depth_features(text)\n",
        "    depth_data.extend(depth_features)\n",
        "    results.append(depth_features)"
      ],
      "execution_count": null,
      "outputs": []
    },
    {
      "cell_type": "code",
      "metadata": {
        "id": "LOhXktthKkMz"
      },
      "source": [
        "syn_depth = []\n",
        "for res in results:\n",
        "  depth = [r[1] for r in res]\n",
        "  syn_depth.append(depth)"
      ],
      "execution_count": 39,
      "outputs": []
    },
    {
      "cell_type": "code",
      "metadata": {
        "id": "CGIt27CaJIki"
      },
      "source": [
        " data['synt_depth'] = syn_depth"
      ],
      "execution_count": 40,
      "outputs": []
    },
    {
      "cell_type": "code",
      "metadata": {
        "colab": {
          "base_uri": "https://localhost:8080/",
          "height": 263
        },
        "id": "IROkAkJCMGL6",
        "outputId": "2d131ad1-2ab6-453f-8046-3e31c138b8f1"
      },
      "source": [
        " # Посмотрим на распредление глубины синтаксических деревьев родителей и детей\n",
        " plot_len_dist(data, 'synt_depth')"
      ],
      "execution_count": 41,
      "outputs": [
        {
          "output_type": "display_data",
          "data": {
            "image/png": "[encoded data removed]",
            "text/plain": [
              "<Figure size 1440x432 with 2 Axes>"
            ]
          },
          "metadata": {
            "tags": []
          }
        }
      ]
    },
    {
      "cell_type": "markdown",
      "metadata": {
        "id": "1ESD5YgkQyyn"
      },
      "source": [
        ""
      ]
    },
    {
      "cell_type": "markdown",
      "metadata": {
        "id": "ysANIn-uFYu0"
      },
      "source": [
        "# Препроцессинг"
      ]
    },
    {
      "cell_type": "code",
      "metadata": {
        "id": "Ozv783El-hMT"
      },
      "source": [
        "!pip install pymorphy2[fast]"
      ],
      "execution_count": null,
      "outputs": []
    },
    {
      "cell_type": "code",
      "metadata": {
        "id": "I5wAbFS1LEXd",
        "colab": {
          "base_uri": "https://localhost:8080/"
        },
        "outputId": "a0fc235e-6d86-491f-f18e-3ad1a35cf5cc"
      },
      "source": [
        "import re\n",
        "import pymorphy2\n",
        "import nltk\n",
        "import string\n",
        "from nltk.corpus import stopwords\n",
        "nltk.download('stopwords')\n",
        "morph = pymorphy2.MorphAnalyzer()"
      ],
      "execution_count": 43,
      "outputs": [
        {
          "output_type": "stream",
          "text": [
            "[nltk_data] Downloading package stopwords to /root/nltk_data...\n",
            "[nltk_data]   Unzipping corpora/stopwords.zip.\n"
          ],
          "name": "stdout"
        }
      ]
    },
    {
      "cell_type": "code",
      "metadata": {
        "id": "aX9h_B9GJWh3"
      },
      "source": [
        "def preproc_text(text):\n",
        "    # токенизируем\n",
        "    tokens = [_.text for _ in list(tokenize(text))]\n",
        "    \n",
        "    # приводим к нижнему регистру\n",
        "    tokens = [w.lower() for w in tokens]\n",
        "    \n",
        "    # убираем пунктуацию\n",
        "    table = str.maketrans('', '', string.punctuation)\n",
        "    stripped = [w.translate(table) for w in tokens]\n",
        "    \n",
        "    # убираем числа и оставлем только кирилицу\n",
        "    words = [word for word in stripped if word.isalpha()]\n",
        "    \n",
        "    # удаляем стоп-слова\n",
        "    stop_words = set(stopwords.words('russian'))\n",
        "    words = [w for w in words if not w in stop_words]\n",
        "    text = \" \".join(words)\n",
        "  \n",
        "    # приводим к начальной форме\n",
        "    lemmas = [morph.parse(w)[0].normal_form for w in words] \n",
        "    pos = [morph.parse(w)[0].tag.POS for w in words]\n",
        "    return text, lemmas, pos"
      ],
      "execution_count": 45,
      "outputs": []
    },
    {
      "cell_type": "code",
      "metadata": {
        "colab": {
          "base_uri": "https://localhost:8080/",
          "height": 66,
          "referenced_widgets": [
            "a08e7fa16771414c92895d84a91b3194",
            "7b9ac5dd911942cd89db645e7b56ee41",
            "9b980e69a922494ca6494bda13b656ea",
            "a7fcd981c12c4e7fac99954197fc8549",
            "12bcfa5970d14c56a8a887477e78e497",
            "7badf67aaf704487bbe1749b55c3a878",
            "4867df5f27ca4169b25b2828b92f8a64",
            "23dc42038daf4b7d9ecbabbeea699bfc"
          ]
        },
        "id": "XxjKrjQ5Q0_0",
        "outputId": "84aa3609-36b3-4149-ed80-2986985af8ee"
      },
      "source": [
        "lemmas = []\n",
        "poses = []\n",
        "prep_text = []\n",
        "for i, row in tqdm(data.iterrows()):\n",
        "  text, lemm, pos = preproc_text(row['text'])\n",
        "  lemmas.append(lemm)\n",
        "  poses.append(pos)\n",
        "  prep_text.append(text)"
      ],
      "execution_count": 49,
      "outputs": [
        {
          "output_type": "display_data",
          "data": {
            "application/vnd.jupyter.widget-view+json": {
              "model_id": "a08e7fa16771414c92895d84a91b3194",
              "version_minor": 0,
              "version_major": 2
            },
            "text/plain": [
              "HBox(children=(FloatProgress(value=1.0, bar_style='info', max=1.0), HTML(value='')))"
            ]
          },
          "metadata": {
            "tags": []
          }
        },
        {
          "output_type": "stream",
          "text": [
            "\n"
          ],
          "name": "stdout"
        }
      ]
    },
    {
      "cell_type": "code",
      "metadata": {
        "id": "FhTrUERuReLB"
      },
      "source": [
        "data['lemmas'] = lemmas\n",
        "data['speech_parts'] = poses\n",
        "data['prep_text'] = prep_text"
      ],
      "execution_count": 50,
      "outputs": []
    },
    {
      "cell_type": "code",
      "metadata": {
        "id": "dAnEknxMSecF"
      },
      "source": [
        "def build_pos_dict(corpus):\n",
        "    text = ' '.join(corpus)\n",
        "    text, lemmas, pos = preproc_text(text)\n",
        "    pos_dict = {}\n",
        "    for i in pos:\n",
        "        if i in pos_dict:\n",
        "            pos_dict[i] += 1\n",
        "        else:\n",
        "            pos_dict[i] = 1\n",
        "    return dict(sorted(pos_dict.items(), key=lambda kv: kv[1], reverse=True))"
      ],
      "execution_count": 51,
      "outputs": []
    },
    {
      "cell_type": "markdown",
      "metadata": {
        "id": "vCW5UZAWSiK_"
      },
      "source": [
        "# Распределение частеричных тегов"
      ]
    },
    {
      "cell_type": "code",
      "metadata": {
        "colab": {
          "base_uri": "https://localhost:8080/"
        },
        "id": "CaEbY4S_TJzP",
        "outputId": "b75ff544-8c62-438e-ba2a-f33f9372e0cf"
      },
      "source": [
        "parent_corp = list(data[data['role']==1].text)\n",
        "dict_p = build_pos_dict(parent_corp)\n",
        "\n",
        "children_corp = list(data[data['role']==0].text)\n",
        "dict_c = build_pos_dict(children_corp)\n",
        "\n",
        "print(dict_c)\n",
        "print(dict_p)"
      ],
      "execution_count": 169,
      "outputs": [
        {
          "output_type": "stream",
          "text": [
            "{'NOUN': 889, 'VERB': 599, 'ADJF': 388, 'INFN': 184, 'ADVB': 174, 'ADJS': 84, 'PRCL': 62, 'NPRO': 43, 'CONJ': 37, 'PRTS': 23, 'PRED': 21, 'COMP': 17, 'PREP': 11, 'NUMR': 11, 'INTJ': 6, 'GRND': 3, None: 2, 'PRTF': 2}\n",
            "{'NOUN': 141, 'VERB': 105, 'ADJF': 53, 'ADVB': 22, 'INFN': 20, 'ADJS': 20, 'NPRO': 9, 'CONJ': 8, 'PRCL': 7, 'NUMR': 3, 'PRTS': 3, 'PREP': 3, 'INTJ': 2, 'PRED': 2, None: 1, 'COMP': 1}\n"
          ],
          "name": "stdout"
        }
      ]
    },
    {
      "cell_type": "code",
      "metadata": {
        "id": "3SdHdYKYP2Mj"
      },
      "source": [
        "for i, e in zip(pos['pos'], pos1['pos']):\n",
        "  print(i, e)"
      ],
      "execution_count": null,
      "outputs": []
    },
    {
      "cell_type": "code",
      "metadata": {
        "id": "L0YdpHlZN9IY"
      },
      "source": [
        "pos = pd.DataFrame(columns = list(dict_p.keys()))\n",
        "pos.loc[0] = list(dict_p.values())\n",
        "pos.loc[1] = list(dict_c.values())\n",
        "pos['role'] = ['parent', 'children']"
      ],
      "execution_count": 151,
      "outputs": []
    },
    {
      "cell_type": "code",
      "metadata": {
        "id": "5HYJFv0SPik-"
      },
      "source": [
        "plot_dist(pos, \"sent_num\")"
      ],
      "execution_count": null,
      "outputs": []
    },
    {
      "cell_type": "code",
      "metadata": {
        "colab": {
          "base_uri": "https://localhost:8080/",
          "height": 80
        },
        "id": "jLoncVkuPofN",
        "outputId": "8054e95c-225e-4d56-aeee-3dc12d3dfa13"
      },
      "source": [
        "pos"
      ],
      "execution_count": 157,
      "outputs": [
        {
          "output_type": "execute_result",
          "data": {
            "text/html": [
              "<div>\n",
              "<style scoped>\n",
              "    .dataframe tbody tr th:only-of-type {\n",
              "        vertical-align: middle;\n",
              "    }\n",
              "\n",
              "    .dataframe tbody tr th {\n",
              "        vertical-align: top;\n",
              "    }\n",
              "\n",
              "    .dataframe thead th {\n",
              "        text-align: right;\n",
              "    }\n",
              "</style>\n",
              "<table border=\"1\" class=\"dataframe\">\n",
              "  <thead>\n",
              "    <tr style=\"text-align: right;\">\n",
              "      <th></th>\n",
              "      <th>NOUN</th>\n",
              "      <th>VERB</th>\n",
              "      <th>ADJF</th>\n",
              "      <th>ADVB</th>\n",
              "      <th>INFN</th>\n",
              "      <th>ADJS</th>\n",
              "      <th>NPRO</th>\n",
              "      <th>CONJ</th>\n",
              "      <th>PRCL</th>\n",
              "      <th>NUMR</th>\n",
              "      <th>PRTS</th>\n",
              "      <th>PREP</th>\n",
              "      <th>INTJ</th>\n",
              "      <th>PRED</th>\n",
              "      <th>NaN</th>\n",
              "      <th>COMP</th>\n",
              "    </tr>\n",
              "  </thead>\n",
              "  <tbody>\n",
              "    <tr>\n",
              "      <th>0</th>\n",
              "      <td>141</td>\n",
              "      <td>105</td>\n",
              "      <td>53</td>\n",
              "      <td>22</td>\n",
              "      <td>20</td>\n",
              "      <td>20</td>\n",
              "      <td>9</td>\n",
              "      <td>8</td>\n",
              "      <td>7</td>\n",
              "      <td>3</td>\n",
              "      <td>3</td>\n",
              "      <td>3</td>\n",
              "      <td>2</td>\n",
              "      <td>2</td>\n",
              "      <td>1</td>\n",
              "      <td>1</td>\n",
              "    </tr>\n",
              "  </tbody>\n",
              "</table>\n",
              "</div>"
            ],
            "text/plain": [
              "  NOUN VERB ADJF ADVB INFN ADJS NPRO  ... NUMR PRTS PREP INTJ PRED NaN COMP\n",
              "0  141  105   53   22   20   20    9  ...    3    3    3    2    2   1    1\n",
              "\n",
              "[1 rows x 16 columns]"
            ]
          },
          "metadata": {
            "tags": []
          },
          "execution_count": 157
        }
      ]
    },
    {
      "cell_type": "markdown",
      "metadata": {
        "id": "-VFuF76-gncF"
      },
      "source": [
        "# Классификация текстов"
      ]
    },
    {
      "cell_type": "code",
      "metadata": {
        "id": "fG5eQZm3qZ-l"
      },
      "source": [
        "def change(x):\n",
        "  if x =='parent':\n",
        "    return 1\n",
        "  else:\n",
        "    return 0\n",
        "data['role'] = data['role'].apply(change) "
      ],
      "execution_count": 55,
      "outputs": []
    },
    {
      "cell_type": "markdown",
      "metadata": {
        "id": "SGOfqo1gDLVN"
      },
      "source": [
        "## Попробуем на необработаных текстах"
      ]
    },
    {
      "cell_type": "code",
      "metadata": {
        "id": "xBbmz0sJpxPE"
      },
      "source": [
        "from sklearn.model_selection import train_test_split\n",
        "\n",
        "text_train, text_test, y_train, y_test = train_test_split(data['text'], data['role'], test_size=0.25, random_state=42)"
      ],
      "execution_count": 64,
      "outputs": []
    },
    {
      "cell_type": "code",
      "metadata": {
        "colab": {
          "base_uri": "https://localhost:8080/"
        },
        "id": "pM6SfWMrjkVa",
        "outputId": "c7151d48-c140-4dc4-fb5a-ee993766db5c"
      },
      "source": [
        "from sklearn.feature_extraction.text import CountVectorizer\n",
        "count_vect = CountVectorizer()\n",
        "X_train_counts = count_vect.fit_transform(text_train) \n",
        "X_train_counts.shape"
      ],
      "execution_count": 65,
      "outputs": [
        {
          "output_type": "execute_result",
          "data": {
            "text/plain": [
              "(279, 1629)"
            ]
          },
          "metadata": {
            "tags": []
          },
          "execution_count": 65
        }
      ]
    },
    {
      "cell_type": "code",
      "metadata": {
        "colab": {
          "base_uri": "https://localhost:8080/"
        },
        "id": "YViXNIm8rbin",
        "outputId": "d326aee1-00db-40dc-d384-7ea686072093"
      },
      "source": [
        "from sklearn.feature_extraction.text import TfidfTransformer\n",
        "tfidf_transformer = TfidfTransformer()\n",
        "X_train_tfidf = tfidf_transformer.fit_transform(X_train_counts)\n",
        "X_train_tfidf.shape"
      ],
      "execution_count": 66,
      "outputs": [
        {
          "output_type": "execute_result",
          "data": {
            "text/plain": [
              "(279, 1629)"
            ]
          },
          "metadata": {
            "tags": []
          },
          "execution_count": 66
        }
      ]
    },
    {
      "cell_type": "markdown",
      "metadata": {
        "id": "cAKqQFNIDVR2"
      },
      "source": [
        "### MultinomialNB"
      ]
    },
    {
      "cell_type": "code",
      "metadata": {
        "id": "JcRolCaYrfwR"
      },
      "source": [
        "from sklearn.naive_bayes import MultinomialNB\n",
        "clf = MultinomialNB().fit(X_train_tfidf, y_train)"
      ],
      "execution_count": 67,
      "outputs": []
    },
    {
      "cell_type": "code",
      "metadata": {
        "id": "rKSuYJ9jrle8"
      },
      "source": [
        "from sklearn.pipeline import Pipeline\n",
        "text_clf = Pipeline([('vect', CountVectorizer()),\n",
        "                     ('tfidf', TfidfTransformer()),\n",
        "                      ('clf', MultinomialNB())])\n",
        "text_clf = text_clf.fit(text_train, y_train)"
      ],
      "execution_count": 68,
      "outputs": []
    },
    {
      "cell_type": "code",
      "metadata": {
        "colab": {
          "base_uri": "https://localhost:8080/"
        },
        "id": "7HQnUG5dr0-p",
        "outputId": "215e218d-d1d4-4c9b-aacd-e1743d742c53"
      },
      "source": [
        "from sklearn.metrics import *\n",
        "predicted = text_clf.predict(text_test)\n",
        "print(accuracy_score(y_test, predicted))"
      ],
      "execution_count": 69,
      "outputs": [
        {
          "output_type": "stream",
          "text": [
            "0.8085106382978723\n"
          ],
          "name": "stdout"
        }
      ]
    },
    {
      "cell_type": "code",
      "metadata": {
        "colab": {
          "base_uri": "https://localhost:8080/"
        },
        "id": "UHxF2outuFSg",
        "outputId": "de4029f7-985c-4df9-a79d-6ca722c67b5f"
      },
      "source": [
        "from sklearn.model_selection import GridSearchCV\n",
        "parameters = {'vect__ngram_range': [(1, 1), (1, 2)],\n",
        "              'tfidf__use_idf': (True, False),\n",
        "              'clf__alpha': (1e-2, 1e-3)}\n",
        "gs_clf = GridSearchCV(text_clf, parameters, n_jobs=-1)\n",
        "gs_clf = gs_clf.fit(text_train, y_train)\n",
        "gs_clf.best_score_\n",
        "gs_clf.best_params_"
      ],
      "execution_count": 70,
      "outputs": [
        {
          "output_type": "execute_result",
          "data": {
            "text/plain": [
              "{'clf__alpha': 0.01, 'tfidf__use_idf': True, 'vect__ngram_range': (1, 1)}"
            ]
          },
          "metadata": {
            "tags": []
          },
          "execution_count": 70
        }
      ]
    },
    {
      "cell_type": "code",
      "metadata": {
        "colab": {
          "base_uri": "https://localhost:8080/"
        },
        "id": "mLsvJRL0DnBU",
        "outputId": "260fdae5-7347-4eac-af6a-aac84b45bf8c"
      },
      "source": [
        "text_clf = Pipeline([('vect', CountVectorizer(ngram_range=(1, 1))),\n",
        "                     ('tfidf', TfidfTransformer()),\n",
        "                      ('clf', MultinomialNB(alpha=0.01))])\n",
        "text_clf = text_clf.fit(text_train, y_train)\n",
        "predicted = text_clf.predict(text_test)\n",
        "print(accuracy_score(y_test, predicted))"
      ],
      "execution_count": 73,
      "outputs": [
        {
          "output_type": "stream",
          "text": [
            "0.8404255319148937\n"
          ],
          "name": "stdout"
        }
      ]
    },
    {
      "cell_type": "markdown",
      "metadata": {
        "id": "8VDdjRHWDdpZ"
      },
      "source": [
        "### SGDClassifier"
      ]
    },
    {
      "cell_type": "code",
      "metadata": {
        "colab": {
          "base_uri": "https://localhost:8080/"
        },
        "id": "yevwZFTstI9t",
        "outputId": "cc3bfae6-24fb-4d09-93a8-82f78e24a645"
      },
      "source": [
        "from sklearn.linear_model import SGDClassifier\n",
        "text_clf_svm = Pipeline([('vect', CountVectorizer()),\n",
        "                         ('tfidf', TfidfTransformer()),\n",
        "                         ('clf-svm', SGDClassifier(loss='hinge', penalty='l2',alpha=1e-3,n_iter_no_change=5, random_state=42))])\n",
        "\n",
        "_ = text_clf_svm.fit(text_train, y_train)\n",
        "\n",
        "predicted_svm = text_clf_svm.predict(text_test)\n",
        "accuracy_score(predicted_svm, y_test)"
      ],
      "execution_count": 74,
      "outputs": [
        {
          "output_type": "execute_result",
          "data": {
            "text/plain": [
              "0.8297872340425532"
            ]
          },
          "metadata": {
            "tags": []
          },
          "execution_count": 74
        }
      ]
    },
    {
      "cell_type": "code",
      "metadata": {
        "colab": {
          "base_uri": "https://localhost:8080/"
        },
        "id": "QkCIM6xWwJ_F",
        "outputId": "94e74b1f-5ebc-4c22-e270-4656de58c4b1"
      },
      "source": [
        "parameters_svm = {'vect__ngram_range': [(1, 1), (1, 2)],\n",
        "               'tfidf__use_idf': (True, False),\n",
        "               'clf-svm__alpha': (1e-2, 1e-3)}\n",
        "\n",
        "gs_clf_svm = GridSearchCV(text_clf_svm, parameters_svm, n_jobs=-1)\n",
        "gs_clf_svm = gs_clf_svm.fit(text_train, y_train)\n",
        "gs_clf_svm.best_score_\n",
        "gs_clf_svm.best_params_"
      ],
      "execution_count": 75,
      "outputs": [
        {
          "output_type": "execute_result",
          "data": {
            "text/plain": [
              "{'clf-svm__alpha': 0.001, 'tfidf__use_idf': True, 'vect__ngram_range': (1, 1)}"
            ]
          },
          "metadata": {
            "tags": []
          },
          "execution_count": 75
        }
      ]
    },
    {
      "cell_type": "code",
      "metadata": {
        "colab": {
          "base_uri": "https://localhost:8080/"
        },
        "id": "3wRVw5QlwfST",
        "outputId": "31dbeaaa-4e6a-4e62-844c-425b41163b58"
      },
      "source": [
        "from sklearn.linear_model import SGDClassifier\n",
        "text_clf_svm = Pipeline([('vect', CountVectorizer(ngram_range=(1, 1))),\n",
        "                         ('tfidf', TfidfTransformer()),\n",
        "                         ('clf-svm', SGDClassifier(alpha=0.001))])\n",
        "\n",
        "_ = text_clf_svm.fit(text_train, y_train)\n",
        "\n",
        "predicted_svm = text_clf_svm.predict(text_test)\n",
        "accuracy_score(predicted_svm, y_test)"
      ],
      "execution_count": 79,
      "outputs": [
        {
          "output_type": "execute_result",
          "data": {
            "text/plain": [
              "0.8191489361702128"
            ]
          },
          "metadata": {
            "tags": []
          },
          "execution_count": 79
        }
      ]
    },
    {
      "cell_type": "markdown",
      "metadata": {
        "id": "wR9yPB-xEod7"
      },
      "source": [
        "### LogisticRegression"
      ]
    },
    {
      "cell_type": "code",
      "metadata": {
        "colab": {
          "base_uri": "https://localhost:8080/"
        },
        "id": "n7Kt7dKTyKaD",
        "outputId": "6d1f2e4c-7028-43fc-b684-56eb01624c03"
      },
      "source": [
        "from sklearn.linear_model import LogisticRegression\n",
        "text_clf = Pipeline([('vect', CountVectorizer()),\n",
        "                     ('tfidf', TfidfTransformer()),\n",
        "                      ('clf', LogisticRegression())])\n",
        "text_clf = text_clf.fit(text_train, y_train)\n",
        "\n",
        "predicted = text_clf.predict(text_test)\n",
        "print(accuracy_score(y_test, predicted))"
      ],
      "execution_count": 80,
      "outputs": [
        {
          "output_type": "stream",
          "text": [
            "0.8085106382978723\n"
          ],
          "name": "stdout"
        }
      ]
    },
    {
      "cell_type": "code",
      "metadata": {
        "colab": {
          "base_uri": "https://localhost:8080/"
        },
        "id": "PN1eWM775FoH",
        "outputId": "30ba6299-6737-4c04-d4ed-186f8e954980"
      },
      "source": [
        "parameters_svm = {'vect__ngram_range': [(1, 1), (1, 2)],\n",
        "               'tfidf__use_idf': (True, False),\n",
        "               'clf__max_iter': (100, 1000)}\n",
        "\n",
        "gs_clf_svm = GridSearchCV(text_clf, parameters_svm, n_jobs=-1)\n",
        "gs_clf_svm = gs_clf_svm.fit(text_train, y_train)\n",
        "gs_clf_svm.best_score_\n",
        "gs_clf_svm.best_params_"
      ],
      "execution_count": 81,
      "outputs": [
        {
          "output_type": "execute_result",
          "data": {
            "text/plain": [
              "{'clf__max_iter': 100, 'tfidf__use_idf': True, 'vect__ngram_range': (1, 1)}"
            ]
          },
          "metadata": {
            "tags": []
          },
          "execution_count": 81
        }
      ]
    },
    {
      "cell_type": "code",
      "metadata": {
        "colab": {
          "base_uri": "https://localhost:8080/"
        },
        "id": "U2kC00r3EwdZ",
        "outputId": "4db39e05-2da4-4af5-932f-46bb0aaa5613"
      },
      "source": [
        "text_clf = Pipeline([('vect', CountVectorizer(ngram_range=(1, 1))),\n",
        "                     ('tfidf', TfidfTransformer()),\n",
        "                      ('clf', LogisticRegression(max_iter=100))])\n",
        "text_clf = text_clf.fit(text_train, y_train)\n",
        "\n",
        "predicted = text_clf.predict(text_test)\n",
        "print(accuracy_score(y_test, predicted))"
      ],
      "execution_count": 82,
      "outputs": [
        {
          "output_type": "stream",
          "text": [
            "0.8085106382978723\n"
          ],
          "name": "stdout"
        }
      ]
    },
    {
      "cell_type": "markdown",
      "metadata": {
        "id": "vW17IEJVE-uJ"
      },
      "source": [
        "### KNeighborsClassifier"
      ]
    },
    {
      "cell_type": "code",
      "metadata": {
        "colab": {
          "base_uri": "https://localhost:8080/"
        },
        "id": "lllAZ9mR5nwg",
        "outputId": "2ea574c6-5924-4157-fdcf-6e05c0c2e1c5"
      },
      "source": [
        "from sklearn.neighbors import KNeighborsClassifier\n",
        "text_clf = Pipeline([('vect', CountVectorizer()),\n",
        "                     ('tfidf', TfidfTransformer()),\n",
        "                      ('clf', KNeighborsClassifier())])\n",
        "text_clf = text_clf.fit(text_train, y_train)\n",
        "\n",
        "predicted = text_clf.predict(text_test)\n",
        "print(accuracy_score(y_test, predicted))"
      ],
      "execution_count": 83,
      "outputs": [
        {
          "output_type": "stream",
          "text": [
            "0.8297872340425532\n"
          ],
          "name": "stdout"
        }
      ]
    },
    {
      "cell_type": "code",
      "metadata": {
        "colab": {
          "base_uri": "https://localhost:8080/"
        },
        "id": "NunxkbWS50ln",
        "outputId": "91a84631-bd33-42f9-c5bd-f9127b9c8d65"
      },
      "source": [
        "parameters = {'vect__ngram_range': [(1, 1), (1, 2)],\n",
        "               'tfidf__use_idf': (True, False),\n",
        "               'clf__n_neighbors': [3,5,1,19],\n",
        "               'clf__weights': ['uniform', 'distance'],\n",
        "               'clf__metric': ['euclidean', 'manhattan']}\n",
        "\n",
        "gs_clf = GridSearchCV(text_clf, parameters_svm, n_jobs=-1)\n",
        "gs_clf = gs_clf.fit(text_train, y_train)\n",
        "gs_clf.best_score_\n",
        "gs_clf.best_params_"
      ],
      "execution_count": 89,
      "outputs": [
        {
          "output_type": "execute_result",
          "data": {
            "text/plain": [
              "{'clf__metric': 'euclidean',\n",
              " 'clf__n_neighbors': 3,\n",
              " 'clf__weights': 'uniform',\n",
              " 'tfidf__use_idf': False,\n",
              " 'vect__ngram_range': (1, 1)}"
            ]
          },
          "metadata": {
            "tags": []
          },
          "execution_count": 89
        }
      ]
    },
    {
      "cell_type": "code",
      "metadata": {
        "colab": {
          "base_uri": "https://localhost:8080/"
        },
        "id": "w684crkh6cey",
        "outputId": "cc8b2a8b-f0e1-4349-fce2-f29211d60330"
      },
      "source": [
        "text_clf = Pipeline([('vect', CountVectorizer(ngram_range=(1, 1))),\n",
        "                     ('tfidf', TfidfTransformer(use_idf= False)),\n",
        "                      ('clf', KNeighborsClassifier(metric = 'euclidean', n_neighbors=3, weights='uniform'))])\n",
        "text_clf = text_clf.fit(text_train, y_train)\n",
        "\n",
        "predicted = text_clf.predict(text_test)\n",
        "print(accuracy_score(y_test, predicted))"
      ],
      "execution_count": 90,
      "outputs": [
        {
          "output_type": "stream",
          "text": [
            "0.7978723404255319\n"
          ],
          "name": "stdout"
        }
      ]
    },
    {
      "cell_type": "code",
      "metadata": {
        "id": "VBIK4kBXGU6T"
      },
      "source": [
        ""
      ],
      "execution_count": null,
      "outputs": []
    },
    {
      "cell_type": "markdown",
      "metadata": {
        "id": "XGUVm_r-GVQK"
      },
      "source": [
        "## Попробуем на обработаных текстах"
      ]
    },
    {
      "cell_type": "code",
      "metadata": {
        "id": "pX9CaoIXGVQL"
      },
      "source": [
        "from sklearn.model_selection import train_test_split\n",
        "\n",
        "text_train, text_test, y_train, y_test = train_test_split(data['prep_text'], data['role'], test_size=0.25, random_state=42)"
      ],
      "execution_count": 91,
      "outputs": []
    },
    {
      "cell_type": "code",
      "metadata": {
        "colab": {
          "base_uri": "https://localhost:8080/"
        },
        "id": "omgpDAqXGVQM",
        "outputId": "1e387902-e3da-4a63-d959-d22d02327469"
      },
      "source": [
        "from sklearn.feature_extraction.text import CountVectorizer\n",
        "count_vect = CountVectorizer()\n",
        "X_train_counts = count_vect.fit_transform(text_train) \n",
        "X_train_counts.shape"
      ],
      "execution_count": 92,
      "outputs": [
        {
          "output_type": "execute_result",
          "data": {
            "text/plain": [
              "(279, 1517)"
            ]
          },
          "metadata": {
            "tags": []
          },
          "execution_count": 92
        }
      ]
    },
    {
      "cell_type": "code",
      "metadata": {
        "colab": {
          "base_uri": "https://localhost:8080/"
        },
        "id": "-cRl7PMEGVQO",
        "outputId": "18c52d07-07fa-4a68-a295-f2452700c982"
      },
      "source": [
        "from sklearn.feature_extraction.text import TfidfTransformer\n",
        "tfidf_transformer = TfidfTransformer()\n",
        "X_train_tfidf = tfidf_transformer.fit_transform(X_train_counts)\n",
        "X_train_tfidf.shape"
      ],
      "execution_count": 93,
      "outputs": [
        {
          "output_type": "execute_result",
          "data": {
            "text/plain": [
              "(279, 1517)"
            ]
          },
          "metadata": {
            "tags": []
          },
          "execution_count": 93
        }
      ]
    },
    {
      "cell_type": "markdown",
      "metadata": {
        "id": "1_LDzcIYGVQO"
      },
      "source": [
        "### MultinomialNB"
      ]
    },
    {
      "cell_type": "code",
      "metadata": {
        "id": "Ft3FeUuwGVQP"
      },
      "source": [
        "from sklearn.naive_bayes import MultinomialNB\n",
        "clf = MultinomialNB().fit(X_train_tfidf, y_train)"
      ],
      "execution_count": 101,
      "outputs": []
    },
    {
      "cell_type": "code",
      "metadata": {
        "id": "SkgQgkAhGVQP"
      },
      "source": [
        "from sklearn.pipeline import Pipeline\n",
        "text_clf = Pipeline([('vect', CountVectorizer()),\n",
        "                     ('tfidf', TfidfTransformer()),\n",
        "                      ('clf', MultinomialNB())])\n",
        "text_clf = text_clf.fit(text_train, y_train)"
      ],
      "execution_count": 102,
      "outputs": []
    },
    {
      "cell_type": "code",
      "metadata": {
        "colab": {
          "base_uri": "https://localhost:8080/"
        },
        "id": "t85eEohTGVQQ",
        "outputId": "dae29519-a109-41c6-c598-4813c88538bb"
      },
      "source": [
        "from sklearn.metrics import *\n",
        "predicted = text_clf.predict(text_test)\n",
        "print(accuracy_score(y_test, predicted))"
      ],
      "execution_count": 103,
      "outputs": [
        {
          "output_type": "stream",
          "text": [
            "0.8085106382978723\n"
          ],
          "name": "stdout"
        }
      ]
    },
    {
      "cell_type": "code",
      "metadata": {
        "colab": {
          "base_uri": "https://localhost:8080/"
        },
        "id": "FIGbruVAGVQQ",
        "outputId": "ae595922-5e10-4d64-dd18-78c3bdb9e599"
      },
      "source": [
        "from sklearn.model_selection import GridSearchCV\n",
        "parameters = {'vect__ngram_range': [(1, 1), (1, 2)],\n",
        "              'tfidf__use_idf': (True, False),\n",
        "              'clf__alpha': (1e-2, 1e-3)}\n",
        "gs_clf = GridSearchCV(text_clf, parameters, n_jobs=-1)\n",
        "gs_clf = gs_clf.fit(text_train, y_train)\n",
        "gs_clf.best_score_\n",
        "gs_clf.best_params_"
      ],
      "execution_count": 105,
      "outputs": [
        {
          "output_type": "execute_result",
          "data": {
            "text/plain": [
              "{'clf__alpha': 0.01, 'tfidf__use_idf': True, 'vect__ngram_range': (1, 2)}"
            ]
          },
          "metadata": {
            "tags": []
          },
          "execution_count": 105
        }
      ]
    },
    {
      "cell_type": "code",
      "metadata": {
        "colab": {
          "base_uri": "https://localhost:8080/"
        },
        "id": "KP-intl7GVQR",
        "outputId": "4603e6c3-1e68-4df7-be73-7f047800385a"
      },
      "source": [
        "text_clf = Pipeline([('vect', CountVectorizer(ngram_range=(1, 1))),\n",
        "                     ('tfidf', TfidfTransformer()),\n",
        "                      ('clf', MultinomialNB(alpha=0.01))])\n",
        "text_clf = text_clf.fit(text_train, y_train)\n",
        "predicted = text_clf.predict(text_test)\n",
        "print(accuracy_score(y_test, predicted))"
      ],
      "execution_count": 98,
      "outputs": [
        {
          "output_type": "stream",
          "text": [
            "0.8191489361702128\n"
          ],
          "name": "stdout"
        }
      ]
    },
    {
      "cell_type": "markdown",
      "metadata": {
        "id": "D-bRtJbiGVQR"
      },
      "source": [
        "### SGDClassifier"
      ]
    },
    {
      "cell_type": "code",
      "metadata": {
        "colab": {
          "base_uri": "https://localhost:8080/"
        },
        "id": "UgbBP39qGVQS",
        "outputId": "716b43b0-608c-4d99-fa5f-167b611d8964"
      },
      "source": [
        "from sklearn.linear_model import SGDClassifier\n",
        "text_clf_svm = Pipeline([('vect', CountVectorizer()),\n",
        "                         ('tfidf', TfidfTransformer()),\n",
        "                         ('clf-svm', SGDClassifier(loss='hinge', penalty='l2',alpha=1e-3,n_iter_no_change=5, random_state=42))])\n",
        "\n",
        "_ = text_clf_svm.fit(text_train, y_train)\n",
        "\n",
        "predicted_svm = text_clf_svm.predict(text_test)\n",
        "accuracy_score(predicted_svm, y_test)"
      ],
      "execution_count": 106,
      "outputs": [
        {
          "output_type": "execute_result",
          "data": {
            "text/plain": [
              "0.7978723404255319"
            ]
          },
          "metadata": {
            "tags": []
          },
          "execution_count": 106
        }
      ]
    },
    {
      "cell_type": "markdown",
      "metadata": {
        "id": "8B_DNl1WGVQT"
      },
      "source": [
        "### LogisticRegression"
      ]
    },
    {
      "cell_type": "code",
      "metadata": {
        "colab": {
          "base_uri": "https://localhost:8080/"
        },
        "id": "JHkZU2WEGVQT",
        "outputId": "418bfc82-1824-4dc9-ac16-166c4c0108bf"
      },
      "source": [
        "from sklearn.linear_model import LogisticRegression\n",
        "text_clf = Pipeline([('vect', CountVectorizer()),\n",
        "                     ('tfidf', TfidfTransformer()),\n",
        "                      ('clf', LogisticRegression())])\n",
        "text_clf = text_clf.fit(text_train, y_train)\n",
        "\n",
        "predicted = text_clf.predict(text_test)\n",
        "print(accuracy_score(y_test, predicted))"
      ],
      "execution_count": 109,
      "outputs": [
        {
          "output_type": "stream",
          "text": [
            "0.8085106382978723\n"
          ],
          "name": "stdout"
        }
      ]
    },
    {
      "cell_type": "markdown",
      "metadata": {
        "id": "aSR9ZX2sGVQU"
      },
      "source": [
        "### KNeighborsClassifier"
      ]
    },
    {
      "cell_type": "code",
      "metadata": {
        "colab": {
          "base_uri": "https://localhost:8080/"
        },
        "id": "ivGjwZqwGVQV",
        "outputId": "d0d0d8b4-6cdd-4091-bff8-b7d6d91f3bea"
      },
      "source": [
        "from sklearn.neighbors import KNeighborsClassifier\n",
        "text_clf = Pipeline([('vect', CountVectorizer()),\n",
        "                     ('tfidf', TfidfTransformer()),\n",
        "                      ('clf', KNeighborsClassifier())])\n",
        "text_clf = text_clf.fit(text_train, y_train)\n",
        "\n",
        "predicted = text_clf.predict(text_test)\n",
        "print(accuracy_score(y_test, predicted))"
      ],
      "execution_count": 112,
      "outputs": [
        {
          "output_type": "stream",
          "text": [
            "0.8085106382978723\n"
          ],
          "name": "stdout"
        }
      ]
    }
  ]
}